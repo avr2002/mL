{
 "cells": [
  {
   "cell_type": "markdown",
   "id": "fbe19205-c396-40be-96fe-5383d89a720f",
   "metadata": {},
   "source": [
    "#### ***Reference: Pradhan, Manaranjan; U Dinesh Kumar. Machine Learning using Python. Kindle Edition.*** "
   ]
  },
  {
   "cell_type": "markdown",
   "id": "2cb838ef-8030-42c4-a25f-da07aaa5596f",
   "metadata": {},
   "source": [
    "# **Clustering**"
   ]
  },
  {
   "cell_type": "markdown",
   "id": "c538b567-1f0a-4351-a30b-efa9de21b198",
   "metadata": {},
   "source": [
    "- Clustering is one of the most frequently used analytics applications. \n",
    "\n",
    "- **Clustering is a divide-and-conquer strategy** which divides the dataset into homogenous groups which can be further used to prescribe the right strategy for different groups. In clustering, the objective is to ensure that the variation within a cluster is minimized while the variation between clusters is maximized.  \n",
    "\n",
    "- ***Clustering algorithms are unsupervised learning algorithms (classes are not known *a priori*) whereas classification problems are supervised learning algorithms (where classes are known *a priori* in the training data).*** \n",
    "\n",
    "- ***Another important difference between clustering and classification is that clustering is descriptive analytics whereas classification is usually a predictive analytics algorithm.*** \n",
    "\n",
    "- The  main objective of clustering is to create heterogeneous subsets (clusters) from the original dataset such  that records within a cluster are homogeneous and identify the characteristics that differentiate the  subsets.<br>For example,<br> if a company wants to increase its brand awareness to appeal to all its existing or  possible future customers, it must design a campaign. The company can design a single campaign to  address all its customers. But what if its customers have different characteristics such as varied income,  age, preferences, profession, gender? The same campaign may not appeal to all of them. The company  can think of running multiple campaigns targeting different customer segments. But to know how  many such campaigns need to be designed, we need an understanding of how many customer segments exist and which customers fall under which segment. Clustering as a technique can be used to answer these questions."
   ]
  },
  {
   "cell_type": "markdown",
   "id": "2ae675f6-f0d9-46bb-a550-3e16ce376483",
   "metadata": {},
   "source": [
    "### **How does Clustering Works?**<br>\n",
    "*Clustering algorithms use different distance or similarity or dissimilarity measures to derive different  clusters. The type of distance/similarity measure used plays a crucial role in the final cluster formation.  Larger distance would imply that observations are far away from one another, whereas higher similarity  would indicate that the observations are similar.* "
   ]
  },
  {
   "cell_type": "code",
   "execution_count": 29,
   "id": "bc6c880f-a626-4dca-9777-c63def7d1bb4",
   "metadata": {},
   "outputs": [],
   "source": [
    "import pandas as pd\n",
    "import numpy as np\n",
    "import matplotlib.pyplot as plt\n",
    "import seaborn as sns\n",
    "sns.set_style('darkgrid')\n",
    "import os\n",
    "\n",
    "import warnings\n",
    "warnings.filterwarnings(\"ignore\")\n",
    "\n",
    "%matplotlib inline\n",
    "pd.pandas.set_option(\"display.max_columns\", None)"
   ]
  },
  {
   "cell_type": "code",
   "execution_count": 50,
   "id": "1bdfa900-306b-4078-9dfe-440bf78ff52b",
   "metadata": {},
   "outputs": [
    {
     "data": {
      "text/html": [
       "<div>\n",
       "<style scoped>\n",
       "    .dataframe tbody tr th:only-of-type {\n",
       "        vertical-align: middle;\n",
       "    }\n",
       "\n",
       "    .dataframe tbody tr th {\n",
       "        vertical-align: top;\n",
       "    }\n",
       "\n",
       "    .dataframe thead th {\n",
       "        text-align: right;\n",
       "    }\n",
       "</style>\n",
       "<table border=\"1\" class=\"dataframe\">\n",
       "  <thead>\n",
       "    <tr style=\"text-align: right;\">\n",
       "      <th></th>\n",
       "      <th>income</th>\n",
       "      <th>age</th>\n",
       "    </tr>\n",
       "  </thead>\n",
       "  <tbody>\n",
       "    <tr>\n",
       "      <th>0</th>\n",
       "      <td>41100.0</td>\n",
       "      <td>48.75</td>\n",
       "    </tr>\n",
       "    <tr>\n",
       "      <th>1</th>\n",
       "      <td>54100.0</td>\n",
       "      <td>28.10</td>\n",
       "    </tr>\n",
       "    <tr>\n",
       "      <th>2</th>\n",
       "      <td>47800.0</td>\n",
       "      <td>46.75</td>\n",
       "    </tr>\n",
       "    <tr>\n",
       "      <th>3</th>\n",
       "      <td>19100.0</td>\n",
       "      <td>40.25</td>\n",
       "    </tr>\n",
       "    <tr>\n",
       "      <th>4</th>\n",
       "      <td>18200.0</td>\n",
       "      <td>35.80</td>\n",
       "    </tr>\n",
       "  </tbody>\n",
       "</table>\n",
       "</div>"
      ],
      "text/plain": [
       "    income    age\n",
       "0  41100.0  48.75\n",
       "1  54100.0  28.10\n",
       "2  47800.0  46.75\n",
       "3  19100.0  40.25\n",
       "4  18200.0  35.80"
      ]
     },
     "execution_count": 50,
     "metadata": {},
     "output_type": "execute_result"
    }
   ],
   "source": [
    "customers_df = pd.read_csv(os.getcwd()+\"/Data/Income Data.csv\")\n",
    "customers_df.head()"
   ]
  },
  {
   "cell_type": "code",
   "execution_count": 51,
   "id": "34a98369-e77f-47d9-ba57-4439000668cf",
   "metadata": {},
   "outputs": [
    {
     "data": {
      "image/png": "[encoded data removed]",
      "text/plain": [
       "<Figure size 288x288 with 1 Axes>"
      ]
     },
     "metadata": {
      "needs_background": "light"
     },
     "output_type": "display_data"
    }
   ],
   "source": [
    "sns.lmplot(x='age', y='income', data=customers_df, fit_reg=False, size=4);"
   ]
  },
  {
   "cell_type": "markdown",
   "id": "fe3fcd59-f8dc-4e06-8078-c8a6f1aa3ec9",
   "metadata": {},
   "source": [
    "From Above, it can be observed that there are three customer segments, which can be described as  below:  \n",
    "1. One on the top-left side of the graph, depicting low-age–high-income group.  \n",
    "2. One on the top-right side of the graph, depicting high-age–medium-income group.  \n",
    "3. One on the bottom of the graph, depicting a low-income group, which has an age spread from  low to high."
   ]
  },
  {
   "cell_type": "markdown",
   "id": "a2843973-8660-43f0-b75a-fab2d84271dc",
   "metadata": {},
   "source": [
    "### **Finding Similarities Using Distances**\n",
    "Clustering techniques assume that there are subsets in the data that are similar or homogeneous. One  approach for measuring similarity is through distances measured using different metrics. Few distance  measures used in clustering are discussed in the following sections.\n",
    "\n",
    "### ***Euclidean Distance***\n",
    "Euclidean distance is the radial distance between two observations or records. If there are many attributes (features), then the distance across all attributes is calculated to find out the distance. Euclidean  distance between two observations $X_1$ and $X_2$ with $n$ features can be calculated as\n",
    "$$D(X_1, X_2) = \\sqrt{\\sum(X_{i1} - X_{i2})^2}$$\n",
    "where $X_{i1}$ is the value of the $i^{th}$ feature for first observation and $X_{i2}$ is the value of $i^{th}$ feature for second  observation. For example, the distance between two customers, customer1 and customer2, is calculated  as follows:\n",
    "$$\\sqrt{(age_1 - age_2)^2 + (income_1 - income_2)^2}$$\n",
    "\n",
    "### ***Other Distance Metrics***\n",
    "*Some of the other widely used distances are as follows:*  \n",
    "1. **Minkowski Distance:** It is the generalized distance measure between two observations.  \n",
    "2. **Jaccard Similarity Coefficient:** It is a measure used when the data is qualitative, especially when  attributes can be represented in binary form.  \n",
    "3. **Cosine Similarity:** In this, $X_1$ and $X_2$ are two n-dimensional vectors. It measures the angle  between two vectors (thus called as vector space model).  \n",
    "4. **Gower’s Similarity Coefficient:** The distance and similarity measures that we have discussed so  far are valid either for quantitative data or qualitative data. *Gower’s similarity coefficient* can be used when both quantitative and qualitative features are present."
   ]
  },
  {
   "cell_type": "markdown",
   "id": "433f40ac-c4b6-42cc-84cf-f9e59d857f3b",
   "metadata": {},
   "source": [
    "## **K-Means Clustering**\n",
    "K-means clustering is one of the frequently used clustering algorithms. It is a non-hierarchical clustering method in which the number of clusters (K) is decided a priori. The observations in the sample are assigned to one of the clusters (say C1, C2, …, CK) based on the distance between the observation and the  centroid of the clusters.<br>\n",
    "*The following steps are used in K-means clustering algorithm:*  \n",
    "   1. Decide the value of K (which can be fine-tuned later).  \n",
    "   2. Choose K observations from the data that are likely to be in different clusters. There are many  ways of choosing these initial K values; the easiest approach is to choose observations that are  farthest (in one of the parameters of the data).  \n",
    "   3. The K observations selected in step 2 are the centroids of those clusters.  \n",
    "   4. For remaining observations, find the cluster closest to the centroid. Add the new observation (say  observation j) to the cluster with the closest centroid. Adjust the centroid after adding a new observation to the cluster. The closest centroid is chosen based upon an appropriate distance measure.  \n",
    "   5. Repeat step 4 until all observations are assigned to a cluster."
   ]
  },
  {
   "cell_type": "code",
   "execution_count": 52,
   "id": "296e2049-bf6c-49f7-9d30-8ccbd16abf38",
   "metadata": {},
   "outputs": [
    {
     "data": {
      "text/html": [
       "<style>#sk-container-id-3 {color: black;background-color: white;}#sk-container-id-3 pre{padding: 0;}#sk-container-id-3 div.sk-toggleable {background-color: white;}#sk-container-id-3 label.sk-toggleable__label {cursor: pointer;display: block;width: 100%;margin-bottom: 0;padding: 0.3em;box-sizing: border-box;text-align: center;}#sk-container-id-3 label.sk-toggleable__label-arrow:before {content: \"▸\";float: left;margin-right: 0.25em;color: #696969;}#sk-container-id-3 label.sk-toggleable__label-arrow:hover:before {color: black;}#sk-container-id-3 div.sk-estimator:hover label.sk-toggleable__label-arrow:before {color: black;}#sk-container-id-3 div.sk-toggleable__content {max-height: 0;max-width: 0;overflow: hidden;text-align: left;background-color: #f0f8ff;}#sk-container-id-3 div.sk-toggleable__content pre {margin: 0.2em;color: black;border-radius: 0.25em;background-color: #f0f8ff;}#sk-container-id-3 input.sk-toggleable__control:checked~div.sk-toggleable__content {max-height: 200px;max-width: 100%;overflow: auto;}#sk-container-id-3 input.sk-toggleable__control:checked~label.sk-toggleable__label-arrow:before {content: \"▾\";}#sk-container-id-3 div.sk-estimator input.sk-toggleable__control:checked~label.sk-toggleable__label {background-color: #d4ebff;}#sk-container-id-3 div.sk-label input.sk-toggleable__control:checked~label.sk-toggleable__label {background-color: #d4ebff;}#sk-container-id-3 input.sk-hidden--visually {border: 0;clip: rect(1px 1px 1px 1px);clip: rect(1px, 1px, 1px, 1px);height: 1px;margin: -1px;overflow: hidden;padding: 0;position: absolute;width: 1px;}#sk-container-id-3 div.sk-estimator {font-family: monospace;background-color: #f0f8ff;border: 1px dotted black;border-radius: 0.25em;box-sizing: border-box;margin-bottom: 0.5em;}#sk-container-id-3 div.sk-estimator:hover {background-color: #d4ebff;}#sk-container-id-3 div.sk-parallel-item::after {content: \"\";width: 100%;border-bottom: 1px solid gray;flex-grow: 1;}#sk-container-id-3 div.sk-label:hover label.sk-toggleable__label {background-color: #d4ebff;}#sk-container-id-3 div.sk-serial::before {content: \"\";position: absolute;border-left: 1px solid gray;box-sizing: border-box;top: 0;bottom: 0;left: 50%;z-index: 0;}#sk-container-id-3 div.sk-serial {display: flex;flex-direction: column;align-items: center;background-color: white;padding-right: 0.2em;padding-left: 0.2em;position: relative;}#sk-container-id-3 div.sk-item {position: relative;z-index: 1;}#sk-container-id-3 div.sk-parallel {display: flex;align-items: stretch;justify-content: center;background-color: white;position: relative;}#sk-container-id-3 div.sk-item::before, #sk-container-id-3 div.sk-parallel-item::before {content: \"\";position: absolute;border-left: 1px solid gray;box-sizing: border-box;top: 0;bottom: 0;left: 50%;z-index: -1;}#sk-container-id-3 div.sk-parallel-item {display: flex;flex-direction: column;z-index: 1;position: relative;background-color: white;}#sk-container-id-3 div.sk-parallel-item:first-child::after {align-self: flex-end;width: 50%;}#sk-container-id-3 div.sk-parallel-item:last-child::after {align-self: flex-start;width: 50%;}#sk-container-id-3 div.sk-parallel-item:only-child::after {width: 0;}#sk-container-id-3 div.sk-dashed-wrapped {border: 1px dashed gray;margin: 0 0.4em 0.5em 0.4em;box-sizing: border-box;padding-bottom: 0.4em;background-color: white;}#sk-container-id-3 div.sk-label label {font-family: monospace;font-weight: bold;display: inline-block;line-height: 1.2em;}#sk-container-id-3 div.sk-label-container {text-align: center;}#sk-container-id-3 div.sk-container {/* jupyter's `normalize.less` sets `[hidden] { display: none; }` but bootstrap.min.css set `[hidden] { display: none !important; }` so we also need the `!important` here to be able to override the default hidden behavior on the sphinx rendered scikit-learn.org. See: https://github.com/scikit-learn/scikit-learn/issues/21755 */display: inline-block !important;position: relative;}#sk-container-id-3 div.sk-text-repr-fallback {display: none;}</style><div id=\"sk-container-id-3\" class=\"sk-top-container\"><div class=\"sk-text-repr-fallback\"><pre>KMeans(n_clusters=3)</pre><b>In a Jupyter environment, please rerun this cell to show the HTML representation or trust the notebook. <br />On GitHub, the HTML representation is unable to render, please try loading this page with nbviewer.org.</b></div><div class=\"sk-container\" hidden><div class=\"sk-item\"><div class=\"sk-estimator sk-toggleable\"><input class=\"sk-toggleable__control sk-hidden--visually\" id=\"sk-estimator-id-3\" type=\"checkbox\" checked><label for=\"sk-estimator-id-3\" class=\"sk-toggleable__label sk-toggleable__label-arrow\">KMeans</label><div class=\"sk-toggleable__content\"><pre>KMeans(n_clusters=3)</pre></div></div></div></div></div>"
      ],
      "text/plain": [
       "KMeans(n_clusters=3)"
      ]
     },
     "execution_count": 52,
     "metadata": {},
     "output_type": "execute_result"
    }
   ],
   "source": [
    "from sklearn.cluster import KMeans\n",
    "\n",
    "clusters = KMeans(3)\n",
    "clusters.fit(customers_df)"
   ]
  },
  {
   "cell_type": "code",
   "execution_count": 53,
   "id": "05df6726-07cb-4b4f-9c40-9273edcd5157",
   "metadata": {},
   "outputs": [],
   "source": [
    "customers_df['clusterid'] = clusters.labels_"
   ]
  },
  {
   "cell_type": "code",
   "execution_count": 54,
   "id": "2f76c7f6-c927-4ba9-9484-b8c6b333babc",
   "metadata": {},
   "outputs": [
    {
     "data": {
      "text/html": [
       "<div>\n",
       "<style scoped>\n",
       "    .dataframe tbody tr th:only-of-type {\n",
       "        vertical-align: middle;\n",
       "    }\n",
       "\n",
       "    .dataframe tbody tr th {\n",
       "        vertical-align: top;\n",
       "    }\n",
       "\n",
       "    .dataframe thead th {\n",
       "        text-align: right;\n",
       "    }\n",
       "</style>\n",
       "<table border=\"1\" class=\"dataframe\">\n",
       "  <thead>\n",
       "    <tr style=\"text-align: right;\">\n",
       "      <th></th>\n",
       "      <th>income</th>\n",
       "      <th>age</th>\n",
       "      <th>clusterid</th>\n",
       "    </tr>\n",
       "  </thead>\n",
       "  <tbody>\n",
       "    <tr>\n",
       "      <th>0</th>\n",
       "      <td>41100.0</td>\n",
       "      <td>48.75</td>\n",
       "      <td>2</td>\n",
       "    </tr>\n",
       "    <tr>\n",
       "      <th>1</th>\n",
       "      <td>54100.0</td>\n",
       "      <td>28.10</td>\n",
       "      <td>1</td>\n",
       "    </tr>\n",
       "    <tr>\n",
       "      <th>2</th>\n",
       "      <td>47800.0</td>\n",
       "      <td>46.75</td>\n",
       "      <td>2</td>\n",
       "    </tr>\n",
       "    <tr>\n",
       "      <th>3</th>\n",
       "      <td>19100.0</td>\n",
       "      <td>40.25</td>\n",
       "      <td>0</td>\n",
       "    </tr>\n",
       "    <tr>\n",
       "      <th>4</th>\n",
       "      <td>18200.0</td>\n",
       "      <td>35.80</td>\n",
       "      <td>0</td>\n",
       "    </tr>\n",
       "  </tbody>\n",
       "</table>\n",
       "</div>"
      ],
      "text/plain": [
       "    income    age  clusterid\n",
       "0  41100.0  48.75          2\n",
       "1  54100.0  28.10          1\n",
       "2  47800.0  46.75          2\n",
       "3  19100.0  40.25          0\n",
       "4  18200.0  35.80          0"
      ]
     },
     "execution_count": 54,
     "metadata": {},
     "output_type": "execute_result"
    }
   ],
   "source": [
    "customers_df.head()"
   ]
  },
  {
   "cell_type": "code",
   "execution_count": 55,
   "id": "22f6154c-2739-4c0c-bd2b-a748e4e678d7",
   "metadata": {},
   "outputs": [
    {
     "data": {
      "image/png": "[encoded data removed]",
      "text/plain": [
       "<Figure size 405.625x360 with 1 Axes>"
      ]
     },
     "metadata": {
      "needs_background": "light"
     },
     "output_type": "display_data"
    }
   ],
   "source": [
    "markers = ['+', '^', '.']\n",
    "sns.lmplot(x = 'age', y='income',\n",
    "           data = customers_df,\n",
    "           hue = \"clusterid\",\n",
    "           fit_reg = False,\n",
    "           markers = markers,\n",
    "           size = 5);"
   ]
  },
  {
   "cell_type": "markdown",
   "id": "2d0f34c4-7e48-47a6-a093-f8f3ca155b20",
   "metadata": {},
   "source": [
    "### ***Why we need to normalize the data?***\n",
    "The above clusters are mostly segmented based on income. This is because the salary is on a larger scale  compared to the age. The scale of age is 0 to 60, while salary ranges from 0 to 50000. For example, difference in age between two customers, with age 20 and 70, is significant, but numerical difference is only  50. Similarly, difference in income between two customers, with income of 10000 and 11000, is not significant; the numerical difference is 1000.<br> \n",
    "So, the distance will always be determined by the difference in  salary and not in age.<br> \n",
    "***Hence before creating clusters, all features need to be normalized and brought to normalized scale.***<br> \n",
    "*StandardScaler in skleardn.preprocessing normalizes all values by subtracting all values  from its mean and dividing by standard deviation. Hence* \n",
    "$$X_{normalized} = \\frac{X_i - \\bar{X}}{\\sigma_X}$$\n",
    "where $\\bar{X}$ is the mean & $\\sigma_X$ is the corresponding Standard Deviation of $X$ feature."
   ]
  },
  {
   "cell_type": "code",
   "execution_count": 56,
   "id": "47753415-4c87-4b71-ab7c-703da2413eb9",
   "metadata": {},
   "outputs": [],
   "source": [
    "# Normalizing Features\n",
    "from sklearn.preprocessing import StandardScaler"
   ]
  },
  {
   "cell_type": "code",
   "execution_count": 57,
   "id": "edad7d84-52f1-424f-87a6-44da5bcb854c",
   "metadata": {},
   "outputs": [
    {
     "data": {
      "text/plain": [
       "array([[ 1.3701637 ,  0.09718548],\n",
       "       [-1.3791283 ,  0.90602749],\n",
       "       [ 1.10388844,  0.51405021],\n",
       "       [ 0.23849387, -1.27162408],\n",
       "       [-0.35396857, -1.32762083]])"
      ]
     },
     "execution_count": 57,
     "metadata": {},
     "output_type": "execute_result"
    }
   ],
   "source": [
    "scaler = StandardScaler()\n",
    "\n",
    "scaled_customers_df = scaler.fit_transform(customers_df[['age','income']])\n",
    "scaled_customers_df[0:5]"
   ]
  },
  {
   "cell_type": "code",
   "execution_count": 58,
   "id": "0988c939-d9db-49bc-91c9-b41673a64d21",
   "metadata": {},
   "outputs": [],
   "source": [
    "from sklearn.cluster import KMeans\n",
    "\n",
    "clusters_new = KMeans(n_clusters=3, random_state=42)\n",
    "\n",
    "clusters_new.fit(scaled_customers_df)\n",
    "\n",
    "customers_df['clusterid_new'] = clusters_new.labels_"
   ]
  },
  {
   "cell_type": "code",
   "execution_count": 59,
   "id": "ca57c586-b140-446c-a57d-e521f60eedfa",
   "metadata": {},
   "outputs": [
    {
     "data": {
      "image/png": "[encoded data removed]",
      "text/plain": [
       "<Figure size 429.625x360 with 1 Axes>"
      ]
     },
     "metadata": {
      "needs_background": "light"
     },
     "output_type": "display_data"
    }
   ],
   "source": [
    "markers = ['+', '^', '.']\n",
    "sns.lmplot(x = 'age', y='income',\n",
    "           data = customers_df,\n",
    "           hue = \"clusterid_new\",\n",
    "           fit_reg = False,\n",
    "           markers = markers,\n",
    "           size = 5);"
   ]
  },
  {
   "cell_type": "markdown",
   "id": "48747334-1ed5-4b19-8ec7-dbf9fc19b7c4",
   "metadata": {},
   "source": [
    "Now the clusters have been created properly. The cluster centers are given by *clusters.cluster_centers_*<br>\n",
    "But these are standardized values. Hence, we can calculate the cluster centers from the original DataFrame using the information \"which customers have been allocated to which segment\"."
   ]
  },
  {
   "cell_type": "code",
   "execution_count": 60,
   "id": "a4df67da-de41-4ed6-a33f-412069f47783",
   "metadata": {},
   "outputs": [
    {
     "data": {
      "text/plain": [
       "array([[ 1.08753708,  0.29682871],\n",
       "       [-1.20817959,  0.97471684],\n",
       "       [ 0.09073855, -1.32005197]])"
      ]
     },
     "execution_count": 60,
     "metadata": {},
     "output_type": "execute_result"
    }
   ],
   "source": [
    "clusters_new.cluster_centers_"
   ]
  },
  {
   "cell_type": "markdown",
   "id": "ddd8619a-6ef6-4c42-8d30-474a3956254d",
   "metadata": {},
   "source": [
    "## **Cluster Centers and Interpreting the Clusters**\n",
    "**Each cluster is defined by its cluster center. The cluster center explains the characteristic of the cluster  and helps us to interpret the cluster. For example, in this example of customer segmentation, the cluster  center provides the average age and average income of each cluster. Of course, the customer’s age and  income will vary from the cluster centers and is called the cluster variance.**"
   ]
  },
  {
   "cell_type": "code",
   "execution_count": 61,
   "id": "a663aea2-dec6-43d4-89d3-4800c6c41b40",
   "metadata": {},
   "outputs": [
    {
     "data": {
      "text/html": [
       "<div>\n",
       "<style scoped>\n",
       "    .dataframe tbody tr th:only-of-type {\n",
       "        vertical-align: middle;\n",
       "    }\n",
       "\n",
       "    .dataframe tbody tr th {\n",
       "        vertical-align: top;\n",
       "    }\n",
       "\n",
       "    .dataframe thead tr th {\n",
       "        text-align: left;\n",
       "    }\n",
       "</style>\n",
       "<table border=\"1\" class=\"dataframe\">\n",
       "  <thead>\n",
       "    <tr>\n",
       "      <th></th>\n",
       "      <th>clusterid_new</th>\n",
       "      <th colspan=\"2\" halign=\"left\">age</th>\n",
       "      <th colspan=\"2\" halign=\"left\">income</th>\n",
       "    </tr>\n",
       "    <tr>\n",
       "      <th></th>\n",
       "      <th></th>\n",
       "      <th>mean</th>\n",
       "      <th>std</th>\n",
       "      <th>mean</th>\n",
       "      <th>std</th>\n",
       "    </tr>\n",
       "  </thead>\n",
       "  <tbody>\n",
       "    <tr>\n",
       "      <th>0</th>\n",
       "      <td>0</td>\n",
       "      <td>46.627184</td>\n",
       "      <td>2.151559</td>\n",
       "      <td>44308.737864</td>\n",
       "      <td>4390.321503</td>\n",
       "    </tr>\n",
       "    <tr>\n",
       "      <th>1</th>\n",
       "      <td>1</td>\n",
       "      <td>29.384000</td>\n",
       "      <td>0.921458</td>\n",
       "      <td>55204.000000</td>\n",
       "      <td>1951.943864</td>\n",
       "    </tr>\n",
       "    <tr>\n",
       "      <th>2</th>\n",
       "      <td>2</td>\n",
       "      <td>39.140206</td>\n",
       "      <td>3.558665</td>\n",
       "      <td>18321.649485</td>\n",
       "      <td>6924.747691</td>\n",
       "    </tr>\n",
       "  </tbody>\n",
       "</table>\n",
       "</div>"
      ],
      "text/plain": [
       "  clusterid_new        age                  income             \n",
       "                      mean       std          mean          std\n",
       "0             0  46.627184  2.151559  44308.737864  4390.321503\n",
       "1             1  29.384000  0.921458  55204.000000  1951.943864\n",
       "2             2  39.140206  3.558665  18321.649485  6924.747691"
      ]
     },
     "execution_count": 61,
     "metadata": {},
     "output_type": "execute_result"
    }
   ],
   "source": [
    "customers_df.groupby('clusterid_new')['age','income'].agg(['mean','std']).reset_index()"
   ]
  },
  {
   "cell_type": "markdown",
   "id": "bfefb4bf-14a4-43d9-9639-2ab8ef49e791",
   "metadata": {},
   "source": [
    "**The clusters can be interpreted as follows:** \n",
    "   1. $cluster_0$: *Customers with mean age of 47 and income of 44.3k. High age and medium income.*  \n",
    "   2. $cluster_1$: *Customers with mean age of 29 and income of 55.2K. Low age and high income.*\n",
    "   3. $cluster_2$: *Customers with mean age of 39 and income of 18.3k. Mid age and low income.*  "
   ]
  },
  {
   "cell_type": "markdown",
   "id": "7aeb6afd-44bf-4ec6-ada8-339e02169898",
   "metadata": {},
   "source": [
    "## **Creating Product Segments Using Clustering**\n",
    "\n",
    "*Using beer data*"
   ]
  },
  {
   "cell_type": "code",
   "execution_count": 63,
   "id": "40296b73-4f5f-4230-b7d4-cdb76a2c9635",
   "metadata": {},
   "outputs": [
    {
     "data": {
      "text/html": [
       "<div>\n",
       "<style scoped>\n",
       "    .dataframe tbody tr th:only-of-type {\n",
       "        vertical-align: middle;\n",
       "    }\n",
       "\n",
       "    .dataframe tbody tr th {\n",
       "        vertical-align: top;\n",
       "    }\n",
       "\n",
       "    .dataframe thead th {\n",
       "        text-align: right;\n",
       "    }\n",
       "</style>\n",
       "<table border=\"1\" class=\"dataframe\">\n",
       "  <thead>\n",
       "    <tr style=\"text-align: right;\">\n",
       "      <th></th>\n",
       "      <th>name</th>\n",
       "      <th>calories</th>\n",
       "      <th>sodium</th>\n",
       "      <th>alcohol</th>\n",
       "      <th>cost</th>\n",
       "    </tr>\n",
       "  </thead>\n",
       "  <tbody>\n",
       "    <tr>\n",
       "      <th>0</th>\n",
       "      <td>Budweiser</td>\n",
       "      <td>144</td>\n",
       "      <td>15</td>\n",
       "      <td>4.7</td>\n",
       "      <td>0.43</td>\n",
       "    </tr>\n",
       "    <tr>\n",
       "      <th>1</th>\n",
       "      <td>Schlitz</td>\n",
       "      <td>151</td>\n",
       "      <td>19</td>\n",
       "      <td>4.9</td>\n",
       "      <td>0.43</td>\n",
       "    </tr>\n",
       "    <tr>\n",
       "      <th>2</th>\n",
       "      <td>Lowenbrau</td>\n",
       "      <td>157</td>\n",
       "      <td>15</td>\n",
       "      <td>0.9</td>\n",
       "      <td>0.48</td>\n",
       "    </tr>\n",
       "    <tr>\n",
       "      <th>3</th>\n",
       "      <td>Kronenbourg</td>\n",
       "      <td>170</td>\n",
       "      <td>7</td>\n",
       "      <td>5.2</td>\n",
       "      <td>0.73</td>\n",
       "    </tr>\n",
       "    <tr>\n",
       "      <th>4</th>\n",
       "      <td>Heineken</td>\n",
       "      <td>152</td>\n",
       "      <td>11</td>\n",
       "      <td>5.0</td>\n",
       "      <td>0.77</td>\n",
       "    </tr>\n",
       "    <tr>\n",
       "      <th>5</th>\n",
       "      <td>Old_Milwaukee</td>\n",
       "      <td>145</td>\n",
       "      <td>23</td>\n",
       "      <td>4.6</td>\n",
       "      <td>0.28</td>\n",
       "    </tr>\n",
       "    <tr>\n",
       "      <th>6</th>\n",
       "      <td>Augsberger</td>\n",
       "      <td>175</td>\n",
       "      <td>24</td>\n",
       "      <td>5.5</td>\n",
       "      <td>0.40</td>\n",
       "    </tr>\n",
       "    <tr>\n",
       "      <th>7</th>\n",
       "      <td>Srohs_Bohemian_Style</td>\n",
       "      <td>149</td>\n",
       "      <td>27</td>\n",
       "      <td>4.7</td>\n",
       "      <td>0.42</td>\n",
       "    </tr>\n",
       "    <tr>\n",
       "      <th>8</th>\n",
       "      <td>Miller_Lite</td>\n",
       "      <td>99</td>\n",
       "      <td>10</td>\n",
       "      <td>4.3</td>\n",
       "      <td>0.43</td>\n",
       "    </tr>\n",
       "    <tr>\n",
       "      <th>9</th>\n",
       "      <td>Budweiser_Light</td>\n",
       "      <td>113</td>\n",
       "      <td>8</td>\n",
       "      <td>3.7</td>\n",
       "      <td>0.40</td>\n",
       "    </tr>\n",
       "    <tr>\n",
       "      <th>10</th>\n",
       "      <td>Coors</td>\n",
       "      <td>140</td>\n",
       "      <td>18</td>\n",
       "      <td>4.6</td>\n",
       "      <td>0.44</td>\n",
       "    </tr>\n",
       "    <tr>\n",
       "      <th>11</th>\n",
       "      <td>Coors_Light</td>\n",
       "      <td>102</td>\n",
       "      <td>15</td>\n",
       "      <td>4.1</td>\n",
       "      <td>0.46</td>\n",
       "    </tr>\n",
       "    <tr>\n",
       "      <th>12</th>\n",
       "      <td>Michelob_Light</td>\n",
       "      <td>135</td>\n",
       "      <td>11</td>\n",
       "      <td>4.2</td>\n",
       "      <td>0.50</td>\n",
       "    </tr>\n",
       "    <tr>\n",
       "      <th>13</th>\n",
       "      <td>Becks</td>\n",
       "      <td>150</td>\n",
       "      <td>19</td>\n",
       "      <td>4.7</td>\n",
       "      <td>0.76</td>\n",
       "    </tr>\n",
       "    <tr>\n",
       "      <th>14</th>\n",
       "      <td>Kirin</td>\n",
       "      <td>149</td>\n",
       "      <td>6</td>\n",
       "      <td>5.0</td>\n",
       "      <td>0.79</td>\n",
       "    </tr>\n",
       "    <tr>\n",
       "      <th>15</th>\n",
       "      <td>Pabst_Extra_Light</td>\n",
       "      <td>68</td>\n",
       "      <td>15</td>\n",
       "      <td>2.3</td>\n",
       "      <td>0.38</td>\n",
       "    </tr>\n",
       "    <tr>\n",
       "      <th>16</th>\n",
       "      <td>Hamms</td>\n",
       "      <td>139</td>\n",
       "      <td>19</td>\n",
       "      <td>4.4</td>\n",
       "      <td>0.43</td>\n",
       "    </tr>\n",
       "    <tr>\n",
       "      <th>17</th>\n",
       "      <td>Heilemans_Old_Style</td>\n",
       "      <td>144</td>\n",
       "      <td>24</td>\n",
       "      <td>4.9</td>\n",
       "      <td>0.43</td>\n",
       "    </tr>\n",
       "    <tr>\n",
       "      <th>18</th>\n",
       "      <td>Olympia_Goled_Light</td>\n",
       "      <td>72</td>\n",
       "      <td>6</td>\n",
       "      <td>2.9</td>\n",
       "      <td>0.46</td>\n",
       "    </tr>\n",
       "    <tr>\n",
       "      <th>19</th>\n",
       "      <td>Schlitz_Light</td>\n",
       "      <td>97</td>\n",
       "      <td>7</td>\n",
       "      <td>4.2</td>\n",
       "      <td>0.47</td>\n",
       "    </tr>\n",
       "  </tbody>\n",
       "</table>\n",
       "</div>"
      ],
      "text/plain": [
       "                    name  calories  sodium  alcohol  cost\n",
       "0              Budweiser       144      15      4.7  0.43\n",
       "1                Schlitz       151      19      4.9  0.43\n",
       "2              Lowenbrau       157      15      0.9  0.48\n",
       "3            Kronenbourg       170       7      5.2  0.73\n",
       "4               Heineken       152      11      5.0  0.77\n",
       "5          Old_Milwaukee       145      23      4.6  0.28\n",
       "6             Augsberger       175      24      5.5  0.40\n",
       "7   Srohs_Bohemian_Style       149      27      4.7  0.42\n",
       "8            Miller_Lite        99      10      4.3  0.43\n",
       "9        Budweiser_Light       113       8      3.7  0.40\n",
       "10                 Coors       140      18      4.6  0.44\n",
       "11           Coors_Light       102      15      4.1  0.46\n",
       "12        Michelob_Light       135      11      4.2  0.50\n",
       "13                 Becks       150      19      4.7  0.76\n",
       "14                 Kirin       149       6      5.0  0.79\n",
       "15     Pabst_Extra_Light        68      15      2.3  0.38\n",
       "16                 Hamms       139      19      4.4  0.43\n",
       "17   Heilemans_Old_Style       144      24      4.9  0.43\n",
       "18   Olympia_Goled_Light        72       6      2.9  0.46\n",
       "19         Schlitz_Light        97       7      4.2  0.47"
      ]
     },
     "execution_count": 63,
     "metadata": {},
     "output_type": "execute_result"
    }
   ],
   "source": [
    "beer_df = pd.read_csv(os.getcwd()+\"/Data/beer.csv\")\n",
    "beer_df"
   ]
  },
  {
   "cell_type": "code",
   "execution_count": 64,
   "id": "7b571f16-6539-44f6-9a9f-ca3f74f136f0",
   "metadata": {},
   "outputs": [],
   "source": [
    "from sklearn.preprocessing import StandardScaler"
   ]
  },
  {
   "cell_type": "code",
   "execution_count": 72,
   "id": "3678936a-c68e-4a2a-b2df-2c00bdf38247",
   "metadata": {},
   "outputs": [],
   "source": [
    "scaler = StandardScaler()\n",
    "scaled_beer_df = scaler.fit_transform(beer_df[['calories', 'sodium', 'alcohol', 'cost']])"
   ]
  },
  {
   "cell_type": "markdown",
   "id": "b3ada879-edaa-4838-a009-6bf9a81652fa",
   "metadata": {},
   "source": [
    "### **How many Clusters Exist?**\n",
    "As there are four features, it is not possible to plot and visualize them to understand how many clusters  may exist. For high-dimensional data, the following techniques can be used for discovering the possible  number of clusters:  \n",
    "   1. Dendrogram  \n",
    "   2. Elbow method\n",
    "   \n",
    "### ***Using Dendrogram***\n",
    "A dendrogram is a cluster tree diagram which groups those entities together that are nearer to each other. A dendrogram can be drawn using the *clustermap()* method in *seaborn*."
   ]
  },
  {
   "cell_type": "code",
   "execution_count": 80,
   "id": "d1509a8e-714f-480e-a358-fd2665b88f87",
   "metadata": {},
   "outputs": [
    {
     "data": {
      "image/png": "[encoded data removed]",
      "text/plain": [
       "<Figure size 720x720 with 4 Axes>"
      ]
     },
     "metadata": {
      "needs_background": "light"
     },
     "output_type": "display_data"
    }
   ],
   "source": [
    "cmap = sns.cubehelix_palette(as_cmap=True, rot = -.3, light = 1)\n",
    "sns.clustermap(scaled_beer_df, cmap=cmap, linewidths = .2, figsize=(10,10));"
   ]
  },
  {
   "cell_type": "code",
   "execution_count": 77,
   "id": "5eac4040-1dac-4997-b51f-8a76751ad5cf",
   "metadata": {},
   "outputs": [
    {
     "data": {
      "text/html": [
       "<div>\n",
       "<style scoped>\n",
       "    .dataframe tbody tr th:only-of-type {\n",
       "        vertical-align: middle;\n",
       "    }\n",
       "\n",
       "    .dataframe tbody tr th {\n",
       "        vertical-align: top;\n",
       "    }\n",
       "\n",
       "    .dataframe thead th {\n",
       "        text-align: right;\n",
       "    }\n",
       "</style>\n",
       "<table border=\"1\" class=\"dataframe\">\n",
       "  <thead>\n",
       "    <tr style=\"text-align: right;\">\n",
       "      <th></th>\n",
       "      <th>name</th>\n",
       "      <th>calories</th>\n",
       "      <th>sodium</th>\n",
       "      <th>alcohol</th>\n",
       "      <th>cost</th>\n",
       "    </tr>\n",
       "  </thead>\n",
       "  <tbody>\n",
       "    <tr>\n",
       "      <th>10</th>\n",
       "      <td>Coors</td>\n",
       "      <td>140</td>\n",
       "      <td>18</td>\n",
       "      <td>4.6</td>\n",
       "      <td>0.44</td>\n",
       "    </tr>\n",
       "    <tr>\n",
       "      <th>16</th>\n",
       "      <td>Hamms</td>\n",
       "      <td>139</td>\n",
       "      <td>19</td>\n",
       "      <td>4.4</td>\n",
       "      <td>0.43</td>\n",
       "    </tr>\n",
       "  </tbody>\n",
       "</table>\n",
       "</div>"
      ],
      "text/plain": [
       "     name  calories  sodium  alcohol  cost\n",
       "10  Coors       140      18      4.6  0.44\n",
       "16  Hamms       139      19      4.4  0.43"
      ]
     },
     "execution_count": 77,
     "metadata": {},
     "output_type": "execute_result"
    }
   ],
   "source": [
    "beer_df.loc[[10,16]]"
   ]
  },
  {
   "cell_type": "markdown",
   "id": "8114e4c0-c146-485e-9c47-6195cf432377",
   "metadata": {},
   "source": [
    "**As shown above, dendrogram reorders the observations based on how close they are to each other  using distances (Euclidean). The tree on the left of the dendrogram depicts the relative distance between  nodes. For example, the distance between beer brand 10 and 16 is least. They seem to be very similar to  each other.**<br>**It can be observed that both the beer brands *Coors* and *Hamms* are very similar across all features.**\n",
    "\n",
    "**Similarly, brands 2 and 18 seem to be most different as the distance is highest. They are represented on  two extremes of the dendrogram.**"
   ]
  },
  {
   "cell_type": "code",
   "execution_count": 78,
   "id": "b4fc1b79-8ed0-46e5-b911-6f7519eec21f",
   "metadata": {},
   "outputs": [
    {
     "data": {
      "text/html": [
       "<div>\n",
       "<style scoped>\n",
       "    .dataframe tbody tr th:only-of-type {\n",
       "        vertical-align: middle;\n",
       "    }\n",
       "\n",
       "    .dataframe tbody tr th {\n",
       "        vertical-align: top;\n",
       "    }\n",
       "\n",
       "    .dataframe thead th {\n",
       "        text-align: right;\n",
       "    }\n",
       "</style>\n",
       "<table border=\"1\" class=\"dataframe\">\n",
       "  <thead>\n",
       "    <tr style=\"text-align: right;\">\n",
       "      <th></th>\n",
       "      <th>name</th>\n",
       "      <th>calories</th>\n",
       "      <th>sodium</th>\n",
       "      <th>alcohol</th>\n",
       "      <th>cost</th>\n",
       "    </tr>\n",
       "  </thead>\n",
       "  <tbody>\n",
       "    <tr>\n",
       "      <th>2</th>\n",
       "      <td>Lowenbrau</td>\n",
       "      <td>157</td>\n",
       "      <td>15</td>\n",
       "      <td>0.9</td>\n",
       "      <td>0.48</td>\n",
       "    </tr>\n",
       "    <tr>\n",
       "      <th>18</th>\n",
       "      <td>Olympia_Goled_Light</td>\n",
       "      <td>72</td>\n",
       "      <td>6</td>\n",
       "      <td>2.9</td>\n",
       "      <td>0.46</td>\n",
       "    </tr>\n",
       "  </tbody>\n",
       "</table>\n",
       "</div>"
      ],
      "text/plain": [
       "                   name  calories  sodium  alcohol  cost\n",
       "2             Lowenbrau       157      15      0.9  0.48\n",
       "18  Olympia_Goled_Light        72       6      2.9  0.46"
      ]
     },
     "execution_count": 78,
     "metadata": {},
     "output_type": "execute_result"
    }
   ],
   "source": [
    "beer_df.loc[[2,18]]"
   ]
  },
  {
   "cell_type": "markdown",
   "id": "b8a7f88d-7875-46f3-bc19-0c8ce9b10610",
   "metadata": {},
   "source": [
    "Brand Lowenbrau seems to have very low alcohol content. This can be an outlier or maybe a data error.  Thus, it can be dropped from the dataset.  \n",
    "\n",
    "- ***The tree structure on the left of the dendrogram indicates that there may be four or five clusters in  the dataset.***\n",
    "\n",
    "- **This is only a guideline or indication about the number of clusters, but the actual number of  clusters can be determined only after creating the clusters and interpreting them.**<br>***Creating more number  of clusters may give rise to the complexity of defining and managing them. It is always advisable to have  a less and reasonable number of clusters that make business sense.*** \n",
    "\n",
    "We will create four clusters and verify  if the clusters explain the product segments clearly and well."
   ]
  },
  {
   "cell_type": "markdown",
   "id": "aab4d244-bb49-4619-854f-4a08b3e0821b",
   "metadata": {},
   "source": [
    "#### ***How to find no. clusters using dendrogram?***<br> Link: https://youtu.be/ijUMKMC4f9I (See last part)"
   ]
  },
  {
   "cell_type": "markdown",
   "id": "65c5febe-c332-42e9-92cd-1af2ab818277",
   "metadata": {},
   "source": [
    "### ***Finding Optimal Number of Clusters Using Elbow Curve Method***\n",
    "\n",
    "- ***If we assume all the products belong to only one segment, then the variance of the cluster will be highest. As we increase the number of clusters, the total variance of all clusters will start reducing. But the total variance will be zero if we assume each product is a cluster by itself.***\n",
    "\n",
    "- ***So, Elbow curve method considers the percentage of variance explained as a function of the number of clusters. The optimal number  of clusters is chosen in such a way that adding another cluster does not change the variance explained significantly.*** \n",
    "\n",
    "- For a set of records $(X_1, X_2, \\cdots, X_n)$, where each observation is a $d-dimensional$ real vector, K-means clustering algorithm segments the observations into $k$ $(≤ n)$ sets $S = \\{S_1, S_2, \\cdots, S_k\\}$ to minimize the  **<u>within-cluster sum of squares (WCSS)</u>.** <br>**WCSS** *is the sum of distances of each point in the cluster to the  center of cluster across k clusters.<br>It is given by the following equation:*  \n",
    "$$WCSS = {\\text{arg min}}_{k}\\sum_{S_i = 1}^{k}\\sum_{X_i \\in S_i}||X_i - \\mu_i||^2$$\n",
    "**where $\\mu_i$ is the centroid of cluster $S_i$.**<br>\n",
    "\n",
    "- ***If the percentage of variance explained by the clusters is plotted against the number of clusters, the initial increase in the number of clusters will add much information (and explain  a lot of variances), <u>but at some point, the marginal gain in explained variance will drop, giving an angle to the graph (similar to elbow). The number of clusters indicated at this angle can be chosen to be the most  appropriate number of clusters</u>; choosing the number of clusters in this approach is called **“<u>elbow criterion</u>”**.***  \n",
    "\n",
    "    Let us create several cluster combinations ranging from one to ten and observe the WCSS in each  cluster and how marginal gain in explained variance starts to diminish gradually.<br> \n",
    "    **The *interia_* parameter in *KMeans* cluster algorithms provides the total variance for a particular number of clusters.**<br> \n",
    "    \n",
    "The following code iterates and creates clusters ranging from 1 to 10 and captures the total variance  in the variable cluster_errors."
   ]
  },
  {
   "cell_type": "code",
   "execution_count": 82,
   "id": "b8bef7d1-5840-4edb-8a61-990261bf4a14",
   "metadata": {},
   "outputs": [
    {
     "data": {
      "image/png": "[encoded data removed]",
      "text/plain": [
       "<Figure size 576x432 with 1 Axes>"
      ]
     },
     "metadata": {
      "needs_background": "light"
     },
     "output_type": "display_data"
    }
   ],
   "source": [
    "cluster_range = range(1,10)\n",
    "cluster_errors = []\n",
    "\n",
    "for num_clusters in cluster_range:\n",
    "    clusters = KMeans(num_clusters)\n",
    "    clusters.fit(scaled_beer_df)\n",
    "    cluster_errors.append(clusters.inertia_)\n",
    "    \n",
    "plt.figure(figsize=(8,6))\n",
    "plt.plot(cluster_range, cluster_errors, marker = \"o\");"
   ]
  },
  {
   "cell_type": "markdown",
   "id": "1be12c34-a40e-4955-8cba-9e3890ea8699",
   "metadata": {},
   "source": [
    "**The plot above indicates that the elbow point is at 3, which in turn indicates there might be three clusters existing in the dataset.<br> As mentioned earlier, these techniques provide only guidance of how many clusters may exist in the dataset.**"
   ]
  },
  {
   "cell_type": "code",
   "execution_count": 83,
   "id": "023e4608-90cd-46f2-a2d6-9e6fc0edbd24",
   "metadata": {},
   "outputs": [],
   "source": [
    "# Normalizing the Features\n",
    "scaler = StandardScaler()\n",
    "\n",
    "scaled_beer_df = scaler.fit_transform(beer_df[['calories', 'sodium', 'alcohol', 'cost']])"
   ]
  },
  {
   "cell_type": "code",
   "execution_count": 84,
   "id": "faedbd65-7a8b-4664-92fe-bb9332a9c45c",
   "metadata": {},
   "outputs": [],
   "source": [
    "# Creating Clusters\n",
    "k = 3 # 3-Clusters\n",
    "\n",
    "clusters = KMeans(k, random_state=42)\n",
    "clusters.fit(scaled_beer_df)\n",
    "\n",
    "beer_df['clusterID'] = clusters.labels_"
   ]
  },
  {
   "cell_type": "markdown",
   "id": "44a12d06-2591-4f6d-a5c0-b6973a492efe",
   "metadata": {},
   "source": [
    "#### **Interpreting the Clusters**"
   ]
  },
  {
   "cell_type": "markdown",
   "id": "5e425dd4-7463-4638-addd-ccf9ca54fa75",
   "metadata": {},
   "source": [
    "#### **Cluster 0:**"
   ]
  },
  {
   "cell_type": "code",
   "execution_count": 85,
   "id": "50ef30d9-d1c5-459e-9e56-bbeeee843d1a",
   "metadata": {},
   "outputs": [
    {
     "data": {
      "text/html": [
       "<div>\n",
       "<style scoped>\n",
       "    .dataframe tbody tr th:only-of-type {\n",
       "        vertical-align: middle;\n",
       "    }\n",
       "\n",
       "    .dataframe tbody tr th {\n",
       "        vertical-align: top;\n",
       "    }\n",
       "\n",
       "    .dataframe thead th {\n",
       "        text-align: right;\n",
       "    }\n",
       "</style>\n",
       "<table border=\"1\" class=\"dataframe\">\n",
       "  <thead>\n",
       "    <tr style=\"text-align: right;\">\n",
       "      <th></th>\n",
       "      <th>name</th>\n",
       "      <th>calories</th>\n",
       "      <th>sodium</th>\n",
       "      <th>alcohol</th>\n",
       "      <th>cost</th>\n",
       "      <th>clusterID</th>\n",
       "    </tr>\n",
       "  </thead>\n",
       "  <tbody>\n",
       "    <tr>\n",
       "      <th>0</th>\n",
       "      <td>Budweiser</td>\n",
       "      <td>144</td>\n",
       "      <td>15</td>\n",
       "      <td>4.7</td>\n",
       "      <td>0.43</td>\n",
       "      <td>0</td>\n",
       "    </tr>\n",
       "    <tr>\n",
       "      <th>1</th>\n",
       "      <td>Schlitz</td>\n",
       "      <td>151</td>\n",
       "      <td>19</td>\n",
       "      <td>4.9</td>\n",
       "      <td>0.43</td>\n",
       "      <td>0</td>\n",
       "    </tr>\n",
       "    <tr>\n",
       "      <th>5</th>\n",
       "      <td>Old_Milwaukee</td>\n",
       "      <td>145</td>\n",
       "      <td>23</td>\n",
       "      <td>4.6</td>\n",
       "      <td>0.28</td>\n",
       "      <td>0</td>\n",
       "    </tr>\n",
       "    <tr>\n",
       "      <th>6</th>\n",
       "      <td>Augsberger</td>\n",
       "      <td>175</td>\n",
       "      <td>24</td>\n",
       "      <td>5.5</td>\n",
       "      <td>0.40</td>\n",
       "      <td>0</td>\n",
       "    </tr>\n",
       "    <tr>\n",
       "      <th>7</th>\n",
       "      <td>Srohs_Bohemian_Style</td>\n",
       "      <td>149</td>\n",
       "      <td>27</td>\n",
       "      <td>4.7</td>\n",
       "      <td>0.42</td>\n",
       "      <td>0</td>\n",
       "    </tr>\n",
       "    <tr>\n",
       "      <th>10</th>\n",
       "      <td>Coors</td>\n",
       "      <td>140</td>\n",
       "      <td>18</td>\n",
       "      <td>4.6</td>\n",
       "      <td>0.44</td>\n",
       "      <td>0</td>\n",
       "    </tr>\n",
       "    <tr>\n",
       "      <th>16</th>\n",
       "      <td>Hamms</td>\n",
       "      <td>139</td>\n",
       "      <td>19</td>\n",
       "      <td>4.4</td>\n",
       "      <td>0.43</td>\n",
       "      <td>0</td>\n",
       "    </tr>\n",
       "    <tr>\n",
       "      <th>17</th>\n",
       "      <td>Heilemans_Old_Style</td>\n",
       "      <td>144</td>\n",
       "      <td>24</td>\n",
       "      <td>4.9</td>\n",
       "      <td>0.43</td>\n",
       "      <td>0</td>\n",
       "    </tr>\n",
       "  </tbody>\n",
       "</table>\n",
       "</div>"
      ],
      "text/plain": [
       "                    name  calories  sodium  alcohol  cost  clusterID\n",
       "0              Budweiser       144      15      4.7  0.43          0\n",
       "1                Schlitz       151      19      4.9  0.43          0\n",
       "5          Old_Milwaukee       145      23      4.6  0.28          0\n",
       "6             Augsberger       175      24      5.5  0.40          0\n",
       "7   Srohs_Bohemian_Style       149      27      4.7  0.42          0\n",
       "10                 Coors       140      18      4.6  0.44          0\n",
       "16                 Hamms       139      19      4.4  0.43          0\n",
       "17   Heilemans_Old_Style       144      24      4.9  0.43          0"
      ]
     },
     "execution_count": 85,
     "metadata": {},
     "output_type": "execute_result"
    }
   ],
   "source": [
    "beer_df[beer_df.clusterID == 0]"
   ]
  },
  {
   "cell_type": "markdown",
   "id": "6c5d3121-2a94-4ee4-808a-aa03a26525e8",
   "metadata": {},
   "source": [
    "#### **In cluster 0, beers with medium alcohol content and cost are grouped together. This is the largest segment and may be targeting the largest segment of customers.**"
   ]
  },
  {
   "cell_type": "markdown",
   "id": "19e063e1-1e7b-4f4d-bc41-4413c59ba07f",
   "metadata": {},
   "source": [
    "#### **Cluster 1:**"
   ]
  },
  {
   "cell_type": "code",
   "execution_count": 86,
   "id": "f3bf992b-73f3-472f-b402-5a1a80b0a9c7",
   "metadata": {},
   "outputs": [
    {
     "data": {
      "text/html": [
       "<div>\n",
       "<style scoped>\n",
       "    .dataframe tbody tr th:only-of-type {\n",
       "        vertical-align: middle;\n",
       "    }\n",
       "\n",
       "    .dataframe tbody tr th {\n",
       "        vertical-align: top;\n",
       "    }\n",
       "\n",
       "    .dataframe thead th {\n",
       "        text-align: right;\n",
       "    }\n",
       "</style>\n",
       "<table border=\"1\" class=\"dataframe\">\n",
       "  <thead>\n",
       "    <tr style=\"text-align: right;\">\n",
       "      <th></th>\n",
       "      <th>name</th>\n",
       "      <th>calories</th>\n",
       "      <th>sodium</th>\n",
       "      <th>alcohol</th>\n",
       "      <th>cost</th>\n",
       "      <th>clusterID</th>\n",
       "    </tr>\n",
       "  </thead>\n",
       "  <tbody>\n",
       "    <tr>\n",
       "      <th>2</th>\n",
       "      <td>Lowenbrau</td>\n",
       "      <td>157</td>\n",
       "      <td>15</td>\n",
       "      <td>0.9</td>\n",
       "      <td>0.48</td>\n",
       "      <td>1</td>\n",
       "    </tr>\n",
       "    <tr>\n",
       "      <th>8</th>\n",
       "      <td>Miller_Lite</td>\n",
       "      <td>99</td>\n",
       "      <td>10</td>\n",
       "      <td>4.3</td>\n",
       "      <td>0.43</td>\n",
       "      <td>1</td>\n",
       "    </tr>\n",
       "    <tr>\n",
       "      <th>9</th>\n",
       "      <td>Budweiser_Light</td>\n",
       "      <td>113</td>\n",
       "      <td>8</td>\n",
       "      <td>3.7</td>\n",
       "      <td>0.40</td>\n",
       "      <td>1</td>\n",
       "    </tr>\n",
       "    <tr>\n",
       "      <th>11</th>\n",
       "      <td>Coors_Light</td>\n",
       "      <td>102</td>\n",
       "      <td>15</td>\n",
       "      <td>4.1</td>\n",
       "      <td>0.46</td>\n",
       "      <td>1</td>\n",
       "    </tr>\n",
       "    <tr>\n",
       "      <th>12</th>\n",
       "      <td>Michelob_Light</td>\n",
       "      <td>135</td>\n",
       "      <td>11</td>\n",
       "      <td>4.2</td>\n",
       "      <td>0.50</td>\n",
       "      <td>1</td>\n",
       "    </tr>\n",
       "    <tr>\n",
       "      <th>15</th>\n",
       "      <td>Pabst_Extra_Light</td>\n",
       "      <td>68</td>\n",
       "      <td>15</td>\n",
       "      <td>2.3</td>\n",
       "      <td>0.38</td>\n",
       "      <td>1</td>\n",
       "    </tr>\n",
       "    <tr>\n",
       "      <th>18</th>\n",
       "      <td>Olympia_Goled_Light</td>\n",
       "      <td>72</td>\n",
       "      <td>6</td>\n",
       "      <td>2.9</td>\n",
       "      <td>0.46</td>\n",
       "      <td>1</td>\n",
       "    </tr>\n",
       "    <tr>\n",
       "      <th>19</th>\n",
       "      <td>Schlitz_Light</td>\n",
       "      <td>97</td>\n",
       "      <td>7</td>\n",
       "      <td>4.2</td>\n",
       "      <td>0.47</td>\n",
       "      <td>1</td>\n",
       "    </tr>\n",
       "  </tbody>\n",
       "</table>\n",
       "</div>"
      ],
      "text/plain": [
       "                   name  calories  sodium  alcohol  cost  clusterID\n",
       "2             Lowenbrau       157      15      0.9  0.48          1\n",
       "8           Miller_Lite        99      10      4.3  0.43          1\n",
       "9       Budweiser_Light       113       8      3.7  0.40          1\n",
       "11          Coors_Light       102      15      4.1  0.46          1\n",
       "12       Michelob_Light       135      11      4.2  0.50          1\n",
       "15    Pabst_Extra_Light        68      15      2.3  0.38          1\n",
       "18  Olympia_Goled_Light        72       6      2.9  0.46          1\n",
       "19        Schlitz_Light        97       7      4.2  0.47          1"
      ]
     },
     "execution_count": 86,
     "metadata": {},
     "output_type": "execute_result"
    }
   ],
   "source": [
    "beer_df[beer_df.clusterID == 1]"
   ]
  },
  {
   "cell_type": "markdown",
   "id": "01acdff1-43bb-4ecd-82ad-9fdbe18886b2",
   "metadata": {},
   "source": [
    "#### **In cluster 1, all light beers with low calories and sodium content are clustered into one group. This must be addressing the customers who wants to drink but are also calorie consious.**"
   ]
  },
  {
   "cell_type": "markdown",
   "id": "90024013-2a73-40f5-859a-95098c6c3345",
   "metadata": {},
   "source": [
    "#### **Cluster 2:**"
   ]
  },
  {
   "cell_type": "code",
   "execution_count": 87,
   "id": "13db7e6c-0fbf-4b95-9764-0c6af02d041d",
   "metadata": {},
   "outputs": [
    {
     "data": {
      "text/html": [
       "<div>\n",
       "<style scoped>\n",
       "    .dataframe tbody tr th:only-of-type {\n",
       "        vertical-align: middle;\n",
       "    }\n",
       "\n",
       "    .dataframe tbody tr th {\n",
       "        vertical-align: top;\n",
       "    }\n",
       "\n",
       "    .dataframe thead th {\n",
       "        text-align: right;\n",
       "    }\n",
       "</style>\n",
       "<table border=\"1\" class=\"dataframe\">\n",
       "  <thead>\n",
       "    <tr style=\"text-align: right;\">\n",
       "      <th></th>\n",
       "      <th>name</th>\n",
       "      <th>calories</th>\n",
       "      <th>sodium</th>\n",
       "      <th>alcohol</th>\n",
       "      <th>cost</th>\n",
       "      <th>clusterID</th>\n",
       "    </tr>\n",
       "  </thead>\n",
       "  <tbody>\n",
       "    <tr>\n",
       "      <th>3</th>\n",
       "      <td>Kronenbourg</td>\n",
       "      <td>170</td>\n",
       "      <td>7</td>\n",
       "      <td>5.2</td>\n",
       "      <td>0.73</td>\n",
       "      <td>2</td>\n",
       "    </tr>\n",
       "    <tr>\n",
       "      <th>4</th>\n",
       "      <td>Heineken</td>\n",
       "      <td>152</td>\n",
       "      <td>11</td>\n",
       "      <td>5.0</td>\n",
       "      <td>0.77</td>\n",
       "      <td>2</td>\n",
       "    </tr>\n",
       "    <tr>\n",
       "      <th>13</th>\n",
       "      <td>Becks</td>\n",
       "      <td>150</td>\n",
       "      <td>19</td>\n",
       "      <td>4.7</td>\n",
       "      <td>0.76</td>\n",
       "      <td>2</td>\n",
       "    </tr>\n",
       "    <tr>\n",
       "      <th>14</th>\n",
       "      <td>Kirin</td>\n",
       "      <td>149</td>\n",
       "      <td>6</td>\n",
       "      <td>5.0</td>\n",
       "      <td>0.79</td>\n",
       "      <td>2</td>\n",
       "    </tr>\n",
       "  </tbody>\n",
       "</table>\n",
       "</div>"
      ],
      "text/plain": [
       "           name  calories  sodium  alcohol  cost  clusterID\n",
       "3   Kronenbourg       170       7      5.2  0.73          2\n",
       "4      Heineken       152      11      5.0  0.77          2\n",
       "13        Becks       150      19      4.7  0.76          2\n",
       "14        Kirin       149       6      5.0  0.79          2"
      ]
     },
     "execution_count": 87,
     "metadata": {},
     "output_type": "execute_result"
    }
   ],
   "source": [
    "beer_df[beer_df.clusterID == 2]"
   ]
  },
  {
   "cell_type": "markdown",
   "id": "b1484b81-5de0-4c9d-814d-2cd14ccd86ea",
   "metadata": {},
   "source": [
    "#### **These are expensive beers with relatively high alcohol content. Also the sodium content is low. The costs are high because the target customers could be brand sensitive and the brands are promoted as Premium Brands.**"
   ]
  },
  {
   "cell_type": "markdown",
   "id": "b6b2c5fe-e49d-4568-abea-8c88a823947f",
   "metadata": {},
   "source": [
    "# **HIERARCHIAL CLUSTERING**\n",
    "Hierarchical clustering is a clustering algorithm which uses the following steps to develop clusters:  \n",
    "   1. Start with each data point in a single cluster.  \n",
    "   2. Find the data points with the shortest distance (using an appropriate distance measure) and  merge them to form a cluster.  \n",
    "   3. Repeat step 2 until all data points are merged together to form a single cluster.\n",
    "   \n",
    "The above procedure is called an ***agglomerative hierarchical cluster.***<br> \n",
    "\n",
    "2 types of Hierarchial clustering - \n",
    " - Agglomerative(Bottom-Up)\n",
    " - Divisive(Top-Down)\n",
    " \n",
    "Link: https://youtu.be/ijUMKMC4f9I\n",
    "\n",
    "\n",
    "*AgglomerativeClustering* in *sklearn.cluster* provides an algorithm for hierarchical clustering and also takes the number of clusters to be created as an argument."
   ]
  },
  {
   "cell_type": "code",
   "execution_count": 88,
   "id": "676018b9-e05f-4e12-8c99-865c697413f6",
   "metadata": {},
   "outputs": [],
   "source": [
    "from sklearn.cluster import AgglomerativeClustering"
   ]
  },
  {
   "cell_type": "code",
   "execution_count": 89,
   "id": "4654a4d8-effb-427c-8535-eb9fee180d8f",
   "metadata": {},
   "outputs": [],
   "source": [
    "h_clusters = AgglomerativeClustering(3)\n",
    "h_clusters.fit(scaled_beer_df)\n",
    "beer_df['h_clusterID'] = h_clusters.labels_"
   ]
  },
  {
   "cell_type": "code",
   "execution_count": 90,
   "id": "ce5ce2e2-fb7d-47da-8024-523b57ba53d0",
   "metadata": {},
   "outputs": [
    {
     "data": {
      "text/html": [
       "<div>\n",
       "<style scoped>\n",
       "    .dataframe tbody tr th:only-of-type {\n",
       "        vertical-align: middle;\n",
       "    }\n",
       "\n",
       "    .dataframe tbody tr th {\n",
       "        vertical-align: top;\n",
       "    }\n",
       "\n",
       "    .dataframe thead th {\n",
       "        text-align: right;\n",
       "    }\n",
       "</style>\n",
       "<table border=\"1\" class=\"dataframe\">\n",
       "  <thead>\n",
       "    <tr style=\"text-align: right;\">\n",
       "      <th></th>\n",
       "      <th>name</th>\n",
       "      <th>calories</th>\n",
       "      <th>sodium</th>\n",
       "      <th>alcohol</th>\n",
       "      <th>cost</th>\n",
       "      <th>clusterID</th>\n",
       "      <th>h_clusterID</th>\n",
       "    </tr>\n",
       "  </thead>\n",
       "  <tbody>\n",
       "    <tr>\n",
       "      <th>2</th>\n",
       "      <td>Lowenbrau</td>\n",
       "      <td>157</td>\n",
       "      <td>15</td>\n",
       "      <td>0.9</td>\n",
       "      <td>0.48</td>\n",
       "      <td>1</td>\n",
       "      <td>0</td>\n",
       "    </tr>\n",
       "    <tr>\n",
       "      <th>8</th>\n",
       "      <td>Miller_Lite</td>\n",
       "      <td>99</td>\n",
       "      <td>10</td>\n",
       "      <td>4.3</td>\n",
       "      <td>0.43</td>\n",
       "      <td>1</td>\n",
       "      <td>0</td>\n",
       "    </tr>\n",
       "    <tr>\n",
       "      <th>9</th>\n",
       "      <td>Budweiser_Light</td>\n",
       "      <td>113</td>\n",
       "      <td>8</td>\n",
       "      <td>3.7</td>\n",
       "      <td>0.40</td>\n",
       "      <td>1</td>\n",
       "      <td>0</td>\n",
       "    </tr>\n",
       "    <tr>\n",
       "      <th>11</th>\n",
       "      <td>Coors_Light</td>\n",
       "      <td>102</td>\n",
       "      <td>15</td>\n",
       "      <td>4.1</td>\n",
       "      <td>0.46</td>\n",
       "      <td>1</td>\n",
       "      <td>0</td>\n",
       "    </tr>\n",
       "    <tr>\n",
       "      <th>12</th>\n",
       "      <td>Michelob_Light</td>\n",
       "      <td>135</td>\n",
       "      <td>11</td>\n",
       "      <td>4.2</td>\n",
       "      <td>0.50</td>\n",
       "      <td>1</td>\n",
       "      <td>0</td>\n",
       "    </tr>\n",
       "    <tr>\n",
       "      <th>15</th>\n",
       "      <td>Pabst_Extra_Light</td>\n",
       "      <td>68</td>\n",
       "      <td>15</td>\n",
       "      <td>2.3</td>\n",
       "      <td>0.38</td>\n",
       "      <td>1</td>\n",
       "      <td>0</td>\n",
       "    </tr>\n",
       "    <tr>\n",
       "      <th>18</th>\n",
       "      <td>Olympia_Goled_Light</td>\n",
       "      <td>72</td>\n",
       "      <td>6</td>\n",
       "      <td>2.9</td>\n",
       "      <td>0.46</td>\n",
       "      <td>1</td>\n",
       "      <td>0</td>\n",
       "    </tr>\n",
       "    <tr>\n",
       "      <th>19</th>\n",
       "      <td>Schlitz_Light</td>\n",
       "      <td>97</td>\n",
       "      <td>7</td>\n",
       "      <td>4.2</td>\n",
       "      <td>0.47</td>\n",
       "      <td>1</td>\n",
       "      <td>0</td>\n",
       "    </tr>\n",
       "  </tbody>\n",
       "</table>\n",
       "</div>"
      ],
      "text/plain": [
       "                   name  calories  sodium  alcohol  cost  clusterID  \\\n",
       "2             Lowenbrau       157      15      0.9  0.48          1   \n",
       "8           Miller_Lite        99      10      4.3  0.43          1   \n",
       "9       Budweiser_Light       113       8      3.7  0.40          1   \n",
       "11          Coors_Light       102      15      4.1  0.46          1   \n",
       "12       Michelob_Light       135      11      4.2  0.50          1   \n",
       "15    Pabst_Extra_Light        68      15      2.3  0.38          1   \n",
       "18  Olympia_Goled_Light        72       6      2.9  0.46          1   \n",
       "19        Schlitz_Light        97       7      4.2  0.47          1   \n",
       "\n",
       "    h_clusterID  \n",
       "2             0  \n",
       "8             0  \n",
       "9             0  \n",
       "11            0  \n",
       "12            0  \n",
       "15            0  \n",
       "18            0  \n",
       "19            0  "
      ]
     },
     "execution_count": 90,
     "metadata": {},
     "output_type": "execute_result"
    }
   ],
   "source": [
    "beer_df[beer_df.h_clusterID == 0]"
   ]
  },
  {
   "cell_type": "code",
   "execution_count": 91,
   "id": "0a144874-0057-4b06-8c89-e90134132be0",
   "metadata": {},
   "outputs": [
    {
     "data": {
      "text/html": [
       "<div>\n",
       "<style scoped>\n",
       "    .dataframe tbody tr th:only-of-type {\n",
       "        vertical-align: middle;\n",
       "    }\n",
       "\n",
       "    .dataframe tbody tr th {\n",
       "        vertical-align: top;\n",
       "    }\n",
       "\n",
       "    .dataframe thead th {\n",
       "        text-align: right;\n",
       "    }\n",
       "</style>\n",
       "<table border=\"1\" class=\"dataframe\">\n",
       "  <thead>\n",
       "    <tr style=\"text-align: right;\">\n",
       "      <th></th>\n",
       "      <th>name</th>\n",
       "      <th>calories</th>\n",
       "      <th>sodium</th>\n",
       "      <th>alcohol</th>\n",
       "      <th>cost</th>\n",
       "      <th>clusterID</th>\n",
       "      <th>h_clusterID</th>\n",
       "    </tr>\n",
       "  </thead>\n",
       "  <tbody>\n",
       "    <tr>\n",
       "      <th>0</th>\n",
       "      <td>Budweiser</td>\n",
       "      <td>144</td>\n",
       "      <td>15</td>\n",
       "      <td>4.7</td>\n",
       "      <td>0.43</td>\n",
       "      <td>0</td>\n",
       "      <td>1</td>\n",
       "    </tr>\n",
       "    <tr>\n",
       "      <th>1</th>\n",
       "      <td>Schlitz</td>\n",
       "      <td>151</td>\n",
       "      <td>19</td>\n",
       "      <td>4.9</td>\n",
       "      <td>0.43</td>\n",
       "      <td>0</td>\n",
       "      <td>1</td>\n",
       "    </tr>\n",
       "    <tr>\n",
       "      <th>5</th>\n",
       "      <td>Old_Milwaukee</td>\n",
       "      <td>145</td>\n",
       "      <td>23</td>\n",
       "      <td>4.6</td>\n",
       "      <td>0.28</td>\n",
       "      <td>0</td>\n",
       "      <td>1</td>\n",
       "    </tr>\n",
       "    <tr>\n",
       "      <th>6</th>\n",
       "      <td>Augsberger</td>\n",
       "      <td>175</td>\n",
       "      <td>24</td>\n",
       "      <td>5.5</td>\n",
       "      <td>0.40</td>\n",
       "      <td>0</td>\n",
       "      <td>1</td>\n",
       "    </tr>\n",
       "    <tr>\n",
       "      <th>7</th>\n",
       "      <td>Srohs_Bohemian_Style</td>\n",
       "      <td>149</td>\n",
       "      <td>27</td>\n",
       "      <td>4.7</td>\n",
       "      <td>0.42</td>\n",
       "      <td>0</td>\n",
       "      <td>1</td>\n",
       "    </tr>\n",
       "    <tr>\n",
       "      <th>10</th>\n",
       "      <td>Coors</td>\n",
       "      <td>140</td>\n",
       "      <td>18</td>\n",
       "      <td>4.6</td>\n",
       "      <td>0.44</td>\n",
       "      <td>0</td>\n",
       "      <td>1</td>\n",
       "    </tr>\n",
       "    <tr>\n",
       "      <th>16</th>\n",
       "      <td>Hamms</td>\n",
       "      <td>139</td>\n",
       "      <td>19</td>\n",
       "      <td>4.4</td>\n",
       "      <td>0.43</td>\n",
       "      <td>0</td>\n",
       "      <td>1</td>\n",
       "    </tr>\n",
       "    <tr>\n",
       "      <th>17</th>\n",
       "      <td>Heilemans_Old_Style</td>\n",
       "      <td>144</td>\n",
       "      <td>24</td>\n",
       "      <td>4.9</td>\n",
       "      <td>0.43</td>\n",
       "      <td>0</td>\n",
       "      <td>1</td>\n",
       "    </tr>\n",
       "  </tbody>\n",
       "</table>\n",
       "</div>"
      ],
      "text/plain": [
       "                    name  calories  sodium  alcohol  cost  clusterID  \\\n",
       "0              Budweiser       144      15      4.7  0.43          0   \n",
       "1                Schlitz       151      19      4.9  0.43          0   \n",
       "5          Old_Milwaukee       145      23      4.6  0.28          0   \n",
       "6             Augsberger       175      24      5.5  0.40          0   \n",
       "7   Srohs_Bohemian_Style       149      27      4.7  0.42          0   \n",
       "10                 Coors       140      18      4.6  0.44          0   \n",
       "16                 Hamms       139      19      4.4  0.43          0   \n",
       "17   Heilemans_Old_Style       144      24      4.9  0.43          0   \n",
       "\n",
       "    h_clusterID  \n",
       "0             1  \n",
       "1             1  \n",
       "5             1  \n",
       "6             1  \n",
       "7             1  \n",
       "10            1  \n",
       "16            1  \n",
       "17            1  "
      ]
     },
     "execution_count": 91,
     "metadata": {},
     "output_type": "execute_result"
    }
   ],
   "source": [
    "beer_df[beer_df.h_clusterID == 1]"
   ]
  },
  {
   "cell_type": "code",
   "execution_count": 92,
   "id": "f0e588c2-547d-438e-a2a5-e2acff53577d",
   "metadata": {},
   "outputs": [
    {
     "data": {
      "text/html": [
       "<div>\n",
       "<style scoped>\n",
       "    .dataframe tbody tr th:only-of-type {\n",
       "        vertical-align: middle;\n",
       "    }\n",
       "\n",
       "    .dataframe tbody tr th {\n",
       "        vertical-align: top;\n",
       "    }\n",
       "\n",
       "    .dataframe thead th {\n",
       "        text-align: right;\n",
       "    }\n",
       "</style>\n",
       "<table border=\"1\" class=\"dataframe\">\n",
       "  <thead>\n",
       "    <tr style=\"text-align: right;\">\n",
       "      <th></th>\n",
       "      <th>name</th>\n",
       "      <th>calories</th>\n",
       "      <th>sodium</th>\n",
       "      <th>alcohol</th>\n",
       "      <th>cost</th>\n",
       "      <th>clusterID</th>\n",
       "      <th>h_clusterID</th>\n",
       "    </tr>\n",
       "  </thead>\n",
       "  <tbody>\n",
       "    <tr>\n",
       "      <th>3</th>\n",
       "      <td>Kronenbourg</td>\n",
       "      <td>170</td>\n",
       "      <td>7</td>\n",
       "      <td>5.2</td>\n",
       "      <td>0.73</td>\n",
       "      <td>2</td>\n",
       "      <td>2</td>\n",
       "    </tr>\n",
       "    <tr>\n",
       "      <th>4</th>\n",
       "      <td>Heineken</td>\n",
       "      <td>152</td>\n",
       "      <td>11</td>\n",
       "      <td>5.0</td>\n",
       "      <td>0.77</td>\n",
       "      <td>2</td>\n",
       "      <td>2</td>\n",
       "    </tr>\n",
       "    <tr>\n",
       "      <th>13</th>\n",
       "      <td>Becks</td>\n",
       "      <td>150</td>\n",
       "      <td>19</td>\n",
       "      <td>4.7</td>\n",
       "      <td>0.76</td>\n",
       "      <td>2</td>\n",
       "      <td>2</td>\n",
       "    </tr>\n",
       "    <tr>\n",
       "      <th>14</th>\n",
       "      <td>Kirin</td>\n",
       "      <td>149</td>\n",
       "      <td>6</td>\n",
       "      <td>5.0</td>\n",
       "      <td>0.79</td>\n",
       "      <td>2</td>\n",
       "      <td>2</td>\n",
       "    </tr>\n",
       "  </tbody>\n",
       "</table>\n",
       "</div>"
      ],
      "text/plain": [
       "           name  calories  sodium  alcohol  cost  clusterID  h_clusterID\n",
       "3   Kronenbourg       170       7      5.2  0.73          2            2\n",
       "4      Heineken       152      11      5.0  0.77          2            2\n",
       "13        Becks       150      19      4.7  0.76          2            2\n",
       "14        Kirin       149       6      5.0  0.79          2            2"
      ]
     },
     "execution_count": 92,
     "metadata": {},
     "output_type": "execute_result"
    }
   ],
   "source": [
    "beer_df[beer_df.h_clusterID == 2]"
   ]
  },
  {
   "cell_type": "markdown",
   "id": "1b73c576-0380-45dd-b142-729224ff3216",
   "metadata": {},
   "source": [
    "#### **Both Clustering Algorithms(KMeans & Hierarchial) have created similar clusters. Only cluster ids have changed.**"
   ]
  },
  {
   "cell_type": "markdown",
   "id": "bdb6af8a-2621-4c9c-be1e-568eafbf1b68",
   "metadata": {},
   "source": [
    "## **Conclusion:**\n",
    "1. ***Clustering is an unsupervised learning algorithm that divides the dataset into mutually exclusive and exhaustive subsets (in non-overlapping clusters) that are homogeneous within the group and  heterogeneous between the groups.***\n",
    "\n",
    "2. ***Several distance and similarity measures such as Euclidian distance, Cosine similarity are used in clustering algorithms. Similarity coefficients such as Jaccard coefficient are used for qualitative data,  whereas Gower’s similarity is used for mixed data i.e. numerical and categorical data.***  \n",
    "\n",
    "3. ***K-means clustering and hierarchical clustering are two popular techniques used for clustering.***  \n",
    "\n",
    "4. ***One of the decisions to be taken during clustering is to decide on the number of clusters. Usually,  this is carried out using elbow curve. The cluster number at which the elbow (bend) occurs in the  elbow curve is the optimal number of clusters.***"
   ]
  }
 ],
 "metadata": {
  "kernelspec": {
   "display_name": "Python 3 (ipykernel)",
   "language": "python",
   "name": "python3"
  },
  "language_info": {
   "codemirror_mode": {
    "name": "ipython",
    "version": 3
   },
   "file_extension": ".py",
   "mimetype": "text/x-python",
   "name": "python",
   "nbconvert_exporter": "python",
   "pygments_lexer": "ipython3",
   "version": "3.9.7"
  },
  "widgets": {
   "application/vnd.jupyter.widget-state+json": {
    "state": {},
    "version_major": 2,
    "version_minor": 0
   }
  }
 },
 "nbformat": 4,
 "nbformat_minor": 5
}
