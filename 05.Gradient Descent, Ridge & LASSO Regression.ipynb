{
 "cells": [
  {
   "cell_type": "markdown",
   "id": "412ae11e-460f-4f8b-be59-192bfb81bbdc",
   "metadata": {},
   "source": [
    "#### ***Reference: Pradhan, Manaranjan; U Dinesh Kumar. Machine Learning using Python. Kindle Edition.*** "
   ]
  },
  {
   "cell_type": "markdown",
   "id": "cee25323-91c5-4798-89c3-1f2583553168",
   "metadata": {},
   "source": [
    "### **How Machine Learns?**\n",
    "In supervised learning, the algorithm learns using a function called loss function, cost function or error  function, which is a function of predicted output and the desired output.<br>\n",
    "If $h(X_i)$ is predicted o/p & $y_i$ is desired o/p then loss function is given by sum squared error(SSE). SSE is the loss func. for a reggression model.\n",
    "$$L = \\frac{1}{n}\\sum_{i=1}^{n}[h(X_i) - y_i]^2$$\n",
    "***The objective is  to learn the values of parameters (aka feature weights) that minimize the cost function.*** Machine learning uses optimization algorithms which can be used for minimizing the loss function. Most widely used  optimization technique is called the **Gradient Descent.** "
   ]
  },
  {
   "cell_type": "markdown",
   "id": "60fea718-4120-4fdc-a769-cd91e66c8572",
   "metadata": {
    "tags": []
   },
   "source": [
    "### ***1. Gradient Descent Algorithm***\n",
    "\n",
    "- Mathematically SLR is given by, $$Y_i = \\beta_o + \\beta_1X_i + \\epsilon_i$$\n",
    "where $\\beta_o$ is called **bias or intercept**, $\\beta_1$ is the **feature weight or regg. coeff.**, $\\epsilon_i$ is the **error** in the prediction.\n",
    "\n",
    "- The predicted value of $Y_i$ is given by $$\\hat{Y_i} = \\hat{\\beta_o} + \\hat{\\beta_1}X_i$$ where $\\hat{\\beta_o}$ and $\\hat{\\beta_1}$ are estimated values of $\\beta_o \\text{and} \\beta_1$.\n",
    "\n",
    "- The error is given by $\\epsilon_i = Y_i - \\hat{Y_i}$ <br>And the cost function is the mean squared error(MSE) across all N records. $$MSE = \\epsilon_{mse} = \\frac{1}{N}\\sum_{i=1}^{N}(Y_i - \\hat{\\beta_o} - \\hat{\\beta_1}X_i)^2$$\n",
    "\n",
    "- Gradient descent finds the optimal values of $\\beta_o$ and$\\beta_1$ that minimize the loss function using the  following steps:  \n",
    "  1. Randomly guess the initial values of $\\beta_o$ (bias or intercept) and $\\beta_1$ (feature weight).   \n",
    "  2. Calculate the estimated value of the outcome variable $Y_i$ for initialized values of bias and weights.  \n",
    "  3. Calculate the mean square error function (MSE).  \n",
    "  4. Adjust the $\\beta_o$ and$\\beta_1$ values by calculating the gradients of the error function. $$\\beta_0 = \\beta_0 - \\alpha\\frac{\\partial{\\epsilon_{mse}}}{\\partial{\\beta_0}}$$ <br> $$\\beta_1 = \\beta_1 - \\alpha\\frac{\\partial{\\epsilon_{mse}}}{\\partial{\\beta_1}}$$ <br> where $\\alpha$ is the learning rate (a hyperparameter). The value of $\\alpha$ is chosen based on the magnitude  of update needed to be applied to the bias and weights at each iteration.<br> The partials are given by $$\\frac{\\partial{\\epsilon_{mse}}}{\\partial{\\beta_0}} = -\\frac{2}{N}\\sum_{i=1}^{N}(Y_i - \\hat{Y_i})$$<br> $$\\frac{\\partial{\\epsilon_{mse}}}{\\partial{\\beta_1}} = -\\frac{2}{N}\\sum_{i=1}^{N}(Y_i - \\hat{Y_i})\\times X_i$$\n",
    "  5. Repeat the above steps 1 to 4 until the error stops reducing furthur or the change in cost is infinitesimally small.\n",
    "  \n",
    "Thus we get the optimal values of $\\beta_o$ and$\\beta_1$"
   ]
  },
  {
   "cell_type": "markdown",
   "id": "809d7c53-0fcc-4ee1-a0d9-be5429269d30",
   "metadata": {},
   "source": [
    "### ***1.1 Developing a GD Algo. for Linear Regg. Model***\n",
    "\n",
    "We use the advertising dataset. The dataset has the following elements:  \n",
    "   1. TV – Spend on TV advertisements  \n",
    "   2. Radio – Spend on radio advertisements  \n",
    "   3. Newspaper – Spend on newspaper advertisements  \n",
    "   4. Sales – Sales revenue generated"
   ]
  },
  {
   "cell_type": "code",
   "execution_count": 1,
   "id": "e8232657-1e00-44cc-9087-13945d4cc1a7",
   "metadata": {},
   "outputs": [],
   "source": [
    "import pandas as pd\n",
    "import numpy as np\n",
    "import matplotlib.pyplot as plt\n",
    "import seaborn as sns\n",
    "import os\n",
    "\n",
    "import warnings\n",
    "warnings.filterwarnings(\"ignore\")\n",
    "\n",
    "%matplotlib inline\n",
    "pd.pandas.set_option(\"display.max_columns\", None)"
   ]
  },
  {
   "cell_type": "code",
   "execution_count": 2,
   "id": "e0794813-7522-4903-9eb8-71132999d1b6",
   "metadata": {},
   "outputs": [
    {
     "data": {
      "text/html": [
       "<div>\n",
       "<style scoped>\n",
       "    .dataframe tbody tr th:only-of-type {\n",
       "        vertical-align: middle;\n",
       "    }\n",
       "\n",
       "    .dataframe tbody tr th {\n",
       "        vertical-align: top;\n",
       "    }\n",
       "\n",
       "    .dataframe thead th {\n",
       "        text-align: right;\n",
       "    }\n",
       "</style>\n",
       "<table border=\"1\" class=\"dataframe\">\n",
       "  <thead>\n",
       "    <tr style=\"text-align: right;\">\n",
       "      <th></th>\n",
       "      <th>Unnamed: 0</th>\n",
       "      <th>TV</th>\n",
       "      <th>Radio</th>\n",
       "      <th>Newspaper</th>\n",
       "      <th>Sales</th>\n",
       "    </tr>\n",
       "  </thead>\n",
       "  <tbody>\n",
       "    <tr>\n",
       "      <th>0</th>\n",
       "      <td>1</td>\n",
       "      <td>230.1</td>\n",
       "      <td>37.8</td>\n",
       "      <td>69.2</td>\n",
       "      <td>22.1</td>\n",
       "    </tr>\n",
       "    <tr>\n",
       "      <th>1</th>\n",
       "      <td>2</td>\n",
       "      <td>44.5</td>\n",
       "      <td>39.3</td>\n",
       "      <td>45.1</td>\n",
       "      <td>10.4</td>\n",
       "    </tr>\n",
       "    <tr>\n",
       "      <th>2</th>\n",
       "      <td>3</td>\n",
       "      <td>17.2</td>\n",
       "      <td>45.9</td>\n",
       "      <td>69.3</td>\n",
       "      <td>9.3</td>\n",
       "    </tr>\n",
       "    <tr>\n",
       "      <th>3</th>\n",
       "      <td>4</td>\n",
       "      <td>151.5</td>\n",
       "      <td>41.3</td>\n",
       "      <td>58.5</td>\n",
       "      <td>18.5</td>\n",
       "    </tr>\n",
       "    <tr>\n",
       "      <th>4</th>\n",
       "      <td>5</td>\n",
       "      <td>180.8</td>\n",
       "      <td>10.8</td>\n",
       "      <td>58.4</td>\n",
       "      <td>12.9</td>\n",
       "    </tr>\n",
       "  </tbody>\n",
       "</table>\n",
       "</div>"
      ],
      "text/plain": [
       "   Unnamed: 0     TV  Radio  Newspaper  Sales\n",
       "0           1  230.1   37.8       69.2   22.1\n",
       "1           2   44.5   39.3       45.1   10.4\n",
       "2           3   17.2   45.9       69.3    9.3\n",
       "3           4  151.5   41.3       58.5   18.5\n",
       "4           5  180.8   10.8       58.4   12.9"
      ]
     },
     "execution_count": 2,
     "metadata": {},
     "output_type": "execute_result"
    }
   ],
   "source": [
    "sales_df = pd.read_csv(os.getcwd()+\"/Data/Advertising.csv\")\n",
    "sales_df.head()"
   ]
  },
  {
   "cell_type": "code",
   "execution_count": 3,
   "id": "e31c3f9d-0d08-4e4d-8338-9a296432d905",
   "metadata": {},
   "outputs": [],
   "source": [
    "# Set X & Y\n",
    "X = sales_df[['TV', 'Radio', 'Newspaper']]\n",
    "Y = sales_df['Sales']"
   ]
  },
  {
   "cell_type": "code",
   "execution_count": 4,
   "id": "2c896597-96e0-40c8-bf9a-b1dce23e5da6",
   "metadata": {},
   "outputs": [],
   "source": [
    "# Standardize X and Y, to convert all variavles to one scale\n",
    "Y = np.array((Y - Y.mean())/Y.std())\n",
    "\n",
    "X = X.apply(lambda rec: (rec - rec.mean())/rec.std(), axis = 0)"
   ]
  },
  {
   "cell_type": "markdown",
   "id": "87f6a62b-1ffc-4841-9a5e-c25d25fa1c5a",
   "metadata": {},
   "source": [
    "### ***Implementing the GD Algo.***\n",
    "Steps as explained above are:\n",
    "- **Step 1**: *Method to randomly initialize the bias and weights.*  \n",
    "- **Step 2**: *Method to calculate the predicted value of Y ,i.e, Y given the bias and weights.* \n",
    "- **Step 3**: *Method to calculate the cost function from predicted and actual values of Y.*\n",
    "- **Step 4**: *Method to calculate the gradients and adjust the bias and weights.* "
   ]
  },
  {
   "cell_type": "markdown",
   "id": "e75f9409-27e6-4917-9aa6-fc2112a71542",
   "metadata": {},
   "source": [
    "#### **Step 1: Method to randomly initialize the bias and weights**"
   ]
  },
  {
   "cell_type": "code",
   "execution_count": 5,
   "id": "7a5e8335-1ba4-48b6-b0c0-4db870f89593",
   "metadata": {},
   "outputs": [],
   "source": [
    "import random\n",
    "\n",
    "# dim - # of weights required to be initialized besides the bias \n",
    "def initialize(dim):\n",
    "    np.random.seed(seed=42)\n",
    "    random.seed(42)\n",
    "    # Initialize the bias\n",
    "    b = random.random()\n",
    "    # Initialize the weights\n",
    "    w = np.random.rand(dim)\n",
    "    \n",
    "    return b, w"
   ]
  },
  {
   "cell_type": "code",
   "execution_count": 6,
   "id": "3d9215fa-3d5c-41b6-83c5-2bdd3b27adf4",
   "metadata": {},
   "outputs": [
    {
     "name": "stdout",
     "output_type": "stream",
     "text": [
      "Bias: 0.6394267984578837 Weights: [0.37454012 0.95071431 0.73199394]\n"
     ]
    }
   ],
   "source": [
    "# we have 3 i/p variables thus dim = 3\n",
    "b,w = initialize(3)\n",
    "print(\"Bias:\",b, \"Weights:\", w)"
   ]
  },
  {
   "cell_type": "markdown",
   "id": "06615591-751b-494f-8ec7-dfbe8cf2701c",
   "metadata": {},
   "source": [
    "#### **Step 2: Predict the Y values from the bias and weights.**\n",
    " $Y = b + Xw$"
   ]
  },
  {
   "cell_type": "code",
   "execution_count": 7,
   "id": "303b4d69-d32b-45d2-a023-3df1c3f4c06d",
   "metadata": {},
   "outputs": [],
   "source": [
    "def predict_Y(b, w, X):\n",
    "    return b + np.matmul(X, w) # matmul - matrix multiplication"
   ]
  },
  {
   "cell_type": "code",
   "execution_count": 8,
   "id": "23cb084a-a806-4030-9453-5b9fc755b533",
   "metadata": {},
   "outputs": [
    {
     "data": {
      "text/plain": [
       "0    3.231496\n",
       "1    1.707849\n",
       "2    2.824761\n",
       "3    2.753090\n",
       "4    0.924486\n",
       "dtype: float64"
      ]
     },
     "execution_count": 8,
     "metadata": {},
     "output_type": "execute_result"
    }
   ],
   "source": [
    "b,w = initialize(3)\n",
    "Y_hat = predict_Y(b, w, X)\n",
    "Y_hat[0:5]"
   ]
  },
  {
   "cell_type": "markdown",
   "id": "4aad9f25-0710-4490-be40-e50b793c95ab",
   "metadata": {},
   "source": [
    "#### **Step 3: Calculate the Cost Function - MSE**"
   ]
  },
  {
   "cell_type": "code",
   "execution_count": 9,
   "id": "79a8ef00-1f8f-4fea-ac13-50f16cc66c09",
   "metadata": {},
   "outputs": [],
   "source": [
    "import math\n",
    "\n",
    "# Y - actual values of y\n",
    "# Y_hat - predicted value of y\n",
    "def get_cost(Y, Y_hat):\n",
    "    Y_resid = Y - Y_hat # error or residuals\n",
    "    # MAtrix multiplication with the self will give squared values and then we calculate it's mean\n",
    "    return np.sum(np.matmul(Y_resid.T, Y_resid))/len(Y_resid)"
   ]
  },
  {
   "cell_type": "code",
   "execution_count": 10,
   "id": "08329490-6a78-4e47-abed-84656f7a06ba",
   "metadata": {},
   "outputs": [
    {
     "data": {
      "text/plain": [
       "1.5303100198505895"
      ]
     },
     "execution_count": 10,
     "metadata": {},
     "output_type": "execute_result"
    }
   ],
   "source": [
    "b,w = initialize(3)\n",
    "Y_hat = predict_Y(b, w, X)\n",
    "get_cost(Y, Y_hat)"
   ]
  },
  {
   "cell_type": "markdown",
   "id": "a84d81e2-80c2-4894-b676-8e7c917e4c78",
   "metadata": {},
   "source": [
    "#### **Step 4: Update the Bias and Weight**\n",
    "Given by\n",
    "$$\\beta_0 = \\beta_0 - \\alpha\\frac{\\partial{\\epsilon_{mse}}}{\\partial{\\beta_0}}$$ <br> $$\\beta_1 = \\beta_1 - \\alpha\\frac{\\partial{\\epsilon_{mse}}}{\\partial{\\beta_1}}$$ <br> where $\\alpha$ is the learning rate (a hyperparameter). The value of $\\alpha$ is chosen based on the magnitude  of update needed to be applied to the bias and weights at each iteration.\n",
    "<br>The partials are given by $$\\frac{\\partial{\\epsilon_{mse}}}{\\partial{\\beta_0}} = -\\frac{2}{N}\\sum_{i=1}^{N}(Y_i - \\hat{Y_i})$$<br> $$\\frac{\\partial{\\epsilon_{mse}}}{\\partial{\\beta_1}} = -\\frac{2}{N}\\sum_{i=1}^{N}(Y_i - \\hat{Y_i})\\times X_i$$\n",
    "\n",
    "We will make func *update_beta()* for this.<br>\n",
    "The parameters passed to the function are:  \n",
    "1. x, y: the input and output variables  \n",
    "2. y_hat: predicted value with current bias and weights  \n",
    "3. b_0, w_0: current bias and weights  \n",
    "4. learning rate$(\\alpha)$: learning rate to adjust the update step "
   ]
  },
  {
   "cell_type": "code",
   "execution_count": 11,
   "id": "97e1cc74-bf66-4325-973d-cc77bfe0f2ba",
   "metadata": {},
   "outputs": [],
   "source": [
    "def update_beta(x, y, y_hat, b_0, w_0, learning_rate):\n",
    "    # gradient of bias\n",
    "    db = (np.sum(y_hat - y)*2)/len(y)\n",
    "    # gradient of weights\n",
    "    dw = (np.dot((y_hat - y), x) *2)/len(y)\n",
    "    # update bias\n",
    "    b_1 = b_0 - learning_rate * db\n",
    "    # update beta\n",
    "    w_1 = w_0 - learning_rate * dw\n",
    "    \n",
    "    # return new bias and beta values\n",
    "    return b_1, w_1"
   ]
  },
  {
   "cell_type": "code",
   "execution_count": 12,
   "id": "feb4d36a-aaea-4c7b-86d5-65a9eedfe492",
   "metadata": {},
   "outputs": [
    {
     "name": "stdout",
     "output_type": "stream",
     "text": [
      "After Initialization - Bias: 0.6394267984578837 Weight: [0.37454012 0.95071431 0.73199394]\n",
      "After first update - Bias: 0.6266382624887261 Weight: [0.38079093 0.9376953  0.71484883]\n"
     ]
    }
   ],
   "source": [
    "b,w = initialize(3)\n",
    "print(\"After Initialization - Bias:\", b, \"Weight:\", w)\n",
    "Y_hat = predict_Y(b, w, X)\n",
    "b,w = update_beta(X, Y, Y_hat, b, w, 0.01) # alpha = 0.01\n",
    "print(\"After first update - Bias:\", b, \"Weight:\", w)"
   ]
  },
  {
   "cell_type": "markdown",
   "id": "4c797fcc-d670-4e8d-b1b5-608e6c2dce5d",
   "metadata": {},
   "source": [
    "### ***Finding Optimal Bias & Weights***\n",
    "The updates to the bias and weights need to be done iteratively, until the cost is minimum. It can take  several iterations and is time-consuming. \n",
    "There are two approaches to stop the iterations:  \n",
    "  1. Run a fixed number of iterations and use the bias and weights as optimal values at the end these  iterations.  \n",
    "  2. Run iterations until the change in cost is small, that is, less than a predefined value (e.g., 0.001).  \n",
    "  \n",
    "We will define a method *run_gradient_descent()*, which takes *alpha* and *num_iterations* as parameters.<br>\n",
    "Also, inside the method,\n",
    "   1. variable *gd_iterations_df* keeps track of the cost of every 10 iterations.\n",
    "   2. default value of 0.01 for alpha and 100 for num_iterations will be used."
   ]
  },
  {
   "cell_type": "code",
   "execution_count": 13,
   "id": "300a8a8b-8a0c-45f0-9d28-0313b84cf64b",
   "metadata": {},
   "outputs": [],
   "source": [
    "def run_gradient_descent(X, Y, alpha=0.01, num_iterations=100):\n",
    "    # Initialize the bias & weights\n",
    "    b,w = initialize(X.shape[1])\n",
    "    \n",
    "    iter_num = 0\n",
    "    # gd_iterations_df keeps track of the cost of every 10 iterations\n",
    "    gd_iterations_df = pd.DataFrame(columns=['iteration', 'cost'])\n",
    "    result_idx = 0\n",
    "    \n",
    "    # Run the iterations in loop\n",
    "    for each_iter in range(num_iterations):\n",
    "        # Calculate the predicted value\n",
    "        Y_hat = predict_Y(b, w, X)\n",
    "        # Calculate the cost\n",
    "        this_cost = get_cost(Y, Y_hat)\n",
    "        # Save the previous bias & weights\n",
    "        prev_b, prev_w = b, w\n",
    "        # Update and calculate the new values of bias & weights\n",
    "        b,w = update_beta(X, Y, Y_hat, prev_b, prev_w, alpha)\n",
    "        \n",
    "        # For every 10 iterations, store the cost i.e. MSE\n",
    "        if (iter_num%10 == 0):\n",
    "            gd_iterations_df.loc[result_idx] = [iter_num, this_cost]\n",
    "            result_idx += 1    \n",
    "        iter_num +=1\n",
    "        \n",
    "    print(\"Final estimate of b & w:\", b, w)\n",
    "    # return the final bias, weights & the cost at the end\n",
    "    return gd_iterations_df,b, w"
   ]
  },
  {
   "cell_type": "code",
   "execution_count": 14,
   "id": "f3b58273-8fed-40e3-b2e1-8455e1f55eb8",
   "metadata": {},
   "outputs": [
    {
     "name": "stdout",
     "output_type": "stream",
     "text": [
      "Final estimate of b & w: 0.42844895817391493 [0.48270238 0.75265969 0.46109174]\n"
     ]
    }
   ],
   "source": [
    "gd_iterations_df, b, w = run_gradient_descent(X, Y, alpha=0.001, num_iterations=200)"
   ]
  },
  {
   "cell_type": "code",
   "execution_count": 15,
   "id": "384c4593-b130-4414-8508-92c3f6665c7a",
   "metadata": {},
   "outputs": [
    {
     "data": {
      "text/html": [
       "<div>\n",
       "<style scoped>\n",
       "    .dataframe tbody tr th:only-of-type {\n",
       "        vertical-align: middle;\n",
       "    }\n",
       "\n",
       "    .dataframe tbody tr th {\n",
       "        vertical-align: top;\n",
       "    }\n",
       "\n",
       "    .dataframe thead th {\n",
       "        text-align: right;\n",
       "    }\n",
       "</style>\n",
       "<table border=\"1\" class=\"dataframe\">\n",
       "  <thead>\n",
       "    <tr style=\"text-align: right;\">\n",
       "      <th></th>\n",
       "      <th>iteration</th>\n",
       "      <th>cost</th>\n",
       "    </tr>\n",
       "  </thead>\n",
       "  <tbody>\n",
       "    <tr>\n",
       "      <th>0</th>\n",
       "      <td>0.0</td>\n",
       "      <td>1.530310</td>\n",
       "    </tr>\n",
       "    <tr>\n",
       "      <th>1</th>\n",
       "      <td>10.0</td>\n",
       "      <td>1.465201</td>\n",
       "    </tr>\n",
       "    <tr>\n",
       "      <th>2</th>\n",
       "      <td>20.0</td>\n",
       "      <td>1.403145</td>\n",
       "    </tr>\n",
       "    <tr>\n",
       "      <th>3</th>\n",
       "      <td>30.0</td>\n",
       "      <td>1.343996</td>\n",
       "    </tr>\n",
       "    <tr>\n",
       "      <th>4</th>\n",
       "      <td>40.0</td>\n",
       "      <td>1.287615</td>\n",
       "    </tr>\n",
       "    <tr>\n",
       "      <th>5</th>\n",
       "      <td>50.0</td>\n",
       "      <td>1.233868</td>\n",
       "    </tr>\n",
       "    <tr>\n",
       "      <th>6</th>\n",
       "      <td>60.0</td>\n",
       "      <td>1.182630</td>\n",
       "    </tr>\n",
       "    <tr>\n",
       "      <th>7</th>\n",
       "      <td>70.0</td>\n",
       "      <td>1.133780</td>\n",
       "    </tr>\n",
       "    <tr>\n",
       "      <th>8</th>\n",
       "      <td>80.0</td>\n",
       "      <td>1.087203</td>\n",
       "    </tr>\n",
       "    <tr>\n",
       "      <th>9</th>\n",
       "      <td>90.0</td>\n",
       "      <td>1.042793</td>\n",
       "    </tr>\n",
       "    <tr>\n",
       "      <th>10</th>\n",
       "      <td>100.0</td>\n",
       "      <td>1.000444</td>\n",
       "    </tr>\n",
       "    <tr>\n",
       "      <th>11</th>\n",
       "      <td>110.0</td>\n",
       "      <td>0.960059</td>\n",
       "    </tr>\n",
       "    <tr>\n",
       "      <th>12</th>\n",
       "      <td>120.0</td>\n",
       "      <td>0.921545</td>\n",
       "    </tr>\n",
       "    <tr>\n",
       "      <th>13</th>\n",
       "      <td>130.0</td>\n",
       "      <td>0.884812</td>\n",
       "    </tr>\n",
       "    <tr>\n",
       "      <th>14</th>\n",
       "      <td>140.0</td>\n",
       "      <td>0.849776</td>\n",
       "    </tr>\n",
       "    <tr>\n",
       "      <th>15</th>\n",
       "      <td>150.0</td>\n",
       "      <td>0.816356</td>\n",
       "    </tr>\n",
       "    <tr>\n",
       "      <th>16</th>\n",
       "      <td>160.0</td>\n",
       "      <td>0.784476</td>\n",
       "    </tr>\n",
       "    <tr>\n",
       "      <th>17</th>\n",
       "      <td>170.0</td>\n",
       "      <td>0.754063</td>\n",
       "    </tr>\n",
       "    <tr>\n",
       "      <th>18</th>\n",
       "      <td>180.0</td>\n",
       "      <td>0.725048</td>\n",
       "    </tr>\n",
       "    <tr>\n",
       "      <th>19</th>\n",
       "      <td>190.0</td>\n",
       "      <td>0.697364</td>\n",
       "    </tr>\n",
       "  </tbody>\n",
       "</table>\n",
       "</div>"
      ],
      "text/plain": [
       "    iteration      cost\n",
       "0         0.0  1.530310\n",
       "1        10.0  1.465201\n",
       "2        20.0  1.403145\n",
       "3        30.0  1.343996\n",
       "4        40.0  1.287615\n",
       "5        50.0  1.233868\n",
       "6        60.0  1.182630\n",
       "7        70.0  1.133780\n",
       "8        80.0  1.087203\n",
       "9        90.0  1.042793\n",
       "10      100.0  1.000444\n",
       "11      110.0  0.960059\n",
       "12      120.0  0.921545\n",
       "13      130.0  0.884812\n",
       "14      140.0  0.849776\n",
       "15      150.0  0.816356\n",
       "16      160.0  0.784476\n",
       "17      170.0  0.754063\n",
       "18      180.0  0.725048\n",
       "19      190.0  0.697364"
      ]
     },
     "execution_count": 15,
     "metadata": {},
     "output_type": "execute_result"
    }
   ],
   "source": [
    "gd_iterations_df\n",
    "# cost is getting reduced at the end of each iteration"
   ]
  },
  {
   "cell_type": "markdown",
   "id": "944f514e-5a01-4a13-9d28-54447fd99680",
   "metadata": {},
   "source": [
    "### ***Plotting the cost function against the Iterations***"
   ]
  },
  {
   "cell_type": "code",
   "execution_count": 16,
   "id": "2ce17db5-55ae-4c00-ac1b-5ca2c2c8a34f",
   "metadata": {},
   "outputs": [
    {
     "data": {
      "image/png": "[encoded data removed]",
      "text/plain": [
       "<Figure size 432x288 with 1 Axes>"
      ]
     },
     "metadata": {
      "needs_background": "light"
     },
     "output_type": "display_data"
    }
   ],
   "source": [
    "plt.plot(gd_iterations_df['iteration'],gd_iterations_df['cost'])\n",
    "plt.xlabel(\"# of Iterations\")\n",
    "plt.ylabel(\"Cost or MSE\");"
   ]
  },
  {
   "cell_type": "code",
   "execution_count": 17,
   "id": "fa60c951-69b4-4b77-8e64-c0cdd18cad5b",
   "metadata": {},
   "outputs": [
    {
     "name": "stdout",
     "output_type": "stream",
     "text": [
      "Final estimate of b & w: 2.774489385785389e-16 [ 0.75306591  0.53648155 -0.00433069]\n"
     ]
    }
   ],
   "source": [
    "# Running more iteration to further get to the minimum\n",
    "alpha_df_1, b, w = run_gradient_descent(X, Y, alpha=0.01, num_iterations=2000)"
   ]
  },
  {
   "cell_type": "code",
   "execution_count": 18,
   "id": "665ff653-958b-4ba2-a7b8-183e465b8969",
   "metadata": {},
   "outputs": [
    {
     "name": "stdout",
     "output_type": "stream",
     "text": [
      "Final estimate of b & w: 0.011664695556930518 [0.74315125 0.52779959 0.01171703]\n"
     ]
    }
   ],
   "source": [
    "alpha_df_2, b, w = run_gradient_descent(X, Y, alpha=0.001, num_iterations=2000)"
   ]
  },
  {
   "cell_type": "code",
   "execution_count": 19,
   "id": "a5411604-1b9a-4b9f-80cf-a6517537871a",
   "metadata": {},
   "outputs": [
    {
     "data": {
      "image/png": "[encoded data removed]",
      "text/plain": [
       "<Figure size 432x288 with 1 Axes>"
      ]
     },
     "metadata": {
      "needs_background": "light"
     },
     "output_type": "display_data"
    }
   ],
   "source": [
    "plt.plot(alpha_df_1.iteration, alpha_df_1.cost, label='alpha = 0.01')\n",
    "plt.plot(alpha_df_2.iteration, alpha_df_2.cost, label='alpha = 0.001')\n",
    "plt.legend()\n",
    "plt.xlabel(\"# of Iterations\")\n",
    "plt.ylabel(\"Cost or MSE\")\n",
    "plt.title(\"Cost v/s Iterations for diff. alpha values\");"
   ]
  },
  {
   "cell_type": "markdown",
   "id": "987638d2-e6c4-4cb2-8995-06e59138afb5",
   "metadata": {},
   "source": [
    "**We can see that learning for alpha = 0.01 is faster than 0.001. For smaller alpha values, learning can be slower whereas higher learning rate can lead to skipping minima of the cost function. Thus we need to find optimal learning rate.**"
   ]
  },
  {
   "cell_type": "markdown",
   "id": "a10c79f2-86a3-45fe-b90c-40a2969eca14",
   "metadata": {},
   "source": [
    "## ***1.2 Using Scikit-Learn***\n",
    "\n",
    "#### **Steps for Building ML Models**\n",
    "1. Identify the features and outcome variable in the dataset.  \n",
    "2. Split the dataset into training and test sets.(Usually 60-80% data for training set is kept and rest for testing set)  \n",
    "3. Build the model using training set.  \n",
    "4. Predict outcome variable using a test set.  \n",
    "5. Compare the predicted and actual values of the outcome variable in the test set and measure  accuracy using measures such as mean absolute percentage error (MAPE) or root mean square  error (RMSE). "
   ]
  },
  {
   "cell_type": "markdown",
   "id": "e21da54c-4082-451b-a656-f1733d9c58cf",
   "metadata": {},
   "source": [
    "### ***Building the Model***"
   ]
  },
  {
   "cell_type": "code",
   "execution_count": 20,
   "id": "dde7b83f-41d7-49fc-ae8f-83d3353c28e4",
   "metadata": {},
   "outputs": [],
   "source": [
    "from sklearn.model_selection import train_test_split\n",
    "\n",
    "X_train, X_test, y_train, y_test = train_test_split(sales_df[['TV', 'Radio', 'Newspaper']], sales_df.Sales, test_size=0.3, random_state=42)"
   ]
  },
  {
   "cell_type": "markdown",
   "id": "3b90d1a7-d168-446e-9581-4ec7c3dec64b",
   "metadata": {},
   "source": [
    "Steps for building model in sklearn:\n",
    "1. Initialze the model\n",
    "2. Invoke *fit()* method on the model and pass the input(X) & output(Y) values.\n",
    "3. *fit()* will run the algo. and return the final estimated parameters."
   ]
  },
  {
   "cell_type": "code",
   "execution_count": 21,
   "id": "e72077eb-1274-4908-8ba5-59f4600906f7",
   "metadata": {},
   "outputs": [
    {
     "data": {
      "text/plain": [
       "LinearRegression()"
      ]
     },
     "execution_count": 21,
     "metadata": {},
     "output_type": "execute_result"
    }
   ],
   "source": [
    "from sklearn.linear_model import LinearRegression\n",
    "\n",
    "# Initialize the model\n",
    "linReg = LinearRegression()\n",
    "# Fitting on training data\n",
    "linReg.fit(X_train, y_train)"
   ]
  },
  {
   "cell_type": "code",
   "execution_count": 22,
   "id": "89637880-9702-43f2-9d4d-752b9599a3e1",
   "metadata": {},
   "outputs": [
    {
     "data": {
      "text/plain": [
       "2.70894909251591"
      ]
     },
     "execution_count": 22,
     "metadata": {},
     "output_type": "execute_result"
    }
   ],
   "source": [
    "# The parameters\n",
    "linReg.intercept_"
   ]
  },
  {
   "cell_type": "code",
   "execution_count": 23,
   "id": "42d2bfd7-6eb4-4cba-8ec1-0f48dd66dc09",
   "metadata": {},
   "outputs": [
    {
     "data": {
      "text/plain": [
       "array([0.04405928, 0.1992875 , 0.00688245])"
      ]
     },
     "execution_count": 23,
     "metadata": {},
     "output_type": "execute_result"
    }
   ],
   "source": [
    "linReg.coef_"
   ]
  },
  {
   "cell_type": "code",
   "execution_count": 24,
   "id": "6798f155-8585-465a-9d3e-6597b028bbdd",
   "metadata": {},
   "outputs": [
    {
     "data": {
      "text/plain": [
       "[('TV', 0.0440592809574652),\n",
       " ('Radio', 0.19928749689893954),\n",
       " ('Newspaper', 0.006882452222275431)]"
      ]
     },
     "execution_count": 24,
     "metadata": {},
     "output_type": "execute_result"
    }
   ],
   "source": [
    "list(zip(['TV', 'Radio', 'Newspaper'], list(linReg.coef_)))"
   ]
  },
  {
   "cell_type": "markdown",
   "id": "48863ae1-ea41-4ad4-9bf1-9a5165d3f695",
   "metadata": {},
   "source": [
    "The estimated model is:\n",
    "$$Sales = 2.708 + 0.044\\times TV + 0.199\\times Radio + 0.006\\times Newspaper$$\n",
    "\n",
    "**The weights are diff. than estimated earlier, this is becoz we have not normalized/standardized the values in this model.**"
   ]
  },
  {
   "cell_type": "code",
   "execution_count": 25,
   "id": "4cb3ff40-f74a-49b7-a6aa-db14fd8bc35c",
   "metadata": {},
   "outputs": [],
   "source": [
    "# Making prediction test set\n",
    "# predicting y value\n",
    "y_pred = linReg.predict(X_test)"
   ]
  },
  {
   "cell_type": "code",
   "execution_count": 26,
   "id": "50ecdcb3-b0ad-4897-bdf4-d1b7d45db2b0",
   "metadata": {},
   "outputs": [
    {
     "data": {
      "text/html": [
       "<div>\n",
       "<style scoped>\n",
       "    .dataframe tbody tr th:only-of-type {\n",
       "        vertical-align: middle;\n",
       "    }\n",
       "\n",
       "    .dataframe tbody tr th {\n",
       "        vertical-align: top;\n",
       "    }\n",
       "\n",
       "    .dataframe thead th {\n",
       "        text-align: right;\n",
       "    }\n",
       "</style>\n",
       "<table border=\"1\" class=\"dataframe\">\n",
       "  <thead>\n",
       "    <tr style=\"text-align: right;\">\n",
       "      <th></th>\n",
       "      <th>actual</th>\n",
       "      <th>predicted</th>\n",
       "      <th>residuals</th>\n",
       "    </tr>\n",
       "  </thead>\n",
       "  <tbody>\n",
       "    <tr>\n",
       "      <th>126</th>\n",
       "      <td>6.6</td>\n",
       "      <td>11.15</td>\n",
       "      <td>-4.553147</td>\n",
       "    </tr>\n",
       "    <tr>\n",
       "      <th>170</th>\n",
       "      <td>8.4</td>\n",
       "      <td>7.35</td>\n",
       "      <td>1.049715</td>\n",
       "    </tr>\n",
       "    <tr>\n",
       "      <th>95</th>\n",
       "      <td>16.9</td>\n",
       "      <td>16.57</td>\n",
       "      <td>0.334604</td>\n",
       "    </tr>\n",
       "    <tr>\n",
       "      <th>195</th>\n",
       "      <td>7.6</td>\n",
       "      <td>5.22</td>\n",
       "      <td>2.375645</td>\n",
       "    </tr>\n",
       "    <tr>\n",
       "      <th>115</th>\n",
       "      <td>12.6</td>\n",
       "      <td>13.36</td>\n",
       "      <td>-0.755569</td>\n",
       "    </tr>\n",
       "    <tr>\n",
       "      <th>38</th>\n",
       "      <td>10.1</td>\n",
       "      <td>10.17</td>\n",
       "      <td>-0.070454</td>\n",
       "    </tr>\n",
       "    <tr>\n",
       "      <th>56</th>\n",
       "      <td>5.5</td>\n",
       "      <td>8.92</td>\n",
       "      <td>-3.415494</td>\n",
       "    </tr>\n",
       "    <tr>\n",
       "      <th>165</th>\n",
       "      <td>11.9</td>\n",
       "      <td>14.30</td>\n",
       "      <td>-2.402060</td>\n",
       "    </tr>\n",
       "    <tr>\n",
       "      <th>173</th>\n",
       "      <td>11.7</td>\n",
       "      <td>11.63</td>\n",
       "      <td>0.068431</td>\n",
       "    </tr>\n",
       "    <tr>\n",
       "      <th>9</th>\n",
       "      <td>10.6</td>\n",
       "      <td>12.18</td>\n",
       "      <td>-1.576049</td>\n",
       "    </tr>\n",
       "  </tbody>\n",
       "</table>\n",
       "</div>"
      ],
      "text/plain": [
       "     actual  predicted  residuals\n",
       "126     6.6      11.15  -4.553147\n",
       "170     8.4       7.35   1.049715\n",
       "95     16.9      16.57   0.334604\n",
       "195     7.6       5.22   2.375645\n",
       "115    12.6      13.36  -0.755569\n",
       "38     10.1      10.17  -0.070454\n",
       "56      5.5       8.92  -3.415494\n",
       "165    11.9      14.30  -2.402060\n",
       "173    11.7      11.63   0.068431\n",
       "9      10.6      12.18  -1.576049"
      ]
     },
     "execution_count": 26,
     "metadata": {},
     "output_type": "execute_result"
    }
   ],
   "source": [
    "# creating a DF to compare values\n",
    "test_pred_df = pd.DataFrame({'actual': y_test,\n",
    "                            'predicted': np.round(y_pred, 2),\n",
    "                            'residuals': y_test - y_pred})\n",
    "\n",
    "# Randomly showing 10 samples\n",
    "test_pred_df.sample(10)"
   ]
  },
  {
   "cell_type": "markdown",
   "id": "9170fabb-00da-4b0a-9199-334876f98a9d",
   "metadata": {},
   "source": [
    "### ***Measuring Accuracy***"
   ]
  },
  {
   "cell_type": "code",
   "execution_count": 27,
   "id": "3dc65985-407f-42a8-bcc4-4b7ed7c7696f",
   "metadata": {},
   "outputs": [],
   "source": [
    "# RMSE and R-squared are two key accuracy measures for Linear Regg. as discussed earlier\n",
    "\n",
    "from sklearn import metrics"
   ]
  },
  {
   "cell_type": "code",
   "execution_count": 28,
   "id": "bd4f36d8-50e1-4bc1-8ad2-7de7605cdb75",
   "metadata": {},
   "outputs": [
    {
     "name": "stdout",
     "output_type": "stream",
     "text": [
      "R Squrared: 0.9055159502227753\n",
      "The model explains  90.552% of the variance in Y.\n"
     ]
    }
   ],
   "source": [
    "# R-Squared value\n",
    "y_pred = linReg.predict(X_test)\n",
    "r2 = metrics.r2_score(y_train, linReg.predict(X_train))\n",
    "print(\"R Squrared:\", r2)\n",
    "print(f\"The model explains {r2*100: .3f}% of the variance in Y.\")"
   ]
  },
  {
   "cell_type": "code",
   "execution_count": 29,
   "id": "c6396a34-b4e9-4cad-8492-c560379cb915",
   "metadata": {},
   "outputs": [
    {
     "name": "stdout",
     "output_type": "stream",
     "text": [
      "RMSE:  1.95\n",
      "The RMSE value indicates the model prediction has a standard deviation of 1.95\n"
     ]
    }
   ],
   "source": [
    "# RMSE(Root mean squared error)\n",
    "mse = metrics.mean_squared_error(y_test, y_pred)\n",
    "# Taking root\n",
    "rmse = np.round(np.sqrt(mse), 2)\n",
    "print(\"RMSE: \", rmse)\n",
    "print(\"The RMSE value indicates the model prediction has a standard deviation of 1.95\")"
   ]
  },
  {
   "cell_type": "markdown",
   "id": "e2905837-53d7-42e9-a488-7f141aac538d",
   "metadata": {},
   "source": [
    "#### ***To understand the model error in detail, we need to understand the components of the error term  and how to deal with those components for improving model performance.***"
   ]
  },
  {
   "cell_type": "markdown",
   "id": "ef27a9e3-78f4-46a1-bb6d-18ef401d5722",
   "metadata": {},
   "source": [
    "## ***1.3 Bias-Variance Trade-off***\n",
    "\n",
    "#### ***<u>Understanding Overfitting & Underfitting</u>***\n",
    "\n",
    "***Model errors can be decomposed into two components: <u>bias and variance</u>. Understanding these two  components is key to diagnosing model accuracies and avoiding model overfitting or underfitting.<br><u>High bias can lead to building underfitting model, whereas high variance can lead to overfitting models.***"
   ]
  },
  {
   "cell_type": "code",
   "execution_count": 30,
   "id": "74e762de-c3a4-4c1f-9ac7-fcbc5989288e",
   "metadata": {},
   "outputs": [
    {
     "data": {
      "text/html": [
       "<div>\n",
       "<style scoped>\n",
       "    .dataframe tbody tr th:only-of-type {\n",
       "        vertical-align: middle;\n",
       "    }\n",
       "\n",
       "    .dataframe tbody tr th {\n",
       "        vertical-align: top;\n",
       "    }\n",
       "\n",
       "    .dataframe thead th {\n",
       "        text-align: right;\n",
       "    }\n",
       "</style>\n",
       "<table border=\"1\" class=\"dataframe\">\n",
       "  <thead>\n",
       "    <tr style=\"text-align: right;\">\n",
       "      <th></th>\n",
       "      <th>x</th>\n",
       "      <th>y</th>\n",
       "    </tr>\n",
       "  </thead>\n",
       "  <tbody>\n",
       "    <tr>\n",
       "      <th>0</th>\n",
       "      <td>2</td>\n",
       "      <td>-1.999618</td>\n",
       "    </tr>\n",
       "    <tr>\n",
       "      <th>1</th>\n",
       "      <td>2</td>\n",
       "      <td>-1.999618</td>\n",
       "    </tr>\n",
       "    <tr>\n",
       "      <th>2</th>\n",
       "      <td>8</td>\n",
       "      <td>-3.978312</td>\n",
       "    </tr>\n",
       "    <tr>\n",
       "      <th>3</th>\n",
       "      <td>9</td>\n",
       "      <td>-1.969175</td>\n",
       "    </tr>\n",
       "    <tr>\n",
       "      <th>4</th>\n",
       "      <td>10</td>\n",
       "      <td>-0.957770</td>\n",
       "    </tr>\n",
       "  </tbody>\n",
       "</table>\n",
       "</div>"
      ],
      "text/plain": [
       "    x         y\n",
       "0   2 -1.999618\n",
       "1   2 -1.999618\n",
       "2   8 -3.978312\n",
       "3   9 -1.969175\n",
       "4  10 -0.957770"
      ]
     },
     "execution_count": 30,
     "metadata": {},
     "output_type": "execute_result"
    }
   ],
   "source": [
    "curve = pd.read_csv(os.getcwd()+\"/Data/curve.csv\")\n",
    "curve.head()"
   ]
  },
  {
   "cell_type": "code",
   "execution_count": 31,
   "id": "289ab1f7-b7c8-4255-8bc7-5d603558141c",
   "metadata": {},
   "outputs": [
    {
     "data": {
      "image/png": "[encoded data removed]",
      "text/plain": [
       "<Figure size 432x288 with 1 Axes>"
      ]
     },
     "metadata": {
      "needs_background": "light"
     },
     "output_type": "display_data"
    }
   ],
   "source": [
    "plt.scatter(curve.x, curve.y)\n",
    "plt.xlabel(\"x values\")\n",
    "plt.ylabel(\"y values\");"
   ]
  },
  {
   "cell_type": "markdown",
   "id": "04ddccc8-ad1d-4961-a743-653ec042890d",
   "metadata": {},
   "source": [
    "- The relationship b/w x and y is some polynomial form.\n",
    "- To explore various polynomial forms, polyfit() from numpy library can be used. polyfit() takes X and  Y values, and the degree of x features to be used to fit a model.\n",
    "- Degree 1 means only value of x is used to  predict y, whereas degree 2 means x and x^2 are used to predict y. "
   ]
  },
  {
   "cell_type": "code",
   "execution_count": 32,
   "id": "db519fe4-748d-40ee-aa0a-fa65499ee568",
   "metadata": {},
   "outputs": [],
   "source": [
    "def fit_poly(degree):\n",
    "    p = np.polyfit(curve.x, curve.y, deg= degree)\n",
    "    curve['fit'] = np.polyval(p, curve.x)\n",
    "    # draw the regg. line after fitting the model\n",
    "    sns.regplot(curve.x, curve.y, fit_reg=False)\n",
    "    # Plot the actual x & y values\n",
    "    return plt.plot(curve.x, curve.fit, label = 'fit')"
   ]
  },
  {
   "cell_type": "code",
   "execution_count": 33,
   "id": "ab61f987-fff9-44ca-8f8a-d0c96ef05153",
   "metadata": {},
   "outputs": [
    {
     "data": {
      "image/png": "[encoded data removed]",
      "text/plain": [
       "<Figure size 432x288 with 1 Axes>"
      ]
     },
     "metadata": {
      "needs_background": "light"
     },
     "output_type": "display_data"
    }
   ],
   "source": [
    "# Fitting the model with degree = 1 i.e. y = bx + e\n",
    "fit_poly(1)\n",
    "plt.xlabel(\"x values\")\n",
    "plt.ylabel(\"y values\");"
   ]
  },
  {
   "cell_type": "markdown",
   "id": "c32674c5-d1fb-491f-af64-5a58d1c9e188",
   "metadata": {},
   "source": [
    "Linear Model, from the fig. we can see model does fit with deg = 1. It is not able to learn from the data as a simplistic model is assumed.<br>\n",
    "**<u>This is the case of underfitting or bias.**"
   ]
  },
  {
   "cell_type": "code",
   "execution_count": 34,
   "id": "4531010e-3fa9-44b3-bf3e-11ed8598256f",
   "metadata": {},
   "outputs": [
    {
     "data": {
      "image/png": "[encoded data removed]",
      "text/plain": [
       "<Figure size 432x288 with 1 Axes>"
      ]
     },
     "metadata": {
      "needs_background": "light"
     },
     "output_type": "display_data"
    }
   ],
   "source": [
    "# with degree = 2 i.e a quadratic polynomial\n",
    "fit_poly(2)\n",
    "plt.xlabel(\"x values\")\n",
    "plt.ylabel(\"y values\");\n",
    "\n",
    "# The regg. line seems to fit the data better than the previous model. But not sure if this is the **best model**"
   ]
  },
  {
   "cell_type": "code",
   "execution_count": 35,
   "id": "3bf9f00d-9333-41bf-aa2b-5d27ee8d8b30",
   "metadata": {},
   "outputs": [
    {
     "data": {
      "image/png": "[encoded data removed]",
      "text/plain": [
       "<Figure size 432x288 with 1 Axes>"
      ]
     },
     "metadata": {
      "needs_background": "light"
     },
     "output_type": "display_data"
    }
   ],
   "source": [
    "# with deg = 10 i.e a deg 10 polynomial \n",
    "fit_poly(10)\n",
    "plt.xlabel(\"x values\")\n",
    "plt.ylabel(\"y values\");"
   ]
  },
  {
   "cell_type": "markdown",
   "id": "cf1fd85f-0204-40f9-a3c8-d784ae9d48e5",
   "metadata": {},
   "source": [
    "It can be observed above that as we build models with more and more polynomial terms, the model starts to fit every data point in the training set. **<u>This is the case of overfitting</u>.** <br>The model  with polynomial terms up to degree 10 will be sensitive to any changes in training examples. Any  addition and removal of a single observation from the dataset can alter the model parameters  significantly.  \n",
    "\n",
    "- ***An underfitting model has a large error because of high bias, and an overfitting model has a large error because of high variance.*** \n",
    "\n",
    "- **An optimal model will be somewhere between an underfitting and an  overfitting model, and will have low bias and low variance. This can be observed by comparing RMSE in  training and test sets.** "
   ]
  },
  {
   "cell_type": "code",
   "execution_count": 36,
   "id": "ef4830cb-d7da-4c7c-8de9-a93285df3ce9",
   "metadata": {},
   "outputs": [],
   "source": [
    "train_X, test_X, train_y, test_y = train_test_split(curve.x, curve.y, test_size=0.4, random_state=100)\n",
    "\n",
    "# DataFrame to store 'degree' & 'rmse' fro traing and test set\n",
    "rmse_df = pd.DataFrame(columns=['degree', \"rmse_train\", \"rmse_test\"])\n",
    "\n",
    "# Defining a method to return rmse give actual & predicted values\n",
    "def get_rmse(y, y_fit):\n",
    "    return np.sqrt(metrics.mean_squared_error(y, y_fit))\n",
    "\n",
    "# Iterate from degree ranging 1 - 15\n",
    "for i in range(1, 15):\n",
    "    # fitting model\n",
    "    p = np.polyfit(train_X, train_y, deg=i)\n",
    "    # storing the values\n",
    "    rmse_df.loc[i-1] = [i, get_rmse(train_y, np.polyval(p, train_X)), get_rmse(test_y, np.polyval(p, test_X))]"
   ]
  },
  {
   "cell_type": "code",
   "execution_count": 37,
   "id": "a1368db5-b8a1-4fd8-a29e-9d5ad21e4266",
   "metadata": {},
   "outputs": [
    {
     "data": {
      "text/html": [
       "<div>\n",
       "<style scoped>\n",
       "    .dataframe tbody tr th:only-of-type {\n",
       "        vertical-align: middle;\n",
       "    }\n",
       "\n",
       "    .dataframe tbody tr th {\n",
       "        vertical-align: top;\n",
       "    }\n",
       "\n",
       "    .dataframe thead th {\n",
       "        text-align: right;\n",
       "    }\n",
       "</style>\n",
       "<table border=\"1\" class=\"dataframe\">\n",
       "  <thead>\n",
       "    <tr style=\"text-align: right;\">\n",
       "      <th></th>\n",
       "      <th>degree</th>\n",
       "      <th>rmse_train</th>\n",
       "      <th>rmse_test</th>\n",
       "    </tr>\n",
       "  </thead>\n",
       "  <tbody>\n",
       "    <tr>\n",
       "      <th>0</th>\n",
       "      <td>1.0</td>\n",
       "      <td>5.226638</td>\n",
       "      <td>5.779652</td>\n",
       "    </tr>\n",
       "    <tr>\n",
       "      <th>1</th>\n",
       "      <td>2.0</td>\n",
       "      <td>2.394509</td>\n",
       "      <td>2.755286</td>\n",
       "    </tr>\n",
       "    <tr>\n",
       "      <th>2</th>\n",
       "      <td>3.0</td>\n",
       "      <td>2.233547</td>\n",
       "      <td>2.560184</td>\n",
       "    </tr>\n",
       "    <tr>\n",
       "      <th>3</th>\n",
       "      <td>4.0</td>\n",
       "      <td>2.231998</td>\n",
       "      <td>2.549205</td>\n",
       "    </tr>\n",
       "    <tr>\n",
       "      <th>4</th>\n",
       "      <td>5.0</td>\n",
       "      <td>2.197528</td>\n",
       "      <td>2.428728</td>\n",
       "    </tr>\n",
       "    <tr>\n",
       "      <th>5</th>\n",
       "      <td>6.0</td>\n",
       "      <td>2.062201</td>\n",
       "      <td>2.703880</td>\n",
       "    </tr>\n",
       "    <tr>\n",
       "      <th>6</th>\n",
       "      <td>7.0</td>\n",
       "      <td>2.039408</td>\n",
       "      <td>2.909237</td>\n",
       "    </tr>\n",
       "    <tr>\n",
       "      <th>7</th>\n",
       "      <td>8.0</td>\n",
       "      <td>1.995852</td>\n",
       "      <td>3.270892</td>\n",
       "    </tr>\n",
       "    <tr>\n",
       "      <th>8</th>\n",
       "      <td>9.0</td>\n",
       "      <td>1.979322</td>\n",
       "      <td>3.120420</td>\n",
       "    </tr>\n",
       "    <tr>\n",
       "      <th>9</th>\n",
       "      <td>10.0</td>\n",
       "      <td>1.976326</td>\n",
       "      <td>3.115875</td>\n",
       "    </tr>\n",
       "    <tr>\n",
       "      <th>10</th>\n",
       "      <td>11.0</td>\n",
       "      <td>1.964484</td>\n",
       "      <td>3.218203</td>\n",
       "    </tr>\n",
       "    <tr>\n",
       "      <th>11</th>\n",
       "      <td>12.0</td>\n",
       "      <td>1.657948</td>\n",
       "      <td>4.457668</td>\n",
       "    </tr>\n",
       "    <tr>\n",
       "      <th>12</th>\n",
       "      <td>13.0</td>\n",
       "      <td>1.656719</td>\n",
       "      <td>4.358014</td>\n",
       "    </tr>\n",
       "    <tr>\n",
       "      <th>13</th>\n",
       "      <td>14.0</td>\n",
       "      <td>1.642308</td>\n",
       "      <td>4.659503</td>\n",
       "    </tr>\n",
       "  </tbody>\n",
       "</table>\n",
       "</div>"
      ],
      "text/plain": [
       "    degree  rmse_train  rmse_test\n",
       "0      1.0    5.226638   5.779652\n",
       "1      2.0    2.394509   2.755286\n",
       "2      3.0    2.233547   2.560184\n",
       "3      4.0    2.231998   2.549205\n",
       "4      5.0    2.197528   2.428728\n",
       "5      6.0    2.062201   2.703880\n",
       "6      7.0    2.039408   2.909237\n",
       "7      8.0    1.995852   3.270892\n",
       "8      9.0    1.979322   3.120420\n",
       "9     10.0    1.976326   3.115875\n",
       "10    11.0    1.964484   3.218203\n",
       "11    12.0    1.657948   4.457668\n",
       "12    13.0    1.656719   4.358014\n",
       "13    14.0    1.642308   4.659503"
      ]
     },
     "execution_count": 37,
     "metadata": {},
     "output_type": "execute_result"
    }
   ],
   "source": [
    "rmse_df"
   ]
  },
  {
   "cell_type": "code",
   "execution_count": 38,
   "id": "1b6cdf3d-2eee-45d7-890c-0a17e38600c6",
   "metadata": {},
   "outputs": [
    {
     "data": {
      "image/png": "[encoded data removed]",
      "text/plain": [
       "<Figure size 432x288 with 1 Axes>"
      ]
     },
     "metadata": {
      "needs_background": "light"
     },
     "output_type": "display_data"
    }
   ],
   "source": [
    "# Plotting the rmse for training set in red color\n",
    "plt.plot(rmse_df.degree, rmse_df.rmse_train, label='RMSE on Training Set', color='r')\n",
    "\n",
    "# Plotting the rmse for test set in green color\n",
    "plt.plot(rmse_df.degree, rmse_df.rmse_test, label='RMSE on Test Set', color='g')\n",
    "\n",
    "plt.legend(bbox_to_anchor= (1.05,1), loc = 2, borderaxespad=0)\n",
    "plt.xlabel(\"Model Degrees\")\n",
    "plt.ylabel(\"RMSE\");"
   ]
  },
  {
   "cell_type": "markdown",
   "id": "5cb1dda6-b54d-41f9-89e1-a0fbc1ff5d16",
   "metadata": {},
   "source": [
    "Three key observations from above plot: \n",
    "   1. Error on the test set are high for the model with complexity of degree 1 and degree 15.  \n",
    "   2. Error on the test set reduces initially, however increases after a specific level of complexity.  \n",
    "   3. Error on the training set decreases continuously.  \n",
    "   \n",
    "The degree can also be associated with complexity. It can be observed that as complexity (number of  polynomial terms in the model) increases, the model starts to fit to train and test data well. But beyond  a specific level of complexity (i.e., complexity level 5), the training error continues to reduce, but the test  error starts to increase again. This is a point where the model starts to overfit the training set and stops  generalizing. So, the optimal model complexity is 5, which has low bias and low variance."
   ]
  },
  {
   "cell_type": "code",
   "execution_count": 39,
   "id": "32591620-563c-4e55-9521-65d4da5e834c",
   "metadata": {},
   "outputs": [
    {
     "data": {
      "image/png": "[encoded data removed]",
      "text/plain": [
       "<Figure size 432x288 with 1 Axes>"
      ]
     },
     "metadata": {
      "needs_background": "light"
     },
     "output_type": "display_data"
    }
   ],
   "source": [
    "# with deg = 5 i.e a deg 5 polynomial, this is the best fit given by above analysis\n",
    "fit_poly(5)\n",
    "plt.xlabel(\"x values\")\n",
    "plt.ylabel(\"y values\");"
   ]
  },
  {
   "cell_type": "markdown",
   "id": "d7c6ac23-c9eb-483d-b649-dee5908e71cc",
   "metadata": {},
   "source": [
    "## ***1.4 K-Fold Cross Validation***\n",
    "\n",
    "- **K-fold cross-validation is a robust validation approach that can be adopted <u>to verify if the model is overfitting</u>.** \n",
    "\n",
    "- *The model, which generalizes well and does not overfit, should not be very sensitive to any  change in underlying training samples.* K-fold cross-validation can do this by building and validating  multiple models by resampling multiple training and validation sets from the original dataset.\n",
    "\n",
    "- The following steps are used in K-fold cross-validation:  \n",
    "    1. *<u>Split the training data set into K subsets of equal size. Each subset will be called a fold</u>.* Let the  folds be labelled as $f_1,f_2,\\cdots,f_K$. Generally, the value of K is taken to be 5 or 10.  \n",
    "    2. For i = 1 to K  \n",
    "       (a) Fold $f_i$ is used as validation set and all the remaining K – 1 folds as training set.  \n",
    "       (b) Train the model using the training set and calculate the accuracy of the model in fold $f_i$.  \n",
    "<br><br>   \n",
    "\n",
    "- Calculate the final accuracy by averaging the accuracies in the test data across all K models. The average  accuracy value shows how the model will behave in the real world. \n",
    "- ***The variance of these accuracies is an  indication of the robustness of the model.***\n",
    "\n",
    "![k-fold_cross_validation](k-fold_cross_validation.png)"
   ]
  },
  {
   "cell_type": "markdown",
   "id": "41cc6c5f-5bbc-4d9a-8cc9-f9c9b57d62c3",
   "metadata": {},
   "source": [
    "## ***1.5 Advanced Regression Models*** "
   ]
  },
  {
   "cell_type": "markdown",
   "id": "3876c10c-7b1c-427b-afcc-01e9de9e9ba7",
   "metadata": {},
   "source": [
    "### ***1.5.1 Building a Linear Regg. Model*** \n",
    "Building a linear regression model to understand the shortcomings and then proceed to advanced regression models.<br>\n",
    "Using IPL dataset"
   ]
  },
  {
   "cell_type": "code",
   "execution_count": 1,
   "id": "e4c1b061-f2a3-44db-aea3-9f672d8e5672",
   "metadata": {},
   "outputs": [],
   "source": [
    "import pandas as pd\n",
    "import numpy as np\n",
    "import matplotlib.pyplot as plt\n",
    "import seaborn as sns\n",
    "import os\n",
    "\n",
    "import warnings\n",
    "warnings.filterwarnings(\"ignore\")\n",
    "\n",
    "%matplotlib inline\n",
    "pd.pandas.set_option(\"display.max_columns\", None)"
   ]
  },
  {
   "cell_type": "code",
   "execution_count": 40,
   "id": "5cd3e815-25b1-4c22-92e2-82144a6e6a3c",
   "metadata": {
    "scrolled": true,
    "tags": []
   },
   "outputs": [
    {
     "name": "stdout",
     "output_type": "stream",
     "text": [
      "<class 'pandas.core.frame.DataFrame'>\n",
      "RangeIndex: 130 entries, 0 to 129\n",
      "Data columns (total 26 columns):\n",
      " #   Column         Non-Null Count  Dtype  \n",
      "---  ------         --------------  -----  \n",
      " 0   Sl.NO.         130 non-null    int64  \n",
      " 1   PLAYER NAME    130 non-null    object \n",
      " 2   AGE            130 non-null    int64  \n",
      " 3   COUNTRY        130 non-null    object \n",
      " 4   TEAM           130 non-null    object \n",
      " 5   PLAYING ROLE   130 non-null    object \n",
      " 6   T-RUNS         130 non-null    int64  \n",
      " 7   T-WKTS         130 non-null    int64  \n",
      " 8   ODI-RUNS-S     130 non-null    int64  \n",
      " 9   ODI-SR-B       130 non-null    float64\n",
      " 10  ODI-WKTS       130 non-null    int64  \n",
      " 11  ODI-SR-BL      130 non-null    float64\n",
      " 12  CAPTAINCY EXP  130 non-null    int64  \n",
      " 13  RUNS-S         130 non-null    int64  \n",
      " 14  HS             130 non-null    int64  \n",
      " 15  AVE            130 non-null    float64\n",
      " 16  SR-B           130 non-null    float64\n",
      " 17  SIXERS         130 non-null    int64  \n",
      " 18  RUNS-C         130 non-null    int64  \n",
      " 19  WKTS           130 non-null    int64  \n",
      " 20  AVE-BL         130 non-null    float64\n",
      " 21  ECON           130 non-null    float64\n",
      " 22  SR-BL          130 non-null    float64\n",
      " 23  AUCTION YEAR   130 non-null    int64  \n",
      " 24  BASE PRICE     130 non-null    int64  \n",
      " 25  SOLD PRICE     130 non-null    int64  \n",
      "dtypes: float64(7), int64(15), object(4)\n",
      "memory usage: 26.5+ KB\n"
     ]
    }
   ],
   "source": [
    "ipl_auction_df = pd.read_csv(os.getcwd()+\"\\Data\\IPL IMB381IPL2013.csv\")\n",
    "ipl_auction_df.info()"
   ]
  },
  {
   "cell_type": "code",
   "execution_count": 41,
   "id": "3dddb983-6b92-4a9c-8196-d4251990b7db",
   "metadata": {},
   "outputs": [
    {
     "data": {
      "text/plain": [
       "Index(['Sl.NO.', 'PLAYER NAME', 'AGE', 'COUNTRY', 'TEAM', 'PLAYING ROLE',\n",
       "       'T-RUNS', 'T-WKTS', 'ODI-RUNS-S', 'ODI-SR-B', 'ODI-WKTS', 'ODI-SR-BL',\n",
       "       'CAPTAINCY EXP', 'RUNS-S', 'HS', 'AVE', 'SR-B', 'SIXERS', 'RUNS-C',\n",
       "       'WKTS', 'AVE-BL', 'ECON', 'SR-BL', 'AUCTION YEAR', 'BASE PRICE',\n",
       "       'SOLD PRICE'],\n",
       "      dtype='object')"
      ]
     },
     "execution_count": 41,
     "metadata": {},
     "output_type": "execute_result"
    }
   ],
   "source": [
    "ipl_auction_df.columns"
   ]
  },
  {
   "cell_type": "code",
   "execution_count": 42,
   "id": "602195a5-6f1c-44ea-b3d3-60ccbc743a4f",
   "metadata": {},
   "outputs": [],
   "source": [
    "X_features = ['AGE', 'COUNTRY', 'PLAYING ROLE','T-RUNS', 'T-WKTS',\n",
    "              'ODI-RUNS-S', 'ODI-SR-B', 'ODI-WKTS', 'ODI-SR-BL',\n",
    "              'CAPTAINCY EXP', 'RUNS-S', 'HS', 'AVE', 'SR-B', \n",
    "              'SIXERS', 'RUNS-C','WKTS', 'AVE-BL', 'ECON', 'SR-BL']\n",
    "\n",
    "# Out of these are four features that need to be encoded into dummy features using OHE(One Hot Encoding)\n",
    "\n",
    "categorical_features = ['AGE', 'COUNTRY', 'PLAYING ROLE', 'CAPTAINCY EXP']\n",
    "\n",
    "ipl_auction_encoded_df = pd.get_dummies(data = ipl_auction_df[X_features], columns = categorical_features, drop_first= True)"
   ]
  },
  {
   "cell_type": "code",
   "execution_count": 43,
   "id": "a6315d41-de49-4b15-ba93-40e328157c6f",
   "metadata": {},
   "outputs": [
    {
     "data": {
      "text/plain": [
       "Index(['T-RUNS', 'T-WKTS', 'ODI-RUNS-S', 'ODI-SR-B', 'ODI-WKTS', 'ODI-SR-BL',\n",
       "       'RUNS-S', 'HS', 'AVE', 'SR-B', 'SIXERS', 'RUNS-C', 'WKTS', 'AVE-BL',\n",
       "       'ECON', 'SR-BL', 'AGE_2', 'AGE_3', 'COUNTRY_BAN', 'COUNTRY_ENG',\n",
       "       'COUNTRY_IND', 'COUNTRY_NZ', 'COUNTRY_PAK', 'COUNTRY_SA', 'COUNTRY_SL',\n",
       "       'COUNTRY_WI', 'COUNTRY_ZIM', 'PLAYING ROLE_Batsman',\n",
       "       'PLAYING ROLE_Bowler', 'PLAYING ROLE_W. Keeper', 'CAPTAINCY EXP_1'],\n",
       "      dtype='object')"
      ]
     },
     "execution_count": 43,
     "metadata": {},
     "output_type": "execute_result"
    }
   ],
   "source": [
    "ipl_auction_encoded_df.columns"
   ]
  },
  {
   "cell_type": "code",
   "execution_count": 44,
   "id": "a3d38834-10a5-4cd9-b050-f7e3e6b7e88e",
   "metadata": {},
   "outputs": [],
   "source": [
    "X = ipl_auction_encoded_df\n",
    "Y = ipl_auction_df['SOLD PRICE']"
   ]
  },
  {
   "cell_type": "markdown",
   "id": "74595672-0a88-440a-8278-00597a313daa",
   "metadata": {},
   "source": [
    "**Standardization of X & Y**<br>\n",
    "\n",
    "Standardization is the process of bringing all features or variables into one single scale (normalized  scale). This can be done by subtracting mean from the values and dividing by the standard deviation of the feature or variable. Standardizing helps to manage difference in scales of measurements of different variables.\n",
    "\n",
    "$$X \\rightarrow \\frac{X - \\mu}{\\sigma}$$"
   ]
  },
  {
   "cell_type": "code",
   "execution_count": 45,
   "id": "b4badf21-71af-4f9b-a000-0975c09cd9c2",
   "metadata": {},
   "outputs": [],
   "source": [
    "from sklearn.preprocessing import StandardScaler\n",
    "\n",
    "# Initializing the StandardScaler\n",
    "X_scaler = StandardScaler()\n",
    "# Standardize all the feature columns\n",
    "X_scaled = X_scaler.fit_transform(X)\n",
    "\n",
    "# Standarding Y\n",
    "Y = (Y - Y.mean())/Y.std()"
   ]
  },
  {
   "cell_type": "code",
   "execution_count": 46,
   "id": "3998e697-d6a7-45af-99b6-8cff1aeca934",
   "metadata": {},
   "outputs": [],
   "source": [
    "from sklearn.model_selection import train_test_split\n",
    "\n",
    "X_train, X_test, y_train, y_test = train_test_split(X_scaled, Y, test_size=0.2, random_state=42)"
   ]
  },
  {
   "cell_type": "markdown",
   "id": "845ffbe2-f610-46d8-9449-ee708ee820da",
   "metadata": {},
   "source": [
    "**Stochastic Gradient Descent**\n",
    "\n",
    "*SGDRegressor* in *sklearn.linear_model* is a variation of gradient descent algorithm for building linear regression model. Gradient descent algorithm uses all the training examples to learn to minimize the cost function,  whereas *SGDRegressor(Stochastic Gradient Descent)* uses a subset of examples in each iteration for learning.\n",
    "\n",
    "https://towardsdatascience.com/stochastic-gradient-descent-clearly-explained-53d239905d31"
   ]
  },
  {
   "cell_type": "code",
   "execution_count": 47,
   "id": "7670b0c9-463c-4196-a8e7-9c12d92bb997",
   "metadata": {},
   "outputs": [
    {
     "data": {
      "text/plain": [
       "LinearRegression()"
      ]
     },
     "execution_count": 47,
     "metadata": {},
     "output_type": "execute_result"
    }
   ],
   "source": [
    "from sklearn.linear_model import LinearRegression\n",
    "\n",
    "linreg = LinearRegression()\n",
    "linreg.fit(X_train, y_train)"
   ]
  },
  {
   "cell_type": "code",
   "execution_count": 48,
   "id": "9d29d533-aec7-406b-9da9-dbe7ddd33917",
   "metadata": {},
   "outputs": [
    {
     "data": {
      "text/plain": [
       "array([-0.43539611, -0.04632556,  0.50840867, -0.03323988,  0.2220377 ,\n",
       "       -0.05065703,  0.17282657, -0.49173336,  0.58571405, -0.11654753,\n",
       "        0.24880095,  0.09546057,  0.16428731,  0.26400753, -0.08253341,\n",
       "       -0.28643889, -0.26842214, -0.21910913, -0.02622351,  0.24817898,\n",
       "        0.18760332,  0.10776084,  0.04737488,  0.05191335,  0.01235245,\n",
       "        0.00547115, -0.03124706,  0.08530192,  0.01790803, -0.05077454,\n",
       "        0.18745577])"
      ]
     },
     "execution_count": 48,
     "metadata": {},
     "output_type": "execute_result"
    }
   ],
   "source": [
    "linreg.coef_"
   ]
  },
  {
   "cell_type": "markdown",
   "id": "1adf0d7e-f16f-4d4b-83a7-f9c3440a6151",
   "metadata": {},
   "source": [
    "The sign of the coefficients indicates positive or negative effect on a player’s SOLD PRICE. We will store  the beta coefficients and respective column names in a DataFrame and then sort the coefficient values in  descending order to observe the effects."
   ]
  },
  {
   "cell_type": "code",
   "execution_count": 49,
   "id": "f8bde030-9d58-4ee4-a436-1cb431eed29a",
   "metadata": {},
   "outputs": [],
   "source": [
    "columns_coef_df = pd.DataFrame({'columns': ipl_auction_encoded_df.columns,\n",
    "                               'coef': linreg.coef_})\n",
    "\n",
    "# Sorting the features by coeff. values\n",
    "sorted_coef_vals = columns_coef_df.sort_values(by='coef', ascending=False)"
   ]
  },
  {
   "cell_type": "code",
   "execution_count": 50,
   "id": "84604575-25b8-4530-949c-755a744d610a",
   "metadata": {},
   "outputs": [
    {
     "data": {
      "image/png": "[encoded data removed]",
      "text/plain": [
       "<Figure size 720x720 with 1 Axes>"
      ]
     },
     "metadata": {
      "needs_background": "light"
     },
     "output_type": "display_data"
    }
   ],
   "source": [
    "plt.figure(figsize=(10,10))\n",
    "sns.barplot(x='coef', y='columns', data=sorted_coef_vals)\n",
    "plt.xlabel(\"Coefficients from Linear Regression\")\n",
    "plt.ylabel(\"Features\");"
   ]
  },
  {
   "cell_type": "markdown",
   "id": "5c4745c8-e5a9-4492-a723-3674cc9ef612",
   "metadata": {},
   "source": [
    "Observation from the above plot:\n",
    "1. AVE, ODI-RUNS-S, SIXERS are top three highly influential features which determine the  player’s SOLD PRICE.\n",
    "\n",
    "2. Higher ECON, SR-B and AGE have negative effect on SOLD PRICE.  \n",
    "\n",
    "3. Interestingly, higher test runs (T-Runs) and highest score (HS) have negative effect on the SOLD  PRICE. \n",
    "\n",
    "- Note that few of these counter-intuitive sign for coefficients could be due to multicollinearity. For example, we expect SR-B (batting strike rate) to have a positive effect on the  SOLD PRICE."
   ]
  },
  {
   "cell_type": "markdown",
   "id": "78a83769-f11e-45e9-a807-3b65bd96e3c9",
   "metadata": {},
   "source": [
    "**Calculating RMSE**\n",
    "\n",
    "We can calculate the RMSE on training and test sets to understand the model’s ability to predict SOLD  PRICE. We will develop an utility method *get_train_test_rmse()* to calculate and print the RMSE of train  and test sets for comparison. It will take the model as a parameter."
   ]
  },
  {
   "cell_type": "code",
   "execution_count": 51,
   "id": "0cf66d53-0932-4786-a277-e52864cb35b2",
   "metadata": {},
   "outputs": [],
   "source": [
    "from sklearn import metrics\n",
    "\n",
    "# Take the model as parameter \n",
    "# Print the RMSE on train & test set\n",
    "def get_train_test_rmse(model):\n",
    "    # On Training set\n",
    "    y_train_pred = model.predict(X_train)\n",
    "    # rmse\n",
    "    rmse_train = round(np.sqrt(metrics.mean_squared_error(y_train,\n",
    "                                                        y_train_pred)), 3)\n",
    "    \n",
    "    # On test set\n",
    "    y_test_pred = model.predict(X_test)\n",
    "    # rmse\n",
    "    rmse_test = round(np.sqrt(metrics.mean_squared_error(y_test,\n",
    "                                                         y_test_pred)), 3)\n",
    "    print(\"train:\", rmse_train, \", test:\", rmse_test)"
   ]
  },
  {
   "cell_type": "code",
   "execution_count": 52,
   "id": "52da3d8c-8da2-4006-bc65-e245fac9e38e",
   "metadata": {},
   "outputs": [
    {
     "name": "stdout",
     "output_type": "stream",
     "text": [
      "train: 0.679 , test: 0.749\n"
     ]
    }
   ],
   "source": [
    "get_train_test_rmse(linreg)"
   ]
  },
  {
   "cell_type": "markdown",
   "id": "d2b3afee-67f0-470e-ae92-51d35f3ba5df",
   "metadata": {},
   "source": [
    "RMSE on the training set is 0.679, while it is 0.749 on the test set. \n",
    "\n",
    "- **A good model that generalizes well  needs to have a very similar error on training and test sets. Large difference indicates that the model  may be overfitting to the training set. <u>Most widely used approach to deal with model overfitting is called  Regularization.**"
   ]
  },
  {
   "cell_type": "markdown",
   "id": "f487f4a9-7f92-44d3-b084-ee72066d8d33",
   "metadata": {},
   "source": [
    "### ***1.5.2 Applying Regularization***\n",
    "\n",
    "- **<u>One way to deal with overfitting is regularization</u>.** \n",
    "\n",
    "- *<u>It is observed that overfitting is typically caused by  inflation of the coefficients</u>.* To avoid overfitting, the coefficients should be regulated by penalizing potential inflation of coefficients. \n",
    "\n",
    "- Regularization applies penalties on parameters if they inflate to large  values and keeps them from being weighted too heavily. The coefficients are penalized by adding the coefficient terms to the cost function. If the coefficients  become large, the cost increases significantly. So, the optimizer controls the coefficient values to minimize the cost function.\n",
    "\n",
    "Following are the two approaches that can be used for adding a penalty to the  cost function:  \n",
    "1. **<u>L1 Norm</u>:** Summation of the absolute value of the coefficients. This is also called **Least Absolute  Shrinkage and Selection Operator(LASSO Term)**. The corresponding cost function is given by<br>$$\\epsilon_{mse} = \\frac{1}{N}\\sum_{i=1}^{N}(Y_i - (\\beta_0 + \\beta_1X_1 + \\cdots + \\beta_nX_n))^2 + \\alpha \\sum_{i=1}^{n}|\\beta_i|$$ where $\\alpha$ is the multiplier.\n",
    "\n",
    "2. **<u>L2 Norm</u>:** Summation of the squared value of the coefficients. This is called **Ridge Term**. The cost function is given by <br>$$\\epsilon_{mse} = \\frac{1}{N}\\sum_{i=1}^{N}(Y_i - (\\beta_0 + \\beta_1X_1 + \\cdots + \\beta_nX_n))^2 + \\alpha \\sum_{i=1}^{n}\\beta_i^2$$  \n",
    "\n",
    "\n",
    "- ***<u>Ridge term distributes (smoothens) the coefficient values across all the features, whereas LASSO seems  to reduce some of the coefficients to zero.</u>***\n",
    "\n",
    "- ***Features with coefficients value as zero can be treated as features with no contribution to the model. So, <u>LASSO can also be used for feature selection</u>,i.e., remove features with zero coefficients, thereby reducing the number of features.***\n",
    "\n",
    "![lasso_ridge_terms](lasso_ridge_terms.png)"
   ]
  },
  {
   "cell_type": "markdown",
   "id": "b73570d3-c48c-4b42-a372-54db514fa172",
   "metadata": {},
   "source": [
    "### ***Ridge Regression***\n",
    "\n",
    "*sklearn.linear_model* provides *Ridge regression* *for building linear models by applying L2 penalty*.  \n",
    "Ridge regression takes the following parameters:  \n",
    "1. alpha$(\\alpha)$ – float – is the regularization strength; regularization strength must be a positive float.<br> Regularization improves the estimation of the parameters and reduces the variance of the estimates.<br> Larger values of alpha imply stronger regularization.  \n",
    "2. max_iter – int (integer) – is the maximum number of iterations for the gradient solver."
   ]
  },
  {
   "cell_type": "code",
   "execution_count": 53,
   "id": "612527af-3419-4669-85b6-3adda6205d4a",
   "metadata": {},
   "outputs": [
    {
     "data": {
      "text/plain": [
       "Ridge(alpha=1, max_iter=500)"
      ]
     },
     "execution_count": 53,
     "metadata": {},
     "output_type": "execute_result"
    }
   ],
   "source": [
    "from sklearn.linear_model import Ridge\n",
    "\n",
    "ridge = Ridge(alpha= 1, max_iter= 500)\n",
    "ridge.fit(X_train, y_train)"
   ]
  },
  {
   "cell_type": "code",
   "execution_count": 54,
   "id": "354399ef-c19f-4789-9e6d-6aad3dd477b2",
   "metadata": {},
   "outputs": [
    {
     "name": "stdout",
     "output_type": "stream",
     "text": [
      "train: 0.68 , test: 0.724\n"
     ]
    }
   ],
   "source": [
    "get_train_test_rmse(ridge)"
   ]
  },
  {
   "cell_type": "code",
   "execution_count": 55,
   "id": "05257dd7-af1a-419d-978d-187cc616bdf6",
   "metadata": {},
   "outputs": [
    {
     "name": "stdout",
     "output_type": "stream",
     "text": [
      "train: 0.682 , test: 0.706\n"
     ]
    }
   ],
   "source": [
    "# the diff. in RMSE on train and test has reduced becoz of penalty effect.\n",
    "# the diff. can be reduced by applying stronger penalty\n",
    "\n",
    "ridge = Ridge(alpha=2, max_iter=1000)\n",
    "ridge.fit(X_train, y_train)\n",
    "get_train_test_rmse(ridge)"
   ]
  },
  {
   "cell_type": "markdown",
   "id": "9e83cf38-0ec4-4879-a114-76778461d967",
   "metadata": {},
   "source": [
    "- The difference in model accuracy on training and test has reduced. \n",
    "- We need to calculate the optimal value for $\\alpha$. This can be achieved in many ways. Multiple values of $\\alpha$ can be tested before arriving at the  optimal value. \n",
    "- ***The parameters which can be tuned are called <u>hyperparameters</u> in machine learning. Here $\\alpha$ is a hyperparameter.***  \n",
    "- *sklearn.model_selection.GridSearchCV* can help search for the optimal value"
   ]
  },
  {
   "cell_type": "markdown",
   "id": "083a8c1c-bf44-4214-a045-ea2fc55c7be3",
   "metadata": {},
   "source": [
    "### ***LASSO Regression***\n",
    "- *sklearn.linear_model* provides *LASSO regression* for building linear models by applying L1 penalty. \n",
    "- Two key parameters for LASSO regression are:  \n",
    "    1. alpha – float – multiplies the L1 term. Default value is set to 1.0.  \n",
    "    2. max_iter – int – Maximum number of iterations for gradient solver."
   ]
  },
  {
   "cell_type": "code",
   "execution_count": 69,
   "id": "4cb482e8-bdf6-442b-bd70-a19c77d7e0c6",
   "metadata": {},
   "outputs": [
    {
     "name": "stdout",
     "output_type": "stream",
     "text": [
      "train: 0.688 , test: 0.698\n"
     ]
    }
   ],
   "source": [
    "from sklearn.linear_model import Lasso\n",
    "\n",
    "lasso = Lasso(alpha = 0.01, max_iter=500)\n",
    "lasso.fit(X_train, y_train)\n",
    "get_train_test_rmse(lasso)"
   ]
  },
  {
   "cell_type": "markdown",
   "id": "5aeee0c0-c5dc-4f22-9ca7-413b5ee5a6b9",
   "metadata": {},
   "source": [
    "- It can be noticed that the model is not overfitting and the difference between train RMSE and test RMSE  is very small. \n",
    "\n",
    "- **LASSO reduces some of the coefficient values to 0, which indicates that these features are  not necessary for explaining the variance in the outcome variable.**"
   ]
  },
  {
   "cell_type": "code",
   "execution_count": 76,
   "id": "dfea47dd-b9c3-46d4-9c84-f03f1c2ebf3a",
   "metadata": {},
   "outputs": [
    {
     "data": {
      "text/plain": [
       "True"
      ]
     },
     "execution_count": 76,
     "metadata": {},
     "output_type": "execute_result"
    }
   ],
   "source": [
    "lasso.coef_.tolist()[1] == 0"
   ]
  },
  {
   "cell_type": "code",
   "execution_count": 79,
   "id": "93a67015-2ba1-4bdc-a612-394c4592cba3",
   "metadata": {},
   "outputs": [],
   "source": [
    "# Storing the feature names and coefficient values in the DataFrame \n",
    "lasso_coef_df = pd.DataFrame({'columns': ipl_auction_encoded_df.columns,\n",
    "                              'coef': lasso.coef_})"
   ]
  },
  {
   "cell_type": "code",
   "execution_count": 80,
   "id": "85ecf483-c91a-4567-a442-bd665bbb9114",
   "metadata": {},
   "outputs": [
    {
     "data": {
      "text/html": [
       "<div>\n",
       "<style scoped>\n",
       "    .dataframe tbody tr th:only-of-type {\n",
       "        vertical-align: middle;\n",
       "    }\n",
       "\n",
       "    .dataframe tbody tr th {\n",
       "        vertical-align: top;\n",
       "    }\n",
       "\n",
       "    .dataframe thead th {\n",
       "        text-align: right;\n",
       "    }\n",
       "</style>\n",
       "<table border=\"1\" class=\"dataframe\">\n",
       "  <thead>\n",
       "    <tr style=\"text-align: right;\">\n",
       "      <th></th>\n",
       "      <th>columns</th>\n",
       "      <th>coef</th>\n",
       "    </tr>\n",
       "  </thead>\n",
       "  <tbody>\n",
       "    <tr>\n",
       "      <th>1</th>\n",
       "      <td>T-WKTS</td>\n",
       "      <td>-0.0</td>\n",
       "    </tr>\n",
       "    <tr>\n",
       "      <th>3</th>\n",
       "      <td>ODI-SR-B</td>\n",
       "      <td>-0.0</td>\n",
       "    </tr>\n",
       "    <tr>\n",
       "      <th>13</th>\n",
       "      <td>AVE-BL</td>\n",
       "      <td>-0.0</td>\n",
       "    </tr>\n",
       "    <tr>\n",
       "      <th>28</th>\n",
       "      <td>PLAYING ROLE_Bowler</td>\n",
       "      <td>0.0</td>\n",
       "    </tr>\n",
       "  </tbody>\n",
       "</table>\n",
       "</div>"
      ],
      "text/plain": [
       "                columns  coef\n",
       "1                T-WKTS  -0.0\n",
       "3              ODI-SR-B  -0.0\n",
       "13               AVE-BL  -0.0\n",
       "28  PLAYING ROLE_Bowler   0.0"
      ]
     },
     "execution_count": 80,
     "metadata": {},
     "output_type": "execute_result"
    }
   ],
   "source": [
    "# filtering out coeffs. with zero\n",
    "lasso_coef_df[lasso_coef_df.coef == 0]\n",
    "\n",
    "# These features do not influence predicting the SOLD PRICE as the respective coefficients are 0."
   ]
  },
  {
   "cell_type": "markdown",
   "id": "735c96bc-a233-4e73-b36d-431e04f1b64a",
   "metadata": {},
   "source": [
    "### ***Elastic Net Regression***\n",
    "\n",
    "- **ElasticNet regression combines both L1 and L2 regularizations to build a regression model.** The corresponding cost function is given by\n",
    "$$\\epsilon_{mse} = \\frac{1}{N}\\sum_{i=1}^{N}(Y_i - (\\beta_0 + \\beta_1X_1 + \\cdots + \\beta_nX_n))^2 + \\gamma \\sum_{i=1}^{n}|\\beta_i| + \\sigma \\sum_{i=1}^{n}\\beta_i^2$$ \n",
    "\n",
    "- While building *ElasticNet* regression model, both **hypterparameters $\\sigma(L2) \\text{ and } \\gamma(L1)$** need to be set. <br>*ElasticNet* takes foll. 2 parameters:\n",
    "    1. *alpha* -> $alpha = \\sigma + \\gamma$. Default value is set to 1.0.\n",
    "    2. *l1_ratio* -> The *ElasticNet* mixing parameters, with $0 <= l1\\_ratio <= 1$. $$l1\\_ratio = \\frac{\\gamma}{\\sigma + \\gamma}$$ where <br> *l1_ratio* = 0 -> penalty is an *L2 penalty*. <br> *l1_ratio* = 1 -> it is an *L1 penalty*. <br> $0 < l1\\_ratio < 1$ -> the penalty is a combination of L1 & L2."
   ]
  },
  {
   "cell_type": "code",
   "execution_count": 81,
   "id": "8312d909-2c36-46dc-b8a6-41e58ba218ed",
   "metadata": {},
   "outputs": [
    {
     "name": "stdout",
     "output_type": "stream",
     "text": [
      "train: 0.789 , test: 0.665\n"
     ]
    }
   ],
   "source": [
    "from sklearn.linear_model import ElasticNet\n",
    "\n",
    "enet = ElasticNet(alpha = 1.01, l1_ratio= 0.001, max_iter= 500)\n",
    "enet.fit(X_train, y_train)\n",
    "get_train_test_rmse(enet)"
   ]
  },
  {
   "cell_type": "markdown",
   "id": "de205677-0531-4ea2-b70c-51e01e289b47",
   "metadata": {},
   "source": [
    "As we can see, applying both the regularizations did not improve the model performance. It has become  worse. In this case, we can choose to apply only L1 (LASSO) regularization, which seems to deal with the  overfitting problem efficiently."
   ]
  },
  {
   "cell_type": "markdown",
   "id": "6b20ef9a-353f-4deb-b406-2c3594d95987",
   "metadata": {},
   "source": [
    "#### ***Reference: Pradhan, Manaranjan; U Dinesh Kumar. Machine Learning using Python. Kindle Edition.*** "
   ]
  }
 ],
 "metadata": {
  "kernelspec": {
   "display_name": "Python 3 (ipykernel)",
   "language": "python",
   "name": "python3"
  },
  "language_info": {
   "codemirror_mode": {
    "name": "ipython",
    "version": 3
   },
   "file_extension": ".py",
   "mimetype": "text/x-python",
   "name": "python",
   "nbconvert_exporter": "python",
   "pygments_lexer": "ipython3",
   "version": "3.9.7"
  },
  "widgets": {
   "application/vnd.jupyter.widget-state+json": {
    "state": {},
    "version_major": 2,
    "version_minor": 0
   }
  }
 },
 "nbformat": 4,
 "nbformat_minor": 5
}
