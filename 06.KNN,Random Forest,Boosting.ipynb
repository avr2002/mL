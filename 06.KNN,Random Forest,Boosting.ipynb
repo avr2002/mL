{
 "cells": [
  {
   "cell_type": "markdown",
   "id": "f9cadcad-9d2b-48a9-8f81-661ab63cb5ac",
   "metadata": {},
   "source": [
    "#### ***Reference: Pradhan, Manaranjan; U Dinesh Kumar. Machine Learning using Python. Kindle Edition.*** "
   ]
  },
  {
   "cell_type": "markdown",
   "id": "bb11eba1-9747-4b9a-a25b-ca34c579edc0",
   "metadata": {},
   "source": [
    "## **Advanced Machine Learning Algorithms**\n",
    "- **K-Nearest Neighbours (KNN)**\n",
    "- **Random Forest**\n",
    "- **Boosting**"
   ]
  },
  {
   "cell_type": "markdown",
   "id": "1ae09412-7b3f-479a-8703-071f350e2f67",
   "metadata": {},
   "source": [
    "Using Bank data:<br>\n",
    "The data has several features related to the potential customers and whether they subscribed the  term deposit or not (outcome). The objective, in this case, is to predict which customers may respond to  their marketing campaign to open a term deposit with the bank. The response variable Y = 1 implies that  the customer subscribed a term deposit after the campaign and 0 otherwise. The marketing campaign is  based on phone calls."
   ]
  },
  {
   "cell_type": "code",
   "execution_count": 30,
   "id": "0f3f922b-e941-4128-8eb9-8bc714e146df",
   "metadata": {},
   "outputs": [],
   "source": [
    "import pandas as pd\n",
    "import numpy as np\n",
    "import matplotlib.pyplot as plt\n",
    "import seaborn as sns\n",
    "import os\n",
    "\n",
    "import warnings\n",
    "warnings.filterwarnings(\"ignore\")\n",
    "\n",
    "%matplotlib inline\n",
    "pd.pandas.set_option(\"display.max_columns\", None)"
   ]
  },
  {
   "cell_type": "code",
   "execution_count": 31,
   "id": "cb43f680-ca89-4ebb-80e6-87efb42d7163",
   "metadata": {},
   "outputs": [
    {
     "data": {
      "text/html": [
       "<div>\n",
       "<style scoped>\n",
       "    .dataframe tbody tr th:only-of-type {\n",
       "        vertical-align: middle;\n",
       "    }\n",
       "\n",
       "    .dataframe tbody tr th {\n",
       "        vertical-align: top;\n",
       "    }\n",
       "\n",
       "    .dataframe thead th {\n",
       "        text-align: right;\n",
       "    }\n",
       "</style>\n",
       "<table border=\"1\" class=\"dataframe\">\n",
       "  <thead>\n",
       "    <tr style=\"text-align: right;\">\n",
       "      <th></th>\n",
       "      <th>age</th>\n",
       "      <th>job</th>\n",
       "      <th>marital</th>\n",
       "      <th>education</th>\n",
       "      <th>default</th>\n",
       "      <th>balance</th>\n",
       "      <th>housing-loan</th>\n",
       "      <th>personal-loan</th>\n",
       "      <th>current-campaign</th>\n",
       "      <th>previous-campaign</th>\n",
       "      <th>subscribed</th>\n",
       "    </tr>\n",
       "  </thead>\n",
       "  <tbody>\n",
       "    <tr>\n",
       "      <th>0</th>\n",
       "      <td>30</td>\n",
       "      <td>unemployed</td>\n",
       "      <td>married</td>\n",
       "      <td>primary</td>\n",
       "      <td>no</td>\n",
       "      <td>1787</td>\n",
       "      <td>no</td>\n",
       "      <td>no</td>\n",
       "      <td>1</td>\n",
       "      <td>0</td>\n",
       "      <td>no</td>\n",
       "    </tr>\n",
       "    <tr>\n",
       "      <th>1</th>\n",
       "      <td>33</td>\n",
       "      <td>services</td>\n",
       "      <td>married</td>\n",
       "      <td>secondary</td>\n",
       "      <td>no</td>\n",
       "      <td>4789</td>\n",
       "      <td>yes</td>\n",
       "      <td>yes</td>\n",
       "      <td>1</td>\n",
       "      <td>4</td>\n",
       "      <td>no</td>\n",
       "    </tr>\n",
       "    <tr>\n",
       "      <th>2</th>\n",
       "      <td>35</td>\n",
       "      <td>management</td>\n",
       "      <td>single</td>\n",
       "      <td>tertiary</td>\n",
       "      <td>no</td>\n",
       "      <td>1350</td>\n",
       "      <td>yes</td>\n",
       "      <td>no</td>\n",
       "      <td>1</td>\n",
       "      <td>1</td>\n",
       "      <td>no</td>\n",
       "    </tr>\n",
       "    <tr>\n",
       "      <th>3</th>\n",
       "      <td>30</td>\n",
       "      <td>management</td>\n",
       "      <td>married</td>\n",
       "      <td>tertiary</td>\n",
       "      <td>no</td>\n",
       "      <td>1476</td>\n",
       "      <td>yes</td>\n",
       "      <td>yes</td>\n",
       "      <td>4</td>\n",
       "      <td>0</td>\n",
       "      <td>no</td>\n",
       "    </tr>\n",
       "    <tr>\n",
       "      <th>4</th>\n",
       "      <td>59</td>\n",
       "      <td>blue-collar</td>\n",
       "      <td>married</td>\n",
       "      <td>secondary</td>\n",
       "      <td>no</td>\n",
       "      <td>0</td>\n",
       "      <td>yes</td>\n",
       "      <td>no</td>\n",
       "      <td>1</td>\n",
       "      <td>0</td>\n",
       "      <td>no</td>\n",
       "    </tr>\n",
       "  </tbody>\n",
       "</table>\n",
       "</div>"
      ],
      "text/plain": [
       "   age          job  marital  education default  balance housing-loan  \\\n",
       "0   30   unemployed  married    primary      no     1787           no   \n",
       "1   33     services  married  secondary      no     4789          yes   \n",
       "2   35   management   single   tertiary      no     1350          yes   \n",
       "3   30   management  married   tertiary      no     1476          yes   \n",
       "4   59  blue-collar  married  secondary      no        0          yes   \n",
       "\n",
       "  personal-loan  current-campaign  previous-campaign subscribed  \n",
       "0            no                 1                  0         no  \n",
       "1           yes                 1                  4         no  \n",
       "2            no                 1                  1         no  \n",
       "3           yes                 4                  0         no  \n",
       "4            no                 1                  0         no  "
      ]
     },
     "execution_count": 31,
     "metadata": {},
     "output_type": "execute_result"
    }
   ],
   "source": [
    "bank_df = pd.read_csv(os.getcwd()+\"/Data/bank.csv\")\n",
    "bank_df.head()"
   ]
  },
  {
   "cell_type": "markdown",
   "id": "09a8a226-db63-42ae-9d8e-844d8f57fba5",
   "metadata": {},
   "source": [
    "#### ***Dealing with Imbalanced DataSets***\n",
    "\n",
    "- One of the major problems in machine learning is imbalanced (or unbalanced) dataset. \n",
    "- **A dataset is  imbalanced when there is no equal representation of all classes in the data.**"
   ]
  },
  {
   "cell_type": "code",
   "execution_count": 32,
   "id": "e9bfc2cc-6ad0-4613-8621-ea73bc8c2288",
   "metadata": {},
   "outputs": [
    {
     "data": {
      "text/plain": [
       "no     4000\n",
       "yes     521\n",
       "Name: subscribed, dtype: int64"
      ]
     },
     "execution_count": 32,
     "metadata": {},
     "output_type": "execute_result"
    }
   ],
   "source": [
    "bank_df.subscribed.value_counts()"
   ]
  },
  {
   "cell_type": "markdown",
   "id": "1ae5ec53-4add-488a-b933-2038a9ba9001",
   "metadata": {},
   "source": [
    "**The dataset is quite imbalanced.** Both the classes are not equally represented. There are only 521 (11.5%)  observations in which customers have subscribed as opposed to 4000 (88.5%)where they have not subscribed.<br>\n",
    "\n",
    "**In such cases, the model may not be able to learn and may be biased towards the class that is over-represented.**<br> \n",
    "\n",
    "Even if the model predicts that no customer will subscribe (all negatives), it will have an accuracy of more than 88%. This is called **<u>Accuracy Paradox</u>.**<br> \n",
    "But the objective of building a model here is to identify  the customers who will subscribe to the term deposit (i.e., increase the number of True Positives).<br>  \n",
    "\n",
    "***One approach to deal with imbalanced dataset is <u>bootstrapping</u>. It involves resampling techniques such as <u>upsampling and downsampling</u>.***\n",
    "\n",
    "   1. **<u>Upsampling</u>**: Increase the instances of under-represented minority class by replicating the existing observations in the dataset. Sampling with replacement is used for this purpose and is also called **<u>Oversampling</u>**. \n",
    "   \n",
    "   2. **<u>Downsampling</u>**: Reduce the instances of over-represented majority class by removing the existing observations from the dataset and is also called **<u>Undersampling</u>**.  \n",
    "\n",
    "\n",
    "<u>*sklearn.utils* has resample method to help with upsampling</u>. It takes three parameters:  \n",
    "   1. The original sample set  \n",
    "   2. replace: Implements resampling with replacement. If false, all resampled examples will be unique.  \n",
    "   3. n_samples: Number of samples to generate.  \n",
    "   \n",
    "\n",
    "In this case, the number of examples of yes cases will be increased to 2000."
   ]
  },
  {
   "cell_type": "code",
   "execution_count": 33,
   "id": "4ebf7eab-85d7-4a74-9db1-85d347db601f",
   "metadata": {},
   "outputs": [],
   "source": [
    "from sklearn.utils import resample\n",
    "\n",
    "# seprate the cases of yes-subscribers & no-subscribers\n",
    "bank_subscribed_no = bank_df[bank_df.subscribed == 'no']\n",
    "bank_subscribed_yes = bank_df[bank_df.subscribed == 'yes']\n",
    "\n",
    "# Up-sample the yes-subscribed cases\n",
    "df_minority_upsampled = resample(bank_subscribed_yes, replace=True,\n",
    "                                 n_samples=2000, random_state=42)\n",
    "\n",
    "# Combine the majority class with upsampled minority class\n",
    "new_bank_df = pd.concat([bank_subscribed_no, df_minority_upsampled])"
   ]
  },
  {
   "cell_type": "code",
   "execution_count": 34,
   "id": "1eb1f44b-91a0-482f-92c9-8c88aef1c415",
   "metadata": {},
   "outputs": [
    {
     "data": {
      "text/plain": [
       "no     4000\n",
       "yes    2000\n",
       "Name: subscribed, dtype: int64"
      ]
     },
     "execution_count": 34,
     "metadata": {},
     "output_type": "execute_result"
    }
   ],
   "source": [
    "new_bank_df.subscribed.value_counts()"
   ]
  },
  {
   "cell_type": "markdown",
   "id": "7019b1a1-5475-401b-955c-6b4f3772b19a",
   "metadata": {},
   "source": [
    "After upsampling, the new_bank_df contains 4000 cases of subscribed = no and 2000 cases of subscribed =  yes in the ratio of 67:33. Before using the dataset, the examples can be shuffled to make sure they are not  in a particular order. *sklearn.utils* has a method *shuffle()*, which does the shuffling."
   ]
  },
  {
   "cell_type": "code",
   "execution_count": 35,
   "id": "f2183a9e-6fa7-4aee-922b-762088c12bb3",
   "metadata": {},
   "outputs": [],
   "source": [
    "from sklearn.utils import shuffle\n",
    "\n",
    "new_bank_df = shuffle(new_bank_df)"
   ]
  },
  {
   "cell_type": "code",
   "execution_count": 36,
   "id": "172cc963-bdf6-4b54-bd80-1f14ef395c08",
   "metadata": {},
   "outputs": [
    {
     "data": {
      "text/plain": [
       "['age',\n",
       " 'job',\n",
       " 'marital',\n",
       " 'education',\n",
       " 'default',\n",
       " 'balance',\n",
       " 'housing-loan',\n",
       " 'personal-loan',\n",
       " 'current-campaign',\n",
       " 'previous-campaign']"
      ]
     },
     "execution_count": 36,
     "metadata": {},
     "output_type": "execute_result"
    }
   ],
   "source": [
    "X_features = list(new_bank_df.columns)\n",
    "X_features.remove('subscribed')\n",
    "X_features"
   ]
  },
  {
   "cell_type": "code",
   "execution_count": 37,
   "id": "fdfb2208-82c0-4fe0-a32e-273040ddef10",
   "metadata": {},
   "outputs": [],
   "source": [
    "encoded_bank_df = pd.get_dummies(new_bank_df[X_features], drop_first=True)\n",
    "\n",
    "X = encoded_bank_df"
   ]
  },
  {
   "cell_type": "code",
   "execution_count": 38,
   "id": "c4d3c914-c307-46a6-911f-89e23d3d9e07",
   "metadata": {},
   "outputs": [],
   "source": [
    "# The 'subscribed' column needs to be encoded as 1 - yes, 0 - no\n",
    "Y = new_bank_df.subscribed.map(lambda x: int(x == 'yes'))"
   ]
  },
  {
   "cell_type": "code",
   "execution_count": 39,
   "id": "2802a184-8f6a-48ea-8393-64906a92f240",
   "metadata": {},
   "outputs": [],
   "source": [
    "from sklearn.model_selection import train_test_split\n",
    "\n",
    "X_train, X_test, y_train, y_test = train_test_split(X, Y, test_size=0.3, random_state=42)"
   ]
  },
  {
   "cell_type": "code",
   "execution_count": 40,
   "id": "9bec19f6-391b-4aec-9610-4f1f0e46d070",
   "metadata": {},
   "outputs": [
    {
     "data": {
      "text/plain": [
       "0    1218\n",
       "1     582\n",
       "Name: subscribed, dtype: int64"
      ]
     },
     "execution_count": 40,
     "metadata": {},
     "output_type": "execute_result"
    }
   ],
   "source": [
    "y_test.value_counts()"
   ]
  },
  {
   "cell_type": "markdown",
   "id": "89d989cd-bcfd-4b2a-b698-cb2fb06a1e25",
   "metadata": {},
   "source": [
    "### ***Logistic Regression Model***\n",
    "\n",
    "Cost function of logistic regression is called **log loss (log likelihood) or binary cross-entropy function** and is given by\n",
    "$$-\\frac{1}{N}\\sum_{i=1}^{N}[y_iln(p_i) + (1 - y_i)ln(1 - p_i)]$$\n",
    "where $p_i$ is the probability that Y belongs to class 1.\n",
    "$$p_i = P(y_i = 1) = \\frac{e^Z}{1 + e^Z}$$\n",
    "$$Z = \\beta_0 + \\beta_1X_1 + \\beta_2X_2 + \\cdots + \\beta_mX_m$$\n",
    "where $X_1, X_2, \\cdots, X_m$ are the independent variables or features."
   ]
  },
  {
   "cell_type": "code",
   "execution_count": 41,
   "id": "c8fa3eeb-42f8-4d5e-899e-a1442b57ffb1",
   "metadata": {},
   "outputs": [
    {
     "data": {
      "text/plain": [
       "LogisticRegression()"
      ]
     },
     "execution_count": 41,
     "metadata": {},
     "output_type": "execute_result"
    }
   ],
   "source": [
    "from sklearn.linear_model import LogisticRegression\n",
    "\n",
    "logit = LogisticRegression()\n",
    "logit.fit(X_train, y_train)"
   ]
  },
  {
   "cell_type": "code",
   "execution_count": 42,
   "id": "80c38d75-5127-46d2-b2a9-0eecc526b005",
   "metadata": {},
   "outputs": [],
   "source": [
    "pred_y = logit.predict(X_test)"
   ]
  },
  {
   "cell_type": "code",
   "execution_count": 43,
   "id": "4a6c1012-5ee9-45f3-bb61-56fe599a7add",
   "metadata": {},
   "outputs": [],
   "source": [
    "from sklearn import metrics\n",
    "\n",
    "def draw_cm(actual, predicted):\n",
    "    cm = metrics.confusion_matrix(actual, predicted, [1,0])\n",
    "    # The matrix will be oriented as [1,0] i.e the classes with label 1 will be represented by the first row and 0 as second row\n",
    "    sns.heatmap(cm, annot=True, fmt = '.2f')\n",
    "                # xticklables = [\"Subscribed\", \"Not Subscribed\"], \n",
    "                # yticklables = [\"Subscribed\", \"Not Subscribed\"])\n",
    "    plt.ylabel(\"True Label\")\n",
    "    plt.xlabel(\"Predicted Label\")\n",
    "    plt.show()"
   ]
  },
  {
   "cell_type": "code",
   "execution_count": 44,
   "id": "938846c7-2671-483a-8cf0-53a54035b1f5",
   "metadata": {},
   "outputs": [
    {
     "data": {
      "image/png": "[encoded data removed]",
      "text/plain": [
       "<Figure size 432x288 with 2 Axes>"
      ]
     },
     "metadata": {
      "needs_background": "light"
     },
     "output_type": "display_data"
    }
   ],
   "source": [
    "# Here in 1st - row represents class 1(i.e. YES) and 2nd-row represents class 0(i.e. NO)\n",
    "# 1st-Column represents class 0 predicted values, 2nd-Column class 1 predicted values.\n",
    "\n",
    "cm = draw_cm(y_test, pred_y)"
   ]
  },
  {
   "cell_type": "code",
   "execution_count": 45,
   "id": "38f3c5e6-9eb5-4b50-8fd8-e0f2cae3bb7f",
   "metadata": {},
   "outputs": [
    {
     "name": "stdout",
     "output_type": "stream",
     "text": [
      "              precision    recall  f1-score   support\n",
      "\n",
      "           0       0.73      0.94      0.82      1218\n",
      "           1       0.67      0.26      0.38       582\n",
      "\n",
      "    accuracy                           0.72      1800\n",
      "   macro avg       0.70      0.60      0.60      1800\n",
      "weighted avg       0.71      0.72      0.68      1800\n",
      "\n"
     ]
    }
   ],
   "source": [
    "print(metrics.classification_report(y_test, pred_y))"
   ]
  },
  {
   "cell_type": "markdown",
   "id": "62660ff7-f694-4c60-bab8-5cffd343c469",
   "metadata": {},
   "source": [
    "**Plotting ROC Curve**"
   ]
  },
  {
   "cell_type": "code",
   "execution_count": 46,
   "id": "f83fec34-3845-4c58-a497-e9ebdcf88d0f",
   "metadata": {},
   "outputs": [
    {
     "data": {
      "text/html": [
       "<div>\n",
       "<style scoped>\n",
       "    .dataframe tbody tr th:only-of-type {\n",
       "        vertical-align: middle;\n",
       "    }\n",
       "\n",
       "    .dataframe tbody tr th {\n",
       "        vertical-align: top;\n",
       "    }\n",
       "\n",
       "    .dataframe thead th {\n",
       "        text-align: right;\n",
       "    }\n",
       "</style>\n",
       "<table border=\"1\" class=\"dataframe\">\n",
       "  <thead>\n",
       "    <tr style=\"text-align: right;\">\n",
       "      <th></th>\n",
       "      <th>0</th>\n",
       "      <th>1</th>\n",
       "    </tr>\n",
       "  </thead>\n",
       "  <tbody>\n",
       "    <tr>\n",
       "      <th>0</th>\n",
       "      <td>0.334785</td>\n",
       "      <td>0.665215</td>\n",
       "    </tr>\n",
       "    <tr>\n",
       "      <th>1</th>\n",
       "      <td>0.733292</td>\n",
       "      <td>0.266708</td>\n",
       "    </tr>\n",
       "    <tr>\n",
       "      <th>2</th>\n",
       "      <td>0.478457</td>\n",
       "      <td>0.521543</td>\n",
       "    </tr>\n",
       "    <tr>\n",
       "      <th>3</th>\n",
       "      <td>0.567237</td>\n",
       "      <td>0.432763</td>\n",
       "    </tr>\n",
       "    <tr>\n",
       "      <th>4</th>\n",
       "      <td>0.656898</td>\n",
       "      <td>0.343102</td>\n",
       "    </tr>\n",
       "  </tbody>\n",
       "</table>\n",
       "</div>"
      ],
      "text/plain": [
       "          0         1\n",
       "0  0.334785  0.665215\n",
       "1  0.733292  0.266708\n",
       "2  0.478457  0.521543\n",
       "3  0.567237  0.432763\n",
       "4  0.656898  0.343102"
      ]
     },
     "execution_count": 46,
     "metadata": {},
     "output_type": "execute_result"
    }
   ],
   "source": [
    "predict_proba_df = pd.DataFrame(logit.predict_proba(X_test))\n",
    "predict_proba_df.head()"
   ]
  },
  {
   "cell_type": "code",
   "execution_count": 47,
   "id": "a5345673-f5f2-4859-bc43-fdf075a8d3e2",
   "metadata": {},
   "outputs": [
    {
     "data": {
      "text/html": [
       "<div>\n",
       "<style scoped>\n",
       "    .dataframe tbody tr th:only-of-type {\n",
       "        vertical-align: middle;\n",
       "    }\n",
       "\n",
       "    .dataframe tbody tr th {\n",
       "        vertical-align: top;\n",
       "    }\n",
       "\n",
       "    .dataframe thead th {\n",
       "        text-align: right;\n",
       "    }\n",
       "</style>\n",
       "<table border=\"1\" class=\"dataframe\">\n",
       "  <thead>\n",
       "    <tr style=\"text-align: right;\">\n",
       "      <th></th>\n",
       "      <th>index</th>\n",
       "      <th>actual</th>\n",
       "      <th>chd_1</th>\n",
       "    </tr>\n",
       "  </thead>\n",
       "  <tbody>\n",
       "    <tr>\n",
       "      <th>0</th>\n",
       "      <td>36</td>\n",
       "      <td>1</td>\n",
       "      <td>0.665215</td>\n",
       "    </tr>\n",
       "    <tr>\n",
       "      <th>1</th>\n",
       "      <td>3639</td>\n",
       "      <td>0</td>\n",
       "      <td>0.266708</td>\n",
       "    </tr>\n",
       "    <tr>\n",
       "      <th>2</th>\n",
       "      <td>1915</td>\n",
       "      <td>1</td>\n",
       "      <td>0.521543</td>\n",
       "    </tr>\n",
       "    <tr>\n",
       "      <th>3</th>\n",
       "      <td>3624</td>\n",
       "      <td>0</td>\n",
       "      <td>0.432763</td>\n",
       "    </tr>\n",
       "    <tr>\n",
       "      <th>4</th>\n",
       "      <td>4333</td>\n",
       "      <td>0</td>\n",
       "      <td>0.343102</td>\n",
       "    </tr>\n",
       "  </tbody>\n",
       "</table>\n",
       "</div>"
      ],
      "text/plain": [
       "   index  actual     chd_1\n",
       "0     36       1  0.665215\n",
       "1   3639       0  0.266708\n",
       "2   1915       1  0.521543\n",
       "3   3624       0  0.432763\n",
       "4   4333       0  0.343102"
      ]
     },
     "execution_count": 47,
     "metadata": {},
     "output_type": "execute_result"
    }
   ],
   "source": [
    "test_result_df = pd.DataFrame({'actual': y_test})\n",
    "test_result_df.reset_index(inplace=True)\n",
    "\n",
    "# Assigning the probability values for class label 1\n",
    "test_result_df['chd_1'] = predict_proba_df.iloc[:, 1:2]\n",
    "test_result_df.head()"
   ]
  },
  {
   "cell_type": "code",
   "execution_count": 48,
   "id": "9b162924-56f7-4355-a5af-540d23461e1a",
   "metadata": {},
   "outputs": [
    {
     "data": {
      "text/plain": [
       "0.7"
      ]
     },
     "execution_count": 48,
     "metadata": {},
     "output_type": "execute_result"
    }
   ],
   "source": [
    "auc_score = metrics.roc_auc_score(test_result_df.actual,\n",
    "                                 test_result_df.chd_1)\n",
    "\n",
    "auc_score = round(auc_score, 2)\n",
    "auc_score"
   ]
  },
  {
   "cell_type": "markdown",
   "id": "abd7780e-9fc3-49ed-bf39-8df85c29fc07",
   "metadata": {},
   "source": [
    "To visualize the ROC curve, an utility method draw_roc_curve() is implemented, which takes the  model, test set and actual labels of test set to draw the ROC curve. It returns the auc_score, false  positive rate (FPR), true positive rate (TPR) values for different threshold (cut-off probabilities)  ranging from 0.0 to 1.0."
   ]
  },
  {
   "cell_type": "code",
   "execution_count": 49,
   "id": "d57cf7c4-0bc3-4e23-9e0b-6e91c8f30c5b",
   "metadata": {},
   "outputs": [],
   "source": [
    "## The method takes the following three parameters  \n",
    "## model: the classification model  \n",
    " ## test_X: X features of the test set  \n",
    " ## test_y: actual labels of the test set  \n",
    "## Returns  \n",
    "  ## - ROC Auc Score   \n",
    "  ## - FPR and TPRs for different threshold values \n",
    "\n",
    "def draw_roc_curve(model, X_test, y_test):\n",
    "    # Creating and initializing a results dataframe with actual labels\n",
    "    test_result_df = pd.DataFrame({'actual': y_test})\n",
    "    test_result_df.reset_index(inplace=True)\n",
    "    \n",
    "    # predict the probabilities on test set\n",
    "    predict_proba_df = pd.DataFrame(model.predict_proba(X_test))\n",
    "    \n",
    "    # Assigning the probability values for class label 1\n",
    "    test_result_df['chd_1'] = predict_proba_df.iloc[:, 1:2]\n",
    "    \n",
    "    # selecting the proba. that belong to class 1\n",
    "    test_result_df['chd_1'] = predict_proba_df.iloc[:, 1:2]\n",
    "    \n",
    "    # invoke roc_curve() to return\n",
    "    fpr, tpr, thresholds = metrics.roc_curve(test_result_df.actual,\n",
    "                                            test_result_df.chd_1,\n",
    "                                            drop_intermediate = False)\n",
    "    \n",
    "    # getting roc_auc_score\n",
    "    auc_score = metrics.roc_auc_score(test_result_df.actual,\n",
    "                                      test_result_df.chd_1)\n",
    "    \n",
    "    plt.figure(figsize=(8,6))\n",
    "    # plotting actual fpr & tpr values\n",
    "    plt.plot(fpr, tpr, label = 'ROC curve (area = %0.2f)' %auc_score)\n",
    "    # plotting the diagonal line from (0,1)\n",
    "    plt.plot([0,1], [0,1], 'k--')\n",
    "    plt.xlim([0.0, 1.0])\n",
    "    plt.ylim([0.0, 1.05])\n",
    "    \n",
    "    plt.xlabel(\"False Positive Rate or [1 - True Negative Rate]\")\n",
    "    plt.ylabel(\"True Positive Rate\")\n",
    "    plt.title(\"Receiver Operating Characteristic(ROC) example\")\n",
    "    plt.legend(loc='lower right')\n",
    "    plt.show();\n",
    "    \n",
    "    return auc_score, fpr, tpr, thresholds"
   ]
  },
  {
   "cell_type": "code",
   "execution_count": 50,
   "id": "482fa943-0cd2-4661-8a81-6069fe04dba8",
   "metadata": {},
   "outputs": [
    {
     "data": {
      "image/png": "[encoded data removed]",
      "text/plain": [
       "<Figure size 576x432 with 1 Axes>"
      ]
     },
     "metadata": {
      "needs_background": "light"
     },
     "output_type": "display_data"
    }
   ],
   "source": [
    "auc_score, fpr, tpr, thresholds = draw_roc_curve(logit, X_test, y_test)"
   ]
  },
  {
   "cell_type": "markdown",
   "id": "8d63eb52-13da-40c6-8906-4f4f32a0b0a4",
   "metadata": {},
   "source": [
    "## **K-Nearest Neighbors (KNN) Algorithm**\n",
    "\n",
    "*<u>K-Nearest Neighbors (KNN) algorithm is a non-parametric, lazy learning algorithm used for regression and  classification problems.</u>* \n",
    "\n",
    "Machine learning algorithms are of two types: *<u>parametric and non-parametric</u>.*<br>\n",
    "\n",
    "   1. **<u>Parametric models</u>** estimate a fixed number of parameters from the data and strong assumptions of the data. The data is assumed to be following a specific probability distribution. Logistic  regression is an example of a parametric model.  \n",
    "   \n",
    "   2. **<u>Non-parametric models</u>** do not make any assumptions on the underlying data distribution (such  as normal distribution). KNN memorizes the data and classifies new observations by comparing  the training data.\n",
    "<br>\n",
    "\n",
    "KNN algorithm finds observations in the training set, which are similar to the new observation. *These observations are called <u>neighbors</u>*. For better accuracy, a set of neighbors (K) can be considered for  classifying a new observation. The class for the new observation can be predicted to be same class that  majority of the neighbors belong to.\n",
    "\n",
    "\n",
    "![KNN](KNN.png)\n",
    "\n",
    "\n",
    "*sklearn.neighbors* provides *KNeighborsClassifier* algorithm for classification problems.\n",
    "*KNeighborsClassifier* takes the following parameters:  \n",
    "   1. n_neighbors: - int – # of neighbors. Default is k = 5.    \n",
    "   2. metric: - string – The distance metrics. Default ‘Minkowski’. \n",
    "   \n",
    "   3. weights: - str – Default is uniform where all points in each neighborhood are weighted equally. Else the distance which weighs points by the inverse of their distance."
   ]
  },
  {
   "cell_type": "code",
   "execution_count": 51,
   "id": "b11db3c2-4ec0-4a67-89c6-db02129508ca",
   "metadata": {},
   "outputs": [
    {
     "data": {
      "text/plain": [
       "KNeighborsClassifier()"
      ]
     },
     "execution_count": 51,
     "metadata": {},
     "output_type": "execute_result"
    }
   ],
   "source": [
    "from sklearn.neighbors import KNeighborsClassifier\n",
    "\n",
    "knn_clf = KNeighborsClassifier() # all default parameters\n",
    "knn_clf.fit(X_train, y_train)"
   ]
  },
  {
   "cell_type": "code",
   "execution_count": 52,
   "id": "260ae5ed-8f02-4b61-a417-4cbf08264966",
   "metadata": {},
   "outputs": [
    {
     "data": {
      "image/png": "[encoded data removed]",
      "text/plain": [
       "<Figure size 576x432 with 1 Axes>"
      ]
     },
     "metadata": {
      "needs_background": "light"
     },
     "output_type": "display_data"
    }
   ],
   "source": [
    "# KNN Accuracy\n",
    "_,_,_,_ = draw_roc_curve(knn_clf, X_test, y_test)\n",
    "\n",
    "# AUC Score of 0.85 - Better than Logistic Regg. Model"
   ]
  },
  {
   "cell_type": "code",
   "execution_count": 53,
   "id": "6ed85399-440c-4be6-9966-72798cb31f75",
   "metadata": {},
   "outputs": [
    {
     "data": {
      "image/png": "[encoded data removed]",
      "text/plain": [
       "<Figure size 432x288 with 2 Axes>"
      ]
     },
     "metadata": {
      "needs_background": "light"
     },
     "output_type": "display_data"
    }
   ],
   "source": [
    "# Predicting on test set\n",
    "pred_y = knn_clf.predict(X_test)\n",
    "# Confusion MAtrix\n",
    "draw_cm(y_test, pred_y)"
   ]
  },
  {
   "cell_type": "code",
   "execution_count": 54,
   "id": "dbc874de-9986-4a3e-b89b-8f828fd43cf3",
   "metadata": {},
   "outputs": [
    {
     "name": "stdout",
     "output_type": "stream",
     "text": [
      "              precision    recall  f1-score   support\n",
      "\n",
      "           0       0.86      0.79      0.82      1218\n",
      "           1       0.62      0.72      0.67       582\n",
      "\n",
      "    accuracy                           0.77      1800\n",
      "   macro avg       0.74      0.76      0.74      1800\n",
      "weighted avg       0.78      0.77      0.77      1800\n",
      "\n"
     ]
    }
   ],
   "source": [
    "print(metrics.classification_report(y_test, pred_y))"
   ]
  },
  {
   "cell_type": "markdown",
   "id": "aba0f786-245d-4ce4-8791-458d9e6761e7",
   "metadata": {},
   "source": [
    "As shown above, the recall of positive cases has improved from 0.26(logistic regression model)  to 0.72 in the KNN model.<br> \n",
    "The above model accuracy is obtained by considering the default number of  neighbors (i.e., k = 5).<br>\n",
    "\n",
    "***\n",
    "\n",
    "Can the accuracy of the model be improved by increasing or reducing the number  of neighbors? In other words, what is the most optimal number of neighbors (K) to be considered for  classification in this case?<br> \n",
    "\n",
    "**<u>K in KNN is called hyperparameter and the process of finding optimal value for  a hyperparameter is called hyperparameter tuning.**"
   ]
  },
  {
   "cell_type": "markdown",
   "id": "3cbc737e-7b29-476e-badd-ce3061822a72",
   "metadata": {},
   "source": [
    "### ***GridSearch for Optimal Parameters***\n",
    "\n",
    "**One of the problems in machine learning is the selection of optimal hyperparameters**.\n",
    "\n",
    "*sklearn.model_ selection* provides a feature called *GridSearchCV*, which searches through a set of given hyperparameter values and reports the most optimal one. \n",
    "\n",
    "***GridSearchCV does k-fold cross-validation for each value of  hyperparameter to measure accuracy and avoid overfitting.***\n",
    "\n",
    "GridSearchCV can be used for any machine learning algorithm to search for optimal values for its hyperparameters. GridSearchCV searches among a list of possible hyperparameter values and reports the  best value based on accuracy measures. \n",
    "\n",
    "GridSearchCV takes the following parameters:  \n",
    "   1. estimator – scikit-learn model, which implements estimator interface. This is the ML algorithm.  \n",
    "   2. param_grid – A dictionary with parameter names (string) as keys and lists of parameter values  to search for.  \n",
    "   3. scoring – string – the accuracy measure. For example, ‘r2’ for regression models and ‘f1’,  ‘precision’, ‘recall’ or roc_auc’ for classification models.\n",
    "   4. cv – integer – the number of folds in K-fold.  \n",
    "***\n",
    "In our example, the hyperparameters and corresponding set of values to search for are as follows:  \n",
    "   1. n_neighbhors – All values from 5 to 10.  \n",
    "   2. metric (for distance calculation) – ‘canberra’, ‘euclidean’, ‘minkowski’.  \n",
    "*All possible combination of hyperparameters will be evaluated by GridSearchCV. Also, to measure the  robustness of the model, each set of value will be evaluated by K-fold cross-validation. The accuracy  measure reported will be the average accuracy across all the folds from K-fold cross-validation.*"
   ]
  },
  {
   "cell_type": "code",
   "execution_count": 55,
   "id": "58f079aa-b8bb-4cb2-a7d1-b5535173707a",
   "metadata": {},
   "outputs": [
    {
     "data": {
      "text/plain": [
       "GridSearchCV(cv=10, estimator=KNeighborsClassifier(),\n",
       "             param_grid=[{'metric': ['canberra', 'euclidean', 'minkowski'],\n",
       "                          'n_neighbors': [5, 6, 7, 8, 9]}],\n",
       "             scoring='roc_auc')"
      ]
     },
     "execution_count": 55,
     "metadata": {},
     "output_type": "execute_result"
    }
   ],
   "source": [
    "from sklearn.model_selection import GridSearchCV\n",
    "\n",
    "# Creating a dictionary with hyperparameters & possible values for searching\n",
    "tuned_parameters = [{'n_neighbors': list(range(5,10)),\n",
    "                     'metric': ['canberra', 'euclidean', 'minkowski']}]\n",
    "\n",
    "# Configuring the grid search\n",
    "clf = GridSearchCV(estimator = KNeighborsClassifier(),\n",
    "                   param_grid = tuned_parameters,\n",
    "                   cv = 10,\n",
    "                   scoring = 'roc_auc')\n",
    "\n",
    "# fit the search with training set\n",
    "clf.fit(X_train, y_train)"
   ]
  },
  {
   "cell_type": "code",
   "execution_count": 56,
   "id": "723d33c5-4388-4f60-93d4-222735d2be59",
   "metadata": {},
   "outputs": [
    {
     "data": {
      "text/plain": [
       "0.8353251513521043"
      ]
     },
     "execution_count": 56,
     "metadata": {},
     "output_type": "execute_result"
    }
   ],
   "source": [
    "clf.best_score_"
   ]
  },
  {
   "cell_type": "code",
   "execution_count": 57,
   "id": "00b34be5-0fe0-4e3f-a656-97c1a0f23875",
   "metadata": {},
   "outputs": [
    {
     "data": {
      "text/plain": [
       "{'metric': 'canberra', 'n_neighbors': 5}"
      ]
     },
     "execution_count": 57,
     "metadata": {},
     "output_type": "execute_result"
    }
   ],
   "source": [
    "clf.best_params_"
   ]
  },
  {
   "cell_type": "code",
   "execution_count": 58,
   "id": "cc3b8218-ba2c-4da3-9a62-c1826c0c4cb2",
   "metadata": {},
   "outputs": [],
   "source": [
    "# clf.cv_results_"
   ]
  },
  {
   "cell_type": "markdown",
   "id": "e1c5dadb-fb67-4d1c-a22c-7a785b752ebe",
   "metadata": {},
   "source": [
    "GridSearch suggests that the best combination of parameters is *n_neighbors = 5* and *canberra* distance and the corresponding *roc_auc_score* is 0.835, which is slightly higher than minkowski distance."
   ]
  },
  {
   "cell_type": "markdown",
   "id": "d6f528a0-68b4-4fdc-b8e6-3b85acb5a696",
   "metadata": {
    "jp-MarkdownHeadingCollapsed": true,
    "tags": []
   },
   "source": [
    "## ***Ensemble Methods***\n",
    "\n",
    "<img src=\"ensemble_methods.png\" width=\"1000\"/>\n",
    "\n",
    "- **In above figure, K and N, respectively, are number of features and records in the original set, while k and  n, respectively, are the number of features and records in the sampled set (bootstrapped samples).** \n",
    "\n",
    "- The  process of bootstrapping samples from original set to build multiple models and aggregating their results  for final prediction is called **Bagging**. The term “bagging” comes from bootstrapping plus aggregating.  \n",
    "\n",
    "- One of the most widely used bagging technique is **Random Forest**."
   ]
  },
  {
   "cell_type": "markdown",
   "id": "ffa2c4cc-48f4-444c-a202-d23e7c7fab4e",
   "metadata": {},
   "source": [
    "## **Random Forest**\n",
    "\n",
    "Random forest is one of the most popular ensemble techniques used in the industry due to its performance  and scalability. \n",
    "\n",
    "- **A random forest is an ensemble of decision trees (classification and regression tree), where  each decision tree is built from bootstrap samples (sampling with replacement) and randomly selected  subset of features without replacement. The decision trees are normally grown deep (without pruning).**  \n",
    "\n",
    "- The number of estimators or models to be used in Random Forest can be tuned to increase the  model accuracy.<br> The hyperparameters in Random Forest model are - \n",
    "   1. Number of decision trees.  \n",
    "   2. Number of records and features to be sampled.  \n",
    "   3. Depth and search criteria (Gini impurity index or entropy).\n",
    "   \n",
    "\n",
    "<img src=\"random_forest_parameters.png\" width=\"850\"/>"
   ]
  },
  {
   "cell_type": "markdown",
   "id": "20ef5cf4-d026-42c2-aca3-745c8cc8f1fa",
   "metadata": {},
   "source": [
    "### ***Building a Random Forest Model***"
   ]
  },
  {
   "cell_type": "code",
   "execution_count": 67,
   "id": "189279bf-6d03-4daf-81c0-0b260d11c9e8",
   "metadata": {},
   "outputs": [
    {
     "data": {
      "text/plain": [
       "RandomForestClassifier()"
      ]
     },
     "execution_count": 67,
     "metadata": {},
     "output_type": "execute_result"
    }
   ],
   "source": [
    "from sklearn.ensemble import RandomForestClassifier\n",
    "\n",
    "radm_clf = RandomForestClassifier()\n",
    "radm_clf.fit(X_train, y_train)"
   ]
  },
  {
   "cell_type": "code",
   "execution_count": 68,
   "id": "e559c5b5-2fed-4948-9805-a175746dbb47",
   "metadata": {},
   "outputs": [
    {
     "data": {
      "image/png": "[encoded data removed]",
      "text/plain": [
       "<Figure size 576x432 with 1 Axes>"
      ]
     },
     "metadata": {
      "needs_background": "light"
     },
     "output_type": "display_data"
    }
   ],
   "source": [
    "_,_,_,_ = draw_roc_curve(radm_clf, X_test, y_test)\n",
    "\n",
    "# AUC in Random Forest is 0.97 which is better than KNN model"
   ]
  },
  {
   "cell_type": "markdown",
   "id": "fc94dba1-b899-4d03-bfdc-ca01b70be8ff",
   "metadata": {},
   "source": [
    "### ***Grid Search for Optimal Parameters***\n",
    "Improving accuracy by using grid search by fine-tuning the hyperparameters.\n",
    "<br>\n",
    "One disadvantage of grid search is that it can be time-consuming. We will tune only the parameters *max_depth*,  *n_estimators* and *max_features* and use a small set of values for search."
   ]
  },
  {
   "cell_type": "code",
   "execution_count": 69,
   "id": "330e5d8e-7c14-4481-95a1-a1e1726fa495",
   "metadata": {},
   "outputs": [
    {
     "data": {
      "text/plain": [
       "GridSearchCV(cv=5, estimator=RandomForestClassifier(),\n",
       "             param_grid=[{'max_depth': [10, 15], 'max_features': ['sqrt', 0.2],\n",
       "                          'n_estimators': [10, 20]}],\n",
       "             scoring='roc_auc')"
      ]
     },
     "execution_count": 69,
     "metadata": {},
     "output_type": "execute_result"
    }
   ],
   "source": [
    "from sklearn.model_selection import GridSearchCV\n",
    "\n",
    "# Configuring parameters and values for searched\n",
    "tuned_parameters = [{'max_depth': [10, 15],\n",
    "                     'n_estimators': [10, 20],\n",
    "                     'max_features': ['sqrt', 0.2]}]\n",
    "\n",
    "# Initializing the RF Classifier\n",
    "radm_clf = RandomForestClassifier()\n",
    "\n",
    "# Configuring the search with tuned parameters\n",
    "clf = GridSearchCV(radm_clf,\n",
    "                  tuned_parameters,\n",
    "                  cv = 5,\n",
    "                  scoring = 'roc_auc')\n",
    "\n",
    "# Fitting the training set\n",
    "clf.fit(X_train, y_train)"
   ]
  },
  {
   "cell_type": "code",
   "execution_count": 70,
   "id": "9e4940cd-b432-4b50-98c0-cfba13b81dff",
   "metadata": {},
   "outputs": [
    {
     "data": {
      "text/plain": [
       "0.9411057368352695"
      ]
     },
     "execution_count": 70,
     "metadata": {},
     "output_type": "execute_result"
    }
   ],
   "source": [
    "clf.best_score_"
   ]
  },
  {
   "cell_type": "code",
   "execution_count": 71,
   "id": "53f3d428-8f91-418f-8d12-8c0f3333ab4c",
   "metadata": {},
   "outputs": [
    {
     "data": {
      "text/plain": [
       "{'max_depth': 15, 'max_features': 'sqrt', 'n_estimators': 20}"
      ]
     },
     "execution_count": 71,
     "metadata": {},
     "output_type": "execute_result"
    }
   ],
   "source": [
    "clf.best_params_"
   ]
  },
  {
   "cell_type": "markdown",
   "id": "738b8d25-cd6a-432a-a780-07dcec36193b",
   "metadata": {},
   "source": [
    "### ***Building the final model with Optimal Parameters***"
   ]
  },
  {
   "cell_type": "code",
   "execution_count": 73,
   "id": "6a9d8568-de7d-4e74-bc23-42320659d7f2",
   "metadata": {},
   "outputs": [
    {
     "data": {
      "text/plain": [
       "RandomForestClassifier(max_depth=15, max_features='sqrt', n_estimators=20)"
      ]
     },
     "execution_count": 73,
     "metadata": {},
     "output_type": "execute_result"
    }
   ],
   "source": [
    "radm_clf = RandomForestClassifier(max_depth=15, max_features='sqrt', n_estimators=20)\n",
    "\n",
    "radm_clf.fit(X_train, y_train)                                  "
   ]
  },
  {
   "cell_type": "code",
   "execution_count": 74,
   "id": "6a0299e5-cd1a-472d-b5f2-33a59936ed8e",
   "metadata": {},
   "outputs": [
    {
     "data": {
      "image/png": "[encoded data removed]",
      "text/plain": [
       "<Figure size 576x432 with 1 Axes>"
      ]
     },
     "metadata": {
      "needs_background": "light"
     },
     "output_type": "display_data"
    }
   ],
   "source": [
    "_,_,_,_ = draw_roc_curve(radm_clf, X_test, y_test)\n",
    "\n",
    "# We get AUC = 0.95 which is quite good"
   ]
  },
  {
   "cell_type": "code",
   "execution_count": 75,
   "id": "dd33db88-5edb-4c80-843d-0f4ba49df38c",
   "metadata": {},
   "outputs": [
    {
     "data": {
      "image/png": "[encoded data removed]",
      "text/plain": [
       "<Figure size 432x288 with 2 Axes>"
      ]
     },
     "metadata": {
      "needs_background": "light"
     },
     "output_type": "display_data"
    }
   ],
   "source": [
    "pred_y = radm_clf.predict(X_test)\n",
    "draw_cm(y_test, pred_y)"
   ]
  },
  {
   "cell_type": "code",
   "execution_count": 76,
   "id": "a86fd450-27db-4a90-a813-6738966d7960",
   "metadata": {},
   "outputs": [
    {
     "data": {
      "text/plain": [
       "0    1218\n",
       "1     582\n",
       "Name: subscribed, dtype: int64"
      ]
     },
     "execution_count": 76,
     "metadata": {},
     "output_type": "execute_result"
    }
   ],
   "source": [
    "y_test.value_counts()"
   ]
  },
  {
   "cell_type": "markdown",
   "id": "0d1384f7-e635-4c55-a8f3-12f523762978",
   "metadata": {},
   "source": [
    "So, our model can detect 471/582 subscribed cases and there are only 64 false positives cases."
   ]
  },
  {
   "cell_type": "code",
   "execution_count": 78,
   "id": "e82aeb1b-4042-411c-8ea1-7ebc4c2eeb16",
   "metadata": {},
   "outputs": [
    {
     "name": "stdout",
     "output_type": "stream",
     "text": [
      "              precision    recall  f1-score   support\n",
      "\n",
      "           0       0.91      0.95      0.93      1218\n",
      "           1       0.88      0.81      0.84       582\n",
      "\n",
      "    accuracy                           0.90      1800\n",
      "   macro avg       0.90      0.88      0.89      1800\n",
      "weighted avg       0.90      0.90      0.90      1800\n",
      "\n"
     ]
    }
   ],
   "source": [
    "print(metrics.classification_report(y_test, pred_y))"
   ]
  },
  {
   "cell_type": "markdown",
   "id": "10c15d47-769e-4fe1-8fc1-33614cd38f7a",
   "metadata": {},
   "source": [
    "The precision and recall are 0.88 & 0.81 which is far better than logistic regression and KNN models."
   ]
  },
  {
   "cell_type": "markdown",
   "id": "65bdcf4c-b548-4cc0-bf1c-2dbb59c4d19d",
   "metadata": {},
   "source": [
    "### ***Finding Importance Features***\n",
    "\n",
    "Random forest algorithm reports feature importance by considering feature usage over all the trees in  the forest. This gives good insight into which features have important information with respect to the  outcome variable. It uses *“Gini impurity reduction”* or *“mean decrease impurity”* for calculating the  importance.<br>\n",
    "\n",
    "Feature importance is calculated for a feature by multiplying error reduction at any node by the  feature with the proportion of samples reaching that node. Then the values are averaged over all the trees to find final feature importance. In *sklearn*, the classifiers return a parameter called *featureimportances*, which holds the feature importance values."
   ]
  },
  {
   "cell_type": "code",
   "execution_count": 87,
   "id": "a8f6e0d3-7231-4303-9684-8e88cacd4f8a",
   "metadata": {},
   "outputs": [
    {
     "data": {
      "image/png": "[encoded data removed]",
      "text/plain": [
       "<Figure size 720x576 with 1 Axes>"
      ]
     },
     "metadata": {
      "needs_background": "light"
     },
     "output_type": "display_data"
    }
   ],
   "source": [
    "# Ploting imp. features in descending order of their importance\n",
    "\n",
    "# Creating a dataframe to store the features and their importance\n",
    "feature_rank = pd.DataFrame({'feature': X_train.columns, \n",
    "                             'importance': radm_clf.feature_importances_})\n",
    "\n",
    "feature_rank.sort_values(by = 'importance', ascending=False, inplace=True)\n",
    "\n",
    "plt.figure(figsize=(10,8))\n",
    "sns.barplot(y = 'feature', x = 'importance', data = feature_rank);"
   ]
  },
  {
   "cell_type": "code",
   "execution_count": 89,
   "id": "b976bab4-9594-40f1-a9de-f3e1d60aa7e0",
   "metadata": {},
   "outputs": [
    {
     "data": {
      "text/plain": [
       "['balance', 'age', 'previous-campaign', 'current-campaign', 'housing-loan_yes']"
      ]
     },
     "execution_count": 89,
     "metadata": {},
     "output_type": "execute_result"
    }
   ],
   "source": [
    "list(feature_rank.feature[0:5])"
   ]
  },
  {
   "cell_type": "markdown",
   "id": "e03ea786-082c-4dbb-bfb5-56324e30de11",
   "metadata": {},
   "source": [
    "The top 5 features are *['balance', 'age', 'previous-campaign', 'current-campaign', 'housing-loan_yes']*<br>\n",
    "The importance score is normalized and shows the relative importance of features. The cumulative  sum of features importance can show the amount of variance explained by the top five features."
   ]
  },
  {
   "cell_type": "code",
   "execution_count": 90,
   "id": "35a7a16e-7ad4-4f1e-9c41-c6ba5d7aac56",
   "metadata": {},
   "outputs": [
    {
     "data": {
      "text/html": [
       "<div>\n",
       "<style scoped>\n",
       "    .dataframe tbody tr th:only-of-type {\n",
       "        vertical-align: middle;\n",
       "    }\n",
       "\n",
       "    .dataframe tbody tr th {\n",
       "        vertical-align: top;\n",
       "    }\n",
       "\n",
       "    .dataframe thead th {\n",
       "        text-align: right;\n",
       "    }\n",
       "</style>\n",
       "<table border=\"1\" class=\"dataframe\">\n",
       "  <thead>\n",
       "    <tr style=\"text-align: right;\">\n",
       "      <th></th>\n",
       "      <th>feature</th>\n",
       "      <th>importance</th>\n",
       "      <th>cumsum</th>\n",
       "    </tr>\n",
       "  </thead>\n",
       "  <tbody>\n",
       "    <tr>\n",
       "      <th>1</th>\n",
       "      <td>balance</td>\n",
       "      <td>0.275725</td>\n",
       "      <td>27.572491</td>\n",
       "    </tr>\n",
       "    <tr>\n",
       "      <th>0</th>\n",
       "      <td>age</td>\n",
       "      <td>0.201793</td>\n",
       "      <td>47.751767</td>\n",
       "    </tr>\n",
       "    <tr>\n",
       "      <th>3</th>\n",
       "      <td>previous-campaign</td>\n",
       "      <td>0.121475</td>\n",
       "      <td>59.899297</td>\n",
       "    </tr>\n",
       "    <tr>\n",
       "      <th>2</th>\n",
       "      <td>current-campaign</td>\n",
       "      <td>0.101554</td>\n",
       "      <td>70.054696</td>\n",
       "    </tr>\n",
       "    <tr>\n",
       "      <th>21</th>\n",
       "      <td>housing-loan_yes</td>\n",
       "      <td>0.039418</td>\n",
       "      <td>73.996517</td>\n",
       "    </tr>\n",
       "    <tr>\n",
       "      <th>17</th>\n",
       "      <td>education_secondary</td>\n",
       "      <td>0.026683</td>\n",
       "      <td>76.664833</td>\n",
       "    </tr>\n",
       "    <tr>\n",
       "      <th>22</th>\n",
       "      <td>personal-loan_yes</td>\n",
       "      <td>0.026265</td>\n",
       "      <td>79.291293</td>\n",
       "    </tr>\n",
       "    <tr>\n",
       "      <th>15</th>\n",
       "      <td>marital_married</td>\n",
       "      <td>0.026002</td>\n",
       "      <td>81.891505</td>\n",
       "    </tr>\n",
       "    <tr>\n",
       "      <th>4</th>\n",
       "      <td>job_blue-collar</td>\n",
       "      <td>0.022344</td>\n",
       "      <td>84.125858</td>\n",
       "    </tr>\n",
       "    <tr>\n",
       "      <th>16</th>\n",
       "      <td>marital_single</td>\n",
       "      <td>0.021287</td>\n",
       "      <td>86.254543</td>\n",
       "    </tr>\n",
       "  </tbody>\n",
       "</table>\n",
       "</div>"
      ],
      "text/plain": [
       "                feature  importance     cumsum\n",
       "1               balance    0.275725  27.572491\n",
       "0                   age    0.201793  47.751767\n",
       "3     previous-campaign    0.121475  59.899297\n",
       "2      current-campaign    0.101554  70.054696\n",
       "21     housing-loan_yes    0.039418  73.996517\n",
       "17  education_secondary    0.026683  76.664833\n",
       "22    personal-loan_yes    0.026265  79.291293\n",
       "15      marital_married    0.026002  81.891505\n",
       "4       job_blue-collar    0.022344  84.125858\n",
       "16       marital_single    0.021287  86.254543"
      ]
     },
     "execution_count": 90,
     "metadata": {},
     "output_type": "execute_result"
    }
   ],
   "source": [
    "feature_rank['cumsum'] = feature_rank.importance.cumsum() * 100\n",
    "feature_rank.head(10)"
   ]
  },
  {
   "cell_type": "markdown",
   "id": "63aad688-c155-4174-a9f1-de59a52689b7",
   "metadata": {},
   "source": [
    "The top five features provide 74% of the information in the data with respect to the outcome variable. This technique can also be used for feature selection. Random forest being a black box model, cannot be  interpreted. But it can be used to select a subset of features using feature importance criteria and build  simpler models for interpretation."
   ]
  },
  {
   "cell_type": "markdown",
   "id": "add40ddf-1bc2-4cf1-8c61-d633e525af2f",
   "metadata": {},
   "source": [
    "## **Boosting**\n",
    "\n",
    "- Boosting is another popular ensemble technique which combines multiple weak classifiers into a single strong classifier.<br> A weak classifier is one which is slightly better than random guessing. That is, the error is less than 50%. \n",
    "\n",
    "- Any classification algorithm can be used for boosting and is called base classifier. \n",
    "\n",
    "- Boosting  builds multiple classifiers in a sequential manner as opposed to bagging, which can build classifiers in  parallel. Boosting builds initial classifier by giving equal weights to each sample and then focuses on  correctly classifying misclassified examples in subsequent classifiers.<br> Two most widely used boosting algorithms are -<br> **AdaBoost and Gradient Boosting.**"
   ]
  },
  {
   "cell_type": "markdown",
   "id": "17b823bc-02ca-4bce-b8a0-b47505c6646b",
   "metadata": {},
   "source": [
    "### ***AdaBoost Explained Clearly!***\n",
    "\n",
    "<img src=\"AdaBoost.png\" width=\"950\"/>\n",
    "\n",
    "*sklearn.ensemble.AdaBoostClassifier* takes the following parameters to build an AdaBoost model:  \n",
    "   1. base_estimator: object – The base estimator from which the boosted ensemble is built. The estimator should have the capability to utilize differential weights for samples (for example, decision tree or logistic regression).  \n",
    "   \n",
    "   2. n_estimators: integer – The maximum number of estimators at which boosting algorithm is terminated. In the case of perfect fit, the learning procedure is stopped early. Default is 50.  \n",
    "   \n",
    "   3. learning_rate: float – Learning rate shrinks the contribution of each classifier specified  by learning_rate. There is a trade-off between learning_rate and n_estimators. Default value for learning_rate is 1."
   ]
  },
  {
   "cell_type": "code",
   "execution_count": 99,
   "id": "e2b27d93-bb58-4c77-914d-fb36a2a482ca",
   "metadata": {},
   "outputs": [
    {
     "data": {
      "text/plain": [
       "AdaBoostClassifier(base_estimator=LogisticRegression())"
      ]
     },
     "execution_count": 99,
     "metadata": {},
     "output_type": "execute_result"
    }
   ],
   "source": [
    "from sklearn.ensemble import AdaBoostClassifier\n",
    "from sklearn.linear_model import LogisticRegression\n",
    "\n",
    "# Initializing logistic regression to use as base classifier\n",
    "logreg_clf = LogisticRegression()\n",
    "\n",
    "# initializing AdaBoost classifier with 50 classifiers\n",
    "ada_clf = AdaBoostClassifier(logreg_clf, n_estimators=50)\n",
    "\n",
    "ada_clf.fit(X_train, y_train)"
   ]
  },
  {
   "cell_type": "code",
   "execution_count": 100,
   "id": "bf06e270-57a7-4e6b-900b-a6bf5305ee9f",
   "metadata": {},
   "outputs": [
    {
     "data": {
      "image/png": "[encoded data removed]",
      "text/plain": [
       "<Figure size 576x432 with 1 Axes>"
      ]
     },
     "metadata": {
      "needs_background": "light"
     },
     "output_type": "display_data"
    }
   ],
   "source": [
    "_,_,_,_ = draw_roc_curve(ada_clf, X_test, y_test)"
   ]
  },
  {
   "cell_type": "markdown",
   "id": "89706590-534e-4147-8dac-9debd1b7fe99",
   "metadata": {},
   "source": [
    "## ***Gradient Boosting***\n",
    "\n",
    "AdaBoost focusses on the misclassified examples in subsequent classifiers, whereas Gradient Boosting  focusses on residuals from previous classifiers and fits a model to the residuals. Gradient boosting algorithm repetitively leverages the patterns in residuals and strengthens the model with weak predictions  and makes it better. Once it reaches a stage in which residuals do not have any pattern that could be modeled, it stops modeling residuals. It uses gradient descent algorithm in each stage to minimize the error. ***Gradient boosting typically uses decision tree as base classifier.***\n",
    "\n",
    "The following steps are used in gradient boosting:\n",
    "   1. Fit the first model to the data $Y = F_1(x)$.\n",
    "   2. Fit the next model to the residuals $\\epsilon_1 = Y - F_1(x) = F_2(x)$.\n",
    "   3. The above steps are repeated until the residuals do not change significantly.\n",
    "   4. The final model is used to make the final predictions.\n",
    "    $$F(X_i) = \\left(\\sum_{k=1}^{K}\\alpha_kF_k(X_i)\\right)$$\n",
    "    where $\\alpha_k$ is the learning rate or accuracy of model $k$.\n",
    "    \n",
    "*sklearn.ensemble.GradientBoostingClassifier* classifier takes the following key parameters:  \n",
    "   1. *n_estimators*: int – The number of boosting stages to perform. Default value is 100. Gradient  boosting is fairly robust to overfitting, so usually a large number of estimators result in better  performance.  \n",
    "   \n",
    "   2. *max_depth*: integer – Maximum depth of the individual regression estimators. The maximum  depth limits the number of levels from the root node in the tree.  \n",
    "   \n",
    "   3. *max_features*: int, float, string – The number of features to consider when looking for the best  split. The applicable values are given in random forest section. "
   ]
  },
  {
   "cell_type": "code",
   "execution_count": 101,
   "id": "50c00f8d-dfbb-4dd7-b1bb-5d6dfda13795",
   "metadata": {},
   "outputs": [
    {
     "data": {
      "text/plain": [
       "GradientBoostingClassifier(max_depth=10, n_estimators=500)"
      ]
     },
     "execution_count": 101,
     "metadata": {},
     "output_type": "execute_result"
    }
   ],
   "source": [
    "from sklearn.ensemble import GradientBoostingClassifier\n",
    "\n",
    "# Initializing Gradient Boosting with 500 estimators and max depth as 10\n",
    "gboost_clf = GradientBoostingClassifier(n_estimators=500, max_depth=10)\n",
    "\n",
    "gboost_clf.fit(X_train, y_train)"
   ]
  },
  {
   "cell_type": "code",
   "execution_count": 102,
   "id": "ec0d935f-ccb0-4c62-887e-d13b26ebf998",
   "metadata": {},
   "outputs": [
    {
     "data": {
      "image/png": "[encoded data removed]",
      "text/plain": [
       "<Figure size 576x432 with 1 Axes>"
      ]
     },
     "metadata": {
      "needs_background": "light"
     },
     "output_type": "display_data"
    }
   ],
   "source": [
    "_,_,_,_ = draw_roc_curve(gboost_clf, X_test, y_test)"
   ]
  },
  {
   "cell_type": "markdown",
   "id": "daeea1fc-4b75-4dcb-b06c-fbd05e6b0d70",
   "metadata": {},
   "source": [
    "**The model has a 98% AUC score. It seems to be the best among all models we have built so far. But  is it overfitting? We will run a 10-fold cross-validation to check the model’s accuracy.**"
   ]
  },
  {
   "cell_type": "code",
   "execution_count": 104,
   "id": "e2f5d6cc-963a-4e5e-aa4e-54dcead186f2",
   "metadata": {},
   "outputs": [],
   "source": [
    "from sklearn.model_selection import cross_val_score\n",
    "\n",
    "gboost_clf = GradientBoostingClassifier(n_estimators=500, \n",
    "                                        max_depth=10)\n",
    "\n",
    "cv_score = cross_val_score(gboost_clf, X_train, y_train,\n",
    "                           cv = 10, scoring = 'roc_auc')"
   ]
  },
  {
   "cell_type": "code",
   "execution_count": 105,
   "id": "92110511-ab64-4191-ab8b-31d874079613",
   "metadata": {},
   "outputs": [
    {
     "name": "stdout",
     "output_type": "stream",
     "text": [
      "[0.94992247 0.96387809 0.96000101 0.96899382 0.97512413 0.98497821\n",
      " 0.965954   0.97023508 0.94515655 0.98059581]\n"
     ]
    }
   ],
   "source": [
    "print(cv_score)"
   ]
  },
  {
   "cell_type": "code",
   "execution_count": 106,
   "id": "6bdbe528-7a37-4b4c-82ca-3df0ba20fb99",
   "metadata": {},
   "outputs": [
    {
     "name": "stdout",
     "output_type": "stream",
     "text": [
      "Mean Accuracy: 0.9664839159892582 , with standard deviation of: 0.011893047542353688\n"
     ]
    }
   ],
   "source": [
    "print(\"Mean Accuracy:\", np.mean(cv_score), \", with standard deviation of:\", np.std(cv_score))"
   ]
  },
  {
   "cell_type": "markdown",
   "id": "a791ee2c-fc27-47e3-abf8-b406b9ab7667",
   "metadata": {},
   "source": [
    "**The model accuracy is consistent with a mean accuracy of 96.7% and a standard deviation of only 1%.  This is a robust model.**"
   ]
  },
  {
   "cell_type": "code",
   "execution_count": 107,
   "id": "85f6f854-de68-45ba-9fab-1b629a84be25",
   "metadata": {},
   "outputs": [
    {
     "data": {
      "image/png": "[encoded data removed]",
      "text/plain": [
       "<Figure size 432x288 with 2 Axes>"
      ]
     },
     "metadata": {
      "needs_background": "light"
     },
     "output_type": "display_data"
    }
   ],
   "source": [
    "gboost_clf.fit(X_train, y_train)\n",
    "pred_y = gboost_clf.predict(X_test)\n",
    "draw_cm(y_test, pred_y)"
   ]
  },
  {
   "cell_type": "code",
   "execution_count": 108,
   "id": "e99387bb-c511-4c84-8fdf-4f434d54c15e",
   "metadata": {},
   "outputs": [
    {
     "data": {
      "text/plain": [
       "0    1218\n",
       "1     582\n",
       "Name: subscribed, dtype: int64"
      ]
     },
     "execution_count": 108,
     "metadata": {},
     "output_type": "execute_result"
    }
   ],
   "source": [
    "y_test.value_counts()"
   ]
  },
  {
   "cell_type": "markdown",
   "id": "64fd5f85-0a9f-44db-b706-3250080b693f",
   "metadata": {},
   "source": [
    "**The Model predicts only 37 False Negatives & only 57 False Positives.**"
   ]
  },
  {
   "cell_type": "code",
   "execution_count": 109,
   "id": "312a4dee-e036-41d4-ba9c-9e5a6cc71f20",
   "metadata": {},
   "outputs": [
    {
     "name": "stdout",
     "output_type": "stream",
     "text": [
      "              precision    recall  f1-score   support\n",
      "\n",
      "           0       0.97      0.95      0.96      1218\n",
      "           1       0.91      0.94      0.92       582\n",
      "\n",
      "    accuracy                           0.95      1800\n",
      "   macro avg       0.94      0.94      0.94      1800\n",
      "weighted avg       0.95      0.95      0.95      1800\n",
      "\n"
     ]
    }
   ],
   "source": [
    "print(metrics.classification_report(y_test, pred_y))"
   ]
  },
  {
   "cell_type": "markdown",
   "id": "5cdb8e84-729a-420f-b017-437866a426b8",
   "metadata": {},
   "source": [
    "Like random forest algorithm, the boosting algorithm also provides feature importance based on  how each feature has contributed to the accuracy of the model."
   ]
  },
  {
   "cell_type": "code",
   "execution_count": 111,
   "id": "11ceb315-0578-4134-9364-16ee432f4563",
   "metadata": {},
   "outputs": [
    {
     "data": {
      "image/png": "[encoded data removed]",
      "text/plain": [
       "<Figure size 720x576 with 1 Axes>"
      ]
     },
     "metadata": {
      "needs_background": "light"
     },
     "output_type": "display_data"
    }
   ],
   "source": [
    "# Ploting imp. features in descending order of their importance\n",
    "\n",
    "# Creating a dataframe to store the features and their importance\n",
    "feature_rank = pd.DataFrame({'feature': X_train.columns, \n",
    "                             'importance': gboost_clf.feature_importances_})\n",
    "\n",
    "feature_rank.sort_values(by = 'importance', ascending=False, inplace=True)\n",
    "\n",
    "plt.figure(figsize=(10,8))\n",
    "sns.barplot(y = 'feature', x = 'importance', data = feature_rank)\n",
    "plt.title(\"Feature sorted by their importance values in the gradient boosting model.\");"
   ]
  },
  {
   "cell_type": "markdown",
   "id": "cc949bcd-59c3-4a2d-a08f-b49ee5211a66",
   "metadata": {},
   "source": [
    "Gradient boosting also selected the features *['balance', 'age', 'previous-campaign']* as top features which have maximum information about whether a customer will subscribe or not subscribe to the term deposits."
   ]
  },
  {
   "cell_type": "markdown",
   "id": "eee105da-f24f-478a-9d91-d7c9366cb548",
   "metadata": {},
   "source": [
    "#### ***Reference: Pradhan, Manaranjan; U Dinesh Kumar. Machine Learning using Python. Kindle Edition.*** "
   ]
  }
 ],
 "metadata": {
  "kernelspec": {
   "display_name": "Python 3 (ipykernel)",
   "language": "python",
   "name": "python3"
  },
  "language_info": {
   "codemirror_mode": {
    "name": "ipython",
    "version": 3
   },
   "file_extension": ".py",
   "mimetype": "text/x-python",
   "name": "python",
   "nbconvert_exporter": "python",
   "pygments_lexer": "ipython3",
   "version": "3.9.7"
  },
  "widgets": {
   "application/vnd.jupyter.widget-state+json": {
    "state": {},
    "version_major": 2,
    "version_minor": 0
   }
  }
 },
 "nbformat": 4,
 "nbformat_minor": 5
}
