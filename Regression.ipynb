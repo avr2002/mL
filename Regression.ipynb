{
 "cells": [
  {
   "cell_type": "markdown",
   "id": "752db2c6",
   "metadata": {},
   "source": [
    "# **<u>ML Introduction:<u>**"
   ]
  },
  {
   "cell_type": "markdown",
   "id": "e6d5244f-baba-42f9-8cae-02a2d0d22224",
   "metadata": {},
   "source": [
    "***Referrence: Pradhan, Manaranjan; U Dinesh Kumar. Machine Learning using Python***"
   ]
  },
  {
   "cell_type": "markdown",
   "id": "42c9dc4d",
   "metadata": {},
   "source": [
    "- What is Machine Learning?\n",
    "    \n",
    "    Machine learning is a set of algorithms that have the capability to **learn** to perform tasks such as  prediction and classification effectively using data.\n",
    "    \n",
    "- Classification of ML Algorithms:\n",
    "    - Supervised Learning:\n",
    "        \n",
    "        These algorithms require the knowledge of both the  outcome variable (dependent variable) and the features (independent variable or input  variables). The algorithm learns (i.e., estimates the values of the model parameters or  feature weights) by defining a loss function which is usually a function of the diff. b/w the predicted value and actual value of the outcome variable. Algorithms such  as linear regression, logistic regression, discriminant analysis are examples of supervised  learning algorithms.\n",
    "        \n",
    "    - Unsupervised Learning:\n",
    "        \n",
    "        These algorithms are set of algorithms which do not have  the knowledge of the outcome variable in the dataset. The algorithms must find the possible  values of the outcome variable. Algorithms such as clustering, principal component analysis(PCA) are examples of unsupervised learning algorithms.\n",
    "        \n",
    "    - Reinforcement Learning:\n",
    "        \n",
    "        In many datasets, there could be uncertainty around  both input as well as the output variables. For example, consider the case of spell check  in various text editors. If a person types “buutiful” in Microsoft Word, the spell check in  Microsoft Word will immediately identify this as a spelling mistake and give options such  as “beautiful”, “bountiful”, and “dutiful”. Here the prediction is not one single value, but a  set of values. Techniques  such as Markov chain and Markov decision process are examples of reinforcement learning  algorithms.\n",
    "        \n",
    "- A typical ML algo. involves:\n",
    "    1. Identify the problem or opportunity for value creation. \n",
    "    2. Identify sources of data (primary as well secondary data sources) and create a **data lake** (integrated data set from different sources). \n",
    "    3. Pre-process the data for issues such as missing and incorrect data. Generate derived variables (**feature engineering**) and transform the data if necessary. Prepare the data for ML model building. \n",
    "    4. Divide the datasets into subsets of training and validation datasets. \n",
    "    5. Build ML models and identify the best model(s) using model performance in validation data.\n",
    "    6. Implement Solution/Decision/Develop Product.\n",
    "    \n",
    "    \n",
    "***Referrence: Pradhan, Manaranjan; U Dinesh Kumar. Machine Learning using Python***"
   ]
  },
  {
   "cell_type": "markdown",
   "id": "8fa94749-4c0d-4c95-abd5-557f9c7e75c3",
   "metadata": {
    "tags": []
   },
   "source": [
    "# <u>Regression<u>:\n",
    "\n",
    "Regression is a method for understanding the relationship between *<u>independent variables</u> (aka explanatory variable, predictor variable or features)* and a *<u>dependent variable</u> (aka response variable or outcome variable)* or *outcome*. Outcomes can then be predicted once the relationship between independent and dependent variables has been estimated.\n",
    "\n",
    "Now, what is dependent and indepensent variable?\n",
    "    Mathematically speaking, consider the equation: $y=mx + c$ here $x$ can take any real value but value of $y$ can only be obtained from value $x$. Thus $x$ is called *independent var.* and $y$ is called *dependent var.* \n",
    "    \n",
    "\n",
    "- A regression model requires the knowledge of both the outcome and the feature variables in the training dataset.     \n",
    "     \n",
    "Types of regression analysis: \n",
    "- Simple Linear Regression \n",
    "- Multiple Linear Regression \n",
    "- Logistic Regression \n",
    "       \n",
    "The following are a few examples of simple and multiple linear regression problems:  \n",
    "    \n",
    "    1. A hospital may be interested in finding how the total cost of a patient for a treatment varies with  the body weight of the patient.  \n",
    "    \n",
    "    2. Insurance companies would like to understand the association between healthcare costs and ageing.\n",
    "    \n",
    "    3. An organization may be interested in finding the relationship between revenue generated from  a product and features such as the price, money spent on promotion, competitors’ price, and promotion expenses.\n",
    "    \n",
    "    4. Restaurants would like to know the relationship between the customer waiting time after placing  the order and the revenue. \n",
    "    \n",
    "    5. E-commerce companies such as Amazon, BigBasket, and Flipkart would like to understand the  relationship between revenue and features such as:  \n",
    "        (a) Number of customer visits to their portal.  \n",
    "        (b) Number of clicks on products.  \n",
    "        (c) Number of items on sale.  \n",
    "        (d) Average discount percentage.  \n",
    "    \n",
    "    6. Banks and other financial institutions would like to understand the impact of variables such as  unemployment rate, marital status, balance in the bank account, rain fall, etc. on the percentage  of non-performing assets (NPA)."
   ]
  },
  {
   "cell_type": "markdown",
   "id": "0e64c89b-11c3-49b3-a7b4-ae10775ab75b",
   "metadata": {},
   "source": [
    "**<u>Steps in buildings a Regression Model</u>:**\n",
    "1. **Collect/Extract the Data**\n",
    "\n",
    "2. **Pre-Process the Data** - EDA & Feature Engineering\n",
    "\n",
    "3. **Dividing the Data into Training and Validation Datasets:** <br>Usually 70-80% of the data goes into training set and rest into validation set. This is an important step to measure the performance of the model using  dataset not used in model building. In many  cases, multiple training and multiple test data are used (called cross-validation).\n",
    "\n",
    "4. **Perform Descriptive Analytics/Data Exploration:**<br>It is always a good practice to perform descriptive analytics before moving to building a predictive analytics model. Descriptive statistics will help us to understand the variability in the model and visualization of the data, for eg: a box plot which will show if there are any outliers in the data.the scatter plot, may also reveal if there is any obvious relationship b/w the dependent/outcome var. and features\n",
    "\n",
    "5. **Build the Model:**<br>The model is built using the training dataset to estimate the regression parameters. The method of  Ordinary Least Squares (OLS) is used to estimate the regression parameters.\n",
    "\n",
    "6. **Perform Model Diagnostics:**<br>Goodness of fit measure, Hypothesis Testing, ANOVA Test, $R^2$ Test, Outlier Detection\n",
    "\n",
    "7. **Validate the Model and Measure Model Accuracy:**<br>**Over-fitting** is a major concern i.e. the model performs well on training set and poorly on validation set. And the model's performence is checked by calculating the error, smaller the error, better the model. In fact, the model may be crossvalidated using multiple training and test datasets.\n",
    "\n",
    "8. Model Deployment  "
   ]
  },
  {
   "cell_type": "markdown",
   "id": "196bb664-169a-44cc-ade6-dac2f15dc25b",
   "metadata": {},
   "source": [
    "## **<u>Simple Linear Regression</u>(SLR):**\n",
    "- Basically SLR, finds a linear relationship b/w the feature an the outcome variable.\n",
    "- In SLR, we have a single independent var.(feature) and outcome var. and mathematically the outcome var. and the regression coeff. is linear. Linear regression implies that the mathematical function is linear with respect to  regression parameters.\n",
    "\n",
    "- A functional form of SLR is:\n",
    "$$Y = \\beta_o + \\beta_1X + \\epsilon$$\n",
    "\n",
    "    $\\beta_o$ and $\\beta_1$ - **regression parameters/coeffs. or feature weights**<br> $\\epsilon$ - **error/residual**<br>$Y$ - **dependent/outcome var.**<br>$X$ - **indep. var. or feature**.\n",
    "    \n",
    "- For a dataset with n observations $(X_i, Y_i)$, where i = 1, 2, …, n, the above functional form can be written  as follows:  $$Y_i = \\beta_o + \\beta_1X_i + \\epsilon_i$$ <br>\n",
    "\n",
    "- The regg. parameters are estimated by minimizing the sum squared error(SSE):\n",
    "$$\\epsilon_i = Y_i - \\beta_o - \\beta_1X_i$$\n",
    "\n",
    "$$SSE = \\sum_{i=1}^{n}\\epsilon_{i}^{2} = \\sum_{i=1}^{n}(Y_i - \\beta_o - \\beta_1X_i)^2$$\n",
    "\n",
    "- By taking partial derivative of SSE with respect  to $\\beta_o$ and $\\beta_1$ we get:\n",
    "\n",
    "$$\\hat{\\beta_1} = \\sum_{i=1}^{n}\\frac{(X_i-\\bar{X})(Y_i-\\bar{Y})}{(X_i-\\bar{X})^2}$$\n",
    "\n",
    "$$\\hat{\\beta_o} = \\bar{Y}-\\beta_1\\bar{X}$$ \n",
    " where $\\hat{\\beta_o}$ and $\\hat{\\beta_1}$ are extimated values of the reg. coeffs.<br> The above procedure is known as ***method of ordinary least square(OLS)***.<br>The estimate using OLS gives the **best linear unbiased estimates (BLUE)** of regression parameters.\n",
    " \n",
    "- **Assumptions of Linear Reg. Model**\n",
    "    1. $\\epsilon_i$ i.e. error is supposed to follow *normal distribution* with *expected value* of error $E(\\epsilon_i) = 0$.\n",
    "    \n",
    "    2. $Var(\\epsilon_i) = constant, \\forall i$ i.e. variance of error is constant for various values of independent variable $X$. This is known  as **homoscedasticity**. When the variance is not constant, it is called **heteroscedasticity**.<br><br>\n",
    "    \n",
    "    3. Error & Independent var. are uncorrelated.<br><br>\n",
    "    \n",
    "    4. The functional relationship between the outcome variable and feature is correctly defined.\n",
    "    \n",
    "\n",
    "- **Properties of SLR:**\n",
    "    1. Mean/Expected Value of $Y_i$ for given $X_i$, $E(Y_i|X) = \\hat{\\beta_o} + \\hat{\\beta_1}X$.\n",
    "    \n",
    "    2. $Y_i$ follows **Normal Dist.** with $\\mu = \\hat{\\beta_o} + \\hat{\\beta_1}X$ and $\\sigma^2 = VAR(\\epsilon_i)$"
   ]
  },
  {
   "cell_type": "markdown",
   "id": "5d86f7f8-1ed5-4868-b678-81af22da1db2",
   "metadata": {},
   "source": [
    "**Let us consider an example of predicting MBA Salary (outcome variable) from marks in Grade 10  (feature).**"
   ]
  },
  {
   "cell_type": "code",
   "execution_count": 1,
   "id": "8f2af484-f069-4549-a88e-a4d926560ace",
   "metadata": {},
   "outputs": [],
   "source": [
    "import pandas as pd\n",
    "import numpy as np\n",
    "import os\n",
    "\n",
    "np.set_printoptions(precision=4) #Print upto 4 decimal places"
   ]
  },
  {
   "cell_type": "code",
   "execution_count": 2,
   "id": "c289a372-2699-459d-bc46-58051603c0ec",
   "metadata": {},
   "outputs": [
    {
     "data": {
      "text/html": [
       "<div>\n",
       "<style scoped>\n",
       "    .dataframe tbody tr th:only-of-type {\n",
       "        vertical-align: middle;\n",
       "    }\n",
       "\n",
       "    .dataframe tbody tr th {\n",
       "        vertical-align: top;\n",
       "    }\n",
       "\n",
       "    .dataframe thead th {\n",
       "        text-align: right;\n",
       "    }\n",
       "</style>\n",
       "<table border=\"1\" class=\"dataframe\">\n",
       "  <thead>\n",
       "    <tr style=\"text-align: right;\">\n",
       "      <th></th>\n",
       "      <th>S. No.</th>\n",
       "      <th>Percentage in Grade 10</th>\n",
       "      <th>Salary</th>\n",
       "    </tr>\n",
       "  </thead>\n",
       "  <tbody>\n",
       "    <tr>\n",
       "      <th>0</th>\n",
       "      <td>1</td>\n",
       "      <td>62.00</td>\n",
       "      <td>270000</td>\n",
       "    </tr>\n",
       "    <tr>\n",
       "      <th>1</th>\n",
       "      <td>2</td>\n",
       "      <td>76.33</td>\n",
       "      <td>200000</td>\n",
       "    </tr>\n",
       "    <tr>\n",
       "      <th>2</th>\n",
       "      <td>3</td>\n",
       "      <td>72.00</td>\n",
       "      <td>240000</td>\n",
       "    </tr>\n",
       "    <tr>\n",
       "      <th>3</th>\n",
       "      <td>4</td>\n",
       "      <td>60.00</td>\n",
       "      <td>250000</td>\n",
       "    </tr>\n",
       "    <tr>\n",
       "      <th>4</th>\n",
       "      <td>5</td>\n",
       "      <td>61.00</td>\n",
       "      <td>180000</td>\n",
       "    </tr>\n",
       "  </tbody>\n",
       "</table>\n",
       "</div>"
      ],
      "text/plain": [
       "   S. No.  Percentage in Grade 10  Salary\n",
       "0       1                   62.00  270000\n",
       "1       2                   76.33  200000\n",
       "2       3                   72.00  240000\n",
       "3       4                   60.00  250000\n",
       "4       5                   61.00  180000"
      ]
     },
     "execution_count": 2,
     "metadata": {},
     "output_type": "execute_result"
    }
   ],
   "source": [
    "mba_salary_df = pd.read_csv(os.getcwd()+\"//Data//MBA Salary.csv\")\n",
    "mba_salary_df.head()"
   ]
  },
  {
   "cell_type": "code",
   "execution_count": 3,
   "id": "7b71072b-f664-4f0f-a898-e4eeae3798ed",
   "metadata": {},
   "outputs": [
    {
     "name": "stdout",
     "output_type": "stream",
     "text": [
      "<class 'pandas.core.frame.DataFrame'>\n",
      "RangeIndex: 50 entries, 0 to 49\n",
      "Data columns (total 3 columns):\n",
      " #   Column                  Non-Null Count  Dtype  \n",
      "---  ------                  --------------  -----  \n",
      " 0   S. No.                  50 non-null     int64  \n",
      " 1   Percentage in Grade 10  50 non-null     float64\n",
      " 2   Salary                  50 non-null     int64  \n",
      "dtypes: float64(1), int64(2)\n",
      "memory usage: 1.3 KB\n"
     ]
    }
   ],
   "source": [
    "mba_salary_df.info()"
   ]
  },
  {
   "cell_type": "markdown",
   "id": "a534fd42-c7d2-4317-83ae-121e26e0c301",
   "metadata": {},
   "source": [
    "### **Creating Feature Set(X) and Outcome Var.(Y) :**\n",
    "X = 'Percentage in Grade 10'<br>\n",
    "Y = 'Salary'<br>\n",
    "- The statsmodel library is used in Python for building statistical models. OLS API available in statsmodel.api  is used for estimation of parameters for simple linear regression model. The OLS() model takes two parameters Y and X.<br>\n",
    "- OLS API available in  statsmodel.api estimates only the coefficient of X parameter i.e. $\\beta_1$<br>\n",
    "- To estimate regression coefficient $\\beta_0$, a constant term of 1 needs to be added as a separate column. As the value of the columns remains  same across all samples, the parameter estimated for this feature or column will be the intercept term."
   ]
  },
  {
   "cell_type": "code",
   "execution_count": 4,
   "id": "9763220b-0a70-4189-b36a-d3425df36f3f",
   "metadata": {},
   "outputs": [
    {
     "name": "stderr",
     "output_type": "stream",
     "text": [
      "C:\\Users\\Amit Vikram Raj\\anaconda3\\lib\\site-packages\\statsmodels\\tsa\\tsatools.py:142: FutureWarning: In a future version of pandas all arguments of concat except for the argument 'objs' will be keyword-only\n",
      "  x = pd.concat(x[::order], 1)\n"
     ]
    },
    {
     "data": {
      "text/html": [
       "<div>\n",
       "<style scoped>\n",
       "    .dataframe tbody tr th:only-of-type {\n",
       "        vertical-align: middle;\n",
       "    }\n",
       "\n",
       "    .dataframe tbody tr th {\n",
       "        vertical-align: top;\n",
       "    }\n",
       "\n",
       "    .dataframe thead th {\n",
       "        text-align: right;\n",
       "    }\n",
       "</style>\n",
       "<table border=\"1\" class=\"dataframe\">\n",
       "  <thead>\n",
       "    <tr style=\"text-align: right;\">\n",
       "      <th></th>\n",
       "      <th>const</th>\n",
       "      <th>Percentage in Grade 10</th>\n",
       "    </tr>\n",
       "  </thead>\n",
       "  <tbody>\n",
       "    <tr>\n",
       "      <th>0</th>\n",
       "      <td>1.0</td>\n",
       "      <td>62.00</td>\n",
       "    </tr>\n",
       "    <tr>\n",
       "      <th>1</th>\n",
       "      <td>1.0</td>\n",
       "      <td>76.33</td>\n",
       "    </tr>\n",
       "    <tr>\n",
       "      <th>2</th>\n",
       "      <td>1.0</td>\n",
       "      <td>72.00</td>\n",
       "    </tr>\n",
       "    <tr>\n",
       "      <th>3</th>\n",
       "      <td>1.0</td>\n",
       "      <td>60.00</td>\n",
       "    </tr>\n",
       "    <tr>\n",
       "      <th>4</th>\n",
       "      <td>1.0</td>\n",
       "      <td>61.00</td>\n",
       "    </tr>\n",
       "  </tbody>\n",
       "</table>\n",
       "</div>"
      ],
      "text/plain": [
       "   const  Percentage in Grade 10\n",
       "0    1.0                   62.00\n",
       "1    1.0                   76.33\n",
       "2    1.0                   72.00\n",
       "3    1.0                   60.00\n",
       "4    1.0                   61.00"
      ]
     },
     "execution_count": 4,
     "metadata": {},
     "output_type": "execute_result"
    }
   ],
   "source": [
    "import statsmodels.api as sm\n",
    "X = sm.add_constant(mba_salary_df['Percentage in Grade 10'])\n",
    "Y = mba_salary_df.Salary\n",
    "X.head()"
   ]
  },
  {
   "cell_type": "markdown",
   "id": "22bf9348-4839-4904-acc2-a473fe621237",
   "metadata": {},
   "source": [
    "### **Splitting into Traning & Validation Set**\n",
    "train_test_split() function from skelarn.model_selection module provides the ability to split the dataset  randomly into training and validation datasets.<br>\n",
    "Parameters:\n",
    "- train_size b/w 0 and 1\n",
    "- The method takes a seed value(any integer) in  parameter named **random_state**, to fix which samples go to training and which ones go to test set. \n",
    "\n",
    "train_test_split() returns four variables as below:  \n",
    "1. train_X contains X features of the training set.  \n",
    "2. train_y contains the values of response variable for the training set.  \n",
    "3. test_X contains X features of the test set.  \n",
    "4. test_y contains the values of response variable for the test set. "
   ]
  },
  {
   "cell_type": "code",
   "execution_count": 5,
   "id": "408e5c86-c568-4942-8777-de739c1e04e3",
   "metadata": {},
   "outputs": [],
   "source": [
    "from sklearn.model_selection import train_test_split\n",
    "\n",
    "train_X, test_X, train_y, test_y = train_test_split(X,Y, train_size=0.8, random_state=100)\n",
    "# The order should be as: train_X, test_X, train_y, test_y\n",
    "# train_size = 0.8 implies 80% of the data is used for training the model and the remaining 20% is used for  validating the model."
   ]
  },
  {
   "cell_type": "markdown",
   "id": "2989825d-704a-4d64-ac0d-c5c22a4da4f5",
   "metadata": {},
   "source": [
    "### **Fitting the Model**"
   ]
  },
  {
   "cell_type": "code",
   "execution_count": 6,
   "id": "d7984278-99de-44c4-adab-17c023240038",
   "metadata": {},
   "outputs": [],
   "source": [
    "mba_salary_lm = sm.OLS(train_y, train_X).fit()\n",
    "\n",
    "# The fit() method on OLS() returns the parametrs i.e b0, b1"
   ]
  },
  {
   "cell_type": "code",
   "execution_count": 7,
   "id": "7dcf91e3-1cfd-4827-aeb1-958839594240",
   "metadata": {},
   "outputs": [
    {
     "data": {
      "text/plain": [
       "const                     30587.285652\n",
       "Percentage in Grade 10     3560.587383\n",
       "dtype: float64"
      ]
     },
     "execution_count": 7,
     "metadata": {},
     "output_type": "execute_result"
    }
   ],
   "source": [
    "mba_salary_lm.params"
   ]
  },
  {
   "cell_type": "markdown",
   "id": "24f7f45b-10d5-4f43-9c72-05166586eb5b",
   "metadata": {},
   "source": [
    "The estimated (predicted) model can be written as:\n",
    "\n",
    "$MBA Salary = 30587.285 + 3560.587 * (Percentage in Grade 10)$<br><br>\n",
    "**The equation can be interpreted as follows: For every 1% increase in Grade 10, the salary of the MBA  students will increase by 3560.587**"
   ]
  },
  {
   "cell_type": "code",
   "execution_count": 8,
   "id": "d28ea87b-95e5-4c70-b8d0-c8bc04cf6fe4",
   "metadata": {},
   "outputs": [
    {
     "name": "stdout",
     "output_type": "stream",
     "text": [
      "const                     30587.285652\n",
      "Percentage in Grade 10     3560.587383\n",
      "dtype: float64\n"
     ]
    },
    {
     "name": "stderr",
     "output_type": "stream",
     "text": [
      "C:\\Users\\Amit Vikram Raj\\anaconda3\\lib\\site-packages\\statsmodels\\tsa\\tsatools.py:142: FutureWarning: In a future version of pandas all arguments of concat except for the argument 'objs' will be keyword-only\n",
      "  x = pd.concat(x[::order], 1)\n"
     ]
    }
   ],
   "source": [
    "# Complete Code:\n",
    "import pandas as pd\n",
    "import numpy as np\n",
    "import os\n",
    "import statsmodels.api as sm\n",
    "from sklearn.model_selection import train_test_split\n",
    "\n",
    "#Load the Dataset\n",
    "mba_salary_df = pd.read_csv(os.getcwd()+\"//Data//MBA Salary.csv\")\n",
    "\n",
    "#Identify X & Y and Add constant term of 1 to the dataset\n",
    "X = sm.add_constant(mba_salary_df['Percentage in Grade 10'], 1)\n",
    "Y = mba_salary_df.Salary\n",
    "\n",
    "# Split the data into 80:20 train_test split\n",
    "train_X,text_X,train_y,test_y = train_test_split(X,Y, train_size=0.8, random_state=100)\n",
    "\n",
    "#Fit the regression model\n",
    "mba_salary_lm = sm.OLS(train_y, train_X).fit()\n",
    "\n",
    "#Print the model parameters\n",
    "print(mba_salary_lm.params)"
   ]
  },
  {
   "cell_type": "markdown",
   "id": "bed32219-7931-4620-b36d-5ab3c4bece31",
   "metadata": {},
   "source": [
    "### **Model Diagnostics**\n",
    "It is important to validate the regression model to ensure its validity and goodness of fit before it  can be used for practical applications. The following measures are used to validate the simple linear  regression models:  \n",
    "1. Co-efficient of determination (R-squared).  \n",
    "2. Hypothesis test for the regression coefficient.  \n",
    "3. Analysis of variance for overall model validity (important for multiple linear regression).  \n",
    "4. Residual analysis to validate the regression model assumptions.  \n",
    "5. Outlier analysis, since the presence of outliers can significantly impact the regression parameters. \n"
   ]
  },
  {
   "cell_type": "markdown",
   "id": "82e06c01-a3ce-40ea-94c4-b37690dd38cb",
   "metadata": {},
   "source": [
    "https://tex.stackexchange.com/questions/44834/how-do-i-put-big-brackets-under-different-parts-of-an-equation-to-attach-text-la"
   ]
  },
  {
   "cell_type": "markdown",
   "id": "8348d908-db0b-4eb5-b56b-8d2797bbf3b6",
   "metadata": {},
   "source": [
    "## 1. <u>Coeff. of Determination(R-Squared/$R^2$)<u>: \n",
    "\n",
    "- The Primary objective of regression is to explain the variation in $Y$ using the knowledge of $X$. $R^2$ measures the $\\%$ of variation in Y explained by the model $(\\beta_0 + \\beta_1X)$.\n",
    "    \n",
    "- SLR can be broken into:\n",
    "    1. Variation in outcome var. explained by the model.\n",
    "    2. Unexplained variation\n",
    "    \n",
    "    $$\\underbrace{Y_i}_\\text{Variation in Y} = \\underbrace{\\beta_0 + \\beta_1X}_\\text{Variation in Y explained by the model} + \\underbrace{\\epsilon_i}_\\text{Variation in Y not explained by the model}$$\n",
    "    \n",
    "    It can be proven mathematically that\n",
    "    $$\\underbrace{\\sum_{i=1}^{n}{(Y_i - \\bar{Y})^2}}_\\text{SST} = \\underbrace{\\sum_{i=1}^{n}{(\\hat{Y_i} - \\bar{Y})^2}}_\\text{SSR} + \\underbrace{\\sum_{i=1}^{n}{(Y_i - \\hat{Y_i})^2}}_\\text{SSE}$$\n",
    "    \n",
    "    where $\\hat{Y_i} = \\hat{\\beta_o} + \\hat{\\beta_1}X_i$ is the predicted value of $Y_i$.<br>\n",
    "    $SST = $ Sum of Squares of Total Variation<br>\n",
    "    $SSR = $ Sum of Squares of Explained Variation due to the Regression Model<br>\n",
    "    $SSE = $ Sum of Squares of Unexplained Variation (error)<br>\n",
    "    \n",
    "    *The co-efficient  of determination (R-squared) is given by* \n",
    "    $$R-Squared = R^2 = \\frac{SSR}{SST} = 1 - \\frac{SSE}{SST}$$\n",
    "    \n",
    "    - The co-efficient of determination (R-squared) has the following properties: \n",
    "\n",
    "        - **The value of R-squared lies between 0 and 1.**\n",
    "\n",
    "        - Mathematically, R-squared $(R^2)$ is square of correlation coefficient $(R^2 = r^2)$, where $r$ is the **Pearson correlation co-efficient.**(https://en.wikipedia.org/wiki/Pearson_correlation_coefficient)\n",
    "\n",
    "        - **Higher R-squared indicates better fit**; however, one should be careful about the spurious  relationship."
   ]
  },
  {
   "cell_type": "markdown",
   "id": "be800ae4-036b-40b1-a364-6523cd83bef8",
   "metadata": {
    "tags": []
   },
   "source": [
    "## 2. <u>Hypothesis Test for Regression Coeff.</u> :\n",
    "\n",
    "- The regression co-efficient $(\\beta_1)$ captures the existence of a linear relationship between the outcome variable and the feature.<br> \n",
    "- If $\\beta_1 = 0$, we can conclude that there is no statistically significant linear relationship  between the two variables.<br>\n",
    "- It can be proved that the sampling distribution of $beta_1$ is a ***t-distribution.***\n",
    "- The Null and Alternative Hypotheses are :$$H_o: \\beta_1 = 0, H_A: \\beta_1 \\neq 0$$\n",
    "- It is *two-tailed test.*\n",
    "- The test static is a *t-distribution* with *n-2 degrees of freedom.* (two degrees of freedom are lost due to the estimation of two regression parameters $\\beta_0$ and $\\beta_1$)"
   ]
  },
  {
   "cell_type": "markdown",
   "id": "6f9e4ab5-88d4-4877-8e05-66fa7d8d67c2",
   "metadata": {},
   "source": [
    "## 3. <u>Analysis of Variance(ANOVA) in Regression Analysis</u> :\n",
    "\n",
    "We can check the overall validity of the regression model using ANOVA in the case of multiple linear  regression model with k features. The null and the alternate hypotheses are given by\n",
    "$$H_0: \\beta_0 = \\beta_01 = \\cdots = \\beta_k$$\n",
    "$$H_A: \\text{Not all regression coeffs. are zero}$$ \n",
    "<br>\n",
    "***F-test is used for checking weather the overall regression model is satisticlly significant or not.***"
   ]
  },
  {
   "cell_type": "markdown",
   "id": "d7f8c687-9fb0-40a4-ba19-3afd376db3c8",
   "metadata": {},
   "source": [
    "### Regression Model Summary Using Python"
   ]
  },
  {
   "cell_type": "code",
   "execution_count": 9,
   "id": "bb24b72f-9816-4139-ba77-d06a9dc04cf1",
   "metadata": {
    "scrolled": true,
    "tags": []
   },
   "outputs": [
    {
     "data": {
      "text/html": [
       "<table class=\"simpletable\">\n",
       "<caption>OLS Regression Results</caption>\n",
       "<tr>\n",
       "  <th>Dep. Variable:</th>         <td>Salary</td>      <th>  R-squared:         </th> <td>   0.211</td>\n",
       "</tr>\n",
       "<tr>\n",
       "  <th>Model:</th>                   <td>OLS</td>       <th>  Adj. R-squared:    </th> <td>   0.190</td>\n",
       "</tr>\n",
       "<tr>\n",
       "  <th>Method:</th>             <td>Least Squares</td>  <th>  F-statistic:       </th> <td>   10.16</td>\n",
       "</tr>\n",
       "<tr>\n",
       "  <th>Date:</th>             <td>Sat, 30 Jul 2022</td> <th>  Prob (F-statistic):</th>  <td>0.00287</td>\n",
       "</tr>\n",
       "<tr>\n",
       "  <th>Time:</th>                 <td>20:08:35</td>     <th>  Log-Likelihood:    </th> <td> -502.43</td>\n",
       "</tr>\n",
       "<tr>\n",
       "  <th>No. Observations:</th>      <td>    40</td>      <th>  AIC:               </th> <td>   1009.</td>\n",
       "</tr>\n",
       "<tr>\n",
       "  <th>Df Residuals:</th>          <td>    38</td>      <th>  BIC:               </th> <td>   1012.</td>\n",
       "</tr>\n",
       "<tr>\n",
       "  <th>Df Model:</th>              <td>     1</td>      <th>                     </th>     <td> </td>   \n",
       "</tr>\n",
       "<tr>\n",
       "  <th>Covariance Type:</th>      <td>nonrobust</td>    <th>                     </th>     <td> </td>   \n",
       "</tr>\n",
       "</table>\n",
       "<table class=\"simpletable\">\n",
       "<tr>\n",
       "             <td></td>               <th>coef</th>     <th>std err</th>      <th>t</th>      <th>P>|t|</th>  <th>[0.025</th>    <th>0.975]</th>  \n",
       "</tr>\n",
       "<tr>\n",
       "  <th>const</th>                  <td> 3.059e+04</td> <td> 7.19e+04</td> <td>    0.426</td> <td> 0.673</td> <td>-1.15e+05</td> <td> 1.76e+05</td>\n",
       "</tr>\n",
       "<tr>\n",
       "  <th>Percentage in Grade 10</th> <td> 3560.5874</td> <td> 1116.926</td> <td>    3.188</td> <td> 0.003</td> <td> 1299.489</td> <td> 5821.686</td>\n",
       "</tr>\n",
       "</table>\n",
       "<table class=\"simpletable\">\n",
       "<tr>\n",
       "  <th>Omnibus:</th>       <td> 2.048</td> <th>  Durbin-Watson:     </th> <td>   2.611</td>\n",
       "</tr>\n",
       "<tr>\n",
       "  <th>Prob(Omnibus):</th> <td> 0.359</td> <th>  Jarque-Bera (JB):  </th> <td>   1.724</td>\n",
       "</tr>\n",
       "<tr>\n",
       "  <th>Skew:</th>          <td> 0.369</td> <th>  Prob(JB):          </th> <td>   0.422</td>\n",
       "</tr>\n",
       "<tr>\n",
       "  <th>Kurtosis:</th>      <td> 2.300</td> <th>  Cond. No.          </th> <td>    413.</td>\n",
       "</tr>\n",
       "</table><br/><br/>Notes:<br/>[1] Standard Errors assume that the covariance matrix of the errors is correctly specified."
      ],
      "text/plain": [
       "<class 'statsmodels.iolib.summary.Summary'>\n",
       "\"\"\"\n",
       "                            OLS Regression Results                            \n",
       "==============================================================================\n",
       "Dep. Variable:                 Salary   R-squared:                       0.211\n",
       "Model:                            OLS   Adj. R-squared:                  0.190\n",
       "Method:                 Least Squares   F-statistic:                     10.16\n",
       "Date:                Sat, 30 Jul 2022   Prob (F-statistic):            0.00287\n",
       "Time:                        20:08:35   Log-Likelihood:                -502.43\n",
       "No. Observations:                  40   AIC:                             1009.\n",
       "Df Residuals:                      38   BIC:                             1012.\n",
       "Df Model:                           1                                         \n",
       "Covariance Type:            nonrobust                                         \n",
       "==========================================================================================\n",
       "                             coef    std err          t      P>|t|      [0.025      0.975]\n",
       "------------------------------------------------------------------------------------------\n",
       "const                   3.059e+04   7.19e+04      0.426      0.673   -1.15e+05    1.76e+05\n",
       "Percentage in Grade 10  3560.5874   1116.926      3.188      0.003    1299.489    5821.686\n",
       "==============================================================================\n",
       "Omnibus:                        2.048   Durbin-Watson:                   2.611\n",
       "Prob(Omnibus):                  0.359   Jarque-Bera (JB):                1.724\n",
       "Skew:                           0.369   Prob(JB):                        0.422\n",
       "Kurtosis:                       2.300   Cond. No.                         413.\n",
       "==============================================================================\n",
       "\n",
       "Notes:\n",
       "[1] Standard Errors assume that the covariance matrix of the errors is correctly specified.\n",
       "\"\"\""
      ]
     },
     "execution_count": 9,
     "metadata": {},
     "output_type": "execute_result"
    }
   ],
   "source": [
    "mba_salary_lm.summary()"
   ]
  },
  {
   "cell_type": "code",
   "execution_count": 10,
   "id": "46d24239-c19c-4d51-baae-bdcc43f2078a",
   "metadata": {},
   "outputs": [
    {
     "data": {
      "text/html": [
       "<table class=\"simpletable\">\n",
       "<tr>\n",
       "        <td>Model:</td>               <td>OLS</td>         <td>Adj. R-squared:</td>      <td>0.190</td>  \n",
       "</tr>\n",
       "<tr>\n",
       "  <td>Dependent Variable:</td>      <td>Salary</td>             <td>AIC:</td>          <td>1008.8680</td>\n",
       "</tr>\n",
       "<tr>\n",
       "         <td>Date:</td>        <td>2022-07-30 20:08</td>        <td>BIC:</td>          <td>1012.2458</td>\n",
       "</tr>\n",
       "<tr>\n",
       "   <td>No. Observations:</td>         <td>40</td>          <td>Log-Likelihood:</td>     <td>-502.43</td> \n",
       "</tr>\n",
       "<tr>\n",
       "       <td>Df Model:</td>              <td>1</td>           <td>F-statistic:</td>        <td>10.16</td>  \n",
       "</tr>\n",
       "<tr>\n",
       "     <td>Df Residuals:</td>           <td>38</td>        <td>Prob (F-statistic):</td>   <td>0.00287</td> \n",
       "</tr>\n",
       "<tr>\n",
       "      <td>R-squared:</td>            <td>0.211</td>            <td>Scale:</td>        <td>5.0121e+09</td>\n",
       "</tr>\n",
       "</table>\n",
       "<table class=\"simpletable\">\n",
       "<tr>\n",
       "             <td></td>               <th>Coef.</th>    <th>Std.Err.</th>     <th>t</th>    <th>P>|t|</th>    <th>[0.025</th>      <th>0.975]</th>   \n",
       "</tr>\n",
       "<tr>\n",
       "  <th>const</th>                  <td>30587.2857</td> <td>71869.4497</td> <td>0.4256</td> <td>0.6728</td> <td>-114904.8089</td> <td>176079.3802</td>\n",
       "</tr>\n",
       "<tr>\n",
       "  <th>Percentage in Grade 10</th>  <td>3560.5874</td>  <td>1116.9258</td> <td>3.1878</td> <td>0.0029</td>   <td>1299.4892</td>   <td>5821.6855</td> \n",
       "</tr>\n",
       "</table>\n",
       "<table class=\"simpletable\">\n",
       "<tr>\n",
       "     <td>Omnibus:</td>    <td>2.048</td>  <td>Durbin-Watson:</td>   <td>2.611</td>\n",
       "</tr>\n",
       "<tr>\n",
       "  <td>Prob(Omnibus):</td> <td>0.359</td> <td>Jarque-Bera (JB):</td> <td>1.724</td>\n",
       "</tr>\n",
       "<tr>\n",
       "       <td>Skew:</td>     <td>0.369</td>     <td>Prob(JB):</td>     <td>0.422</td>\n",
       "</tr>\n",
       "<tr>\n",
       "     <td>Kurtosis:</td>   <td>2.300</td>  <td>Condition No.:</td>    <td>413</td> \n",
       "</tr>\n",
       "</table>"
      ],
      "text/plain": [
       "<class 'statsmodels.iolib.summary2.Summary'>\n",
       "\"\"\"\n",
       "                          Results: Ordinary least squares\n",
       "===================================================================================\n",
       "Model:                    OLS                   Adj. R-squared:          0.190     \n",
       "Dependent Variable:       Salary                AIC:                     1008.8680 \n",
       "Date:                     2022-07-30 20:08      BIC:                     1012.2458 \n",
       "No. Observations:         40                    Log-Likelihood:          -502.43   \n",
       "Df Model:                 1                     F-statistic:             10.16     \n",
       "Df Residuals:             38                    Prob (F-statistic):      0.00287   \n",
       "R-squared:                0.211                 Scale:                   5.0121e+09\n",
       "-----------------------------------------------------------------------------------\n",
       "                         Coef.     Std.Err.    t    P>|t|     [0.025       0.975]  \n",
       "-----------------------------------------------------------------------------------\n",
       "const                  30587.2857 71869.4497 0.4256 0.6728 -114904.8089 176079.3802\n",
       "Percentage in Grade 10  3560.5874  1116.9258 3.1878 0.0029    1299.4892   5821.6855\n",
       "-----------------------------------------------------------------------------------\n",
       "Omnibus:                    2.048              Durbin-Watson:                 2.611\n",
       "Prob(Omnibus):              0.359              Jarque-Bera (JB):              1.724\n",
       "Skew:                       0.369              Prob(JB):                      0.422\n",
       "Kurtosis:                   2.300              Condition No.:                 413  \n",
       "===================================================================================\n",
       "\n",
       "\"\"\""
      ]
     },
     "execution_count": 10,
     "metadata": {},
     "output_type": "execute_result"
    }
   ],
   "source": [
    "mba_salary_lm.summary2()"
   ]
  },
  {
   "cell_type": "markdown",
   "id": "9a898539-ca01-4da9-b592-e6bdfe425f5c",
   "metadata": {},
   "source": [
    "### **From above summary we can infer:**\n",
    "   1. The model R-squared value is 0.211, that is, the model explains 21.1% of the variation in salary.<br>  \n",
    " \n",
    "   2. The p-value for the t-test is 0.0029 which indicates that there is a statistically significant relationship (at significance value $\\alpha = 0.05$) between the feature, percentage in grade 10, and salary.<br>  Also, the probability value of F-statistic of the model is 0.0029 which indicates that the overall  model is statistically significant.<br> **Note that, in SLR, the p-value for t-test and  F-test will be the same since the null hypothesis is the same. (Also $F = t^2$ in the case of SLR.)** \n",
    "\n"
   ]
  },
  {
   "cell_type": "markdown",
   "id": "f32ee098-7b28-4160-9426-45e9e9fad442",
   "metadata": {},
   "source": [
    "## 3. <u>Residual Analysis</u> :\n",
    "Residuals or errors are the difference between the actual value of the outcome variable and the predicted  value $(Y_i - \\hat{Y_i})$.<br> Residual (error) analysis is important to check whether the assumptions of regression  models have been satisfied.<br>\n",
    "It is performed to check the following:  \n",
    "   1. The residuals are normally distributed.  \n",
    "   2. Variance of residual is constant (homoscedasticity).  \n",
    "   3. The functional form of regression is correctly specified.  \n",
    "   4. THere are no outliers.  "
   ]
  },
  {
   "cell_type": "markdown",
   "id": "3d2889c4-bf77-4e13-a8bd-10cdb7ab00b0",
   "metadata": {},
   "source": [
    "### **3.1 Check for Normal Distribution of Residual**:\n",
    "- The normality of residuals can be checked using the **probability−probability plot (P-P plot)**. \n",
    "- P-P plot compares the cumulative distribution function of two probability distributions against each other. \n",
    "- In  the current context, we use the P-P plot to check whether the distribution of the residuals matches with  that of a normal distribution. \n",
    "- In Python, ProbPlot() method on statsmodel draws the P-P plot<br> \n",
    "- *In statistics, a **P–P plot (probability–probability plot or percent–percent plot or P value plot)** is a probability plot for assessing how closely two data sets agree, or for assessing how closely a dataset fits a particular model. It works by plotting the two cumulative distribution functions against each other; if they are similar, the data will appear to be nearly a straight line.* "
   ]
  },
  {
   "cell_type": "code",
   "execution_count": 9,
   "id": "84df4666-7788-4337-ba2c-74d0eb9bf2e6",
   "metadata": {},
   "outputs": [],
   "source": [
    "import matplotlib.pyplot as plt\n",
    "import seaborn as sns\n",
    "%matplotlib inline"
   ]
  },
  {
   "cell_type": "code",
   "execution_count": 11,
   "id": "ab7471b0-2715-44a0-91c4-f7f21f628861",
   "metadata": {},
   "outputs": [
    {
     "name": "stderr",
     "output_type": "stream",
     "text": [
      "C:\\Users\\Amit Vikram Raj\\anaconda3\\lib\\site-packages\\statsmodels\\graphics\\gofplots.py:993: UserWarning: marker is redundantly defined by the 'marker' keyword argument and the fmt string \"bo\" (-> marker='o'). The keyword argument will take precedence.\n",
      "  ax.plot(x, y, fmt, **plot_style)\n"
     ]
    },
    {
     "data": {
      "text/plain": [
       "<Figure size 576x432 with 0 Axes>"
      ]
     },
     "metadata": {},
     "output_type": "display_data"
    },
    {
     "data": {
      "image/png": "[encoded data removed]",
      "text/plain": [
       "<Figure size 432x288 with 1 Axes>"
      ]
     },
     "metadata": {
      "needs_background": "light"
     },
     "output_type": "display_data"
    }
   ],
   "source": [
    "plt.figure(figsize=(8,6))\n",
    "mba_salary_resid = mba_salary_lm.resid\n",
    "probplot = sm.ProbPlot(mba_salary_resid, fit=True)\n",
    "probplot.ppplot(line='45')\n",
    "plt.title(\"Normal P-P Plot of Regression Standardized Residuals\")\n",
    "plt.show()"
   ]
  },
  {
   "cell_type": "markdown",
   "id": "bd8ffe39-990c-4522-99fc-f86a8e901514",
   "metadata": {},
   "source": [
    "- In above graph the *diagonal line is the cumulative distribution of a normal distribution*, whereas the *dots  represent the cumulative distribution of the residuals.*\n",
    "\n",
    "\n",
    "- ***Since the dots are close to the diagonal line, we can  conclude that the residuals follow an approximate normal distribution (we need only an approximate  normal distribution).*** \n",
    " "
   ]
  },
  {
   "cell_type": "markdown",
   "id": "4db3db56-b3d3-4214-8c67-9551a41a953d",
   "metadata": {},
   "source": [
    "### **3.2 Test of Homoscedasticity**\n",
    "- **Homoscedasticity** means residuals have constant variance.\n",
    "- **Heteroscedasticity** means residuals have non-constant variance.\n",
    "\n",
    "- An important assumption of the regression model is that the residuals have constant variance  (homoscedasticity) across different values of the predicted value (Y).\n",
    "\n",
    "- The homoscedasticity can be  observed by drawing a **residual plot**, which is **a plot between standardized residual value and standardized predicted value.**\n",
    "\n",
    "- ***If there is heteroscedasticity (non-constant variance of residuals), then a  funnel type shape in the residual plot can be expected.***\n",
    "\n",
    "- The following custom method get_standardized_values() creates the standardized values of  a series of values (variable). It subtracts values from mean and divides by standard deviation of  the variable.\n",
    "$$\\text{Std. Random variable}=>\\frac{X-\\mu}{\\sigma}; \\text{with mean = 0 and variance = 1}$$ "
   ]
  },
  {
   "cell_type": "code",
   "execution_count": 13,
   "id": "ea9bbff4-3583-4227-a34c-ff1d2be90ef4",
   "metadata": {},
   "outputs": [],
   "source": [
    "def get_standardized_values(vals):\n",
    "    return (vals - vals.mean())/vals.std()"
   ]
  },
  {
   "cell_type": "code",
   "execution_count": 15,
   "id": "32822c03-5865-4fb4-ae50-4575eb4305d4",
   "metadata": {},
   "outputs": [
    {
     "data": {
      "image/png": "[encoded data removed]",
      "text/plain": [
       "<Figure size 432x288 with 1 Axes>"
      ]
     },
     "metadata": {
      "needs_background": "light"
     },
     "output_type": "display_data"
    }
   ],
   "source": [
    "plt.scatter(get_standardized_values(mba_salary_lm.fittedvalues), get_standardized_values(mba_salary_resid))\n",
    "\n",
    "plt.title(\"Residual Plot: MBA Salary Prediction\")\n",
    "plt.xlabel(\"Standardized Predicted Value\")\n",
    "plt.ylabel(\"Standardized Residuals\");"
   ]
  },
  {
   "cell_type": "markdown",
   "id": "9a7d4437-f5b3-4ca8-ac8f-9bd0b9e33b48",
   "metadata": {},
   "source": [
    "***It can be observed that the residuals are random and have no funnel shape, which means the residuals have constant variance(homoscedasticity).***"
   ]
  },
  {
   "cell_type": "markdown",
   "id": "047f3419-6891-4885-9f6b-920547d11b7f",
   "metadata": {},
   "source": [
    "## 4.<u>Outlier Analysis</u>:\n",
    "\n",
    "- Outliers are observations whose values show a large deviation from the mean value.\n",
    "- Presence of an  outlier can have a significant influence on the values of regression coefficients. Thus, it is important to  identify the existence of outliers in the data. \n",
    "- The following distance measures are useful in identifying influential observations:\n",
    "   1. Z-Score\n",
    "   2. Cook's Distance\n",
    "   3. Leverage Values"
   ]
  },
  {
   "cell_type": "code",
   "execution_count": null,
   "id": "8aa3a16a-2dc3-42dc-af69-57bb647abef3",
   "metadata": {},
   "outputs": [],
   "source": []
  }
 ],
 "metadata": {
  "kernelspec": {
   "display_name": "Python 3 (ipykernel)",
   "language": "python",
   "name": "python3"
  },
  "language_info": {
   "codemirror_mode": {
    "name": "ipython",
    "version": 3
   },
   "file_extension": ".py",
   "mimetype": "text/x-python",
   "name": "python",
   "nbconvert_exporter": "python",
   "pygments_lexer": "ipython3",
   "version": "3.9.7"
  },
  "widgets": {
   "application/vnd.jupyter.widget-state+json": {
    "state": {},
    "version_major": 2,
    "version_minor": 0
   }
  }
 },
 "nbformat": 4,
 "nbformat_minor": 5
}
