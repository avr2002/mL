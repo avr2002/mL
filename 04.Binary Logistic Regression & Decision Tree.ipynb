{
 "cells": [
  {
   "cell_type": "markdown",
   "id": "747f0aed-9a94-40e3-8002-939c480d66f1",
   "metadata": {},
   "source": [
    "#### ***Reference: Pradhan, Manaranjan; U Dinesh Kumar. Machine Learning using Python. Kindle Edition.***"
   ]
  },
  {
   "cell_type": "markdown",
   "id": "4bceaa35-5290-48d6-b7b0-653499e59425",
   "metadata": {},
   "source": [
    "# <u>**Classification Problems**</u>:\n",
    "\n",
    "- Classification problems are, in which the outcome variable or response variable (Y) takes discrete values. Primary objective of a classification model is to predict the probability of an observation belonging to a class, known as class probability.\n",
    "\n",
    "- Classification problems may have binary or multiple outcomes or classes. Binary outcomes are called  *binary classification* and multiple outcomes are called *multinomial classification*. There are several  techniques used for solving classification problems such as logistic regression, classification trees, discriminant analysis, neural networks, and support vector machines.\n"
   ]
  },
  {
   "cell_type": "markdown",
   "id": "5540bdf1-4820-43e2-a4e1-6209cf03c5e4",
   "metadata": {},
   "source": [
    "# <u>**Binary Logistic Regression**</u>:\n",
    "\n",
    "- Logistic regression is a statistical model in which the response variable takes a discrete value and the  explanatory variables can either be continuous or discrete. If the outcome variable takes only two values,  then the model is called **binary logistic regression model**. \n",
    "- Assume that the *outcomes are called positive (usually coded as Y = 1) and negative (usually coded as Y = 0)*. Then the probability that a record belongs  to a positive class, $P(Y = 1)$, using the binary logistic regression model is given by \n",
    "\n",
    "$$P(Y=1) = \\frac{e^Z}{1+e^Z}$$\n",
    "where\n",
    "$$Z = \\beta_0 + \\beta_1X_1 + \\beta_2X_2 + \\cdots + \\beta_mX_m$$\n",
    "Here $X_1, X_2, \\cdots, X_m$ are the independent variables or features.\n",
    "- The logistic regression has an S-shaped  curve(thus also known as Sigmoid function), and gives the class probability of an observation belonging to class labelled as 1, that is,  P(Y = 1). \n",
    "\n",
    "Taking log on the above Eq.\n",
    "\n",
    "$$ln \\left(\\frac{P(Y=1)}{1 - P(Y=1)}\\right) = Z = \\beta_0 + \\beta_1X_1 + \\beta_2X_2 + \\cdots + \\beta_mX_m$$\n",
    "\n",
    "The left-hand side of above Eq. is a **log natural of odds** and is known as *logit function*; the right-had side  is a *linear function*. \n",
    "\n",
    "***Taking the log of the odds ratio brings about a certain symmetricity in the results, making it easier to interpret and use in various statistics.*** \n",
    "- https://www.geeksforgeeks.org/log-odds/\n",
    "- https://www.geeksforgeeks.org/role-of-log-odds-in-logistic-regression/#:~:text=Log%20odds%20play%20an%20important,makes%20interpreting%20the%20output%20easier.\n",
    "- https://towardsdatascience.com/logit-of-logistic-regression-understanding-the-fundamentals-f384152a33d1\n",
    "- https://towardsdatascience.com/https-towardsdatascience-com-what-and-why-of-log-odds-64ba988bf704\n",
    "\n",
    "\n",
    "Such models are called **generalized linear models (GLM)**. In GLM, the errors may  not follow normal distribution and there exists a transformation function of the outcome variable that  takes a linear functional form. "
   ]
  },
  {
   "cell_type": "markdown",
   "id": "ec87fae5-18d7-4bf3-b1b7-d76ff2d66fcc",
   "metadata": {},
   "source": [
    "### **Credit Classification using the German credit rating dataset.**"
   ]
  },
  {
   "cell_type": "code",
   "execution_count": 2,
   "id": "01f8de5e-40d2-4f49-b4be-8f075e27f688",
   "metadata": {},
   "outputs": [],
   "source": [
    "import numpy as np\n",
    "import pandas as pd\n",
    "import matplotlib.pyplot as plt\n",
    "import seaborn as sns\n",
    "import os\n",
    "\n",
    "%matplotlib inline\n",
    "pd.pandas.set_option(\"display.max_columns\", None)"
   ]
  },
  {
   "cell_type": "markdown",
   "id": "a7ed6e3c-1c4f-4deb-8800-27cb4aa47290",
   "metadata": {},
   "source": [
    "**Metadata for German Credit Card dataset**\n",
    "\n",
    "![credit_card_metadata_1](credit_card_metadata_1.png)\n",
    "![credit_card_metadata_2](credit_card_metadata_2.png)"
   ]
  },
  {
   "cell_type": "code",
   "execution_count": 3,
   "id": "37683c7b-65ba-4d6f-84f8-875070d9b967",
   "metadata": {},
   "outputs": [
    {
     "data": {
      "text/html": [
       "<div>\n",
       "<style scoped>\n",
       "    .dataframe tbody tr th:only-of-type {\n",
       "        vertical-align: middle;\n",
       "    }\n",
       "\n",
       "    .dataframe tbody tr th {\n",
       "        vertical-align: top;\n",
       "    }\n",
       "\n",
       "    .dataframe thead th {\n",
       "        text-align: right;\n",
       "    }\n",
       "</style>\n",
       "<table border=\"1\" class=\"dataframe\">\n",
       "  <thead>\n",
       "    <tr style=\"text-align: right;\">\n",
       "      <th></th>\n",
       "      <th>checkin_acc</th>\n",
       "      <th>duration</th>\n",
       "      <th>credit_history</th>\n",
       "      <th>amount</th>\n",
       "      <th>savings_acc</th>\n",
       "      <th>present_emp_since</th>\n",
       "      <th>inst_rate</th>\n",
       "      <th>personal_status</th>\n",
       "      <th>residing_since</th>\n",
       "      <th>age</th>\n",
       "      <th>inst_plans</th>\n",
       "      <th>num_credits</th>\n",
       "      <th>job</th>\n",
       "      <th>status</th>\n",
       "    </tr>\n",
       "  </thead>\n",
       "  <tbody>\n",
       "    <tr>\n",
       "      <th>0</th>\n",
       "      <td>A11</td>\n",
       "      <td>6</td>\n",
       "      <td>A34</td>\n",
       "      <td>1169</td>\n",
       "      <td>A65</td>\n",
       "      <td>A75</td>\n",
       "      <td>4</td>\n",
       "      <td>A93</td>\n",
       "      <td>4</td>\n",
       "      <td>67</td>\n",
       "      <td>A143</td>\n",
       "      <td>2</td>\n",
       "      <td>A173</td>\n",
       "      <td>0</td>\n",
       "    </tr>\n",
       "    <tr>\n",
       "      <th>1</th>\n",
       "      <td>A12</td>\n",
       "      <td>48</td>\n",
       "      <td>A32</td>\n",
       "      <td>5951</td>\n",
       "      <td>A61</td>\n",
       "      <td>A73</td>\n",
       "      <td>2</td>\n",
       "      <td>A92</td>\n",
       "      <td>2</td>\n",
       "      <td>22</td>\n",
       "      <td>A143</td>\n",
       "      <td>1</td>\n",
       "      <td>A173</td>\n",
       "      <td>1</td>\n",
       "    </tr>\n",
       "    <tr>\n",
       "      <th>2</th>\n",
       "      <td>A14</td>\n",
       "      <td>12</td>\n",
       "      <td>A34</td>\n",
       "      <td>2096</td>\n",
       "      <td>A61</td>\n",
       "      <td>A74</td>\n",
       "      <td>2</td>\n",
       "      <td>A93</td>\n",
       "      <td>3</td>\n",
       "      <td>49</td>\n",
       "      <td>A143</td>\n",
       "      <td>1</td>\n",
       "      <td>A172</td>\n",
       "      <td>0</td>\n",
       "    </tr>\n",
       "    <tr>\n",
       "      <th>3</th>\n",
       "      <td>A11</td>\n",
       "      <td>42</td>\n",
       "      <td>A32</td>\n",
       "      <td>7882</td>\n",
       "      <td>A61</td>\n",
       "      <td>A74</td>\n",
       "      <td>2</td>\n",
       "      <td>A93</td>\n",
       "      <td>4</td>\n",
       "      <td>45</td>\n",
       "      <td>A143</td>\n",
       "      <td>1</td>\n",
       "      <td>A173</td>\n",
       "      <td>0</td>\n",
       "    </tr>\n",
       "    <tr>\n",
       "      <th>4</th>\n",
       "      <td>A11</td>\n",
       "      <td>24</td>\n",
       "      <td>A33</td>\n",
       "      <td>4870</td>\n",
       "      <td>A61</td>\n",
       "      <td>A73</td>\n",
       "      <td>3</td>\n",
       "      <td>A93</td>\n",
       "      <td>4</td>\n",
       "      <td>53</td>\n",
       "      <td>A143</td>\n",
       "      <td>2</td>\n",
       "      <td>A173</td>\n",
       "      <td>1</td>\n",
       "    </tr>\n",
       "  </tbody>\n",
       "</table>\n",
       "</div>"
      ],
      "text/plain": [
       "  checkin_acc  duration credit_history  amount savings_acc present_emp_since  \\\n",
       "0         A11         6            A34    1169         A65               A75   \n",
       "1         A12        48            A32    5951         A61               A73   \n",
       "2         A14        12            A34    2096         A61               A74   \n",
       "3         A11        42            A32    7882         A61               A74   \n",
       "4         A11        24            A33    4870         A61               A73   \n",
       "\n",
       "   inst_rate personal_status  residing_since  age inst_plans  num_credits  \\\n",
       "0          4             A93               4   67       A143            2   \n",
       "1          2             A92               2   22       A143            1   \n",
       "2          2             A93               3   49       A143            1   \n",
       "3          2             A93               4   45       A143            1   \n",
       "4          3             A93               4   53       A143            2   \n",
       "\n",
       "    job  status  \n",
       "0  A173       0  \n",
       "1  A173       1  \n",
       "2  A172       0  \n",
       "3  A173       0  \n",
       "4  A173       1  "
      ]
     },
     "execution_count": 3,
     "metadata": {},
     "output_type": "execute_result"
    }
   ],
   "source": [
    "credit_df = pd.read_csv(os.getcwd()+\"/data/German Credit Data.csv\")\n",
    "credit_df.head()"
   ]
  },
  {
   "cell_type": "code",
   "execution_count": 4,
   "id": "76be4c2b-2abc-405a-9170-438b9b266070",
   "metadata": {},
   "outputs": [
    {
     "name": "stdout",
     "output_type": "stream",
     "text": [
      "<class 'pandas.core.frame.DataFrame'>\n",
      "RangeIndex: 1000 entries, 0 to 999\n",
      "Data columns (total 14 columns):\n",
      " #   Column             Non-Null Count  Dtype \n",
      "---  ------             --------------  ----- \n",
      " 0   checkin_acc        1000 non-null   object\n",
      " 1   duration           1000 non-null   int64 \n",
      " 2   credit_history     1000 non-null   object\n",
      " 3   amount             1000 non-null   int64 \n",
      " 4   savings_acc        1000 non-null   object\n",
      " 5   present_emp_since  1000 non-null   object\n",
      " 6   inst_rate          1000 non-null   int64 \n",
      " 7   personal_status    1000 non-null   object\n",
      " 8   residing_since     1000 non-null   int64 \n",
      " 9   age                1000 non-null   int64 \n",
      " 10  inst_plans         1000 non-null   object\n",
      " 11  num_credits        1000 non-null   int64 \n",
      " 12  job                1000 non-null   object\n",
      " 13  status             1000 non-null   int64 \n",
      "dtypes: int64(7), object(7)\n",
      "memory usage: 109.5+ KB\n"
     ]
    }
   ],
   "source": [
    "credit_df.info()"
   ]
  },
  {
   "cell_type": "code",
   "execution_count": 5,
   "id": "9ef87841-36f1-4f9d-9c4d-761c9d9fb616",
   "metadata": {},
   "outputs": [
    {
     "data": {
      "text/plain": [
       "['checkin_acc',\n",
       " 'duration',\n",
       " 'credit_history',\n",
       " 'amount',\n",
       " 'savings_acc',\n",
       " 'present_emp_since',\n",
       " 'inst_rate',\n",
       " 'personal_status',\n",
       " 'residing_since',\n",
       " 'age',\n",
       " 'inst_plans',\n",
       " 'num_credits',\n",
       " 'job']"
      ]
     },
     "execution_count": 5,
     "metadata": {},
     "output_type": "execute_result"
    }
   ],
   "source": [
    "X_features = list(credit_df.columns)\n",
    "X_features.remove('status')\n",
    "X_features"
   ]
  },
  {
   "cell_type": "markdown",
   "id": "ac51aec8-777c-42f3-ad59-e14acd3a0005",
   "metadata": {},
   "source": [
    "### ***Encoding Categorical Features***\n",
    "- There are several categorical features in the data which need to be binary encoded (using dummy variables),  also known as **one hot encoding (OHE).**\n",
    "\n",
    "- ***If the feature has n categories, then either n or (n – 1) dummy variables can be  created [the model will have only (n – 1) dummy variables].***"
   ]
  },
  {
   "cell_type": "code",
   "execution_count": 6,
   "id": "d246e20b-5e4b-477f-b118-dd3fb8b02e96",
   "metadata": {},
   "outputs": [],
   "source": [
    "encoded_credit_df = pd.get_dummies(credit_df[X_features], drop_first=True)"
   ]
  },
  {
   "cell_type": "code",
   "execution_count": 7,
   "id": "1fa79946-3c48-4682-9151-1be54a719cd4",
   "metadata": {
    "scrolled": true,
    "tags": []
   },
   "outputs": [
    {
     "data": {
      "text/plain": [
       "['duration',\n",
       " 'amount',\n",
       " 'inst_rate',\n",
       " 'residing_since',\n",
       " 'age',\n",
       " 'num_credits',\n",
       " 'checkin_acc_A12',\n",
       " 'checkin_acc_A13',\n",
       " 'checkin_acc_A14',\n",
       " 'credit_history_A31',\n",
       " 'credit_history_A32',\n",
       " 'credit_history_A33',\n",
       " 'credit_history_A34',\n",
       " 'savings_acc_A62',\n",
       " 'savings_acc_A63',\n",
       " 'savings_acc_A64',\n",
       " 'savings_acc_A65',\n",
       " 'present_emp_since_A72',\n",
       " 'present_emp_since_A73',\n",
       " 'present_emp_since_A74',\n",
       " 'present_emp_since_A75',\n",
       " 'personal_status_A92',\n",
       " 'personal_status_A93',\n",
       " 'personal_status_A94',\n",
       " 'inst_plans_A142',\n",
       " 'inst_plans_A143',\n",
       " 'job_A172',\n",
       " 'job_A173',\n",
       " 'job_A174']"
      ]
     },
     "execution_count": 7,
     "metadata": {},
     "output_type": "execute_result"
    }
   ],
   "source": [
    "list(encoded_credit_df.columns)"
   ]
  },
  {
   "cell_type": "code",
   "execution_count": 8,
   "id": "a3cf2ee1-6b48-46df-bf4d-8d09ca65f93a",
   "metadata": {},
   "outputs": [
    {
     "data": {
      "text/plain": [
       "array(['A11', 'A12', 'A14', 'A13'], dtype=object)"
      ]
     },
     "execution_count": 8,
     "metadata": {},
     "output_type": "execute_result"
    }
   ],
   "source": [
    "credit_df.checkin_acc.unique()"
   ]
  },
  {
   "cell_type": "code",
   "execution_count": 8,
   "id": "85636bd9-2338-49de-b915-22dd0ee08365",
   "metadata": {},
   "outputs": [
    {
     "data": {
      "text/html": [
       "<div>\n",
       "<style scoped>\n",
       "    .dataframe tbody tr th:only-of-type {\n",
       "        vertical-align: middle;\n",
       "    }\n",
       "\n",
       "    .dataframe tbody tr th {\n",
       "        vertical-align: top;\n",
       "    }\n",
       "\n",
       "    .dataframe thead th {\n",
       "        text-align: right;\n",
       "    }\n",
       "</style>\n",
       "<table border=\"1\" class=\"dataframe\">\n",
       "  <thead>\n",
       "    <tr style=\"text-align: right;\">\n",
       "      <th></th>\n",
       "      <th>checkin_acc_A12</th>\n",
       "      <th>checkin_acc_A13</th>\n",
       "      <th>checkin_acc_A14</th>\n",
       "    </tr>\n",
       "  </thead>\n",
       "  <tbody>\n",
       "    <tr>\n",
       "      <th>0</th>\n",
       "      <td>0</td>\n",
       "      <td>0</td>\n",
       "      <td>0</td>\n",
       "    </tr>\n",
       "    <tr>\n",
       "      <th>1</th>\n",
       "      <td>1</td>\n",
       "      <td>0</td>\n",
       "      <td>0</td>\n",
       "    </tr>\n",
       "    <tr>\n",
       "      <th>2</th>\n",
       "      <td>0</td>\n",
       "      <td>0</td>\n",
       "      <td>1</td>\n",
       "    </tr>\n",
       "    <tr>\n",
       "      <th>3</th>\n",
       "      <td>0</td>\n",
       "      <td>0</td>\n",
       "      <td>0</td>\n",
       "    </tr>\n",
       "    <tr>\n",
       "      <th>4</th>\n",
       "      <td>0</td>\n",
       "      <td>0</td>\n",
       "      <td>0</td>\n",
       "    </tr>\n",
       "  </tbody>\n",
       "</table>\n",
       "</div>"
      ],
      "text/plain": [
       "   checkin_acc_A12  checkin_acc_A13  checkin_acc_A14\n",
       "0                0                0                0\n",
       "1                1                0                0\n",
       "2                0                0                1\n",
       "3                0                0                0\n",
       "4                0                0                0"
      ]
     },
     "execution_count": 8,
     "metadata": {},
     "output_type": "execute_result"
    }
   ],
   "source": [
    "encoded_credit_df[['checkin_acc_A12',\n",
    " 'checkin_acc_A13',\n",
    " 'checkin_acc_A14']].head()"
   ]
  },
  {
   "cell_type": "markdown",
   "id": "5666962b-69c5-4f96-81a0-146faba967f8",
   "metadata": {},
   "source": [
    "For example, \"checkin_acc\" variable is encoded into the following three dummy variables and the base  category.<br>\n",
    "checkin_acc_A11 is dropped.<br>\n",
    "If all the following three variables’ values are set to 0, it indicates the  account type is checkin_acc_A11. "
   ]
  },
  {
   "cell_type": "markdown",
   "id": "c60c3820-ba43-4aff-917e-2fcdd2c71392",
   "metadata": {},
   "source": [
    "### ***Building the Model***"
   ]
  },
  {
   "cell_type": "code",
   "execution_count": 9,
   "id": "122457e9-d3af-4bb8-9d8b-de50ff4b26a5",
   "metadata": {},
   "outputs": [
    {
     "name": "stderr",
     "output_type": "stream",
     "text": [
      "C:\\Users\\Amit Vikram Raj\\anaconda3\\lib\\site-packages\\statsmodels\\tsa\\tsatools.py:142: FutureWarning: In a future version of pandas all arguments of concat except for the argument 'objs' will be keyword-only\n",
      "  x = pd.concat(x[::order], 1)\n"
     ]
    }
   ],
   "source": [
    "import statsmodels.api as sm\n",
    "\n",
    "Y = credit_df.status\n",
    "X = sm.add_constant(encoded_credit_df)"
   ]
  },
  {
   "cell_type": "markdown",
   "id": "54ecbe8e-418d-439d-96a0-26f1a4844628",
   "metadata": {},
   "source": [
    "### ***Splitting Dataset into Training and Test Sets***"
   ]
  },
  {
   "cell_type": "code",
   "execution_count": 10,
   "id": "3ae467a1-2191-4fb4-8803-e7cf2a3297dd",
   "metadata": {},
   "outputs": [],
   "source": [
    "from sklearn.model_selection import train_test_split\n",
    "\n",
    "X_train, X_test, y_train, y_test = train_test_split(X, Y, test_size=0.3, random_state=42)"
   ]
  },
  {
   "cell_type": "markdown",
   "id": "4dafa97d-1e9f-4cc6-97ab-677ba38a6867",
   "metadata": {},
   "source": [
    "### ***Building Logistic Regression Model***"
   ]
  },
  {
   "cell_type": "code",
   "execution_count": 11,
   "id": "7aa5c6dc-9f26-470d-8a58-ba726c70afba",
   "metadata": {},
   "outputs": [
    {
     "name": "stdout",
     "output_type": "stream",
     "text": [
      "Optimization terminated successfully.\n",
      "         Current function value: 0.488938\n",
      "         Iterations 6\n"
     ]
    }
   ],
   "source": [
    "# Logit() method for logistic Regression\n",
    "logit_model = sm.Logit(y_train, X_train).fit()"
   ]
  },
  {
   "cell_type": "code",
   "execution_count": 12,
   "id": "97693179-fc4d-4786-8701-a145923dc893",
   "metadata": {
    "scrolled": true,
    "tags": []
   },
   "outputs": [
    {
     "data": {
      "text/html": [
       "<table class=\"simpletable\">\n",
       "<tr>\n",
       "        <td>Model:</td>              <td>Logit</td>      <td>Pseudo R-squared:</td>    <td>0.198</td>  \n",
       "</tr>\n",
       "<tr>\n",
       "  <td>Dependent Variable:</td>      <td>status</td>            <td>AIC:</td>         <td>744.5132</td> \n",
       "</tr>\n",
       "<tr>\n",
       "         <td>Date:</td>        <td>2022-08-09 10:50</td>       <td>BIC:</td>         <td>881.0456</td> \n",
       "</tr>\n",
       "<tr>\n",
       "   <td>No. Observations:</td>         <td>700</td>        <td>Log-Likelihood:</td>    <td>-342.26</td> \n",
       "</tr>\n",
       "<tr>\n",
       "       <td>Df Model:</td>             <td>29</td>            <td>LL-Null:</td>        <td>-426.75</td> \n",
       "</tr>\n",
       "<tr>\n",
       "     <td>Df Residuals:</td>           <td>670</td>         <td>LLR p-value:</td>    <td>1.0630e-21</td>\n",
       "</tr>\n",
       "<tr>\n",
       "      <td>Converged:</td>           <td>1.0000</td>           <td>Scale:</td>         <td>1.0000</td>  \n",
       "</tr>\n",
       "<tr>\n",
       "    <td>No. Iterations:</td>        <td>6.0000</td>              <td></td>               <td></td>     \n",
       "</tr>\n",
       "</table>\n",
       "<table class=\"simpletable\">\n",
       "<tr>\n",
       "            <td></td>             <th>Coef.</th>  <th>Std.Err.</th>    <th>z</th>     <th>P>|z|</th> <th>[0.025</th>  <th>0.975]</th> \n",
       "</tr>\n",
       "<tr>\n",
       "  <th>const</th>                 <td>-0.1511</td>  <td>1.1349</td>  <td>-0.1331</td> <td>0.8941</td> <td>-2.3754</td> <td>2.0733</td> \n",
       "</tr>\n",
       "<tr>\n",
       "  <th>duration</th>              <td>0.0206</td>   <td>0.0104</td>  <td>1.9927</td>  <td>0.0463</td> <td>0.0003</td>  <td>0.0409</td> \n",
       "</tr>\n",
       "<tr>\n",
       "  <th>amount</th>                <td>0.0001</td>   <td>0.0000</td>  <td>2.3765</td>  <td>0.0175</td> <td>0.0000</td>  <td>0.0002</td> \n",
       "</tr>\n",
       "<tr>\n",
       "  <th>inst_rate</th>             <td>0.3064</td>   <td>0.0986</td>  <td>3.1083</td>  <td>0.0019</td> <td>0.1132</td>  <td>0.4996</td> \n",
       "</tr>\n",
       "<tr>\n",
       "  <th>residing_since</th>        <td>0.0967</td>   <td>0.0920</td>  <td>1.0511</td>  <td>0.2932</td> <td>-0.0836</td> <td>0.2771</td> \n",
       "</tr>\n",
       "<tr>\n",
       "  <th>age</th>                   <td>-0.0227</td>  <td>0.0103</td>  <td>-2.2131</td> <td>0.0269</td> <td>-0.0428</td> <td>-0.0026</td>\n",
       "</tr>\n",
       "<tr>\n",
       "  <th>num_credits</th>           <td>0.2854</td>   <td>0.2139</td>  <td>1.3342</td>  <td>0.1821</td> <td>-0.1338</td> <td>0.7045</td> \n",
       "</tr>\n",
       "<tr>\n",
       "  <th>checkin_acc_A12</th>       <td>-0.4126</td>  <td>0.2391</td>  <td>-1.7260</td> <td>0.0843</td> <td>-0.8812</td> <td>0.0559</td> \n",
       "</tr>\n",
       "<tr>\n",
       "  <th>checkin_acc_A13</th>       <td>-0.9053</td>  <td>0.4338</td>  <td>-2.0868</td> <td>0.0369</td> <td>-1.7556</td> <td>-0.0550</td>\n",
       "</tr>\n",
       "<tr>\n",
       "  <th>checkin_acc_A14</th>       <td>-1.6052</td>  <td>0.2586</td>  <td>-6.2073</td> <td>0.0000</td> <td>-2.1120</td> <td>-1.0983</td>\n",
       "</tr>\n",
       "<tr>\n",
       "  <th>credit_history_A31</th>    <td>0.1532</td>   <td>0.5795</td>  <td>0.2643</td>  <td>0.7916</td> <td>-0.9827</td> <td>1.2890</td> \n",
       "</tr>\n",
       "<tr>\n",
       "  <th>credit_history_A32</th>    <td>-0.4960</td>  <td>0.4411</td>  <td>-1.1245</td> <td>0.2608</td> <td>-1.3604</td> <td>0.3685</td> \n",
       "</tr>\n",
       "<tr>\n",
       "  <th>credit_history_A33</th>    <td>-0.8881</td>  <td>0.5022</td>  <td>-1.7683</td> <td>0.0770</td> <td>-1.8724</td> <td>0.0962</td> \n",
       "</tr>\n",
       "<tr>\n",
       "  <th>credit_history_A34</th>    <td>-1.4124</td>  <td>0.4528</td>  <td>-3.1190</td> <td>0.0018</td> <td>-2.2999</td> <td>-0.5249</td>\n",
       "</tr>\n",
       "<tr>\n",
       "  <th>savings_acc_A62</th>       <td>-0.0496</td>  <td>0.3208</td>  <td>-0.1545</td> <td>0.8772</td> <td>-0.6782</td> <td>0.5791</td> \n",
       "</tr>\n",
       "<tr>\n",
       "  <th>savings_acc_A63</th>       <td>-0.6640</td>  <td>0.4818</td>  <td>-1.3779</td> <td>0.1682</td> <td>-1.6084</td> <td>0.2804</td> \n",
       "</tr>\n",
       "<tr>\n",
       "  <th>savings_acc_A64</th>       <td>-1.1099</td>  <td>0.6019</td>  <td>-1.8439</td> <td>0.0652</td> <td>-2.2896</td> <td>0.0699</td> \n",
       "</tr>\n",
       "<tr>\n",
       "  <th>savings_acc_A65</th>       <td>-0.6061</td>  <td>0.2745</td>  <td>-2.2080</td> <td>0.0272</td> <td>-1.1441</td> <td>-0.0681</td>\n",
       "</tr>\n",
       "<tr>\n",
       "  <th>present_emp_since_A72</th> <td>0.0855</td>   <td>0.4722</td>  <td>0.1810</td>  <td>0.8564</td> <td>-0.8401</td> <td>1.0110</td> \n",
       "</tr>\n",
       "<tr>\n",
       "  <th>present_emp_since_A73</th> <td>-0.0339</td>  <td>0.4492</td>  <td>-0.0754</td> <td>0.9399</td> <td>-0.9142</td> <td>0.8465</td> \n",
       "</tr>\n",
       "<tr>\n",
       "  <th>present_emp_since_A74</th> <td>-0.3789</td>  <td>0.4790</td>  <td>-0.7910</td> <td>0.4289</td> <td>-1.3178</td> <td>0.5600</td> \n",
       "</tr>\n",
       "<tr>\n",
       "  <th>present_emp_since_A75</th> <td>-0.2605</td>  <td>0.4554</td>  <td>-0.5721</td> <td>0.5673</td> <td>-1.1532</td> <td>0.6321</td> \n",
       "</tr>\n",
       "<tr>\n",
       "  <th>personal_status_A92</th>   <td>-0.0069</td>  <td>0.4841</td>  <td>-0.0142</td> <td>0.9887</td> <td>-0.9557</td> <td>0.9419</td> \n",
       "</tr>\n",
       "<tr>\n",
       "  <th>personal_status_A93</th>   <td>-0.4426</td>  <td>0.4764</td>  <td>-0.9291</td> <td>0.3528</td> <td>-1.3762</td> <td>0.4911</td> \n",
       "</tr>\n",
       "<tr>\n",
       "  <th>personal_status_A94</th>   <td>-0.3080</td>  <td>0.5554</td>  <td>-0.5546</td> <td>0.5792</td> <td>-1.3967</td> <td>0.7806</td> \n",
       "</tr>\n",
       "<tr>\n",
       "  <th>inst_plans_A142</th>       <td>-0.2976</td>  <td>0.5157</td>  <td>-0.5772</td> <td>0.5638</td> <td>-1.3084</td> <td>0.7131</td> \n",
       "</tr>\n",
       "<tr>\n",
       "  <th>inst_plans_A143</th>       <td>-0.4458</td>  <td>0.2771</td>  <td>-1.6086</td> <td>0.1077</td> <td>-0.9889</td> <td>0.0974</td> \n",
       "</tr>\n",
       "<tr>\n",
       "  <th>job_A172</th>              <td>-0.0955</td>  <td>0.7681</td>  <td>-0.1243</td> <td>0.9011</td> <td>-1.6009</td> <td>1.4100</td> \n",
       "</tr>\n",
       "<tr>\n",
       "  <th>job_A173</th>              <td>-0.0198</td>  <td>0.7378</td>  <td>-0.0269</td> <td>0.9786</td> <td>-1.4658</td> <td>1.4262</td> \n",
       "</tr>\n",
       "<tr>\n",
       "  <th>job_A174</th>              <td>-0.0428</td>  <td>0.7371</td>  <td>-0.0581</td> <td>0.9537</td> <td>-1.4876</td> <td>1.4019</td> \n",
       "</tr>\n",
       "</table>"
      ],
      "text/plain": [
       "<class 'statsmodels.iolib.summary2.Summary'>\n",
       "\"\"\"\n",
       "                           Results: Logit\n",
       "=====================================================================\n",
       "Model:                Logit             Pseudo R-squared:  0.198     \n",
       "Dependent Variable:   status            AIC:               744.5132  \n",
       "Date:                 2022-08-09 10:50  BIC:               881.0456  \n",
       "No. Observations:     700               Log-Likelihood:    -342.26   \n",
       "Df Model:             29                LL-Null:           -426.75   \n",
       "Df Residuals:         670               LLR p-value:       1.0630e-21\n",
       "Converged:            1.0000            Scale:             1.0000    \n",
       "No. Iterations:       6.0000                                         \n",
       "---------------------------------------------------------------------\n",
       "                       Coef.  Std.Err.    z    P>|z|   [0.025  0.975]\n",
       "---------------------------------------------------------------------\n",
       "const                 -0.1511   1.1349 -0.1331 0.8941 -2.3754  2.0733\n",
       "duration               0.0206   0.0104  1.9927 0.0463  0.0003  0.0409\n",
       "amount                 0.0001   0.0000  2.3765 0.0175  0.0000  0.0002\n",
       "inst_rate              0.3064   0.0986  3.1083 0.0019  0.1132  0.4996\n",
       "residing_since         0.0967   0.0920  1.0511 0.2932 -0.0836  0.2771\n",
       "age                   -0.0227   0.0103 -2.2131 0.0269 -0.0428 -0.0026\n",
       "num_credits            0.2854   0.2139  1.3342 0.1821 -0.1338  0.7045\n",
       "checkin_acc_A12       -0.4126   0.2391 -1.7260 0.0843 -0.8812  0.0559\n",
       "checkin_acc_A13       -0.9053   0.4338 -2.0868 0.0369 -1.7556 -0.0550\n",
       "checkin_acc_A14       -1.6052   0.2586 -6.2073 0.0000 -2.1120 -1.0983\n",
       "credit_history_A31     0.1532   0.5795  0.2643 0.7916 -0.9827  1.2890\n",
       "credit_history_A32    -0.4960   0.4411 -1.1245 0.2608 -1.3604  0.3685\n",
       "credit_history_A33    -0.8881   0.5022 -1.7683 0.0770 -1.8724  0.0962\n",
       "credit_history_A34    -1.4124   0.4528 -3.1190 0.0018 -2.2999 -0.5249\n",
       "savings_acc_A62       -0.0496   0.3208 -0.1545 0.8772 -0.6782  0.5791\n",
       "savings_acc_A63       -0.6640   0.4818 -1.3779 0.1682 -1.6084  0.2804\n",
       "savings_acc_A64       -1.1099   0.6019 -1.8439 0.0652 -2.2896  0.0699\n",
       "savings_acc_A65       -0.6061   0.2745 -2.2080 0.0272 -1.1441 -0.0681\n",
       "present_emp_since_A72  0.0855   0.4722  0.1810 0.8564 -0.8401  1.0110\n",
       "present_emp_since_A73 -0.0339   0.4492 -0.0754 0.9399 -0.9142  0.8465\n",
       "present_emp_since_A74 -0.3789   0.4790 -0.7910 0.4289 -1.3178  0.5600\n",
       "present_emp_since_A75 -0.2605   0.4554 -0.5721 0.5673 -1.1532  0.6321\n",
       "personal_status_A92   -0.0069   0.4841 -0.0142 0.9887 -0.9557  0.9419\n",
       "personal_status_A93   -0.4426   0.4764 -0.9291 0.3528 -1.3762  0.4911\n",
       "personal_status_A94   -0.3080   0.5554 -0.5546 0.5792 -1.3967  0.7806\n",
       "inst_plans_A142       -0.2976   0.5157 -0.5772 0.5638 -1.3084  0.7131\n",
       "inst_plans_A143       -0.4458   0.2771 -1.6086 0.1077 -0.9889  0.0974\n",
       "job_A172              -0.0955   0.7681 -0.1243 0.9011 -1.6009  1.4100\n",
       "job_A173              -0.0198   0.7378 -0.0269 0.9786 -1.4658  1.4262\n",
       "job_A174              -0.0428   0.7371 -0.0581 0.9537 -1.4876  1.4019\n",
       "=====================================================================\n",
       "\n",
       "\"\"\""
      ]
     },
     "execution_count": 12,
     "metadata": {},
     "output_type": "execute_result"
    }
   ],
   "source": [
    "logit_model.summary2()"
   ]
  },
  {
   "cell_type": "markdown",
   "id": "2db945f5-3b78-45ee-8d61-7dcdea14094a",
   "metadata": {},
   "source": [
    "### ***Model Diagnostics***\n",
    "\n",
    "To validate the logistic regression model to ensure its validity and goodness of fit before it can  be used for practical applications. The following measures are used to validate a logistic regression model: \n",
    "\n",
    "1. **Wald’s test (a Chi-square test):**  ***for checking the statistical significance of individual predictor  (feature) variables.*** This is equivalent to t-test in the MLR (Multiple Linear Regression) model.  \n",
    "\n",
    "2. ***Likelihood ratio test for checking the statistical significance of the overall model*** (LLR p-value is  reported in the output). Likelihood ratio test is also used for variable (feature) selection.  \n",
    "\n",
    "3. **Pseudo $R^2$**: ***It is a measure of goodness of the model.*** It is called pseudo $R^2$ because it does not  have the same interpretation of $R^2$ as in the MLR model. "
   ]
  },
  {
   "cell_type": "markdown",
   "id": "074ae479-8076-4e27-838c-e3bf7f2ea655",
   "metadata": {},
   "source": [
    "*The model summary suggests that as per Wald’s test, only 8 features are statistically significant at a significant value of $\\alpha = 0.05$, as p-values are less than 0.05. p-value for likelihood ratio test (almost 0.00)  indicates that the overall model is statistically significant.* "
   ]
  },
  {
   "cell_type": "code",
   "execution_count": 13,
   "id": "a365df03-64b3-495d-974c-5c5c1f2d7666",
   "metadata": {},
   "outputs": [],
   "source": [
    "# pd.DataFrame(logit_model.pvalues)"
   ]
  },
  {
   "cell_type": "code",
   "execution_count": 14,
   "id": "40823bef-924c-496d-a737-fc7ad842f110",
   "metadata": {},
   "outputs": [],
   "source": [
    "def get_significant_vars(lm):\n",
    "    \"\"\"\n",
    "    method get_significant_vars() that takes the model object as an input and returns the list  of significant variables after filtering out the variable with corresponding p-value less than 0.05.\n",
    "    \"\"\"\n",
    "    \n",
    "    # Store the p-values and corresponding columns names in a dataframe\n",
    "    var_p_vals_df = pd.DataFrame(lm.pvalues)\n",
    "    var_p_vals_df['vars'] = var_p_vals_df.index\n",
    "    var_p_vals_df.columns = ['pvals', 'vars']\n",
    "    # Filter the columns names with p-value <= 0.05\n",
    "    return list(var_p_vals_df[var_p_vals_df.pvals <= 0.05]['vars'])"
   ]
  },
  {
   "cell_type": "code",
   "execution_count": 15,
   "id": "24a284c6-955e-4ece-a049-bb929a294cea",
   "metadata": {},
   "outputs": [
    {
     "data": {
      "text/plain": [
       "['duration',\n",
       " 'amount',\n",
       " 'inst_rate',\n",
       " 'age',\n",
       " 'checkin_acc_A13',\n",
       " 'checkin_acc_A14',\n",
       " 'credit_history_A34',\n",
       " 'savings_acc_A65']"
      ]
     },
     "execution_count": 15,
     "metadata": {},
     "output_type": "execute_result"
    }
   ],
   "source": [
    "significant_vars = get_significant_vars(logit_model)\n",
    "significant_vars\n",
    "# Only these features have come out to be significant."
   ]
  },
  {
   "cell_type": "markdown",
   "id": "278c5b92-e86d-4dd0-a82f-5bf73252b1a0",
   "metadata": {},
   "source": [
    "### ***Buliding a Logistic Regg. Model using only significant variables***"
   ]
  },
  {
   "cell_type": "code",
   "execution_count": 16,
   "id": "055e1e72-c64c-4126-bd87-460a348f33bf",
   "metadata": {},
   "outputs": [
    {
     "name": "stdout",
     "output_type": "stream",
     "text": [
      "Optimization terminated successfully.\n",
      "         Current function value: 0.511350\n",
      "         Iterations 6\n"
     ]
    },
    {
     "name": "stderr",
     "output_type": "stream",
     "text": [
      "C:\\Users\\Amit Vikram Raj\\anaconda3\\lib\\site-packages\\statsmodels\\tsa\\tsatools.py:142: FutureWarning: In a future version of pandas all arguments of concat except for the argument 'objs' will be keyword-only\n",
      "  x = pd.concat(x[::order], 1)\n"
     ]
    }
   ],
   "source": [
    "final_logit = sm.Logit(y_train, sm.add_constant(X_train[significant_vars])).fit()"
   ]
  },
  {
   "cell_type": "code",
   "execution_count": 17,
   "id": "0f84b795-5791-4701-8ee3-c3fe14adf2bb",
   "metadata": {},
   "outputs": [
    {
     "data": {
      "text/html": [
       "<table class=\"simpletable\">\n",
       "<tr>\n",
       "        <td>Model:</td>              <td>Logit</td>      <td>Pseudo R-squared:</td>    <td>0.161</td>  \n",
       "</tr>\n",
       "<tr>\n",
       "  <td>Dependent Variable:</td>      <td>status</td>            <td>AIC:</td>         <td>733.8898</td> \n",
       "</tr>\n",
       "<tr>\n",
       "         <td>Date:</td>        <td>2022-08-09 10:50</td>       <td>BIC:</td>         <td>774.8495</td> \n",
       "</tr>\n",
       "<tr>\n",
       "   <td>No. Observations:</td>         <td>700</td>        <td>Log-Likelihood:</td>    <td>-357.94</td> \n",
       "</tr>\n",
       "<tr>\n",
       "       <td>Df Model:</td>              <td>8</td>            <td>LL-Null:</td>        <td>-426.75</td> \n",
       "</tr>\n",
       "<tr>\n",
       "     <td>Df Residuals:</td>           <td>691</td>         <td>LLR p-value:</td>    <td>7.4185e-26</td>\n",
       "</tr>\n",
       "<tr>\n",
       "      <td>Converged:</td>           <td>1.0000</td>           <td>Scale:</td>         <td>1.0000</td>  \n",
       "</tr>\n",
       "<tr>\n",
       "    <td>No. Iterations:</td>        <td>6.0000</td>              <td></td>               <td></td>     \n",
       "</tr>\n",
       "</table>\n",
       "<table class=\"simpletable\">\n",
       "<tr>\n",
       "           <td></td>           <th>Coef.</th>  <th>Std.Err.</th>    <th>z</th>     <th>P>|z|</th> <th>[0.025</th>  <th>0.975]</th> \n",
       "</tr>\n",
       "<tr>\n",
       "  <th>const</th>              <td>-0.8969</td>  <td>0.4364</td>  <td>-2.0551</td> <td>0.0399</td> <td>-1.7523</td> <td>-0.0415</td>\n",
       "</tr>\n",
       "<tr>\n",
       "  <th>duration</th>           <td>0.0197</td>   <td>0.0098</td>  <td>2.0033</td>  <td>0.0451</td> <td>0.0004</td>  <td>0.0390</td> \n",
       "</tr>\n",
       "<tr>\n",
       "  <th>amount</th>             <td>0.0001</td>   <td>0.0000</td>  <td>2.3205</td>  <td>0.0203</td> <td>0.0000</td>  <td>0.0002</td> \n",
       "</tr>\n",
       "<tr>\n",
       "  <th>inst_rate</th>          <td>0.2811</td>   <td>0.0929</td>  <td>3.0264</td>  <td>0.0025</td> <td>0.0991</td>  <td>0.4632</td> \n",
       "</tr>\n",
       "<tr>\n",
       "  <th>age</th>                <td>-0.0216</td>  <td>0.0089</td>  <td>-2.4207</td> <td>0.0155</td> <td>-0.0392</td> <td>-0.0041</td>\n",
       "</tr>\n",
       "<tr>\n",
       "  <th>checkin_acc_A13</th>    <td>-0.8038</td>  <td>0.4081</td>  <td>-1.9697</td> <td>0.0489</td> <td>-1.6037</td> <td>-0.0040</td>\n",
       "</tr>\n",
       "<tr>\n",
       "  <th>checkin_acc_A14</th>    <td>-1.5452</td>  <td>0.2187</td>  <td>-7.0649</td> <td>0.0000</td> <td>-1.9738</td> <td>-1.1165</td>\n",
       "</tr>\n",
       "<tr>\n",
       "  <th>credit_history_A34</th> <td>-0.8781</td>  <td>0.2319</td>  <td>-3.7858</td> <td>0.0002</td> <td>-1.3327</td> <td>-0.4235</td>\n",
       "</tr>\n",
       "<tr>\n",
       "  <th>savings_acc_A65</th>    <td>-0.5448</td>  <td>0.2581</td>  <td>-2.1108</td> <td>0.0348</td> <td>-1.0507</td> <td>-0.0389</td>\n",
       "</tr>\n",
       "</table>"
      ],
      "text/plain": [
       "<class 'statsmodels.iolib.summary2.Summary'>\n",
       "\"\"\"\n",
       "                          Results: Logit\n",
       "==================================================================\n",
       "Model:               Logit            Pseudo R-squared: 0.161     \n",
       "Dependent Variable:  status           AIC:              733.8898  \n",
       "Date:                2022-08-09 10:50 BIC:              774.8495  \n",
       "No. Observations:    700              Log-Likelihood:   -357.94   \n",
       "Df Model:            8                LL-Null:          -426.75   \n",
       "Df Residuals:        691              LLR p-value:      7.4185e-26\n",
       "Converged:           1.0000           Scale:            1.0000    \n",
       "No. Iterations:      6.0000                                       \n",
       "------------------------------------------------------------------\n",
       "                    Coef.  Std.Err.    z    P>|z|   [0.025  0.975]\n",
       "------------------------------------------------------------------\n",
       "const              -0.8969   0.4364 -2.0551 0.0399 -1.7523 -0.0415\n",
       "duration            0.0197   0.0098  2.0033 0.0451  0.0004  0.0390\n",
       "amount              0.0001   0.0000  2.3205 0.0203  0.0000  0.0002\n",
       "inst_rate           0.2811   0.0929  3.0264 0.0025  0.0991  0.4632\n",
       "age                -0.0216   0.0089 -2.4207 0.0155 -0.0392 -0.0041\n",
       "checkin_acc_A13    -0.8038   0.4081 -1.9697 0.0489 -1.6037 -0.0040\n",
       "checkin_acc_A14    -1.5452   0.2187 -7.0649 0.0000 -1.9738 -1.1165\n",
       "credit_history_A34 -0.8781   0.2319 -3.7858 0.0002 -1.3327 -0.4235\n",
       "savings_acc_A65    -0.5448   0.2581 -2.1108 0.0348 -1.0507 -0.0389\n",
       "==================================================================\n",
       "\n",
       "\"\"\""
      ]
     },
     "execution_count": 17,
     "metadata": {},
     "output_type": "execute_result"
    }
   ],
   "source": [
    "final_logit.summary2()"
   ]
  },
  {
   "cell_type": "markdown",
   "id": "e5f6e895-3ef4-4933-aa7f-4f83f9db4476",
   "metadata": {},
   "source": [
    "#### **Interpretation of Coeffs. in Logisstic Regg.**\n",
    "\n",
    "- ***The negative sign in coefficient value indicates that as the value of this variable increases, the probability  of being a bad credit decreases, i.e. $P(Y_i = 1)$ decreases.<br> A positive sign means that the probability of  being a bad credit increases as the corresponding value of the variable increases.***\n",
    "\n",
    "- **In binary LR, the regression parameter i.e the coeffs. captures the change in the log ratio of odds for unit change in the independent (feature) variable value.**\n",
    "\n",
    "- **That is, β1 is the change in the log-natural of the ratio of odds. Alternatively, exp(β1) is the change in the odds ratio for unit change in the feature value.**\n",
    "\n",
    "From above conclusions we can say:  \n",
    "1. The log of odds ratio or probability of being a bad credit increases as \"duration\", amount\", \"inst_rate\"  increases.<br>For example, one unit change in duration results in 0.019723 unit change in log of  odds ratio. \n",
    "\n",
    "2. The probability of being a bad credit decreases as age increases. This means that older people  tend to pay back their credits ontime compared to younger people. "
   ]
  },
  {
   "cell_type": "markdown",
   "id": "406541ad-35af-43b7-9a79-8bc6639b2cf9",
   "metadata": {},
   "source": [
    "### ***Predicting on test data***"
   ]
  },
  {
   "cell_type": "code",
   "execution_count": 18,
   "id": "3fcc664e-1bb3-42f2-ae1e-616ebfa34a7a",
   "metadata": {},
   "outputs": [
    {
     "name": "stderr",
     "output_type": "stream",
     "text": [
      "C:\\Users\\Amit Vikram Raj\\anaconda3\\lib\\site-packages\\statsmodels\\tsa\\tsatools.py:142: FutureWarning: In a future version of pandas all arguments of concat except for the argument 'objs' will be keyword-only\n",
      "  x = pd.concat(x[::order], 1)\n"
     ]
    }
   ],
   "source": [
    "y_pred_df = pd.DataFrame({\"actual\": y_test,\n",
    "                         \"predicted_prob\": final_logit.predict(sm.add_constant(X_test[significant_vars]))})"
   ]
  },
  {
   "cell_type": "code",
   "execution_count": 19,
   "id": "98c5591c-b89e-4bd5-8ae1-ecff8565c22e",
   "metadata": {},
   "outputs": [
    {
     "data": {
      "text/html": [
       "<div>\n",
       "<style scoped>\n",
       "    .dataframe tbody tr th:only-of-type {\n",
       "        vertical-align: middle;\n",
       "    }\n",
       "\n",
       "    .dataframe tbody tr th {\n",
       "        vertical-align: top;\n",
       "    }\n",
       "\n",
       "    .dataframe thead th {\n",
       "        text-align: right;\n",
       "    }\n",
       "</style>\n",
       "<table border=\"1\" class=\"dataframe\">\n",
       "  <thead>\n",
       "    <tr style=\"text-align: right;\">\n",
       "      <th></th>\n",
       "      <th>actual</th>\n",
       "      <th>predicted_prob</th>\n",
       "    </tr>\n",
       "  </thead>\n",
       "  <tbody>\n",
       "    <tr>\n",
       "      <th>557</th>\n",
       "      <td>1</td>\n",
       "      <td>0.080493</td>\n",
       "    </tr>\n",
       "    <tr>\n",
       "      <th>798</th>\n",
       "      <td>0</td>\n",
       "      <td>0.076653</td>\n",
       "    </tr>\n",
       "    <tr>\n",
       "      <th>977</th>\n",
       "      <td>0</td>\n",
       "      <td>0.345979</td>\n",
       "    </tr>\n",
       "    <tr>\n",
       "      <th>136</th>\n",
       "      <td>0</td>\n",
       "      <td>0.249919</td>\n",
       "    </tr>\n",
       "    <tr>\n",
       "      <th>575</th>\n",
       "      <td>0</td>\n",
       "      <td>0.062264</td>\n",
       "    </tr>\n",
       "    <tr>\n",
       "      <th>544</th>\n",
       "      <td>0</td>\n",
       "      <td>0.040768</td>\n",
       "    </tr>\n",
       "    <tr>\n",
       "      <th>332</th>\n",
       "      <td>1</td>\n",
       "      <td>0.833093</td>\n",
       "    </tr>\n",
       "    <tr>\n",
       "      <th>917</th>\n",
       "      <td>1</td>\n",
       "      <td>0.370667</td>\n",
       "    </tr>\n",
       "    <tr>\n",
       "      <th>678</th>\n",
       "      <td>0</td>\n",
       "      <td>0.388392</td>\n",
       "    </tr>\n",
       "    <tr>\n",
       "      <th>363</th>\n",
       "      <td>0</td>\n",
       "      <td>0.088952</td>\n",
       "    </tr>\n",
       "  </tbody>\n",
       "</table>\n",
       "</div>"
      ],
      "text/plain": [
       "     actual  predicted_prob\n",
       "557       1        0.080493\n",
       "798       0        0.076653\n",
       "977       0        0.345979\n",
       "136       0        0.249919\n",
       "575       0        0.062264\n",
       "544       0        0.040768\n",
       "332       1        0.833093\n",
       "917       1        0.370667\n",
       "678       0        0.388392\n",
       "363       0        0.088952"
      ]
     },
     "execution_count": 19,
     "metadata": {},
     "output_type": "execute_result"
    }
   ],
   "source": [
    "y_pred_df.sample(10, random_state=42)"
   ]
  },
  {
   "cell_type": "markdown",
   "id": "a4d3ab72-3892-4baf-9b22-b31327a656d4",
   "metadata": {},
   "source": [
    "**To understand how many observations the model has classified correctly and how many it has not, a  cut-off probability needs to be assumed. Assume that the cut-off probability is 0.5; then all observations  with predicted probability of more than 0.5 will be predicted as bad credits and rest all as good credits.** "
   ]
  },
  {
   "cell_type": "markdown",
   "id": "597b410c-b89a-4511-a3f3-0444010b504d",
   "metadata": {},
   "source": [
    "P(Y = 0) = Good Credit<br>\n",
    "P(Y = 1) = Bad Credit"
   ]
  },
  {
   "cell_type": "code",
   "execution_count": 20,
   "id": "31aa1a6c-bfb4-4d0f-a70b-1b7d27b3a2b2",
   "metadata": {},
   "outputs": [
    {
     "data": {
      "text/html": [
       "<div>\n",
       "<style scoped>\n",
       "    .dataframe tbody tr th:only-of-type {\n",
       "        vertical-align: middle;\n",
       "    }\n",
       "\n",
       "    .dataframe tbody tr th {\n",
       "        vertical-align: top;\n",
       "    }\n",
       "\n",
       "    .dataframe thead th {\n",
       "        text-align: right;\n",
       "    }\n",
       "</style>\n",
       "<table border=\"1\" class=\"dataframe\">\n",
       "  <thead>\n",
       "    <tr style=\"text-align: right;\">\n",
       "      <th></th>\n",
       "      <th>actual</th>\n",
       "      <th>predicted_prob</th>\n",
       "      <th>predicted</th>\n",
       "    </tr>\n",
       "  </thead>\n",
       "  <tbody>\n",
       "    <tr>\n",
       "      <th>557</th>\n",
       "      <td>1</td>\n",
       "      <td>0.080493</td>\n",
       "      <td>0</td>\n",
       "    </tr>\n",
       "    <tr>\n",
       "      <th>798</th>\n",
       "      <td>0</td>\n",
       "      <td>0.076653</td>\n",
       "      <td>0</td>\n",
       "    </tr>\n",
       "    <tr>\n",
       "      <th>977</th>\n",
       "      <td>0</td>\n",
       "      <td>0.345979</td>\n",
       "      <td>0</td>\n",
       "    </tr>\n",
       "    <tr>\n",
       "      <th>136</th>\n",
       "      <td>0</td>\n",
       "      <td>0.249919</td>\n",
       "      <td>0</td>\n",
       "    </tr>\n",
       "    <tr>\n",
       "      <th>575</th>\n",
       "      <td>0</td>\n",
       "      <td>0.062264</td>\n",
       "      <td>0</td>\n",
       "    </tr>\n",
       "    <tr>\n",
       "      <th>544</th>\n",
       "      <td>0</td>\n",
       "      <td>0.040768</td>\n",
       "      <td>0</td>\n",
       "    </tr>\n",
       "    <tr>\n",
       "      <th>332</th>\n",
       "      <td>1</td>\n",
       "      <td>0.833093</td>\n",
       "      <td>1</td>\n",
       "    </tr>\n",
       "    <tr>\n",
       "      <th>917</th>\n",
       "      <td>1</td>\n",
       "      <td>0.370667</td>\n",
       "      <td>0</td>\n",
       "    </tr>\n",
       "    <tr>\n",
       "      <th>678</th>\n",
       "      <td>0</td>\n",
       "      <td>0.388392</td>\n",
       "      <td>0</td>\n",
       "    </tr>\n",
       "    <tr>\n",
       "      <th>363</th>\n",
       "      <td>0</td>\n",
       "      <td>0.088952</td>\n",
       "      <td>0</td>\n",
       "    </tr>\n",
       "  </tbody>\n",
       "</table>\n",
       "</div>"
      ],
      "text/plain": [
       "     actual  predicted_prob  predicted\n",
       "557       1        0.080493          0\n",
       "798       0        0.076653          0\n",
       "977       0        0.345979          0\n",
       "136       0        0.249919          0\n",
       "575       0        0.062264          0\n",
       "544       0        0.040768          0\n",
       "332       1        0.833093          1\n",
       "917       1        0.370667          0\n",
       "678       0        0.388392          0\n",
       "363       0        0.088952          0"
      ]
     },
     "execution_count": 20,
     "metadata": {},
     "output_type": "execute_result"
    }
   ],
   "source": [
    "y_pred_df['predicted'] = y_pred_df.predicted_prob.map(lambda x: 1 if x > 0.5 else 0)\n",
    "\n",
    "y_pred_df.sample(10, random_state=42)"
   ]
  },
  {
   "cell_type": "markdown",
   "id": "8fc74f01-3ac7-4589-b158-899baf4af2b2",
   "metadata": {},
   "source": [
    "- The 'actual' column in the DataFrame depicts the actual label of the credit in the test set, while  'predicted' column depicts what the model has predicted by taking 0.5 as cut-off probability value.\n",
    "\n",
    "- It can be noticed from actual and predicted columns that some classifications are correct and some are  wrong. For better understanding of this confusion, we can build a confusion matrix.\n",
    "\n",
    "- ***Confusion matrix (also known as error matrix or classification table) is a matrix formed by checking  the actual values and predicted values of observations in the dataset.***"
   ]
  },
  {
   "cell_type": "code",
   "execution_count": 21,
   "id": "85729b57-602f-44c4-8f7f-954cd420a313",
   "metadata": {},
   "outputs": [
    {
     "data": {
      "text/plain": [
       "'0.11.2'"
      ]
     },
     "execution_count": 21,
     "metadata": {},
     "output_type": "execute_result"
    }
   ],
   "source": [
    "# !pip install -U seaborn\n",
    "sns.__version__"
   ]
  },
  {
   "cell_type": "code",
   "execution_count": 22,
   "id": "f0f5b1d3-3da0-4cc1-93c3-639b7a105c21",
   "metadata": {},
   "outputs": [],
   "source": [
    "from sklearn import metrics\n",
    "\n",
    "def draw_cm(actual, predicted):\n",
    "    cm = metrics.confusion_matrix(actual, predicted, [1,0])\n",
    "    sns.heatmap(cm, annot=True, fmt = \".2f\")\n",
    "    # xticklables = [\"Bad Credit\", \"Good Credit\"], yticklables = [\"Bad Credit\", \"Good Credit\"]\n",
    "    plt.ylabel(\"True Label\")\n",
    "    plt.xlabel(\"Predicted Label\")\n",
    "    plt.show()"
   ]
  },
  {
   "cell_type": "code",
   "execution_count": 23,
   "id": "490c97cc-980a-4127-9c30-76947e2118f7",
   "metadata": {},
   "outputs": [
    {
     "name": "stderr",
     "output_type": "stream",
     "text": [
      "C:\\Users\\Amit Vikram Raj\\anaconda3\\lib\\site-packages\\sklearn\\utils\\validation.py:70: FutureWarning: Pass labels=[1, 0] as keyword args. From version 1.0 (renaming of 0.25) passing these as positional arguments will result in an error\n",
      "  warnings.warn(f\"Pass {args_msg} as keyword args. From version \"\n"
     ]
    },
    {
     "data": {
      "image/png": "[encoded data removed]",
      "text/plain": [
       "<Figure size 432x288 with 2 Axes>"
      ]
     },
     "metadata": {
      "needs_background": "light"
     },
     "output_type": "display_data"
    }
   ],
   "source": [
    "draw_cm(y_pred_df.actual, y_pred_df.predicted)"
   ]
  },
  {
   "cell_type": "markdown",
   "id": "485aaef1-069c-4ab4-bfbc-58ba851a1942",
   "metadata": {},
   "source": [
    "![Confusion-Matrix](confusion_matrix.png)\n",
    "\n",
    "- **In the confusion matrix, the columns represent the predicted label (class), while the rows  represent the actual label (class).**<br> For example, out of 91 (i.e., 30 + 61) bad credits, only 30 have been classified correctly as bad credits and rest 61 have been classified as good credits when the cut-off  probability is 0.5.  \n",
    "\n",
    "- **Each row represents the actual bad credit and good credit observations present in the test dataset  and each column represents predicted values of outcome variable.** \n",
    "- We can note the following:  \n",
    "    1. Left-top quadrant represents actual bad credit and is correctly classified as bad credit.<br> This is  called **True Positives (TP).**  \n",
    "    2. Left-down quadrant represents actual good credit and is incorrectly classified as bad credit.<br> This  is called **False Positives (FP).**  \n",
    "    3. Right-top quadrant represents actual bad credit and is incorrectly classified as good credit.<br> This  is called **False Negatives (FN).**  \n",
    "    4. Right-down quadrant represents actual good credit and is correctly classified as good credit.<br> This is called **True Negatives (TN).** "
   ]
  },
  {
   "cell_type": "markdown",
   "id": "397dadb6-1e86-4da9-b2ff-4a0743735390",
   "metadata": {},
   "source": [
    "- Type 1 and Type 2 Error<br>\n",
    "    These two type error comes when the model does not predict all the data point accurately and some of the points are misclassified that leads to some error.\n",
    "     * Type 1 error: This error occurs when the actual value is “0” but it predicted “1”. In statistics term, this error tells the level of significance (α) i.e. alpha. The value of alpha is chosen by us so, the error depends on what value we choose.\n",
    "     * Type 2 error: This error occurs when the actual value is “1” but it is predicted “0”. In statistics term, this error named is beta and it is mainly dependent on the sample size(n) and variance(σ)."
   ]
  },
  {
   "cell_type": "markdown",
   "id": "cbe3f583-0b09-487d-806f-7db16b4f768c",
   "metadata": {},
   "source": [
    "### ***Measuring Accuracies***\n",
    "- In classification, the model performance is often measured using concepts such as sensitivity, specificity, precision, and F-score. \n",
    "- ***The ability of the model to correctly classify positives and negatives is called sensitivity (also known as recall or true positive rate) and specificity (also known as true negative rate), respectively.***"
   ]
  },
  {
   "cell_type": "markdown",
   "id": "83f80231-efd8-4d59-8df6-e4e28d1a7282",
   "metadata": {},
   "source": [
    "- ***Sensitivity/Recall(True Positive Rate)***: \n",
    "    Sensitivity is the conditional probability that the predicted class is positive given that the actual class is  positive.<br>\n",
    "    $$\\text{Sensitivity} = \\frac{TP}{TP + FN}$$\n",
    "<br> \n",
    "\n",
    "\n",
    "- ***Specificity(True Negative Rate)***: \n",
    "    Specificity is the conditional probability that the predicted class is negative given that the actual class is  negative.<br>\n",
    "    $$\\text{Specificity} = \\frac{TN}{TN + FP}$$\n",
    "<br>    \n",
    "\n",
    "\n",
    "- ***Precision***: \n",
    "    Precision is the conditional probability that the actual value is positive given that the prediction by the  model is positive.<br>\n",
    "    $$\\text{Presion} = \\frac{TP}{TP + FP}$$\n",
    "<br>    \n",
    " \n",
    " \n",
    "- ***F-Score***: \n",
    "    F-Score is a measure that combines precision and recall (harmonic mean between precision and recall). <br>\n",
    "    $$\\text{F-Score} = \\frac{2 * Recall * Precision}{Recall + Precision}$$\n",
    "<br>    \n",
    "    \n",
    "classification_report() method in skearn.metrics gives a detailed report of precision, recall, and F-score  for each class."
   ]
  },
  {
   "cell_type": "code",
   "execution_count": 24,
   "id": "62f13d0b-647a-46b1-bfbb-9855e196916c",
   "metadata": {},
   "outputs": [
    {
     "name": "stdout",
     "output_type": "stream",
     "text": [
      "              precision    recall  f1-score   support\n",
      "\n",
      "           0       0.76      0.90      0.82       209\n",
      "           1       0.59      0.33      0.42        91\n",
      "\n",
      "    accuracy                           0.73       300\n",
      "   macro avg       0.67      0.61      0.62       300\n",
      "weighted avg       0.70      0.73      0.70       300\n",
      "\n"
     ]
    }
   ],
   "source": [
    "print(metrics.classification_report(y_pred_df.actual, y_pred_df.predicted))\n",
    "\n",
    "# Here, Support is the number of actual occurrences of the class in the specified dataset"
   ]
  },
  {
   "cell_type": "markdown",
   "id": "54abcb61-00fc-499f-805d-0729de3355e5",
   "metadata": {},
   "source": [
    "The model is very good at identifying the good credits (Y = 0), but not very good at identifying bad  credits. This is the result for cut-off probability of 0.5%. This can be improved by choosing the right  cut-off probability. "
   ]
  },
  {
   "cell_type": "code",
   "execution_count": 25,
   "id": "60cf32f3-5968-458d-a9fc-9fd64c7949a0",
   "metadata": {},
   "outputs": [
    {
     "name": "stderr",
     "output_type": "stream",
     "text": [
      "C:\\Users\\Amit Vikram Raj\\anaconda3\\lib\\site-packages\\seaborn\\distributions.py:2619: FutureWarning: `distplot` is a deprecated function and will be removed in a future version. Please adapt your code to use either `displot` (a figure-level function with similar flexibility) or `histplot` (an axes-level function for histograms).\n",
      "  warnings.warn(msg, FutureWarning)\n"
     ]
    },
    {
     "data": {
      "image/png": "[encoded data removed]",
      "text/plain": [
       "<Figure size 576x432 with 1 Axes>"
      ]
     },
     "metadata": {
      "needs_background": "light"
     },
     "output_type": "display_data"
    }
   ],
   "source": [
    "plt.figure(figsize = (8,6))  \n",
    "#Plotting distribution of predicted probability values for bad credits  \n",
    "sns.distplot(y_pred_df[y_pred_df.actual == 1][\"predicted_prob\"],  kde=False, color = 'b',  label = 'Bad Credit') \n",
    "\n",
    "#Plotting distribution of predicted probability values for good credits  \n",
    "sns.distplot(y_pred_df[y_pred_df.actual == 0][\"predicted_prob\"],  kde=False, color = 'g',  label = 'Good Credit')  \n",
    "\n",
    "plt.legend() \n",
    "plt.show();"
   ]
  },
  {
   "cell_type": "markdown",
   "id": "aface9a1-7595-4ad0-bc7d-48d26b0be1b3",
   "metadata": {},
   "source": [
    "We can use a chart to understand how the distributions of predicted probabilities for bad credit and  good credit look like.<br> \n",
    "**Larger the overlap between predicted probabilities for different classes,  higher will be the misclassifications.** "
   ]
  },
  {
   "cell_type": "markdown",
   "id": "8b9befa8-c51a-4fe8-9580-261315bcaa19",
   "metadata": {},
   "source": [
    "### ***Receiver Operating Characteristic (ROC) and Area Under the Curve (AUC)***\n",
    "\n",
    "- **Receiver operating characteristic (ROC) curve can be used to understand the overall performance  (worth) of a logistic regression model (and, in general, of classification models) and used for model selection.**\n",
    "\n",
    "- **Given a random pair  of positive and negative class records, ROC gives the proportions of such pairs that will be correctly  classified.**\n",
    "\n",
    "- ***ROC curve is a plot between sensitivity (true positive rate) on the vertical axis and 1 – specificity  (false positive rate) on the horizontal axis.*** \n",
    "\n",
    "The method draw_roc() which takes the actual  classes and predicted probability values and then draws the ROC curve.<br>\n",
    "metrics.roc_curve() returns different threshold (cut-off) values and their corresponding false positive and true positive rates. Then these values can be taken and plotted to create the ROC curve.metrics.roc_auc_score() returns the area under the curve (AUC). "
   ]
  },
  {
   "cell_type": "code",
   "execution_count": 26,
   "id": "9c3571ef-8b9f-4410-bd5c-17c3064839f5",
   "metadata": {},
   "outputs": [],
   "source": [
    "def draw_roc(actual, probs):\n",
    "    \n",
    "    fpr,tpr,thresholds = metrics.roc_curve(actual, probs, drop_intermediate=False)\n",
    "    \n",
    "    auc_score = metrics.roc_auc_score(actual, probs)\n",
    "    \n",
    "    plt.figure(figsize=(8,6))\n",
    "    \n",
    "    # Plot of fpr & tpr values for diff. threshold values\n",
    "    plt.plot(fpr, tpr, label=\"ROC Curve (area = %0.2f)\" % auc_score)\n",
    "    # Draw a diagonal line connecting the origin & yop right most point \n",
    "    plt.plot([0,1], [0,1], 'k--')\n",
    "    plt.xlim([0.0, 1.0])\n",
    "    plt.ylim([0.0, 1.05])\n",
    "    \n",
    "    plt.xlabel('False Positive Rate or [1 - True Negative Rate]') \n",
    "    plt.ylabel('True Positive Rate')  \n",
    "    plt.legend(loc='lower right')  \n",
    "    plt.show()\n",
    "    \n",
    "    return fpr, tpr, thresholds"
   ]
  },
  {
   "cell_type": "code",
   "execution_count": 27,
   "id": "73250836-936d-44c3-89b4-2336ced5459a",
   "metadata": {},
   "outputs": [
    {
     "data": {
      "image/png": "[encoded data removed]",
      "text/plain": [
       "<Figure size 576x432 with 1 Axes>"
      ]
     },
     "metadata": {
      "needs_background": "light"
     },
     "output_type": "display_data"
    }
   ],
   "source": [
    "fpr, tpr, thresholds = draw_roc(y_pred_df.actual, y_pred_df.predicted_prob)"
   ]
  },
  {
   "cell_type": "markdown",
   "id": "c6dca7b1-f18c-44d2-b30c-f792c5a34b12",
   "metadata": {},
   "source": [
    "* The diagonal line represents the case of not using a model (no discrimination between  positive and negative); the area below the diagonal line is equal to 0.5.\n",
    "\n",
    "* Sensitivity and/or specificity are likely to change when the cut-off probability is changed. The  line above the diagonal line captures how sensitivity and (1 – specificity) change when  the cut-off probability is changed. \n",
    "\n",
    "* **Model with higher AUC is preferred and AUC is frequently used for  model selection.** \n",
    "\n",
    "- **As a thumb rule, AUC of at least 0.7 is required for practical application of the model. AUC greater than 0.9 implies an outstanding model.** \n",
    "\n",
    "- Caution should be exercised while selecting models based on AUC, especially  when the data is imbalanced (i.e., dataset which has less than 10% positives). In case of imbalanced datasets,  the AUC may be very high (greater than 0.9); however, either sensitivity or specificity values may be poor.<br>For this example, the AUC is 0.78, which implies the model is fairly good.\n",
    "\n"
   ]
  },
  {
   "cell_type": "code",
   "execution_count": 28,
   "id": "690e445a-8bc7-44b4-b218-3ac5927d14b6",
   "metadata": {},
   "outputs": [
    {
     "data": {
      "text/plain": [
       "0.78"
      ]
     },
     "execution_count": 28,
     "metadata": {},
     "output_type": "execute_result"
    }
   ],
   "source": [
    "auc_score = metrics.roc_auc_score(y_pred_df.actual, y_pred_df.predicted_prob)\n",
    "np.round(auc_score, 2)"
   ]
  },
  {
   "cell_type": "markdown",
   "id": "f1f36e8b-cd54-4d63-8626-abbed6c05434",
   "metadata": {},
   "source": [
    "### ***Finding Optimal Classification Cut-off***\n",
    "\n",
    "- ***The overall accuracy, sensitivity, and specificity will  depend on the chosen cut-off probability$(P_c)$.***\n",
    "\n",
    "- The following two methods are used for selecting the cut-off  probability:\n",
    "     1. Youden’s index  \n",
    "     2. Cost-based approach "
   ]
  },
  {
   "cell_type": "markdown",
   "id": "8156bccd-1c88-491d-b905-2e50a3053f1f",
   "metadata": {},
   "source": [
    "### ***Youden's Index***\n",
    "\n",
    "Sensitivity and specificity change when we change the cut-off probability.<br> \n",
    "Youden’s index is a classification cut-off probability for which the following function is maximized (also known  as J-statistic): \n",
    "\n",
    "$$\\text{Youden's Index} = \\text{J-Statistic} = {Max}_{p}[Sensitivity(p) + Specificity(p) - 1]$$\n",
    "\n",
    "**Sensitivity** is also known as **True Positive Rate (TPR)** and **specificity** is known as  **True Negative Rate (TNR)**. That is, select the cut-off probability for which **(TPR + TNR – 1) is maximum.** \n"
   ]
  },
  {
   "cell_type": "markdown",
   "id": "64f94ea8-607d-4395-b96f-0a454edcdf7c",
   "metadata": {},
   "source": [
    "- draw_roc() has returned **tpr** and **fpr** values, which we have stored in variables tpr, fpr, respectively.  The variable **thresholds** captures the corresponding cut-off probabilities.\n",
    "- We can take difference of tpr  and fpr and then sort the values in descending order. The thresholds value, for which the above Eq. is maximum, ***should be the optimal cut-off.*** "
   ]
  },
  {
   "cell_type": "code",
   "execution_count": 29,
   "id": "2f76e2b9-fc58-4360-ac6b-7b72b94740e2",
   "metadata": {},
   "outputs": [
    {
     "data": {
      "text/html": [
       "<div>\n",
       "<style scoped>\n",
       "    .dataframe tbody tr th:only-of-type {\n",
       "        vertical-align: middle;\n",
       "    }\n",
       "\n",
       "    .dataframe tbody tr th {\n",
       "        vertical-align: top;\n",
       "    }\n",
       "\n",
       "    .dataframe thead th {\n",
       "        text-align: right;\n",
       "    }\n",
       "</style>\n",
       "<table border=\"1\" class=\"dataframe\">\n",
       "  <thead>\n",
       "    <tr style=\"text-align: right;\">\n",
       "      <th></th>\n",
       "      <th>tpr</th>\n",
       "      <th>fpr</th>\n",
       "      <th>thresholds</th>\n",
       "      <th>diff</th>\n",
       "    </tr>\n",
       "  </thead>\n",
       "  <tbody>\n",
       "    <tr>\n",
       "      <th>160</th>\n",
       "      <td>0.846154</td>\n",
       "      <td>0.397129</td>\n",
       "      <td>0.221534</td>\n",
       "      <td>0.449025</td>\n",
       "    </tr>\n",
       "    <tr>\n",
       "      <th>161</th>\n",
       "      <td>0.846154</td>\n",
       "      <td>0.401914</td>\n",
       "      <td>0.216531</td>\n",
       "      <td>0.444240</td>\n",
       "    </tr>\n",
       "    <tr>\n",
       "      <th>162</th>\n",
       "      <td>0.846154</td>\n",
       "      <td>0.406699</td>\n",
       "      <td>0.215591</td>\n",
       "      <td>0.439455</td>\n",
       "    </tr>\n",
       "    <tr>\n",
       "      <th>159</th>\n",
       "      <td>0.835165</td>\n",
       "      <td>0.397129</td>\n",
       "      <td>0.223980</td>\n",
       "      <td>0.438036</td>\n",
       "    </tr>\n",
       "    <tr>\n",
       "      <th>166</th>\n",
       "      <td>0.857143</td>\n",
       "      <td>0.421053</td>\n",
       "      <td>0.207107</td>\n",
       "      <td>0.436090</td>\n",
       "    </tr>\n",
       "  </tbody>\n",
       "</table>\n",
       "</div>"
      ],
      "text/plain": [
       "          tpr       fpr  thresholds      diff\n",
       "160  0.846154  0.397129    0.221534  0.449025\n",
       "161  0.846154  0.401914    0.216531  0.444240\n",
       "162  0.846154  0.406699    0.215591  0.439455\n",
       "159  0.835165  0.397129    0.223980  0.438036\n",
       "166  0.857143  0.421053    0.207107  0.436090"
      ]
     },
     "execution_count": 29,
     "metadata": {},
     "output_type": "execute_result"
    }
   ],
   "source": [
    "tpr_fpr = pd.DataFrame({'tpr': tpr, 'fpr': fpr,\n",
    "                       'thresholds': thresholds})\n",
    "\n",
    "tpr_fpr['diff'] = tpr_fpr.tpr - tpr_fpr.fpr\n",
    "\n",
    "tpr_fpr.sort_values(by = 'diff', ascending=False)[0:5]"
   ]
  },
  {
   "cell_type": "markdown",
   "id": "a0eb5c82-ccdf-497d-abae-cd75e37eb3d4",
   "metadata": {},
   "source": [
    "**From the above result, the optimal cut-off is 0.22. We can now classify all the observations beyond 0.22  predicted probability as bad credits and others as good credits.**"
   ]
  },
  {
   "cell_type": "code",
   "execution_count": 30,
   "id": "6352863c-3f1e-47bf-b305-446d31596b4c",
   "metadata": {},
   "outputs": [],
   "source": [
    "y_pred_df['predicted_new'] = y_pred_df.predicted_prob.map(lambda x: 1 if x>0.22 else 0)"
   ]
  },
  {
   "cell_type": "code",
   "execution_count": 31,
   "id": "a7492c7b-5243-4813-a7b6-8df046889ae3",
   "metadata": {},
   "outputs": [
    {
     "name": "stderr",
     "output_type": "stream",
     "text": [
      "C:\\Users\\Amit Vikram Raj\\anaconda3\\lib\\site-packages\\sklearn\\utils\\validation.py:70: FutureWarning: Pass labels=[1, 0] as keyword args. From version 1.0 (renaming of 0.25) passing these as positional arguments will result in an error\n",
      "  warnings.warn(f\"Pass {args_msg} as keyword args. From version \"\n"
     ]
    },
    {
     "data": {
      "image/png": "[encoded data removed]",
      "text/plain": [
       "<Figure size 432x288 with 2 Axes>"
      ]
     },
     "metadata": {
      "needs_background": "light"
     },
     "output_type": "display_data"
    }
   ],
   "source": [
    "draw_cm(y_pred_df.actual, y_pred_df.predicted_new)"
   ]
  },
  {
   "cell_type": "code",
   "execution_count": 32,
   "id": "6f16f1a1-b5ae-4b78-b263-e1e8cc0aa2ea",
   "metadata": {},
   "outputs": [
    {
     "name": "stdout",
     "output_type": "stream",
     "text": [
      "              precision    recall  f1-score   support\n",
      "\n",
      "           0       0.90      0.60      0.72       209\n",
      "           1       0.48      0.85      0.61        91\n",
      "\n",
      "    accuracy                           0.68       300\n",
      "   macro avg       0.69      0.72      0.67       300\n",
      "weighted avg       0.77      0.68      0.69       300\n",
      "\n"
     ]
    }
   ],
   "source": [
    "print(metrics.classification_report(y_pred_df.actual, y_pred_df.predicted_new))"
   ]
  },
  {
   "cell_type": "markdown",
   "id": "274fd7ab-572f-4b1d-9664-efb1052784f9",
   "metadata": {},
   "source": [
    "**With cut-off probability of 0.22, the model is able to classify the bad credits better and the F1-score for  bad credits (Y = 1) has also improved to 0.61.**"
   ]
  },
  {
   "cell_type": "markdown",
   "id": "cd426b81-5a11-4629-b0f3-30f2e9e9c4a2",
   "metadata": {
    "tags": []
   },
   "source": [
    "### ***Cost-Based Approach***\n",
    "- As the cost of false negatives and false positives is not same, the optimal classification cut-off probability  can also be determined using cost-based approach, which finds the cut-off where the total cost is minimum.\n",
    "\n",
    "- In the cost-based approach, we assign penalty cost for misclassification of positives and negatives and find the total cost for a cut-off probability.\n",
    "- Assuming cost of a false positive is C1 and that of a false negative is C2, total cost will be  $$\\text{Total cost = FN × C1 + FP × C2}$$  \n",
    "- **The optimal cut-off probability is the one which minimizes the total penalty cost.** \n",
    "\n",
    "\n",
    "We will write a method  get_total_cost() to return the penalty cost for a specific cut-off probability. The method also takes the  relative cost of false negatives and false positives. The function will take actual and predicted values, find  the number of false positives (FPs) and false negatives (FNs), and return the total cost. "
   ]
  },
  {
   "cell_type": "code",
   "execution_count": 33,
   "id": "1270081c-aa56-43c8-b0e8-3e4fe3f05eb9",
   "metadata": {},
   "outputs": [],
   "source": [
    "def get_total_cost(actual, predicted, cost_FPs, cost_FNs):\n",
    "    # Get confusion matrix and calculate cost\n",
    "    cm = metrics.confusion_matrix(actual, predicted, [1,0])\n",
    "    cm_mat = np.array(cm)\n",
    "    return cm_mat[0,1]*cost_FNs + cm_mat[1,0]*cost_FPs"
   ]
  },
  {
   "cell_type": "code",
   "execution_count": 34,
   "id": "93440494-1920-4da6-a8fb-0d05082e7bdc",
   "metadata": {},
   "outputs": [],
   "source": [
    "cost_df = pd.DataFrame(columns=['prob', 'cost'])"
   ]
  },
  {
   "cell_type": "markdown",
   "id": "134e97ea-8749-4953-97d7-7a9798deb12a",
   "metadata": {},
   "source": [
    "**Let us assume that false negatives (predicting a bad credit to be a good credit) are five times costlier  than false positives (predicting a good credit to be a bad credit).**<br> \n",
    "Deciding the costs will require domain  knowledge.\n",
    "\n",
    "\n",
    "We can calculate the penalty cost for each cut-off probability values between 0.1 and 0.5 with incremental values of 0.01 and sort the costs in ascending order to find the cut-off probability at which the  penalty cost is minimum. "
   ]
  },
  {
   "cell_type": "code",
   "execution_count": 35,
   "id": "0dd87fad-ab39-45ab-b02f-3c355fe7656d",
   "metadata": {
    "scrolled": true,
    "tags": []
   },
   "outputs": [
    {
     "name": "stderr",
     "output_type": "stream",
     "text": [
      "C:\\Users\\Amit Vikram Raj\\anaconda3\\lib\\site-packages\\sklearn\\utils\\validation.py:70: FutureWarning: Pass labels=[1, 0] as keyword args. From version 1.0 (renaming of 0.25) passing these as positional arguments will result in an error\n",
      "  warnings.warn(f\"Pass {args_msg} as keyword args. From version \"\n",
      "C:\\Users\\Amit Vikram Raj\\anaconda3\\lib\\site-packages\\sklearn\\utils\\validation.py:70: FutureWarning: Pass labels=[1, 0] as keyword args. From version 1.0 (renaming of 0.25) passing these as positional arguments will result in an error\n",
      "  warnings.warn(f\"Pass {args_msg} as keyword args. From version \"\n",
      "C:\\Users\\Amit Vikram Raj\\anaconda3\\lib\\site-packages\\sklearn\\utils\\validation.py:70: FutureWarning: Pass labels=[1, 0] as keyword args. From version 1.0 (renaming of 0.25) passing these as positional arguments will result in an error\n",
      "  warnings.warn(f\"Pass {args_msg} as keyword args. From version \"\n",
      "C:\\Users\\Amit Vikram Raj\\anaconda3\\lib\\site-packages\\sklearn\\utils\\validation.py:70: FutureWarning: Pass labels=[1, 0] as keyword args. From version 1.0 (renaming of 0.25) passing these as positional arguments will result in an error\n",
      "  warnings.warn(f\"Pass {args_msg} as keyword args. From version \"\n",
      "C:\\Users\\Amit Vikram Raj\\anaconda3\\lib\\site-packages\\sklearn\\utils\\validation.py:70: FutureWarning: Pass labels=[1, 0] as keyword args. From version 1.0 (renaming of 0.25) passing these as positional arguments will result in an error\n",
      "  warnings.warn(f\"Pass {args_msg} as keyword args. From version \"\n",
      "C:\\Users\\Amit Vikram Raj\\anaconda3\\lib\\site-packages\\sklearn\\utils\\validation.py:70: FutureWarning: Pass labels=[1, 0] as keyword args. From version 1.0 (renaming of 0.25) passing these as positional arguments will result in an error\n",
      "  warnings.warn(f\"Pass {args_msg} as keyword args. From version \"\n",
      "C:\\Users\\Amit Vikram Raj\\anaconda3\\lib\\site-packages\\sklearn\\utils\\validation.py:70: FutureWarning: Pass labels=[1, 0] as keyword args. From version 1.0 (renaming of 0.25) passing these as positional arguments will result in an error\n",
      "  warnings.warn(f\"Pass {args_msg} as keyword args. From version \"\n",
      "C:\\Users\\Amit Vikram Raj\\anaconda3\\lib\\site-packages\\sklearn\\utils\\validation.py:70: FutureWarning: Pass labels=[1, 0] as keyword args. From version 1.0 (renaming of 0.25) passing these as positional arguments will result in an error\n",
      "  warnings.warn(f\"Pass {args_msg} as keyword args. From version \"\n",
      "C:\\Users\\Amit Vikram Raj\\anaconda3\\lib\\site-packages\\sklearn\\utils\\validation.py:70: FutureWarning: Pass labels=[1, 0] as keyword args. From version 1.0 (renaming of 0.25) passing these as positional arguments will result in an error\n",
      "  warnings.warn(f\"Pass {args_msg} as keyword args. From version \"\n",
      "C:\\Users\\Amit Vikram Raj\\anaconda3\\lib\\site-packages\\sklearn\\utils\\validation.py:70: FutureWarning: Pass labels=[1, 0] as keyword args. From version 1.0 (renaming of 0.25) passing these as positional arguments will result in an error\n",
      "  warnings.warn(f\"Pass {args_msg} as keyword args. From version \"\n",
      "C:\\Users\\Amit Vikram Raj\\anaconda3\\lib\\site-packages\\sklearn\\utils\\validation.py:70: FutureWarning: Pass labels=[1, 0] as keyword args. From version 1.0 (renaming of 0.25) passing these as positional arguments will result in an error\n",
      "  warnings.warn(f\"Pass {args_msg} as keyword args. From version \"\n",
      "C:\\Users\\Amit Vikram Raj\\anaconda3\\lib\\site-packages\\sklearn\\utils\\validation.py:70: FutureWarning: Pass labels=[1, 0] as keyword args. From version 1.0 (renaming of 0.25) passing these as positional arguments will result in an error\n",
      "  warnings.warn(f\"Pass {args_msg} as keyword args. From version \"\n",
      "C:\\Users\\Amit Vikram Raj\\anaconda3\\lib\\site-packages\\sklearn\\utils\\validation.py:70: FutureWarning: Pass labels=[1, 0] as keyword args. From version 1.0 (renaming of 0.25) passing these as positional arguments will result in an error\n",
      "  warnings.warn(f\"Pass {args_msg} as keyword args. From version \"\n",
      "C:\\Users\\Amit Vikram Raj\\anaconda3\\lib\\site-packages\\sklearn\\utils\\validation.py:70: FutureWarning: Pass labels=[1, 0] as keyword args. From version 1.0 (renaming of 0.25) passing these as positional arguments will result in an error\n",
      "  warnings.warn(f\"Pass {args_msg} as keyword args. From version \"\n",
      "C:\\Users\\Amit Vikram Raj\\anaconda3\\lib\\site-packages\\sklearn\\utils\\validation.py:70: FutureWarning: Pass labels=[1, 0] as keyword args. From version 1.0 (renaming of 0.25) passing these as positional arguments will result in an error\n",
      "  warnings.warn(f\"Pass {args_msg} as keyword args. From version \"\n",
      "C:\\Users\\Amit Vikram Raj\\anaconda3\\lib\\site-packages\\sklearn\\utils\\validation.py:70: FutureWarning: Pass labels=[1, 0] as keyword args. From version 1.0 (renaming of 0.25) passing these as positional arguments will result in an error\n",
      "  warnings.warn(f\"Pass {args_msg} as keyword args. From version \"\n",
      "C:\\Users\\Amit Vikram Raj\\anaconda3\\lib\\site-packages\\sklearn\\utils\\validation.py:70: FutureWarning: Pass labels=[1, 0] as keyword args. From version 1.0 (renaming of 0.25) passing these as positional arguments will result in an error\n",
      "  warnings.warn(f\"Pass {args_msg} as keyword args. From version \"\n",
      "C:\\Users\\Amit Vikram Raj\\anaconda3\\lib\\site-packages\\sklearn\\utils\\validation.py:70: FutureWarning: Pass labels=[1, 0] as keyword args. From version 1.0 (renaming of 0.25) passing these as positional arguments will result in an error\n",
      "  warnings.warn(f\"Pass {args_msg} as keyword args. From version \"\n",
      "C:\\Users\\Amit Vikram Raj\\anaconda3\\lib\\site-packages\\sklearn\\utils\\validation.py:70: FutureWarning: Pass labels=[1, 0] as keyword args. From version 1.0 (renaming of 0.25) passing these as positional arguments will result in an error\n",
      "  warnings.warn(f\"Pass {args_msg} as keyword args. From version \"\n",
      "C:\\Users\\Amit Vikram Raj\\anaconda3\\lib\\site-packages\\sklearn\\utils\\validation.py:70: FutureWarning: Pass labels=[1, 0] as keyword args. From version 1.0 (renaming of 0.25) passing these as positional arguments will result in an error\n",
      "  warnings.warn(f\"Pass {args_msg} as keyword args. From version \"\n",
      "C:\\Users\\Amit Vikram Raj\\anaconda3\\lib\\site-packages\\sklearn\\utils\\validation.py:70: FutureWarning: Pass labels=[1, 0] as keyword args. From version 1.0 (renaming of 0.25) passing these as positional arguments will result in an error\n",
      "  warnings.warn(f\"Pass {args_msg} as keyword args. From version \"\n",
      "C:\\Users\\Amit Vikram Raj\\anaconda3\\lib\\site-packages\\sklearn\\utils\\validation.py:70: FutureWarning: Pass labels=[1, 0] as keyword args. From version 1.0 (renaming of 0.25) passing these as positional arguments will result in an error\n",
      "  warnings.warn(f\"Pass {args_msg} as keyword args. From version \"\n",
      "C:\\Users\\Amit Vikram Raj\\anaconda3\\lib\\site-packages\\sklearn\\utils\\validation.py:70: FutureWarning: Pass labels=[1, 0] as keyword args. From version 1.0 (renaming of 0.25) passing these as positional arguments will result in an error\n",
      "  warnings.warn(f\"Pass {args_msg} as keyword args. From version \"\n",
      "C:\\Users\\Amit Vikram Raj\\anaconda3\\lib\\site-packages\\sklearn\\utils\\validation.py:70: FutureWarning: Pass labels=[1, 0] as keyword args. From version 1.0 (renaming of 0.25) passing these as positional arguments will result in an error\n",
      "  warnings.warn(f\"Pass {args_msg} as keyword args. From version \"\n",
      "C:\\Users\\Amit Vikram Raj\\anaconda3\\lib\\site-packages\\sklearn\\utils\\validation.py:70: FutureWarning: Pass labels=[1, 0] as keyword args. From version 1.0 (renaming of 0.25) passing these as positional arguments will result in an error\n",
      "  warnings.warn(f\"Pass {args_msg} as keyword args. From version \"\n",
      "C:\\Users\\Amit Vikram Raj\\anaconda3\\lib\\site-packages\\sklearn\\utils\\validation.py:70: FutureWarning: Pass labels=[1, 0] as keyword args. From version 1.0 (renaming of 0.25) passing these as positional arguments will result in an error\n",
      "  warnings.warn(f\"Pass {args_msg} as keyword args. From version \"\n",
      "C:\\Users\\Amit Vikram Raj\\anaconda3\\lib\\site-packages\\sklearn\\utils\\validation.py:70: FutureWarning: Pass labels=[1, 0] as keyword args. From version 1.0 (renaming of 0.25) passing these as positional arguments will result in an error\n",
      "  warnings.warn(f\"Pass {args_msg} as keyword args. From version \"\n",
      "C:\\Users\\Amit Vikram Raj\\anaconda3\\lib\\site-packages\\sklearn\\utils\\validation.py:70: FutureWarning: Pass labels=[1, 0] as keyword args. From version 1.0 (renaming of 0.25) passing these as positional arguments will result in an error\n",
      "  warnings.warn(f\"Pass {args_msg} as keyword args. From version \"\n",
      "C:\\Users\\Amit Vikram Raj\\anaconda3\\lib\\site-packages\\sklearn\\utils\\validation.py:70: FutureWarning: Pass labels=[1, 0] as keyword args. From version 1.0 (renaming of 0.25) passing these as positional arguments will result in an error\n",
      "  warnings.warn(f\"Pass {args_msg} as keyword args. From version \"\n",
      "C:\\Users\\Amit Vikram Raj\\anaconda3\\lib\\site-packages\\sklearn\\utils\\validation.py:70: FutureWarning: Pass labels=[1, 0] as keyword args. From version 1.0 (renaming of 0.25) passing these as positional arguments will result in an error\n",
      "  warnings.warn(f\"Pass {args_msg} as keyword args. From version \"\n",
      "C:\\Users\\Amit Vikram Raj\\anaconda3\\lib\\site-packages\\sklearn\\utils\\validation.py:70: FutureWarning: Pass labels=[1, 0] as keyword args. From version 1.0 (renaming of 0.25) passing these as positional arguments will result in an error\n",
      "  warnings.warn(f\"Pass {args_msg} as keyword args. From version \"\n",
      "C:\\Users\\Amit Vikram Raj\\anaconda3\\lib\\site-packages\\sklearn\\utils\\validation.py:70: FutureWarning: Pass labels=[1, 0] as keyword args. From version 1.0 (renaming of 0.25) passing these as positional arguments will result in an error\n",
      "  warnings.warn(f\"Pass {args_msg} as keyword args. From version \"\n",
      "C:\\Users\\Amit Vikram Raj\\anaconda3\\lib\\site-packages\\sklearn\\utils\\validation.py:70: FutureWarning: Pass labels=[1, 0] as keyword args. From version 1.0 (renaming of 0.25) passing these as positional arguments will result in an error\n",
      "  warnings.warn(f\"Pass {args_msg} as keyword args. From version \"\n",
      "C:\\Users\\Amit Vikram Raj\\anaconda3\\lib\\site-packages\\sklearn\\utils\\validation.py:70: FutureWarning: Pass labels=[1, 0] as keyword args. From version 1.0 (renaming of 0.25) passing these as positional arguments will result in an error\n",
      "  warnings.warn(f\"Pass {args_msg} as keyword args. From version \"\n",
      "C:\\Users\\Amit Vikram Raj\\anaconda3\\lib\\site-packages\\sklearn\\utils\\validation.py:70: FutureWarning: Pass labels=[1, 0] as keyword args. From version 1.0 (renaming of 0.25) passing these as positional arguments will result in an error\n",
      "  warnings.warn(f\"Pass {args_msg} as keyword args. From version \"\n",
      "C:\\Users\\Amit Vikram Raj\\anaconda3\\lib\\site-packages\\sklearn\\utils\\validation.py:70: FutureWarning: Pass labels=[1, 0] as keyword args. From version 1.0 (renaming of 0.25) passing these as positional arguments will result in an error\n",
      "  warnings.warn(f\"Pass {args_msg} as keyword args. From version \"\n",
      "C:\\Users\\Amit Vikram Raj\\anaconda3\\lib\\site-packages\\sklearn\\utils\\validation.py:70: FutureWarning: Pass labels=[1, 0] as keyword args. From version 1.0 (renaming of 0.25) passing these as positional arguments will result in an error\n",
      "  warnings.warn(f\"Pass {args_msg} as keyword args. From version \"\n",
      "C:\\Users\\Amit Vikram Raj\\anaconda3\\lib\\site-packages\\sklearn\\utils\\validation.py:70: FutureWarning: Pass labels=[1, 0] as keyword args. From version 1.0 (renaming of 0.25) passing these as positional arguments will result in an error\n",
      "  warnings.warn(f\"Pass {args_msg} as keyword args. From version \"\n",
      "C:\\Users\\Amit Vikram Raj\\anaconda3\\lib\\site-packages\\sklearn\\utils\\validation.py:70: FutureWarning: Pass labels=[1, 0] as keyword args. From version 1.0 (renaming of 0.25) passing these as positional arguments will result in an error\n",
      "  warnings.warn(f\"Pass {args_msg} as keyword args. From version \"\n",
      "C:\\Users\\Amit Vikram Raj\\anaconda3\\lib\\site-packages\\sklearn\\utils\\validation.py:70: FutureWarning: Pass labels=[1, 0] as keyword args. From version 1.0 (renaming of 0.25) passing these as positional arguments will result in an error\n",
      "  warnings.warn(f\"Pass {args_msg} as keyword args. From version \"\n"
     ]
    }
   ],
   "source": [
    "idx = 0\n",
    "\n",
    "# Iterate cut-off probability values b/w 0.1 and 0.5\n",
    "for each_prob in range(10,50):\n",
    "    cost = get_total_cost(y_pred_df.actual, y_pred_df.predicted_prob.map(lambda x: 1 if x > (each_prob/100) else 0), 1, 5)\n",
    "    cost_df.loc[idx] = [(each_prob/100), cost]\n",
    "    idx += 1"
   ]
  },
  {
   "cell_type": "code",
   "execution_count": 36,
   "id": "da163beb-edb7-448c-ac05-95a5f3624ca2",
   "metadata": {},
   "outputs": [
    {
     "data": {
      "text/html": [
       "<div>\n",
       "<style scoped>\n",
       "    .dataframe tbody tr th:only-of-type {\n",
       "        vertical-align: middle;\n",
       "    }\n",
       "\n",
       "    .dataframe tbody tr th {\n",
       "        vertical-align: top;\n",
       "    }\n",
       "\n",
       "    .dataframe thead th {\n",
       "        text-align: right;\n",
       "    }\n",
       "</style>\n",
       "<table border=\"1\" class=\"dataframe\">\n",
       "  <thead>\n",
       "    <tr style=\"text-align: right;\">\n",
       "      <th></th>\n",
       "      <th>prob</th>\n",
       "      <th>cost</th>\n",
       "    </tr>\n",
       "  </thead>\n",
       "  <tbody>\n",
       "    <tr>\n",
       "      <th>4</th>\n",
       "      <td>0.14</td>\n",
       "      <td>150.0</td>\n",
       "    </tr>\n",
       "    <tr>\n",
       "      <th>12</th>\n",
       "      <td>0.22</td>\n",
       "      <td>153.0</td>\n",
       "    </tr>\n",
       "    <tr>\n",
       "      <th>2</th>\n",
       "      <td>0.12</td>\n",
       "      <td>154.0</td>\n",
       "    </tr>\n",
       "    <tr>\n",
       "      <th>10</th>\n",
       "      <td>0.20</td>\n",
       "      <td>154.0</td>\n",
       "    </tr>\n",
       "    <tr>\n",
       "      <th>9</th>\n",
       "      <td>0.19</td>\n",
       "      <td>156.0</td>\n",
       "    </tr>\n",
       "  </tbody>\n",
       "</table>\n",
       "</div>"
      ],
      "text/plain": [
       "    prob   cost\n",
       "4   0.14  150.0\n",
       "12  0.22  153.0\n",
       "2   0.12  154.0\n",
       "10  0.20  154.0\n",
       "9   0.19  156.0"
      ]
     },
     "execution_count": 36,
     "metadata": {},
     "output_type": "execute_result"
    }
   ],
   "source": [
    "cost_df.sort_values(by = 'cost')[0:5]"
   ]
  },
  {
   "cell_type": "markdown",
   "id": "10428c64-a148-41e6-bc7e-6703e1fbd330",
   "metadata": {},
   "source": [
    "**The lowest cost is achieved at cut-off probability of 0.14 if false negatives are assumed to be five times  costlier than false positives. So, let us predict everything beyond 0.14 as bad credit and below 0.14 as  good credit.**"
   ]
  },
  {
   "cell_type": "code",
   "execution_count": 37,
   "id": "a746e2d5-95e3-491d-9316-04b3c9faeca5",
   "metadata": {},
   "outputs": [],
   "source": [
    "y_pred_df['predicted_using_cost'] = y_pred_df.predicted_prob.map(lambda x: 1 if x>0.14 else 0)"
   ]
  },
  {
   "cell_type": "code",
   "execution_count": 38,
   "id": "267e2016-5e2c-42ff-b78e-891e1cb7c173",
   "metadata": {},
   "outputs": [
    {
     "name": "stderr",
     "output_type": "stream",
     "text": [
      "C:\\Users\\Amit Vikram Raj\\anaconda3\\lib\\site-packages\\sklearn\\utils\\validation.py:70: FutureWarning: Pass labels=[1, 0] as keyword args. From version 1.0 (renaming of 0.25) passing these as positional arguments will result in an error\n",
      "  warnings.warn(f\"Pass {args_msg} as keyword args. From version \"\n"
     ]
    },
    {
     "data": {
      "image/png": "[encoded data removed]",
      "text/plain": [
       "<Figure size 432x288 with 2 Axes>"
      ]
     },
     "metadata": {
      "needs_background": "light"
     },
     "output_type": "display_data"
    }
   ],
   "source": [
    "draw_cm(y_pred_df.actual, y_pred_df.predicted_using_cost)"
   ]
  },
  {
   "cell_type": "markdown",
   "id": "2ae8efa3-4cb6-488a-93d7-147da94341a5",
   "metadata": {},
   "source": [
    "**As shown above, the model has reduced the false negatives to only 6. This is because of high cost  false negatives (5 times) compared to false positives. The number of false positives have increased to 120.**"
   ]
  },
  {
   "cell_type": "markdown",
   "id": "81ba3227-54ff-489c-9839-1a1976d958d1",
   "metadata": {},
   "source": [
    "***"
   ]
  },
  {
   "cell_type": "markdown",
   "id": "fca6a8de-24c3-4caf-9c48-6cf3f64cad1d",
   "metadata": {},
   "source": [
    "## **Gain Chart & Lift Chart**\n",
    "\n",
    "Gain chart and lift chart are two measures that are used for measuring the benefits of using the logistic  regression model (in general, analytical model) and are used in business contexts such as target marketing. In target marketing or marketing campaigns, customers’ responses to campaign are usually very  low (in many cases the customers who respond to marketing campaigns are less than 1%). Another  example of such low conversion is response to advertisement on the Internet (such as Google Adwords and mobile advertisements). The organization incurs cost for each customer contact and hence would  like to minimize the cost of marketing campaign and at the same time achieve the desired response level  from the customers. \n",
    "\n",
    "The gain and lift charts are obtained using the following steps:  \n",
    "1. Predict the probability Y = 1 (positive) using the logistic regression (LR) model and arrange the  observation in the decreasing order of predicted probability [i.e., P(Y = 1)].  \n",
    "2. Divide the datasets into deciles. Calculate the number of positives (Y = 1) in each decile and  cumulative number of positives up to a decile.  \n",
    "3. Gain chart is a chart drawn between gain on the  vertical axis and decile on the horizontal axis.  \n",
    "4. Lift  chart is the chart between lift on the vertical axis and the corresponding decile on the horizontal axis. \n",
    "\n",
    "$$Gain = \\frac{\\text{Cumulative number of the positive observations up to a decile}}{\\text{Total  number of positive observations in the data}}$$\n",
    "\n",
    "$$\\text{Lift} = \\frac{\\text{Cumulative number of positive observations up to decile i using the LR model}}{\\text{Cumulative number of positive observations up to decile i based on random model}}$$"
   ]
  },
  {
   "cell_type": "markdown",
   "id": "6fa39ee2-4163-41df-9bb4-b67f6e1b478a",
   "metadata": {},
   "source": [
    "### ***Loading & Prepping the DataSet***"
   ]
  },
  {
   "cell_type": "markdown",
   "id": "4dd0b446-9697-4371-8c29-ad0f454b433c",
   "metadata": {},
   "source": [
    "Using bank data: The data describes a problem in which a bank  is interested in predicting which customers may respond to their direct marketing campaign to open a  term deposit with the bank. The response variable Y = 1 implies that the customer opens a term deposit  after the campaign and Y = 0 otherwise. The marketing campaign is based on the phone calls. \n",
    "\n",
    "\n",
    "![bank_metadata](bank_metadata.png)"
   ]
  },
  {
   "cell_type": "code",
   "execution_count": 1,
   "id": "acbf43a5-d635-4db7-afa0-901455b87792",
   "metadata": {},
   "outputs": [],
   "source": [
    "import numpy as np\n",
    "import pandas as pd\n",
    "import seaborn as sns\n",
    "import matplotlib.pyplot as plt\n",
    "import os\n",
    "\n",
    "%matplotlib inline\n",
    "pd.pandas.set_option(\"display.max_columns\", None)"
   ]
  },
  {
   "cell_type": "code",
   "execution_count": 39,
   "id": "cedc0f75-8386-4cbf-8968-8bc1868823fa",
   "metadata": {},
   "outputs": [
    {
     "data": {
      "text/html": [
       "<div>\n",
       "<style scoped>\n",
       "    .dataframe tbody tr th:only-of-type {\n",
       "        vertical-align: middle;\n",
       "    }\n",
       "\n",
       "    .dataframe tbody tr th {\n",
       "        vertical-align: top;\n",
       "    }\n",
       "\n",
       "    .dataframe thead th {\n",
       "        text-align: right;\n",
       "    }\n",
       "</style>\n",
       "<table border=\"1\" class=\"dataframe\">\n",
       "  <thead>\n",
       "    <tr style=\"text-align: right;\">\n",
       "      <th></th>\n",
       "      <th>age</th>\n",
       "      <th>job</th>\n",
       "      <th>marital</th>\n",
       "      <th>education</th>\n",
       "      <th>default</th>\n",
       "      <th>balance</th>\n",
       "      <th>housing-loan</th>\n",
       "      <th>personal-loan</th>\n",
       "      <th>current-campaign</th>\n",
       "      <th>previous-campaign</th>\n",
       "      <th>subscribed</th>\n",
       "    </tr>\n",
       "  </thead>\n",
       "  <tbody>\n",
       "    <tr>\n",
       "      <th>0</th>\n",
       "      <td>30</td>\n",
       "      <td>unemployed</td>\n",
       "      <td>married</td>\n",
       "      <td>primary</td>\n",
       "      <td>no</td>\n",
       "      <td>1787</td>\n",
       "      <td>no</td>\n",
       "      <td>no</td>\n",
       "      <td>1</td>\n",
       "      <td>0</td>\n",
       "      <td>no</td>\n",
       "    </tr>\n",
       "    <tr>\n",
       "      <th>1</th>\n",
       "      <td>33</td>\n",
       "      <td>services</td>\n",
       "      <td>married</td>\n",
       "      <td>secondary</td>\n",
       "      <td>no</td>\n",
       "      <td>4789</td>\n",
       "      <td>yes</td>\n",
       "      <td>yes</td>\n",
       "      <td>1</td>\n",
       "      <td>4</td>\n",
       "      <td>no</td>\n",
       "    </tr>\n",
       "    <tr>\n",
       "      <th>2</th>\n",
       "      <td>35</td>\n",
       "      <td>management</td>\n",
       "      <td>single</td>\n",
       "      <td>tertiary</td>\n",
       "      <td>no</td>\n",
       "      <td>1350</td>\n",
       "      <td>yes</td>\n",
       "      <td>no</td>\n",
       "      <td>1</td>\n",
       "      <td>1</td>\n",
       "      <td>no</td>\n",
       "    </tr>\n",
       "    <tr>\n",
       "      <th>3</th>\n",
       "      <td>30</td>\n",
       "      <td>management</td>\n",
       "      <td>married</td>\n",
       "      <td>tertiary</td>\n",
       "      <td>no</td>\n",
       "      <td>1476</td>\n",
       "      <td>yes</td>\n",
       "      <td>yes</td>\n",
       "      <td>4</td>\n",
       "      <td>0</td>\n",
       "      <td>no</td>\n",
       "    </tr>\n",
       "    <tr>\n",
       "      <th>4</th>\n",
       "      <td>59</td>\n",
       "      <td>blue-collar</td>\n",
       "      <td>married</td>\n",
       "      <td>secondary</td>\n",
       "      <td>no</td>\n",
       "      <td>0</td>\n",
       "      <td>yes</td>\n",
       "      <td>no</td>\n",
       "      <td>1</td>\n",
       "      <td>0</td>\n",
       "      <td>no</td>\n",
       "    </tr>\n",
       "  </tbody>\n",
       "</table>\n",
       "</div>"
      ],
      "text/plain": [
       "   age          job  marital  education default  balance housing-loan  \\\n",
       "0   30   unemployed  married    primary      no     1787           no   \n",
       "1   33     services  married  secondary      no     4789          yes   \n",
       "2   35   management   single   tertiary      no     1350          yes   \n",
       "3   30   management  married   tertiary      no     1476          yes   \n",
       "4   59  blue-collar  married  secondary      no        0          yes   \n",
       "\n",
       "  personal-loan  current-campaign  previous-campaign subscribed  \n",
       "0            no                 1                  0         no  \n",
       "1           yes                 1                  4         no  \n",
       "2            no                 1                  1         no  \n",
       "3           yes                 4                  0         no  \n",
       "4            no                 1                  0         no  "
      ]
     },
     "execution_count": 39,
     "metadata": {},
     "output_type": "execute_result"
    }
   ],
   "source": [
    "bank_df = pd.read_csv(os.getcwd()+\"/Data/bank.csv\")\n",
    "bank_df.head()"
   ]
  },
  {
   "cell_type": "code",
   "execution_count": 40,
   "id": "c5a05d04-9f13-421e-bd3d-ceb355bcbf61",
   "metadata": {},
   "outputs": [
    {
     "name": "stdout",
     "output_type": "stream",
     "text": [
      "<class 'pandas.core.frame.DataFrame'>\n",
      "RangeIndex: 4521 entries, 0 to 4520\n",
      "Data columns (total 11 columns):\n",
      " #   Column             Non-Null Count  Dtype \n",
      "---  ------             --------------  ----- \n",
      " 0   age                4521 non-null   int64 \n",
      " 1   job                4521 non-null   object\n",
      " 2   marital            4521 non-null   object\n",
      " 3   education          4521 non-null   object\n",
      " 4   default            4521 non-null   object\n",
      " 5   balance            4521 non-null   int64 \n",
      " 6   housing-loan       4521 non-null   object\n",
      " 7   personal-loan      4521 non-null   object\n",
      " 8   current-campaign   4521 non-null   int64 \n",
      " 9   previous-campaign  4521 non-null   int64 \n",
      " 10  subscribed         4521 non-null   object\n",
      "dtypes: int64(4), object(7)\n",
      "memory usage: 388.6+ KB\n"
     ]
    }
   ],
   "source": [
    "bank_df.info()"
   ]
  },
  {
   "cell_type": "code",
   "execution_count": 41,
   "id": "70a3c067-1b5d-4333-90f3-a30ee3fa68d5",
   "metadata": {},
   "outputs": [
    {
     "data": {
      "text/plain": [
       "no     4000\n",
       "yes     521\n",
       "Name: subscribed, dtype: int64"
      ]
     },
     "execution_count": 41,
     "metadata": {},
     "output_type": "execute_result"
    }
   ],
   "source": [
    "bank_df['subscribed'].value_counts()"
   ]
  },
  {
   "cell_type": "code",
   "execution_count": 42,
   "id": "836d057b-c8ce-4598-813e-f2d5e72d6004",
   "metadata": {},
   "outputs": [
    {
     "data": {
      "text/plain": [
       "['age',\n",
       " 'job',\n",
       " 'marital',\n",
       " 'education',\n",
       " 'default',\n",
       " 'balance',\n",
       " 'housing-loan',\n",
       " 'personal-loan',\n",
       " 'current-campaign',\n",
       " 'previous-campaign']"
      ]
     },
     "execution_count": 42,
     "metadata": {},
     "output_type": "execute_result"
    }
   ],
   "source": [
    "X_features = list(bank_df.columns)\n",
    "X_features.remove(\"subscribed\")\n",
    "X_features"
   ]
  },
  {
   "cell_type": "code",
   "execution_count": 43,
   "id": "16065173-04a9-408b-85de-6ef63e24d624",
   "metadata": {},
   "outputs": [],
   "source": [
    "encoded_bank_df = pd.get_dummies(bank_df[X_features], drop_first=True)"
   ]
  },
  {
   "cell_type": "code",
   "execution_count": 44,
   "id": "9bb78ab3-149f-45f8-8453-e121ab25c1c7",
   "metadata": {},
   "outputs": [],
   "source": [
    "# The outcome variable subscribed is set to yes or no. This needs to be encoded as 1 (yes) and 0 (no). \n",
    "\n",
    "Y = bank_df.subscribed.map(lambda x: int(x == 'yes'))\n",
    "X = encoded_bank_df"
   ]
  },
  {
   "cell_type": "markdown",
   "id": "908c8c73-8895-4b55-90a8-be432cc0b084",
   "metadata": {},
   "source": [
    "***Here the dataset is not split into training and test datasets for simplicity as our objective is primarily to  understand gain and lift chart.***"
   ]
  },
  {
   "cell_type": "code",
   "execution_count": 8,
   "id": "0ae0851c-0a34-4eb6-9321-c2f534e6836c",
   "metadata": {},
   "outputs": [],
   "source": [
    "import statsmodels.api as sm"
   ]
  },
  {
   "cell_type": "code",
   "execution_count": 45,
   "id": "22a2c047-60c8-4f81-b4ae-be2e50283966",
   "metadata": {},
   "outputs": [
    {
     "name": "stdout",
     "output_type": "stream",
     "text": [
      "Optimization terminated successfully.\n",
      "         Current function value: 0.335572\n",
      "         Iterations 7\n"
     ]
    },
    {
     "name": "stderr",
     "output_type": "stream",
     "text": [
      "C:\\Users\\Amit Vikram Raj\\anaconda3\\lib\\site-packages\\statsmodels\\tsa\\tsatools.py:142: FutureWarning: In a future version of pandas all arguments of concat except for the argument 'objs' will be keyword-only\n",
      "  x = pd.concat(x[::order], 1)\n"
     ]
    }
   ],
   "source": [
    "logit_model = sm.Logit(Y, sm.add_constant(X)).fit()"
   ]
  },
  {
   "cell_type": "code",
   "execution_count": 46,
   "id": "7e13192e-b063-4136-95a1-b222c0071507",
   "metadata": {
    "scrolled": true,
    "tags": []
   },
   "outputs": [
    {
     "data": {
      "text/html": [
       "<table class=\"simpletable\">\n",
       "<tr>\n",
       "        <td>Model:</td>              <td>Logit</td>      <td>Pseudo R-squared:</td>    <td>0.061</td>  \n",
       "</tr>\n",
       "<tr>\n",
       "  <td>Dependent Variable:</td>    <td>subscribed</td>          <td>AIC:</td>         <td>3082.2384</td>\n",
       "</tr>\n",
       "<tr>\n",
       "         <td>Date:</td>        <td>2022-08-09 10:50</td>       <td>BIC:</td>         <td>3236.2341</td>\n",
       "</tr>\n",
       "<tr>\n",
       "   <td>No. Observations:</td>        <td>4521</td>        <td>Log-Likelihood:</td>    <td>-1517.1</td> \n",
       "</tr>\n",
       "<tr>\n",
       "       <td>Df Model:</td>             <td>23</td>            <td>LL-Null:</td>        <td>-1615.5</td> \n",
       "</tr>\n",
       "<tr>\n",
       "     <td>Df Residuals:</td>          <td>4497</td>         <td>LLR p-value:</td>    <td>1.4866e-29</td>\n",
       "</tr>\n",
       "<tr>\n",
       "      <td>Converged:</td>           <td>1.0000</td>           <td>Scale:</td>         <td>1.0000</td>  \n",
       "</tr>\n",
       "<tr>\n",
       "    <td>No. Iterations:</td>        <td>7.0000</td>              <td></td>               <td></td>     \n",
       "</tr>\n",
       "</table>\n",
       "<table class=\"simpletable\">\n",
       "<tr>\n",
       "           <td></td>            <th>Coef.</th>  <th>Std.Err.</th>    <th>z</th>     <th>P>|z|</th> <th>[0.025</th>  <th>0.975]</th> \n",
       "</tr>\n",
       "<tr>\n",
       "  <th>const</th>               <td>-1.7573</td>  <td>0.3799</td>  <td>-4.6251</td> <td>0.0000</td> <td>-2.5019</td> <td>-1.0126</td>\n",
       "</tr>\n",
       "<tr>\n",
       "  <th>age</th>                 <td>0.0078</td>   <td>0.0058</td>  <td>1.3395</td>  <td>0.1804</td> <td>-0.0036</td> <td>0.0191</td> \n",
       "</tr>\n",
       "<tr>\n",
       "  <th>balance</th>             <td>-0.0000</td>  <td>0.0000</td>  <td>-0.2236</td> <td>0.8231</td> <td>-0.0000</td> <td>0.0000</td> \n",
       "</tr>\n",
       "<tr>\n",
       "  <th>current-campaign</th>    <td>-0.0905</td>  <td>0.0238</td>  <td>-3.8042</td> <td>0.0001</td> <td>-0.1371</td> <td>-0.0439</td>\n",
       "</tr>\n",
       "<tr>\n",
       "  <th>previous-campaign</th>   <td>0.1414</td>   <td>0.0212</td>  <td>6.6569</td>  <td>0.0000</td> <td>0.0998</td>  <td>0.1830</td> \n",
       "</tr>\n",
       "<tr>\n",
       "  <th>job_blue-collar</th>     <td>-0.3412</td>  <td>0.2000</td>  <td>-1.7060</td> <td>0.0880</td> <td>-0.7331</td> <td>0.0508</td> \n",
       "</tr>\n",
       "<tr>\n",
       "  <th>job_entrepreneur</th>    <td>-0.2900</td>  <td>0.3161</td>  <td>-0.9175</td> <td>0.3589</td> <td>-0.9096</td> <td>0.3295</td> \n",
       "</tr>\n",
       "<tr>\n",
       "  <th>job_housemaid</th>       <td>-0.0166</td>  <td>0.3339</td>  <td>-0.0497</td> <td>0.9603</td> <td>-0.6711</td> <td>0.6379</td> \n",
       "</tr>\n",
       "<tr>\n",
       "  <th>job_management</th>      <td>-0.0487</td>  <td>0.1984</td>  <td>-0.2455</td> <td>0.8061</td> <td>-0.4375</td> <td>0.3401</td> \n",
       "</tr>\n",
       "<tr>\n",
       "  <th>job_retired</th>         <td>0.5454</td>   <td>0.2503</td>  <td>2.1794</td>  <td>0.0293</td> <td>0.0549</td>  <td>1.0360</td> \n",
       "</tr>\n",
       "<tr>\n",
       "  <th>job_self-employed</th>   <td>-0.2234</td>  <td>0.2895</td>  <td>-0.7715</td> <td>0.4404</td> <td>-0.7909</td> <td>0.3441</td> \n",
       "</tr>\n",
       "<tr>\n",
       "  <th>job_services</th>        <td>-0.2248</td>  <td>0.2245</td>  <td>-1.0012</td> <td>0.3167</td> <td>-0.6648</td> <td>0.2152</td> \n",
       "</tr>\n",
       "<tr>\n",
       "  <th>job_student</th>         <td>0.3888</td>   <td>0.3181</td>  <td>1.2223</td>  <td>0.2216</td> <td>-0.2346</td> <td>1.0122</td> \n",
       "</tr>\n",
       "<tr>\n",
       "  <th>job_technician</th>      <td>-0.2101</td>  <td>0.1874</td>  <td>-1.1213</td> <td>0.2622</td> <td>-0.5773</td> <td>0.1571</td> \n",
       "</tr>\n",
       "<tr>\n",
       "  <th>job_unemployed</th>      <td>-0.3723</td>  <td>0.3336</td>  <td>-1.1162</td> <td>0.2643</td> <td>-1.0261</td> <td>0.2815</td> \n",
       "</tr>\n",
       "<tr>\n",
       "  <th>job_unknown</th>         <td>0.3193</td>   <td>0.4620</td>  <td>0.6913</td>  <td>0.4894</td> <td>-0.5861</td> <td>1.2248</td> \n",
       "</tr>\n",
       "<tr>\n",
       "  <th>marital_married</th>     <td>-0.4012</td>  <td>0.1440</td>  <td>-2.7857</td> <td>0.0053</td> <td>-0.6835</td> <td>-0.1189</td>\n",
       "</tr>\n",
       "<tr>\n",
       "  <th>marital_single</th>      <td>-0.0463</td>  <td>0.1676</td>  <td>-0.2763</td> <td>0.7823</td> <td>-0.3749</td> <td>0.2822</td> \n",
       "</tr>\n",
       "<tr>\n",
       "  <th>education_secondary</th> <td>0.2128</td>   <td>0.1680</td>  <td>1.2670</td>  <td>0.2052</td> <td>-0.1164</td> <td>0.5420</td> \n",
       "</tr>\n",
       "<tr>\n",
       "  <th>education_tertiary</th>  <td>0.3891</td>   <td>0.1935</td>  <td>2.0103</td>  <td>0.0444</td> <td>0.0098</td>  <td>0.7684</td> \n",
       "</tr>\n",
       "<tr>\n",
       "  <th>education_unknown</th>   <td>-0.1956</td>  <td>0.2927</td>  <td>-0.6682</td> <td>0.5040</td> <td>-0.7693</td> <td>0.3781</td> \n",
       "</tr>\n",
       "<tr>\n",
       "  <th>default_yes</th>         <td>0.2286</td>   <td>0.3670</td>  <td>0.6228</td>  <td>0.5334</td> <td>-0.4908</td> <td>0.9479</td> \n",
       "</tr>\n",
       "<tr>\n",
       "  <th>housing-loan_yes</th>    <td>-0.5355</td>  <td>0.1024</td>  <td>-5.2273</td> <td>0.0000</td> <td>-0.7362</td> <td>-0.3347</td>\n",
       "</tr>\n",
       "<tr>\n",
       "  <th>personal-loan_yes</th>   <td>-0.7139</td>  <td>0.1689</td>  <td>-4.2268</td> <td>0.0000</td> <td>-1.0449</td> <td>-0.3829</td>\n",
       "</tr>\n",
       "</table>"
      ],
      "text/plain": [
       "<class 'statsmodels.iolib.summary2.Summary'>\n",
       "\"\"\"\n",
       "                          Results: Logit\n",
       "===================================================================\n",
       "Model:                Logit            Pseudo R-squared: 0.061     \n",
       "Dependent Variable:   subscribed       AIC:              3082.2384 \n",
       "Date:                 2022-08-09 10:50 BIC:              3236.2341 \n",
       "No. Observations:     4521             Log-Likelihood:   -1517.1   \n",
       "Df Model:             23               LL-Null:          -1615.5   \n",
       "Df Residuals:         4497             LLR p-value:      1.4866e-29\n",
       "Converged:            1.0000           Scale:            1.0000    \n",
       "No. Iterations:       7.0000                                       \n",
       "-------------------------------------------------------------------\n",
       "                     Coef.  Std.Err.    z    P>|z|   [0.025  0.975]\n",
       "-------------------------------------------------------------------\n",
       "const               -1.7573   0.3799 -4.6251 0.0000 -2.5019 -1.0126\n",
       "age                  0.0078   0.0058  1.3395 0.1804 -0.0036  0.0191\n",
       "balance             -0.0000   0.0000 -0.2236 0.8231 -0.0000  0.0000\n",
       "current-campaign    -0.0905   0.0238 -3.8042 0.0001 -0.1371 -0.0439\n",
       "previous-campaign    0.1414   0.0212  6.6569 0.0000  0.0998  0.1830\n",
       "job_blue-collar     -0.3412   0.2000 -1.7060 0.0880 -0.7331  0.0508\n",
       "job_entrepreneur    -0.2900   0.3161 -0.9175 0.3589 -0.9096  0.3295\n",
       "job_housemaid       -0.0166   0.3339 -0.0497 0.9603 -0.6711  0.6379\n",
       "job_management      -0.0487   0.1984 -0.2455 0.8061 -0.4375  0.3401\n",
       "job_retired          0.5454   0.2503  2.1794 0.0293  0.0549  1.0360\n",
       "job_self-employed   -0.2234   0.2895 -0.7715 0.4404 -0.7909  0.3441\n",
       "job_services        -0.2248   0.2245 -1.0012 0.3167 -0.6648  0.2152\n",
       "job_student          0.3888   0.3181  1.2223 0.2216 -0.2346  1.0122\n",
       "job_technician      -0.2101   0.1874 -1.1213 0.2622 -0.5773  0.1571\n",
       "job_unemployed      -0.3723   0.3336 -1.1162 0.2643 -1.0261  0.2815\n",
       "job_unknown          0.3193   0.4620  0.6913 0.4894 -0.5861  1.2248\n",
       "marital_married     -0.4012   0.1440 -2.7857 0.0053 -0.6835 -0.1189\n",
       "marital_single      -0.0463   0.1676 -0.2763 0.7823 -0.3749  0.2822\n",
       "education_secondary  0.2128   0.1680  1.2670 0.2052 -0.1164  0.5420\n",
       "education_tertiary   0.3891   0.1935  2.0103 0.0444  0.0098  0.7684\n",
       "education_unknown   -0.1956   0.2927 -0.6682 0.5040 -0.7693  0.3781\n",
       "default_yes          0.2286   0.3670  0.6228 0.5334 -0.4908  0.9479\n",
       "housing-loan_yes    -0.5355   0.1024 -5.2273 0.0000 -0.7362 -0.3347\n",
       "personal-loan_yes   -0.7139   0.1689 -4.2268 0.0000 -1.0449 -0.3829\n",
       "===================================================================\n",
       "\n",
       "\"\"\""
      ]
     },
     "execution_count": 46,
     "metadata": {},
     "output_type": "execute_result"
    }
   ],
   "source": [
    "logit_model.summary2()"
   ]
  },
  {
   "cell_type": "code",
   "execution_count": 47,
   "id": "1ddab9a5-25b6-4220-8d7d-b3ea37661d4e",
   "metadata": {},
   "outputs": [],
   "source": [
    "def get_significant_vars(lm):\n",
    "    \"\"\"\n",
    "    method get_significant_vars() that takes the model object as an input and returns the list  of significant variables after filtering out the variable with corresponding p-value less than 0.05.\n",
    "    \"\"\"\n",
    "    \n",
    "    # Store the p-values and corresponding columns names in a dataframe\n",
    "    var_p_vals_df = pd.DataFrame(lm.pvalues)\n",
    "    var_p_vals_df['vars'] = var_p_vals_df.index\n",
    "    var_p_vals_df.columns = ['pvals', 'vars']\n",
    "    # Filter the columns names with p-value <= 0.05\n",
    "    return list(var_p_vals_df[var_p_vals_df.pvals <= 0.05]['vars'])"
   ]
  },
  {
   "cell_type": "code",
   "execution_count": 48,
   "id": "c069cb8d-4c07-4b97-8962-da9417bf19ac",
   "metadata": {},
   "outputs": [
    {
     "data": {
      "text/plain": [
       "['const',\n",
       " 'current-campaign',\n",
       " 'previous-campaign',\n",
       " 'job_retired',\n",
       " 'marital_married',\n",
       " 'education_tertiary',\n",
       " 'housing-loan_yes',\n",
       " 'personal-loan_yes']"
      ]
     },
     "execution_count": 48,
     "metadata": {},
     "output_type": "execute_result"
    }
   ],
   "source": [
    "# getting th esignificant variables\n",
    "significant_vars = get_significant_vars(logit_model)\n",
    "significant_vars"
   ]
  },
  {
   "cell_type": "code",
   "execution_count": 49,
   "id": "729efd61-4377-4adf-897d-69fb3d45a729",
   "metadata": {},
   "outputs": [],
   "source": [
    "X_features = ['current-campaign','previous-campaign','job_retired','marital_married','education_tertiary','housing-loan_yes','personal-loan_yes']"
   ]
  },
  {
   "cell_type": "code",
   "execution_count": 50,
   "id": "dc51b6eb-80a7-45a9-8b25-b1f90af7f7c4",
   "metadata": {},
   "outputs": [
    {
     "name": "stdout",
     "output_type": "stream",
     "text": [
      "Optimization terminated successfully.\n",
      "         Current function value: 0.337228\n",
      "         Iterations 7\n"
     ]
    },
    {
     "name": "stderr",
     "output_type": "stream",
     "text": [
      "C:\\Users\\Amit Vikram Raj\\anaconda3\\lib\\site-packages\\statsmodels\\tsa\\tsatools.py:142: FutureWarning: In a future version of pandas all arguments of concat except for the argument 'objs' will be keyword-only\n",
      "  x = pd.concat(x[::order], 1)\n"
     ]
    }
   ],
   "source": [
    "logit_model2 = sm.Logit(Y, sm.add_constant(X[X_features])).fit()"
   ]
  },
  {
   "cell_type": "code",
   "execution_count": 51,
   "id": "dcc86264-2e0e-41cd-8f06-bd1d8a41194e",
   "metadata": {},
   "outputs": [
    {
     "data": {
      "text/html": [
       "<table class=\"simpletable\">\n",
       "<tr>\n",
       "        <td>Model:</td>              <td>Logit</td>      <td>Pseudo R-squared:</td>    <td>0.056</td>  \n",
       "</tr>\n",
       "<tr>\n",
       "  <td>Dependent Variable:</td>    <td>subscribed</td>          <td>AIC:</td>         <td>3065.2182</td>\n",
       "</tr>\n",
       "<tr>\n",
       "         <td>Date:</td>        <td>2022-08-09 10:51</td>       <td>BIC:</td>         <td>3116.5501</td>\n",
       "</tr>\n",
       "<tr>\n",
       "   <td>No. Observations:</td>        <td>4521</td>        <td>Log-Likelihood:</td>    <td>-1524.6</td> \n",
       "</tr>\n",
       "<tr>\n",
       "       <td>Df Model:</td>              <td>7</td>            <td>LL-Null:</td>        <td>-1615.5</td> \n",
       "</tr>\n",
       "<tr>\n",
       "     <td>Df Residuals:</td>          <td>4513</td>         <td>LLR p-value:</td>    <td>8.1892e-36</td>\n",
       "</tr>\n",
       "<tr>\n",
       "      <td>Converged:</td>           <td>1.0000</td>           <td>Scale:</td>         <td>1.0000</td>  \n",
       "</tr>\n",
       "<tr>\n",
       "    <td>No. Iterations:</td>        <td>7.0000</td>              <td></td>               <td></td>     \n",
       "</tr>\n",
       "</table>\n",
       "<table class=\"simpletable\">\n",
       "<tr>\n",
       "           <td></td>           <th>Coef.</th>  <th>Std.Err.</th>     <th>z</th>     <th>P>|z|</th> <th>[0.025</th>  <th>0.975]</th> \n",
       "</tr>\n",
       "<tr>\n",
       "  <th>const</th>              <td>-1.4754</td>  <td>0.1133</td>  <td>-13.0260</td> <td>0.0000</td> <td>-1.6974</td> <td>-1.2534</td>\n",
       "</tr>\n",
       "<tr>\n",
       "  <th>current-campaign</th>   <td>-0.0893</td>  <td>0.0236</td>   <td>-3.7925</td> <td>0.0001</td> <td>-0.1355</td> <td>-0.0432</td>\n",
       "</tr>\n",
       "<tr>\n",
       "  <th>previous-campaign</th>  <td>0.1419</td>   <td>0.0211</td>   <td>6.7097</td>  <td>0.0000</td> <td>0.1004</td>  <td>0.1833</td> \n",
       "</tr>\n",
       "<tr>\n",
       "  <th>job_retired</th>        <td>0.8246</td>   <td>0.1731</td>   <td>4.7628</td>  <td>0.0000</td> <td>0.4853</td>  <td>1.1639</td> \n",
       "</tr>\n",
       "<tr>\n",
       "  <th>marital_married</th>    <td>-0.3767</td>  <td>0.0969</td>   <td>-3.8878</td> <td>0.0001</td> <td>-0.5667</td> <td>-0.1868</td>\n",
       "</tr>\n",
       "<tr>\n",
       "  <th>education_tertiary</th> <td>0.2991</td>   <td>0.1014</td>   <td>2.9500</td>  <td>0.0032</td> <td>0.1004</td>  <td>0.4978</td> \n",
       "</tr>\n",
       "<tr>\n",
       "  <th>housing-loan_yes</th>   <td>-0.5834</td>  <td>0.0986</td>   <td>-5.9179</td> <td>0.0000</td> <td>-0.7767</td> <td>-0.3902</td>\n",
       "</tr>\n",
       "<tr>\n",
       "  <th>personal-loan_yes</th>  <td>-0.7025</td>  <td>0.1672</td>   <td>-4.2012</td> <td>0.0000</td> <td>-1.0302</td> <td>-0.3748</td>\n",
       "</tr>\n",
       "</table>"
      ],
      "text/plain": [
       "<class 'statsmodels.iolib.summary2.Summary'>\n",
       "\"\"\"\n",
       "                          Results: Logit\n",
       "===================================================================\n",
       "Model:                Logit            Pseudo R-squared: 0.056     \n",
       "Dependent Variable:   subscribed       AIC:              3065.2182 \n",
       "Date:                 2022-08-09 10:51 BIC:              3116.5501 \n",
       "No. Observations:     4521             Log-Likelihood:   -1524.6   \n",
       "Df Model:             7                LL-Null:          -1615.5   \n",
       "Df Residuals:         4513             LLR p-value:      8.1892e-36\n",
       "Converged:            1.0000           Scale:            1.0000    \n",
       "No. Iterations:       7.0000                                       \n",
       "-------------------------------------------------------------------\n",
       "                    Coef.  Std.Err.    z     P>|z|   [0.025  0.975]\n",
       "-------------------------------------------------------------------\n",
       "const              -1.4754   0.1133 -13.0260 0.0000 -1.6974 -1.2534\n",
       "current-campaign   -0.0893   0.0236  -3.7925 0.0001 -0.1355 -0.0432\n",
       "previous-campaign   0.1419   0.0211   6.7097 0.0000  0.1004  0.1833\n",
       "job_retired         0.8246   0.1731   4.7628 0.0000  0.4853  1.1639\n",
       "marital_married    -0.3767   0.0969  -3.8878 0.0001 -0.5667 -0.1868\n",
       "education_tertiary  0.2991   0.1014   2.9500 0.0032  0.1004  0.4978\n",
       "housing-loan_yes   -0.5834   0.0986  -5.9179 0.0000 -0.7767 -0.3902\n",
       "personal-loan_yes  -0.7025   0.1672  -4.2012 0.0000 -1.0302 -0.3748\n",
       "===================================================================\n",
       "\n",
       "\"\"\""
      ]
     },
     "execution_count": 51,
     "metadata": {},
     "output_type": "execute_result"
    }
   ],
   "source": [
    "logit_model2.summary2()"
   ]
  },
  {
   "cell_type": "code",
   "execution_count": 52,
   "id": "7d8c1856-4186-4a1e-97cd-f449254ba269",
   "metadata": {},
   "outputs": [
    {
     "name": "stderr",
     "output_type": "stream",
     "text": [
      "C:\\Users\\Amit Vikram Raj\\anaconda3\\lib\\site-packages\\statsmodels\\tsa\\tsatools.py:142: FutureWarning: In a future version of pandas all arguments of concat except for the argument 'objs' will be keyword-only\n",
      "  x = pd.concat(x[::order], 1)\n"
     ]
    }
   ],
   "source": [
    "y_pred_df = pd.DataFrame({'actual': Y,\n",
    "                         'predicted_prob': logit_model2.predict(sm.add_constant(X[X_features]))})"
   ]
  },
  {
   "cell_type": "code",
   "execution_count": 53,
   "id": "2ea3aa06-3aaa-4819-859a-f4e2bd037574",
   "metadata": {},
   "outputs": [],
   "source": [
    "# sort the observations by their predicted probabilities in the descending order. \n",
    "\n",
    "sorted_predict_df = y_pred_df[['predicted_prob','actual']].sort_values(by='predicted_prob', ascending=False)"
   ]
  },
  {
   "cell_type": "code",
   "execution_count": 54,
   "id": "566cfa18-f414-4a91-b70d-5826374a8cc1",
   "metadata": {},
   "outputs": [
    {
     "name": "stdout",
     "output_type": "stream",
     "text": [
      "Number of observations per decile: 452\n"
     ]
    }
   ],
   "source": [
    "# After sorting, we will segment all the observations into deciles. First we will find the number of observations in each decile by dividing the total number of observations by 10. \n",
    "\n",
    "num_per_decile = int(len(sorted_predict_df)/10)  \n",
    "print('Number of observations per decile:', num_per_decile) "
   ]
  },
  {
   "cell_type": "markdown",
   "id": "c27ed0ad-c266-426f-b67f-eadf432f83df",
   "metadata": {},
   "source": [
    "The function get_deciles() takes a DataFrame and segments the observations into deciles and marks each  observation with the decile number it belongs to. The DataFrame with sorted probabilities should be  passed to this function. "
   ]
  },
  {
   "cell_type": "code",
   "execution_count": 55,
   "id": "10c3b432-c526-4696-82fd-6e87433cf50f",
   "metadata": {},
   "outputs": [],
   "source": [
    "def get_deciles(df):\n",
    "    # Set first decile\n",
    "    df['decile'] = 1\n",
    "    \n",
    "    idx = 0\n",
    "    # Iterate through all 10 deciles\n",
    "    for each_d in range(0,10):\n",
    "        # Setting each 452 obs. to one decile in sequence\n",
    "        df.iloc[idx: idx + num_per_decile, df.columns.get_loc('decile')] = each_d\n",
    "        idx += num_per_decile\n",
    "    \n",
    "    df['decile'] = df['decile'] + 1\n",
    "    return df"
   ]
  },
  {
   "cell_type": "code",
   "execution_count": 56,
   "id": "66c96314-17d4-4e6b-a018-0f27e43ca3cd",
   "metadata": {},
   "outputs": [],
   "source": [
    "deciles_predict_df = get_deciles(sorted_predict_df)"
   ]
  },
  {
   "cell_type": "code",
   "execution_count": 57,
   "id": "92c69f9b-4bdc-4795-a6d1-8065095378c3",
   "metadata": {},
   "outputs": [
    {
     "data": {
      "text/html": [
       "<div>\n",
       "<style scoped>\n",
       "    .dataframe tbody tr th:only-of-type {\n",
       "        vertical-align: middle;\n",
       "    }\n",
       "\n",
       "    .dataframe tbody tr th {\n",
       "        vertical-align: top;\n",
       "    }\n",
       "\n",
       "    .dataframe thead th {\n",
       "        text-align: right;\n",
       "    }\n",
       "</style>\n",
       "<table border=\"1\" class=\"dataframe\">\n",
       "  <thead>\n",
       "    <tr style=\"text-align: right;\">\n",
       "      <th></th>\n",
       "      <th>predicted_prob</th>\n",
       "      <th>actual</th>\n",
       "      <th>decile</th>\n",
       "    </tr>\n",
       "  </thead>\n",
       "  <tbody>\n",
       "    <tr>\n",
       "      <th>3682</th>\n",
       "      <td>0.864769</td>\n",
       "      <td>0</td>\n",
       "      <td>1</td>\n",
       "    </tr>\n",
       "    <tr>\n",
       "      <th>97</th>\n",
       "      <td>0.828031</td>\n",
       "      <td>0</td>\n",
       "      <td>1</td>\n",
       "    </tr>\n",
       "    <tr>\n",
       "      <th>3426</th>\n",
       "      <td>0.706809</td>\n",
       "      <td>0</td>\n",
       "      <td>1</td>\n",
       "    </tr>\n",
       "    <tr>\n",
       "      <th>1312</th>\n",
       "      <td>0.642337</td>\n",
       "      <td>1</td>\n",
       "      <td>1</td>\n",
       "    </tr>\n",
       "    <tr>\n",
       "      <th>3930</th>\n",
       "      <td>0.631032</td>\n",
       "      <td>1</td>\n",
       "      <td>1</td>\n",
       "    </tr>\n",
       "    <tr>\n",
       "      <th>4397</th>\n",
       "      <td>0.619146</td>\n",
       "      <td>0</td>\n",
       "      <td>1</td>\n",
       "    </tr>\n",
       "    <tr>\n",
       "      <th>2070</th>\n",
       "      <td>0.609129</td>\n",
       "      <td>0</td>\n",
       "      <td>1</td>\n",
       "    </tr>\n",
       "    <tr>\n",
       "      <th>3023</th>\n",
       "      <td>0.573199</td>\n",
       "      <td>0</td>\n",
       "      <td>1</td>\n",
       "    </tr>\n",
       "    <tr>\n",
       "      <th>4080</th>\n",
       "      <td>0.572364</td>\n",
       "      <td>0</td>\n",
       "      <td>1</td>\n",
       "    </tr>\n",
       "    <tr>\n",
       "      <th>804</th>\n",
       "      <td>0.559350</td>\n",
       "      <td>0</td>\n",
       "      <td>1</td>\n",
       "    </tr>\n",
       "  </tbody>\n",
       "</table>\n",
       "</div>"
      ],
      "text/plain": [
       "      predicted_prob  actual  decile\n",
       "3682        0.864769       0       1\n",
       "97          0.828031       0       1\n",
       "3426        0.706809       0       1\n",
       "1312        0.642337       1       1\n",
       "3930        0.631032       1       1\n",
       "4397        0.619146       0       1\n",
       "2070        0.609129       0       1\n",
       "3023        0.573199       0       1\n",
       "4080        0.572364       0       1\n",
       "804         0.559350       0       1"
      ]
     },
     "execution_count": 57,
     "metadata": {},
     "output_type": "execute_result"
    }
   ],
   "source": [
    "deciles_predict_df[0:10]"
   ]
  },
  {
   "cell_type": "markdown",
   "id": "4b2f36c1-1ecc-489f-9fd0-c05a7ef2edf4",
   "metadata": {},
   "source": [
    "**Calculating Gain**\n",
    "\n",
    "To calculate the gain, we need to find how many subscriptions (how many 1’s) are available in each  decile. For this, the actual column value can be summed for each decile. "
   ]
  },
  {
   "cell_type": "code",
   "execution_count": 58,
   "id": "1c135982-a805-4a37-a595-b55cfee2e75c",
   "metadata": {},
   "outputs": [],
   "source": [
    "gain_lift_df = pd.DataFrame(deciles_predict_df.groupby('decile')['actual'].sum()).reset_index()\n",
    "\n",
    "gain_lift_df.columns = ['decile', 'gain']"
   ]
  },
  {
   "cell_type": "markdown",
   "id": "1e9462a3-bc2e-4bcb-b460-1ea8e228e1fb",
   "metadata": {},
   "source": [
    "And then the cumulative sum for each subsequent decile divided by the total number of 1’s available will  give the gain percentage. "
   ]
  },
  {
   "cell_type": "code",
   "execution_count": 59,
   "id": "17bd73d9-8ceb-46d0-b573-d9aae6950b76",
   "metadata": {},
   "outputs": [],
   "source": [
    "gain_lift_df['gain_percentage'] = (100 * gain_lift_df.gain.cumsum()/gain_lift_df.gain.sum())"
   ]
  },
  {
   "cell_type": "code",
   "execution_count": 60,
   "id": "40a72978-506d-4e16-964c-ae66c74bd321",
   "metadata": {},
   "outputs": [
    {
     "data": {
      "text/html": [
       "<div>\n",
       "<style scoped>\n",
       "    .dataframe tbody tr th:only-of-type {\n",
       "        vertical-align: middle;\n",
       "    }\n",
       "\n",
       "    .dataframe tbody tr th {\n",
       "        vertical-align: top;\n",
       "    }\n",
       "\n",
       "    .dataframe thead th {\n",
       "        text-align: right;\n",
       "    }\n",
       "</style>\n",
       "<table border=\"1\" class=\"dataframe\">\n",
       "  <thead>\n",
       "    <tr style=\"text-align: right;\">\n",
       "      <th></th>\n",
       "      <th>decile</th>\n",
       "      <th>gain</th>\n",
       "      <th>gain_percentage</th>\n",
       "    </tr>\n",
       "  </thead>\n",
       "  <tbody>\n",
       "    <tr>\n",
       "      <th>0</th>\n",
       "      <td>1</td>\n",
       "      <td>125</td>\n",
       "      <td>23.992322</td>\n",
       "    </tr>\n",
       "    <tr>\n",
       "      <th>1</th>\n",
       "      <td>2</td>\n",
       "      <td>83</td>\n",
       "      <td>39.923225</td>\n",
       "    </tr>\n",
       "    <tr>\n",
       "      <th>2</th>\n",
       "      <td>3</td>\n",
       "      <td>73</td>\n",
       "      <td>53.934741</td>\n",
       "    </tr>\n",
       "    <tr>\n",
       "      <th>3</th>\n",
       "      <td>4</td>\n",
       "      <td>53</td>\n",
       "      <td>64.107486</td>\n",
       "    </tr>\n",
       "    <tr>\n",
       "      <th>4</th>\n",
       "      <td>5</td>\n",
       "      <td>31</td>\n",
       "      <td>70.057582</td>\n",
       "    </tr>\n",
       "    <tr>\n",
       "      <th>5</th>\n",
       "      <td>6</td>\n",
       "      <td>46</td>\n",
       "      <td>78.886756</td>\n",
       "    </tr>\n",
       "    <tr>\n",
       "      <th>6</th>\n",
       "      <td>7</td>\n",
       "      <td>37</td>\n",
       "      <td>85.988484</td>\n",
       "    </tr>\n",
       "    <tr>\n",
       "      <th>7</th>\n",
       "      <td>8</td>\n",
       "      <td>28</td>\n",
       "      <td>91.362764</td>\n",
       "    </tr>\n",
       "    <tr>\n",
       "      <th>8</th>\n",
       "      <td>9</td>\n",
       "      <td>25</td>\n",
       "      <td>96.161228</td>\n",
       "    </tr>\n",
       "    <tr>\n",
       "      <th>9</th>\n",
       "      <td>10</td>\n",
       "      <td>20</td>\n",
       "      <td>100.000000</td>\n",
       "    </tr>\n",
       "  </tbody>\n",
       "</table>\n",
       "</div>"
      ],
      "text/plain": [
       "   decile  gain  gain_percentage\n",
       "0       1   125        23.992322\n",
       "1       2    83        39.923225\n",
       "2       3    73        53.934741\n",
       "3       4    53        64.107486\n",
       "4       5    31        70.057582\n",
       "5       6    46        78.886756\n",
       "6       7    37        85.988484\n",
       "7       8    28        91.362764\n",
       "8       9    25        96.161228\n",
       "9      10    20       100.000000"
      ]
     },
     "execution_count": 60,
     "metadata": {},
     "output_type": "execute_result"
    }
   ],
   "source": [
    "gain_lift_df"
   ]
  },
  {
   "cell_type": "markdown",
   "id": "ebc862aa-cb27-4eaa-a6f3-dfa2313c41af",
   "metadata": {},
   "source": [
    "So, if we target only the first 50% of the customers, we have almost 70% subscriptions. The change in gain  percentage can be plotted for better understanding"
   ]
  },
  {
   "cell_type": "code",
   "execution_count": 61,
   "id": "8057e37d-2780-4ebd-a5fc-8bc2625025d9",
   "metadata": {},
   "outputs": [
    {
     "data": {
      "image/png": "[encoded data removed]",
      "text/plain": [
       "<Figure size 576x432 with 1 Axes>"
      ]
     },
     "metadata": {
      "needs_background": "light"
     },
     "output_type": "display_data"
    }
   ],
   "source": [
    "plt.figure(figsize=(8,6))\n",
    "plt.plot(gain_lift_df['decile'], gain_lift_df['gain_percentage'], '-')\n",
    "plt.title('Gain Chart')\n",
    "plt.xlabel(\"Deciles\")\n",
    "plt.ylabel(\"Gain\")\n",
    "plt.show();"
   ]
  },
  {
   "cell_type": "markdown",
   "id": "87419fc9-157c-4f0a-8ebb-dbb507c47c19",
   "metadata": {},
   "source": [
    "**Calculating Lift**\n",
    "\n",
    "Lift can be calculated by dividing gain percentage by decile number."
   ]
  },
  {
   "cell_type": "code",
   "execution_count": 62,
   "id": "f7a5794f-06ab-406a-ba9a-ca63eda0922f",
   "metadata": {},
   "outputs": [
    {
     "data": {
      "text/html": [
       "<div>\n",
       "<style scoped>\n",
       "    .dataframe tbody tr th:only-of-type {\n",
       "        vertical-align: middle;\n",
       "    }\n",
       "\n",
       "    .dataframe tbody tr th {\n",
       "        vertical-align: top;\n",
       "    }\n",
       "\n",
       "    .dataframe thead th {\n",
       "        text-align: right;\n",
       "    }\n",
       "</style>\n",
       "<table border=\"1\" class=\"dataframe\">\n",
       "  <thead>\n",
       "    <tr style=\"text-align: right;\">\n",
       "      <th></th>\n",
       "      <th>decile</th>\n",
       "      <th>gain</th>\n",
       "      <th>gain_percentage</th>\n",
       "      <th>lift</th>\n",
       "    </tr>\n",
       "  </thead>\n",
       "  <tbody>\n",
       "    <tr>\n",
       "      <th>0</th>\n",
       "      <td>1</td>\n",
       "      <td>125</td>\n",
       "      <td>23.992322</td>\n",
       "      <td>2.399232</td>\n",
       "    </tr>\n",
       "    <tr>\n",
       "      <th>1</th>\n",
       "      <td>2</td>\n",
       "      <td>83</td>\n",
       "      <td>39.923225</td>\n",
       "      <td>1.996161</td>\n",
       "    </tr>\n",
       "    <tr>\n",
       "      <th>2</th>\n",
       "      <td>3</td>\n",
       "      <td>73</td>\n",
       "      <td>53.934741</td>\n",
       "      <td>1.797825</td>\n",
       "    </tr>\n",
       "    <tr>\n",
       "      <th>3</th>\n",
       "      <td>4</td>\n",
       "      <td>53</td>\n",
       "      <td>64.107486</td>\n",
       "      <td>1.602687</td>\n",
       "    </tr>\n",
       "    <tr>\n",
       "      <th>4</th>\n",
       "      <td>5</td>\n",
       "      <td>31</td>\n",
       "      <td>70.057582</td>\n",
       "      <td>1.401152</td>\n",
       "    </tr>\n",
       "    <tr>\n",
       "      <th>5</th>\n",
       "      <td>6</td>\n",
       "      <td>46</td>\n",
       "      <td>78.886756</td>\n",
       "      <td>1.314779</td>\n",
       "    </tr>\n",
       "    <tr>\n",
       "      <th>6</th>\n",
       "      <td>7</td>\n",
       "      <td>37</td>\n",
       "      <td>85.988484</td>\n",
       "      <td>1.228407</td>\n",
       "    </tr>\n",
       "    <tr>\n",
       "      <th>7</th>\n",
       "      <td>8</td>\n",
       "      <td>28</td>\n",
       "      <td>91.362764</td>\n",
       "      <td>1.142035</td>\n",
       "    </tr>\n",
       "    <tr>\n",
       "      <th>8</th>\n",
       "      <td>9</td>\n",
       "      <td>25</td>\n",
       "      <td>96.161228</td>\n",
       "      <td>1.068458</td>\n",
       "    </tr>\n",
       "    <tr>\n",
       "      <th>9</th>\n",
       "      <td>10</td>\n",
       "      <td>20</td>\n",
       "      <td>100.000000</td>\n",
       "      <td>1.000000</td>\n",
       "    </tr>\n",
       "  </tbody>\n",
       "</table>\n",
       "</div>"
      ],
      "text/plain": [
       "   decile  gain  gain_percentage      lift\n",
       "0       1   125        23.992322  2.399232\n",
       "1       2    83        39.923225  1.996161\n",
       "2       3    73        53.934741  1.797825\n",
       "3       4    53        64.107486  1.602687\n",
       "4       5    31        70.057582  1.401152\n",
       "5       6    46        78.886756  1.314779\n",
       "6       7    37        85.988484  1.228407\n",
       "7       8    28        91.362764  1.142035\n",
       "8       9    25        96.161228  1.068458\n",
       "9      10    20       100.000000  1.000000"
      ]
     },
     "execution_count": 62,
     "metadata": {},
     "output_type": "execute_result"
    }
   ],
   "source": [
    "gain_lift_df['lift'] = gain_lift_df.gain_percentage/(gain_lift_df.decile * 10)\n",
    "\n",
    "gain_lift_df"
   ]
  },
  {
   "cell_type": "markdown",
   "id": "7d6acfd3-d711-4f3d-bc34-2118434cdd80",
   "metadata": {},
   "source": [
    "As per the lift values, targeting customers using the model can capture 2.39 times  the number of subscribers compared to a random model in decile 1, 1.99 times up to decile 2, and so  on and so forth. "
   ]
  },
  {
   "cell_type": "code",
   "execution_count": 63,
   "id": "04d042d8-1ba7-40d0-a1f2-37f4b4c957eb",
   "metadata": {},
   "outputs": [
    {
     "data": {
      "image/png": "[encoded data removed]",
      "text/plain": [
       "<Figure size 576x432 with 1 Axes>"
      ]
     },
     "metadata": {
      "needs_background": "light"
     },
     "output_type": "display_data"
    }
   ],
   "source": [
    "plt.figure(figsize=(8,6))\n",
    "plt.plot(gain_lift_df['decile'], gain_lift_df['lift'], '-')\n",
    "plt.title('Lift')\n",
    "plt.xlabel(\"Deciles\")\n",
    "plt.ylabel(\"Lift\")\n",
    "plt.show();"
   ]
  },
  {
   "cell_type": "markdown",
   "id": "6096f48c-7897-4338-ba74-e193b1334877",
   "metadata": {},
   "source": [
    "## ***Classification Tree(Decision Tree Learning)***\n",
    "\n",
    "**Decision Tree Learning or Classification Trees** are a collection of divide and conquer problem-solving  strategies that use tree-like (inverted tree in which the root is at the top) structure to predict the value  of an outcome variable. \n",
    "The tree starts with the root node consisting of the complete data and thereafter uses intelligent strategies to split the nodes (parent node) into multiple branches (thus, creating children  nodes). The original data is divided into subsets in this process. This is done to create more homogenous  groups at the children nodes. It is one of the most powerful predictive analytics techniques used for generating business rules.\n",
    "\n",
    "- Classification and Regression Tree (CART) is one of the classification tree techniques. **CART is an  umbrella term; we will call it a <u>classification tree</u> if the outcome variable value is discrete and a <u>regression  tree</u> if the outcome variable value is continuous.**  \n",
    "\n",
    "- **Classification tree uses various impurity measures such as the Gini Impurity Index and Entropy to  split the nodes. Regression tree, on the other hand, splits the node that minimizes the Sum of Squared  Errors (SSE).** \n",
    "\n",
    "*The following steps are used to generate classification and regression trees:*\n",
    "\n",
    "1. Start with the complete training data in the root node. \n",
    "\n",
    "2. Decide on the measure of impurity, that is, either Gini Impurity Index or Entropy. Search for a  predictor variable that minimizes the impurity when the parent node is split into children nodes. This happens when the original data is divided into two subsets using a predictor variable such  that it results in the maximum reduction in the impurity in the case of a discrete dependent variable or maximum reduction in SSE in the case of a continuous dependent variable. \n",
    "\n",
    "3. Repeat step 2 for each subset of the data (for each internal node) using the independent variables until  \n",
    "    - All the dependent variables are exhausted.  \n",
    "    - The stopping criteria are met. Few stopping criteria used are number of levels of tree from  the root node, minimum number of observations in parent/child node (e.g., 10% of the  training data), and minimum reduction in impurity index.\n",
    "    \n",
    "4. Generate business rules for the leaf (terminal) nodes of the tree.\n",
    "\n",
    "sklearn.tree.DecisionTreeClassifier provides decision tree algorithm to create the decision tree.<br> \n",
    "It takes the  following key parameters:  \n",
    "1. criterion: string – The function to measure the quality of a split. Supported criteria are “gini” for  the Gini impurity and “entropy” for the information gain. Default is gini.  \n",
    "2. max_depth: int – The maximum depth of the tree.  \n",
    "3. min_samples_split: int or float – The minimum number of samples required to split an internal  node. If int, then number of samples or if float, percentage of total number of samples. Default is 2.  \n",
    "4. in_samples_leaf: int or float – The minimum number of samples required to be at a leaf node. "
   ]
  },
  {
   "cell_type": "markdown",
   "id": "04a92f37-da96-42ee-bd2b-42c52103d5f5",
   "metadata": {},
   "source": [
    "### **Spliting the DataSet**"
   ]
  },
  {
   "cell_type": "code",
   "execution_count": 9,
   "id": "7e083bbd-11f5-46c0-bed8-6463ccb63348",
   "metadata": {},
   "outputs": [],
   "source": [
    "X = encoded_credit_df\n",
    "Y = credit_df.status"
   ]
  },
  {
   "cell_type": "code",
   "execution_count": 10,
   "id": "c2738471-ac09-4873-9d27-b17dd595bd6c",
   "metadata": {},
   "outputs": [],
   "source": [
    "from sklearn.model_selection import train_test_split\n",
    "X_train, X_test, y_train, y_test = train_test_split(X, Y, test_size=0.3, random_state=42)"
   ]
  },
  {
   "cell_type": "markdown",
   "id": "27aaa39a-6a8c-4734-97c0-ee03bba14b90",
   "metadata": {},
   "source": [
    "### **Building Decision Tree Classifier using Gini Criteria**"
   ]
  },
  {
   "cell_type": "code",
   "execution_count": 11,
   "id": "05d3510f-329e-4244-8334-d5c4e5c64b79",
   "metadata": {},
   "outputs": [],
   "source": [
    "from sklearn.tree import DecisionTreeClassifier\n",
    "\n",
    "clf_tree = DecisionTreeClassifier(criterion= 'gini', max_depth=3)"
   ]
  },
  {
   "cell_type": "code",
   "execution_count": 12,
   "id": "8a7f59a9-6455-4b74-908b-999ee82e6d83",
   "metadata": {},
   "outputs": [
    {
     "data": {
      "text/plain": [
       "DecisionTreeClassifier(max_depth=3)"
      ]
     },
     "execution_count": 12,
     "metadata": {},
     "output_type": "execute_result"
    }
   ],
   "source": [
    "clf_tree.fit(X_train, y_train)"
   ]
  },
  {
   "cell_type": "markdown",
   "id": "0d61ef30-4549-4a4e-b10b-cf1538160c4a",
   "metadata": {},
   "source": [
    "### **Measuring Test Accuracy**"
   ]
  },
  {
   "cell_type": "code",
   "execution_count": 13,
   "id": "19428609-92e8-452c-a833-87dd9ebca786",
   "metadata": {},
   "outputs": [
    {
     "data": {
      "text/plain": [
       "0.5835743204164258"
      ]
     },
     "execution_count": 13,
     "metadata": {},
     "output_type": "execute_result"
    }
   ],
   "source": [
    "from sklearn import metrics\n",
    "\n",
    "tree_predict = clf_tree.predict(X_test)\n",
    "metrics.roc_auc_score(y_test, tree_predict)"
   ]
  },
  {
   "cell_type": "markdown",
   "id": "f85cd938-733d-4842-9cf9-7c25fffec3eb",
   "metadata": {},
   "source": [
    "### **Displaying the Tree**"
   ]
  },
  {
   "cell_type": "code",
   "execution_count": 14,
   "id": "3639b481-cef5-411c-a814-9d7aca311a03",
   "metadata": {},
   "outputs": [],
   "source": [
    "# !pip install graphviz"
   ]
  },
  {
   "cell_type": "code",
   "execution_count": 15,
   "id": "b4182af1-455b-4ec3-9ca3-59409f5bad07",
   "metadata": {},
   "outputs": [],
   "source": [
    "# !pip install pydotplus"
   ]
  },
  {
   "cell_type": "code",
   "execution_count": 22,
   "id": "034e5ed6-ea3f-4c7f-bdfd-8147c1b85849",
   "metadata": {},
   "outputs": [
    {
     "data": {
      "image/png": "[encoded data removed]",
      "text/plain": [
       "<IPython.core.display.Image object>"
      ]
     },
     "execution_count": 22,
     "metadata": {},
     "output_type": "execute_result"
    }
   ],
   "source": [
    "from sklearn.tree import export_graphviz\n",
    "import pydotplus as pdot\n",
    "from IPython.display import Image\n",
    "\n",
    "# Export tree into odt file\n",
    "export_graphviz(clf_tree, out_file = 'chd_tree.odt', feature_names= X_train.columns, filled=True)\n",
    "\n",
    "# Read & Create Image file\n",
    "chd_tree_graph = pdot.graphviz.graph_from_dot_file('chd_tree.odt')\n",
    "chd_tree_graph.write_jpg('chd_tree.png')\n",
    "\n",
    "# Render the png file\n",
    "Image(filename = 'chd_tree.png')"
   ]
  },
  {
   "cell_type": "markdown",
   "id": "10d1728e-acb6-453e-84f3-0345799bad84",
   "metadata": {},
   "source": [
    "From the decision tree diagram above, it can be interpreted that:  \n",
    "1. At the top node, there are 700 observations of which 491 are good credits and 209 are bad credits. The corresponding Gini index is 0.419. Later in the section, the Gini impurity index is explained.  \n",
    "\n",
    "2. checkin_account_A14 is the most important feature for splitting good and bad credits in the dataset when compared to other features and hence, chosen as the top splitting criteria.  \n",
    "\n",
    "3. The first rule (checkin_account_A14 < 0.5) means if the customer has checkin_account_A14 account or not.  \n",
    "\n",
    "4. This rule has split the dataset into two subsets represented by the second level nodes. On the left  node, there are 425 samples (i.e., not having checkin_account_A14) and on the right node, there  are 275 samples (i.e. having checkin_account_A14).  \n",
    "\n",
    "5. The nodes represented by dark shades depict good credits, while the nodes represented by light  shades are bad credits.  \n",
    "\n",
    "6. One of the rules can be interpreted as: If the customer does not have checkin_account_A14 and credit duration is less than 33 and does not have saving_acc_A65, then there is high probability  of being a bad credit. There are 70 records in the dataset that satisfy these conditions and 48 of  them have bad credit.  \n",
    "\n",
    "7. Another rule: If the customer has checkin_account_A14 and Inst_plans_A143 and age is more  than 23.5, then there is a high probability of being good credit. "
   ]
  },
  {
   "cell_type": "markdown",
   "id": "d547686e-3c04-4e71-ae82-5b1459870664",
   "metadata": {},
   "source": [
    "### **Understanding Gini Impurity**\n",
    "Gini measurement is the probability of a random sample being classified correctly if we randomly pick  a label according to the distribution in a branch. Gini impurity can be computed by summing the probability pi of an item with label i being chosen times the probability $1 − p_i$ of a mistake in categorizing  that item over all classes. It reaches its minimum (zero) when all cases in the node belong to a specific  category.<br> The Gini impurity index for a classification problem with C classes is given by \n",
    "$$Gini(k) = \\sum_{i=1}^{C}p_i(k)(1-p_i(k))$$\n",
    "\n",
    "So, in the top node the probability of finding good credit is 491/700 and finding bad credit is 209/700. Gini Impurity for the top node in the above decision tree will be"
   ]
  },
  {
   "cell_type": "code",
   "execution_count": 23,
   "id": "47fe4a38-6914-402f-8af4-4979be4293ec",
   "metadata": {},
   "outputs": [
    {
     "name": "stdout",
     "output_type": "stream",
     "text": [
      "0.4189\n"
     ]
    }
   ],
   "source": [
    "gini_node_1 = 1 - pow(491/700, 2) - pow(209/ 700, 2)\n",
    "print(round(gini_node_1, 4))"
   ]
  },
  {
   "cell_type": "markdown",
   "id": "46554321-2fb9-413b-a322-5f57ba68731b",
   "metadata": {},
   "source": [
    "### **Building Decision Tree Using Entropy Criteria**\n",
    "\n",
    "Entropy is another popular measure of impurity that is used in classification trees to split a node.\n",
    "\n",
    "Assume there are $J$ classes labelled 1,2,...,J. The entropy at node k is given by\n",
    "$$Entropy(k) = -\\sum_{j=1}^{J}p(j|k)log_{2}(j|k)$$\n",
    "\n",
    "***Entropy lies b/w 0 and 1, Higher Entropy means Higher Impurity***"
   ]
  },
  {
   "cell_type": "code",
   "execution_count": 27,
   "id": "e26ff869-764b-4356-a99d-3b935f4f2b0d",
   "metadata": {},
   "outputs": [
    {
     "data": {
      "image/png": "[encoded data removed]",
      "text/plain": [
       "<IPython.core.display.Image object>"
      ]
     },
     "execution_count": 27,
     "metadata": {},
     "output_type": "execute_result"
    }
   ],
   "source": [
    "clf_tree_entropy = DecisionTreeClassifier(criterion= 'entropy', max_depth=3)\n",
    "clf_tree_entropy.fit(X_train, y_train)\n",
    "\n",
    "# Export the tree into odt file\n",
    "export_graphviz(clf_tree_entropy, out_file='chd_tree_entropy.odt', feature_names=X_train.columns, filled = True, rounded=True)\n",
    "\n",
    "# read & Create the Image file\n",
    "chd_tree_graph = pdot.graphviz.graph_from_dot_file('chd_tree_entropy.odt')\n",
    "chd_tree_graph.write_jpg('chd_tree_entropy.png')\n",
    "\n",
    "# Render the png file\n",
    "Image(filename='chd_tree_entropy.png')"
   ]
  },
  {
   "cell_type": "markdown",
   "id": "9ce7f05f-aacf-48e5-a1aa-7f8fe1cf261d",
   "metadata": {},
   "source": [
    "From the decision tree diagram above, it can be interpreted that:  \n",
    "1. The nodes represented by dark shades depict majority good credits, while the nodes represented  by light shades are majority bad credits.  \n",
    "\n",
    "2. The rules generated at the top two level nodes are same as rules generated by decision tree built  using Gini index. The rules at the third level nodes are different.  \n",
    "\n",
    "3. One of the rules can be interpreted as: If the customer has *checkin_account_A14, Inst_plans code* is A143 and credit history code is A34, then there is a high probability of being good credit.  There are 96 customers who satisfy these criteria and 94 of them have good credit. \n"
   ]
  },
  {
   "cell_type": "markdown",
   "id": "addbc2a9-1047-47dc-acaa-1027ebb00684",
   "metadata": {},
   "source": [
    "### **Calculating Entropy**"
   ]
  },
  {
   "cell_type": "code",
   "execution_count": 28,
   "id": "2385e3e1-1feb-4f04-a38f-dfb9f6cfd734",
   "metadata": {},
   "outputs": [
    {
     "name": "stdout",
     "output_type": "stream",
     "text": [
      "0.88\n"
     ]
    }
   ],
   "source": [
    "# At the top node, there are 700 observations of which 491 are good credits and 209 are bad credits. So entropy at this node is given by the above formula\n",
    "\n",
    "import math\n",
    "\n",
    "entropy_node_1 = - (491/700)*math.log2(491/700) - (209/700)*math.log2(209/700)\n",
    "print(round(entropy_node_1, 3))"
   ]
  },
  {
   "cell_type": "markdown",
   "id": "547518fb-eb1d-499a-8e97-ac294cf460e0",
   "metadata": {},
   "source": [
    "### **Measuring Test Accuracy using AUC**"
   ]
  },
  {
   "cell_type": "code",
   "execution_count": 29,
   "id": "1bf416e7-a48b-4fae-8a58-84cd4153e0c1",
   "metadata": {},
   "outputs": [
    {
     "data": {
      "text/plain": [
       "0.5763972869236027"
      ]
     },
     "execution_count": 29,
     "metadata": {},
     "output_type": "execute_result"
    }
   ],
   "source": [
    "tree_predict = clf_tree_entropy.predict(X_test)\n",
    "metrics.roc_auc_score(y_test, tree_predict)"
   ]
  },
  {
   "cell_type": "markdown",
   "id": "d5312a82-f759-4772-aabc-3774bf8c5d15",
   "metadata": {},
   "source": [
    "### **Finding Optimal Criteria and Max Depth**\n",
    "\n",
    "We need to search through various combinations of criteria and tree depths to find optimal criteria and  depth where the tree gives highest accuracy.<br>  \n",
    "*sklearn.model_selection* provides a feature called *GridSearchCV* which searches through a set of possible hyperparameter values and reports the most optimal one.<br> \n",
    "GridSearchCV needs to be provided with  the accuracy measure to be used for searching for the optimal value. For classification models, roc_auc  values are mostly used. It uses k-fold cross validation to measure and validate the accuracy.  GridSearchCV can be used for any machine learning model and can search through multiple hyperparameters of the model. \n",
    "It takes the following arguments:  \n",
    "1. estimator – A scikit-learn model which implements the estimator interface.  \n",
    "2. param_grid – A dictionary with parameter names (string) as keys and lists of parameter settings  to try as values.  \n",
    "3. scoring – Is a string; is the accuracy measure, i.e. roc_auc.  \n",
    "4. cv – Is an integer; gives the number of folds in k-fold.\n",
    "\n",
    "Configuring the grid search to search for optimal parameters  \n",
    "   - Splitting criteria: gini or entropy.  \n",
    "   - Maximum depth of decision tree ranging from 2 to 10. \n",
    "   \n",
    "The searching of optimal parameter will be validated using 10-fold cross validation and the most optimal  parameter will be chosen based on ROC AUC score. \n"
   ]
  },
  {
   "cell_type": "code",
   "execution_count": 34,
   "id": "b4440e76-5acf-4da6-909d-bd1769b3fb37",
   "metadata": {},
   "outputs": [
    {
     "data": {
      "text/plain": [
       "GridSearchCV(cv=10, estimator=DecisionTreeClassifier(),\n",
       "             param_grid=[{'criterion': ['gini', 'entropy'],\n",
       "                          'max_depth': range(2, 10)}],\n",
       "             scoring='roc_auc')"
      ]
     },
     "execution_count": 34,
     "metadata": {},
     "output_type": "execute_result"
    }
   ],
   "source": [
    "from sklearn.model_selection import GridSearchCV\n",
    "\n",
    "tuned_parameters = [{'criterion': ['gini', 'entropy'], 'max_depth': range(2,10)}]\n",
    "clf_tree = DecisionTreeClassifier()\n",
    "clf = GridSearchCV(clf_tree, tuned_parameters, cv=10, scoring='roc_auc')\n",
    "clf.fit(X_train, y_train)"
   ]
  },
  {
   "cell_type": "code",
   "execution_count": 35,
   "id": "5cad63b7-8efd-4e03-8037-b5b10a583190",
   "metadata": {},
   "outputs": [
    {
     "data": {
      "text/plain": [
       "0.6830090864917396"
      ]
     },
     "execution_count": 35,
     "metadata": {},
     "output_type": "execute_result"
    }
   ],
   "source": [
    "clf.best_score_"
   ]
  },
  {
   "cell_type": "code",
   "execution_count": 36,
   "id": "c720bb55-4395-497f-a984-d16ded90e0eb",
   "metadata": {},
   "outputs": [
    {
     "data": {
      "text/plain": [
       "{'criterion': 'gini', 'max_depth': 4}"
      ]
     },
     "execution_count": 36,
     "metadata": {},
     "output_type": "execute_result"
    }
   ],
   "source": [
    "clf.best_params_"
   ]
  },
  {
   "cell_type": "markdown",
   "id": "a0f7fa6f-5132-4080-8f37-91f2c508cc81",
   "metadata": {},
   "source": [
    "The tree with *gini* criteria and *max_depth = 4* is the best model. Thus we can build the model based on this criteria"
   ]
  },
  {
   "cell_type": "code",
   "execution_count": 48,
   "id": "1aaf158b-75d5-4e8e-ac46-232fcabc22fe",
   "metadata": {},
   "outputs": [
    {
     "data": {
      "text/plain": [
       "DecisionTreeClassifier(max_depth=4)"
      ]
     },
     "execution_count": 48,
     "metadata": {},
     "output_type": "execute_result"
    }
   ],
   "source": [
    "clf_tree_new = DecisionTreeClassifier(criterion='gini', max_depth=4)\n",
    "clf_tree_new.fit(X_train, y_train)"
   ]
  },
  {
   "cell_type": "code",
   "execution_count": 49,
   "id": "31138220-1f9d-48cb-85d0-b40e12fedb1e",
   "metadata": {},
   "outputs": [
    {
     "data": {
      "text/plain": [
       "0.5713497029286503"
      ]
     },
     "execution_count": 49,
     "metadata": {},
     "output_type": "execute_result"
    }
   ],
   "source": [
    "tree_predict = clf_tree_new.predict(X_test)\n",
    "metrics.roc_auc_score(y_test, tree_predict)"
   ]
  },
  {
   "cell_type": "code",
   "execution_count": 50,
   "id": "fd133ee2-6714-4a76-bd64-706c2bca61e4",
   "metadata": {},
   "outputs": [
    {
     "data": {
      "image/png": "[encoded data removed]",
      "text/plain": [
       "<IPython.core.display.Image object>"
      ]
     },
     "execution_count": 50,
     "metadata": {},
     "output_type": "execute_result"
    }
   ],
   "source": [
    "# Export tree into odt file\n",
    "export_graphviz(clf_tree_new, out_file = 'chd_tree_4.odt', feature_names= X_train.columns, filled=True)\n",
    "\n",
    "# Read & Create Image file\n",
    "chd_tree_graph = pdot.graphviz.graph_from_dot_file('chd_tree_4.odt')\n",
    "chd_tree_graph.write_jpg('chd_tree_4.png')\n",
    "\n",
    "# Render the png file\n",
    "Image(filename = 'chd_tree_4.png')"
   ]
  },
  {
   "cell_type": "markdown",
   "id": "3d526b84-de5f-4bdf-8307-72f1e9d43375",
   "metadata": {},
   "source": [
    "#### ***Reference: Pradhan, Manaranjan; U Dinesh Kumar. Machine Learning using Python. Kindle Edition.***"
   ]
  }
 ],
 "metadata": {
  "kernelspec": {
   "display_name": "Python 3 (ipykernel)",
   "language": "python",
   "name": "python3"
  },
  "language_info": {
   "codemirror_mode": {
    "name": "ipython",
    "version": 3
   },
   "file_extension": ".py",
   "mimetype": "text/x-python",
   "name": "python",
   "nbconvert_exporter": "python",
   "pygments_lexer": "ipython3",
   "version": "3.9.7"
  },
  "widgets": {
   "application/vnd.jupyter.widget-state+json": {
    "state": {},
    "version_major": 2,
    "version_minor": 0
   }
  }
 },
 "nbformat": 4,
 "nbformat_minor": 5
}
