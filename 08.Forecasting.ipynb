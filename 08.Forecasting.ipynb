{
 "cells": [
  {
   "cell_type": "markdown",
   "id": "c1197d05-7734-4d3f-a8f8-dd8074fe972d",
   "metadata": {},
   "source": [
    "#### ***Reference: Pradhan, Manaranjan; U Dinesh Kumar. Machine Learning using Python. Kindle Edition.*** "
   ]
  },
  {
   "cell_type": "markdown",
   "id": "26b65b3d-2b80-4f1a-a111-3411cd276a2f",
   "metadata": {
    "tags": []
   },
   "source": [
    "# **Forecasting**\n",
    "\n",
    "**Forecasting Overview**<br>\n",
    "Forecasting is by far the most important and frequently used application of predictive analytics because  it has significant impact on both the top line and the bottom line of an organization. Every organization  prepares long-range and short-range planning and forecasting demand for product and service is an  important input for both long-range and short-range planning. Different capacity planning problems  such as manpower planning, machine capacity, warehouse capacity, materials requirements planning  (MRP) will depend on the forecasted demand for the product/service. Budget allocation for marketing  promotions and advertisements are usually made based on forecasted demand for the product.<br> Following are few examples of challenging forecasting problems:  \n",
    "   1. Demand for products and service is not the only application of forecasting, even manpower  planning requires the use of sophisticated models. Indian information technology (IT) companies struggle to manage the right level of manpower for each skill required to manage their business. This would involve forecasting business opportunities, skills required to manage current  and future projects, and so on.\n",
    "   \n",
    "   2. Boeing 747-400 has more than 6 million parts and several thousand unique parts (Hill, 2011).  Forecasting demand for spare parts is important since non-availability of mission-critical parts  can result in aircraft on ground (AOG) which can be very expensive for airlines.\n",
    "   \n",
    "   3. Walmart sells more than 142,000 products through their supercenters (source: Walmart website; see Reference section). Being a brick-and-mortar retail store, Walmart does not have the advantages of Amazon.com (being also a market place, Amazon does not have to predict demand  for all the products sold through their portal). Walmart must maintain stock for each and every  product sold and predict demand for the products as accurately as possible."
   ]
  },
  {
   "cell_type": "markdown",
   "id": "e8425f85-d23b-41b2-bb50-50a8a670083b",
   "metadata": {},
   "source": [
    "## **Components of TIME-SERIES DATA**\n",
    "- The time-series data $Y_t$ is a random variable, usually collected at regular time intervals and in chronological order. \n",
    "\n",
    "- If the time-series data contains observations of just a single variable (such as demand of a product at time t), then it is termed as ***<u>univariate time-series data</u>***. \n",
    "\n",
    "- If the data consists of more than one variable, for example, demand for a product at time t, price at time t, amount of money spent by the company on promotion at time t, competitors’ price at time t, etc., then it is called ***<u>multivariate timeseries data</u>***.  "
   ]
  },
  {
   "cell_type": "markdown",
   "id": "2922fcb7-4663-4692-80ab-96be585cad1f",
   "metadata": {},
   "source": [
    "- *A time-series data can be broken into the 4 following components:*  \n",
    "    1. **<u>Trend Component</u> ($T_t$):** ***Trend is the consistent long-term upward or downward movement of the data.***<br><br>\n",
    "    \n",
    "    2. **<u>Seasonal Component</u> ($S_t$):** ***Changes in trend-line due any occassion, every calender-year.***<br><br>Seasonal component (measured using seasonality index) is the  repetitive upward or downward movement (or fluctuations) from the trend that occurs within  a calendar year at fixed intervals (i.e., time between seasons is fixed) such as seasons, quarters, months, days of the week, etc. The upward or downward fluctuation may be caused due to festivals, customs within a society, school holidays, business practices within the market such as “end of season sale”, and so on.<br><br>\n",
    "    \n",
    "    3. **<u>Cyclical Component</u> ($C_t$):** ***Random Changes in trend-line due to any macro-economic changes.***<br><br> Cyclical component is fluctuation around the trend line at random  interval (i.e., the time between cycles is random) that happens due to macro-economic changes  such as recession, unemployment, etc.<br> **Cyclical fluctuations have repetitive patterns with time  between repetitions of more than a year.**<br> **Whereas in the case of seasonality, the fluctuations are  observed within a calendar year and are driven by factors such as festivals and customs that exist in a society.**<br><br> *<u>A major difference between seasonal fluctuation and cyclical fluctuation is that seasonal fluctuation occurs at fixed period within a calendar year, whereas cyclical fluctuations have random time between fluctuations.</u>*<br> **That is, the periodicity of seasonal fluctuations is constant,  whereas the periodicity of cyclical fluctuations is not constant.**<br><br> \n",
    "    \n",
    "    4. **<u>Irregular Component</u> ($I_t$):** ***Irregular component is the white noise or random uncorrelated changes that follow a normal distribution with mean value of 0 and constant variance.***    "
   ]
  },
  {
   "cell_type": "markdown",
   "id": "4c3703bc-0fac-4e23-abd5-ff4eb61bbb93",
   "metadata": {},
   "source": [
    "- There are several forecasting techniques such as **moving average**, **exponential smoothing**, and **AutoRegressive Integrated Moving Average (ARIMA)** that are used across various industries.\n",
    "\n",
    "- **Moving average**  and **exponential smoothing** predict the future value of a time-series data as a function of past observations.<br> *The regression-based models such as* ***auto-regressive (AR), moving average (MA), auto-regressive  and moving average (ARMA), auto-regressive integrated moving average (ARIMA)*** use more sophisticated regression models.\n",
    "\n",
    "- It is important to note that using complex mathematical models does not guarantee a more accurate forecast. **Simple moving average technique may outperform complex ARIMA  models in many cases.**\n",
    "\n",
    "We will discuss all the three techniques, namely, moving average, exponential smoothing, and  ARIMA."
   ]
  },
  {
   "cell_type": "markdown",
   "id": "724feff9-c515-4711-a805-80fceb254600",
   "metadata": {},
   "source": [
    "## ***1. <u>Moving Average</u>***"
   ]
  },
  {
   "cell_type": "code",
   "execution_count": 1,
   "id": "95bf61ce-ee28-4b7b-9108-c8304e2c4fd4",
   "metadata": {},
   "outputs": [],
   "source": [
    "import pandas as pd\n",
    "import numpy as np\n",
    "import matplotlib.pyplot as plt\n",
    "import seaborn as sns\n",
    "sns.set_style('darkgrid')\n",
    "import os\n",
    "\n",
    "import warnings\n",
    "warnings.filterwarnings(\"ignore\")\n",
    "\n",
    "%matplotlib inline\n",
    "pd.pandas.set_option(\"display.max_columns\", None)"
   ]
  },
  {
   "cell_type": "code",
   "execution_count": 2,
   "id": "8e48820c-db04-4054-b41c-2ef878eef35a",
   "metadata": {},
   "outputs": [
    {
     "data": {
      "text/html": [
       "<div>\n",
       "<style scoped>\n",
       "    .dataframe tbody tr th:only-of-type {\n",
       "        vertical-align: middle;\n",
       "    }\n",
       "\n",
       "    .dataframe tbody tr th {\n",
       "        vertical-align: top;\n",
       "    }\n",
       "\n",
       "    .dataframe thead th {\n",
       "        text-align: right;\n",
       "    }\n",
       "</style>\n",
       "<table border=\"1\" class=\"dataframe\">\n",
       "  <thead>\n",
       "    <tr style=\"text-align: right;\">\n",
       "      <th></th>\n",
       "      <th>Month</th>\n",
       "      <th>Sale Quantity</th>\n",
       "      <th>Promotion Expenses</th>\n",
       "      <th>Competition Promotion</th>\n",
       "    </tr>\n",
       "  </thead>\n",
       "  <tbody>\n",
       "    <tr>\n",
       "      <th>0</th>\n",
       "      <td>1</td>\n",
       "      <td>3002666</td>\n",
       "      <td>105</td>\n",
       "      <td>1</td>\n",
       "    </tr>\n",
       "    <tr>\n",
       "      <th>1</th>\n",
       "      <td>2</td>\n",
       "      <td>4401553</td>\n",
       "      <td>145</td>\n",
       "      <td>0</td>\n",
       "    </tr>\n",
       "    <tr>\n",
       "      <th>2</th>\n",
       "      <td>3</td>\n",
       "      <td>3205279</td>\n",
       "      <td>118</td>\n",
       "      <td>1</td>\n",
       "    </tr>\n",
       "    <tr>\n",
       "      <th>3</th>\n",
       "      <td>4</td>\n",
       "      <td>4245349</td>\n",
       "      <td>130</td>\n",
       "      <td>0</td>\n",
       "    </tr>\n",
       "    <tr>\n",
       "      <th>4</th>\n",
       "      <td>5</td>\n",
       "      <td>3001940</td>\n",
       "      <td>98</td>\n",
       "      <td>1</td>\n",
       "    </tr>\n",
       "  </tbody>\n",
       "</table>\n",
       "</div>"
      ],
      "text/plain": [
       "   Month  Sale Quantity  Promotion Expenses  Competition Promotion\n",
       "0      1        3002666                 105                      1\n",
       "1      2        4401553                 145                      0\n",
       "2      3        3205279                 118                      1\n",
       "3      4        4245349                 130                      0\n",
       "4      5        3001940                  98                      1"
      ]
     },
     "execution_count": 2,
     "metadata": {},
     "output_type": "execute_result"
    }
   ],
   "source": [
    "# Using a shampoo brand dataset\n",
    "wsb_df = pd.read_csv(os.getcwd()+\"/Data/wsb.csv\")\n",
    "wsb_df.head()"
   ]
  },
  {
   "cell_type": "code",
   "execution_count": 3,
   "id": "5b426eab-a1b3-4627-a92b-2cea34872c79",
   "metadata": {},
   "outputs": [
    {
     "data": {
      "text/plain": [
       "(48, 4)"
      ]
     },
     "execution_count": 3,
     "metadata": {},
     "output_type": "execute_result"
    }
   ],
   "source": [
    "wsb_df.shape"
   ]
  },
  {
   "cell_type": "code",
   "execution_count": 4,
   "id": "83fe7f46-eec0-4b1b-b040-a60c59f98135",
   "metadata": {},
   "outputs": [
    {
     "data": {
      "image/png": "[encoded data removed]",
      "text/plain": [
       "<Figure size 792x360 with 1 Axes>"
      ]
     },
     "metadata": {
      "needs_background": "light"
     },
     "output_type": "display_data"
    }
   ],
   "source": [
    "plt.figure(figsize=(11,5))\n",
    "plt.xlabel('Months')\n",
    "plt.ylabel('Quantity Sold')\n",
    "plt.plot(wsb_df['Sale Quantity']);"
   ]
  },
  {
   "cell_type": "code",
   "execution_count": 5,
   "id": "84f55651-b43f-4c6c-8519-c5bf44f6baca",
   "metadata": {},
   "outputs": [
    {
     "name": "stdout",
     "output_type": "stream",
     "text": [
      "<class 'pandas.core.frame.DataFrame'>\n",
      "RangeIndex: 48 entries, 0 to 47\n",
      "Data columns (total 4 columns):\n",
      " #   Column                 Non-Null Count  Dtype\n",
      "---  ------                 --------------  -----\n",
      " 0   Month                  48 non-null     int64\n",
      " 1   Sale Quantity          48 non-null     int64\n",
      " 2   Promotion Expenses     48 non-null     int64\n",
      " 3   Competition Promotion  48 non-null     int64\n",
      "dtypes: int64(4)\n",
      "memory usage: 1.6 KB\n"
     ]
    }
   ],
   "source": [
    "wsb_df.info()"
   ]
  },
  {
   "cell_type": "markdown",
   "id": "bc15d5b9-62cc-475a-ada5-4899490f9ccc",
   "metadata": {},
   "source": [
    "## ***Forecasting Using Moving Average***\n",
    "Moving Average is one of the simplest forecasting techniques which ***forecasts the future value of a time-series data using average (or weighted average) of past N observations.***<br>\n",
    "**Forecasted value for time t+1 using simple moving average is:**\n",
    "$$F_{t+1} = \\frac{1}{N}\\sum_{k = t+1-N}^{t}Y_k$$\n",
    "\n",
    "Pandas has a function *rolling()* which can be used with an aggregate function like *mean()* for calculating moving average for a time window. For example, to calculate 12 month’s moving average using last  12 months’ data starting from last month (previous period), *rolling()* will take a parameter window,  which is set to 12 to indicate moving average of 12-months data, and then use Pandas’ *shift()* function,  which takes parameter 1 to specify that the 12-months data should start from last month. *shift(1)* means  calculating moving average for the specified window period starting from previous observation (in this  case last month)."
   ]
  },
  {
   "cell_type": "code",
   "execution_count": 6,
   "id": "9067b218-0ce5-4785-a5e2-51184f5b8590",
   "metadata": {},
   "outputs": [],
   "source": [
    "wsb_df['mavg_12'] = wsb_df['Sale Quantity'].rolling(window = 12).mean().shift(1)"
   ]
  },
  {
   "cell_type": "code",
   "execution_count": 7,
   "id": "c153fb5a-5ec3-48a6-9ffb-e2fdc1efa732",
   "metadata": {},
   "outputs": [
    {
     "data": {
      "text/html": [
       "<div>\n",
       "<style scoped>\n",
       "    .dataframe tbody tr th:only-of-type {\n",
       "        vertical-align: middle;\n",
       "    }\n",
       "\n",
       "    .dataframe tbody tr th {\n",
       "        vertical-align: top;\n",
       "    }\n",
       "\n",
       "    .dataframe thead th {\n",
       "        text-align: right;\n",
       "    }\n",
       "</style>\n",
       "<table border=\"1\" class=\"dataframe\">\n",
       "  <thead>\n",
       "    <tr style=\"text-align: right;\">\n",
       "      <th></th>\n",
       "      <th>Sale Quantity</th>\n",
       "      <th>mavg_12</th>\n",
       "    </tr>\n",
       "  </thead>\n",
       "  <tbody>\n",
       "    <tr>\n",
       "      <th>36</th>\n",
       "      <td>3216483</td>\n",
       "      <td>3928410.33</td>\n",
       "    </tr>\n",
       "    <tr>\n",
       "      <th>37</th>\n",
       "      <td>3453239</td>\n",
       "      <td>3810280.00</td>\n",
       "    </tr>\n",
       "    <tr>\n",
       "      <th>38</th>\n",
       "      <td>5431651</td>\n",
       "      <td>3783643.33</td>\n",
       "    </tr>\n",
       "    <tr>\n",
       "      <th>39</th>\n",
       "      <td>4241851</td>\n",
       "      <td>3970688.42</td>\n",
       "    </tr>\n",
       "    <tr>\n",
       "      <th>40</th>\n",
       "      <td>3909887</td>\n",
       "      <td>4066369.08</td>\n",
       "    </tr>\n",
       "    <tr>\n",
       "      <th>41</th>\n",
       "      <td>3216438</td>\n",
       "      <td>4012412.75</td>\n",
       "    </tr>\n",
       "    <tr>\n",
       "      <th>42</th>\n",
       "      <td>4222005</td>\n",
       "      <td>3962369.58</td>\n",
       "    </tr>\n",
       "    <tr>\n",
       "      <th>43</th>\n",
       "      <td>3621034</td>\n",
       "      <td>3946629.42</td>\n",
       "    </tr>\n",
       "    <tr>\n",
       "      <th>44</th>\n",
       "      <td>5162201</td>\n",
       "      <td>3940489.50</td>\n",
       "    </tr>\n",
       "    <tr>\n",
       "      <th>45</th>\n",
       "      <td>4627177</td>\n",
       "      <td>4052117.17</td>\n",
       "    </tr>\n",
       "    <tr>\n",
       "      <th>46</th>\n",
       "      <td>4623945</td>\n",
       "      <td>4130274.75</td>\n",
       "    </tr>\n",
       "    <tr>\n",
       "      <th>47</th>\n",
       "      <td>4599368</td>\n",
       "      <td>4204882.33</td>\n",
       "    </tr>\n",
       "  </tbody>\n",
       "</table>\n",
       "</div>"
      ],
      "text/plain": [
       "    Sale Quantity    mavg_12\n",
       "36        3216483 3928410.33\n",
       "37        3453239 3810280.00\n",
       "38        5431651 3783643.33\n",
       "39        4241851 3970688.42\n",
       "40        3909887 4066369.08\n",
       "41        3216438 4012412.75\n",
       "42        4222005 3962369.58\n",
       "43        3621034 3946629.42\n",
       "44        5162201 3940489.50\n",
       "45        4627177 4052117.17\n",
       "46        4623945 4130274.75\n",
       "47        4599368 4204882.33"
      ]
     },
     "execution_count": 7,
     "metadata": {},
     "output_type": "execute_result"
    }
   ],
   "source": [
    "# to display upto 2 decimal place\n",
    "pd.set_option('display.float_format', lambda x: '%.2f' %x)\n",
    "\n",
    "wsb_df[['Sale Quantity', 'mavg_12']][36:]"
   ]
  },
  {
   "cell_type": "code",
   "execution_count": 8,
   "id": "d7aa5dc9-8da8-44fa-9557-655202840c93",
   "metadata": {},
   "outputs": [
    {
     "data": {
      "image/png": "[encoded data removed]",
      "text/plain": [
       "<Figure size 792x360 with 1 Axes>"
      ]
     },
     "metadata": {
      "needs_background": "light"
     },
     "output_type": "display_data"
    }
   ],
   "source": [
    "plt.figure(figsize=(11,5))\n",
    "plt.xlabel(\"Months\")\n",
    "plt.ylabel(\"Quantity\")\n",
    "\n",
    "p1 = plt.plot(wsb_df['Sale Quantity'][12:], label='Sale Quantity')\n",
    "p2 = plt.plot(wsb_df['mavg_12'][12:], '.', label='Moving_Avg_12')\n",
    "\n",
    "plt.legend(bbox_to_anchor = (1.0, 0.57));\n",
    "\n",
    "# As observed, increasing trend in sales quantity over the months."
   ]
  },
  {
   "cell_type": "markdown",
   "id": "5dc31b82-5e11-472a-ade0-654140da8ece",
   "metadata": {},
   "source": [
    "## ***Calculating Forecasting Accuracy***\n",
    "**Root mean square error (RMSE) and mean absolute percentage error (MAPE)** are the two most popular  accuracy measures of forecasting.\n",
    "\n",
    "### ***Mean Absolute Percentage Error(MAPE)***\n",
    "- **It assumes that the validation data has $n$ observations and forecasting is carried out on these $n$ observations.**\n",
    "\n",
    "$$MAPE = \\frac{1}{n}\\sum_{t=1}^{n}\\frac{|Y_t - F_t|}{Y_t}\\times100%$$\n",
    "\n",
    "- ***Since **MAPE** is dimensionless, it can be used for comaparing diff. models with varying scales.***\n",
    "\n",
    "### ***Root Mean Square Error(RMSE)***\n",
    "- **RMSE is calculated over the validation set.**\n",
    "\n",
    "$$RMSE = \\sqrt{\\frac{1}{n}\\sum_{t=1}^{n}(Y_t - F_t)^2}$$\n",
    "\n",
    "- **Lower RMSE implies better prediction.** However it depends on the scale of the time-series data."
   ]
  },
  {
   "cell_type": "code",
   "execution_count": 44,
   "id": "68b0593c-4eaf-476f-943b-c6ca472aee92",
   "metadata": {},
   "outputs": [],
   "source": [
    "# MAPE\n",
    "def get_mape(actual, predicted):\n",
    "    y_true, y_pred = np.array(actual), np.array(predicted)\n",
    "    return np.round(np.mean(np.abs((y_true - y_pred)/y_true)*100), 2)"
   ]
  },
  {
   "cell_type": "code",
   "execution_count": 45,
   "id": "ca6d40e0-4de3-4e2d-8800-41ac6f6bb1fc",
   "metadata": {},
   "outputs": [
    {
     "data": {
      "text/plain": [
       "14.04"
      ]
     },
     "execution_count": 45,
     "metadata": {},
     "output_type": "execute_result"
    }
   ],
   "source": [
    "# MAPE\n",
    "get_mape(wsb_df['Sale Quantity'][36:].values,\n",
    "        wsb_df['mavg_12'][36:].values)"
   ]
  },
  {
   "cell_type": "code",
   "execution_count": 46,
   "id": "ec3f8e3a-7cd6-4dd6-af70-aed9c05d2dd0",
   "metadata": {},
   "outputs": [
    {
     "data": {
      "text/plain": [
       "734725.8359239782"
      ]
     },
     "execution_count": 46,
     "metadata": {},
     "output_type": "execute_result"
    }
   ],
   "source": [
    "# RMSE\n",
    "\n",
    "from sklearn.metrics import mean_squared_error\n",
    "\n",
    "np.sqrt(mean_squared_error(wsb_df['Sale Quantity'][36:].values,\n",
    "        wsb_df['mavg_12'][36:].values))"
   ]
  },
  {
   "cell_type": "markdown",
   "id": "8793a909-a760-411e-b3f3-ff805b67cb6a",
   "metadata": {},
   "source": [
    "## ***2. <u>Exponential Smoothing</u>***\n",
    "\n",
    "- One of the drawbacks of the simple moving average technique is that it gives equal weight to all the previous observations used in forecasting the future value. \n",
    "- **Exponential smoothing technique (also known as simple exponential smoothing; SES) assigns differential weights to past observations.**\n",
    "\n",
    "$$F_{t+1} = \\alpha Y_t + (1 - \\alpha)F_t$$\n",
    "\n",
    "$\\alpha$ is called the **smoothing constant**, and its value lies between 0 and 1.<br>\n",
    "$F_{t+1}$ is the forecasted value  at time t+1 using actual value $Y_t$ at time t and<br>\n",
    "forecasted values $F_t$ of time t.<br>\n",
    "\n",
    "But the model applies differential weights to both the inputs using smoothing constant $\\alpha$.\n",
    "\n",
    "The *ewm()* method in Pandas provides the features for computing the exponential moving average  taking alpha as a parameter."
   ]
  },
  {
   "cell_type": "code",
   "execution_count": 12,
   "id": "f02e00e1-a8c9-44c4-ac88-61f3c5334bc1",
   "metadata": {},
   "outputs": [],
   "source": [
    "wsb_df['ewm'] = wsb_df['Sale Quantity'].ewm(alpha = 0.2).mean()"
   ]
  },
  {
   "cell_type": "code",
   "execution_count": 13,
   "id": "e4461dfd-f289-4018-9a13-51ba32e5db61",
   "metadata": {},
   "outputs": [
    {
     "data": {
      "text/html": [
       "<div>\n",
       "<style scoped>\n",
       "    .dataframe tbody tr th:only-of-type {\n",
       "        vertical-align: middle;\n",
       "    }\n",
       "\n",
       "    .dataframe tbody tr th {\n",
       "        vertical-align: top;\n",
       "    }\n",
       "\n",
       "    .dataframe thead th {\n",
       "        text-align: right;\n",
       "    }\n",
       "</style>\n",
       "<table border=\"1\" class=\"dataframe\">\n",
       "  <thead>\n",
       "    <tr style=\"text-align: right;\">\n",
       "      <th></th>\n",
       "      <th>Month</th>\n",
       "      <th>Sale Quantity</th>\n",
       "      <th>Promotion Expenses</th>\n",
       "      <th>Competition Promotion</th>\n",
       "      <th>mavg_12</th>\n",
       "      <th>ewm</th>\n",
       "    </tr>\n",
       "  </thead>\n",
       "  <tbody>\n",
       "    <tr>\n",
       "      <th>36</th>\n",
       "      <td>37</td>\n",
       "      <td>3216483</td>\n",
       "      <td>121</td>\n",
       "      <td>1</td>\n",
       "      <td>3928410.33</td>\n",
       "      <td>3828234.64</td>\n",
       "    </tr>\n",
       "    <tr>\n",
       "      <th>37</th>\n",
       "      <td>38</td>\n",
       "      <td>3453239</td>\n",
       "      <td>128</td>\n",
       "      <td>0</td>\n",
       "      <td>3810280.00</td>\n",
       "      <td>3753219.93</td>\n",
       "    </tr>\n",
       "    <tr>\n",
       "      <th>38</th>\n",
       "      <td>39</td>\n",
       "      <td>5431651</td>\n",
       "      <td>170</td>\n",
       "      <td>0</td>\n",
       "      <td>3783643.33</td>\n",
       "      <td>4088961.93</td>\n",
       "    </tr>\n",
       "    <tr>\n",
       "      <th>39</th>\n",
       "      <td>40</td>\n",
       "      <td>4241851</td>\n",
       "      <td>160</td>\n",
       "      <td>0</td>\n",
       "      <td>3970688.42</td>\n",
       "      <td>4119543.81</td>\n",
       "    </tr>\n",
       "    <tr>\n",
       "      <th>40</th>\n",
       "      <td>41</td>\n",
       "      <td>3909887</td>\n",
       "      <td>151</td>\n",
       "      <td>1</td>\n",
       "      <td>4066369.08</td>\n",
       "      <td>4077607.99</td>\n",
       "    </tr>\n",
       "    <tr>\n",
       "      <th>41</th>\n",
       "      <td>42</td>\n",
       "      <td>3216438</td>\n",
       "      <td>120</td>\n",
       "      <td>1</td>\n",
       "      <td>4012412.75</td>\n",
       "      <td>3905359.34</td>\n",
       "    </tr>\n",
       "    <tr>\n",
       "      <th>42</th>\n",
       "      <td>43</td>\n",
       "      <td>4222005</td>\n",
       "      <td>152</td>\n",
       "      <td>0</td>\n",
       "      <td>3962369.58</td>\n",
       "      <td>3968692.78</td>\n",
       "    </tr>\n",
       "    <tr>\n",
       "      <th>43</th>\n",
       "      <td>44</td>\n",
       "      <td>3621034</td>\n",
       "      <td>125</td>\n",
       "      <td>0</td>\n",
       "      <td>3946629.42</td>\n",
       "      <td>3899157.24</td>\n",
       "    </tr>\n",
       "    <tr>\n",
       "      <th>44</th>\n",
       "      <td>45</td>\n",
       "      <td>5162201</td>\n",
       "      <td>170</td>\n",
       "      <td>0</td>\n",
       "      <td>3940489.50</td>\n",
       "      <td>4151776.99</td>\n",
       "    </tr>\n",
       "    <tr>\n",
       "      <th>45</th>\n",
       "      <td>46</td>\n",
       "      <td>4627177</td>\n",
       "      <td>160</td>\n",
       "      <td>0</td>\n",
       "      <td>4052117.17</td>\n",
       "      <td>4246860.31</td>\n",
       "    </tr>\n",
       "    <tr>\n",
       "      <th>46</th>\n",
       "      <td>47</td>\n",
       "      <td>4623945</td>\n",
       "      <td>168</td>\n",
       "      <td>0</td>\n",
       "      <td>4130274.75</td>\n",
       "      <td>4322279.35</td>\n",
       "    </tr>\n",
       "    <tr>\n",
       "      <th>47</th>\n",
       "      <td>48</td>\n",
       "      <td>4599368</td>\n",
       "      <td>166</td>\n",
       "      <td>0</td>\n",
       "      <td>4204882.33</td>\n",
       "      <td>4377698.31</td>\n",
       "    </tr>\n",
       "  </tbody>\n",
       "</table>\n",
       "</div>"
      ],
      "text/plain": [
       "    Month  Sale Quantity  Promotion Expenses  Competition Promotion  \\\n",
       "36     37        3216483                 121                      1   \n",
       "37     38        3453239                 128                      0   \n",
       "38     39        5431651                 170                      0   \n",
       "39     40        4241851                 160                      0   \n",
       "40     41        3909887                 151                      1   \n",
       "41     42        3216438                 120                      1   \n",
       "42     43        4222005                 152                      0   \n",
       "43     44        3621034                 125                      0   \n",
       "44     45        5162201                 170                      0   \n",
       "45     46        4627177                 160                      0   \n",
       "46     47        4623945                 168                      0   \n",
       "47     48        4599368                 166                      0   \n",
       "\n",
       "      mavg_12        ewm  \n",
       "36 3928410.33 3828234.64  \n",
       "37 3810280.00 3753219.93  \n",
       "38 3783643.33 4088961.93  \n",
       "39 3970688.42 4119543.81  \n",
       "40 4066369.08 4077607.99  \n",
       "41 4012412.75 3905359.34  \n",
       "42 3962369.58 3968692.78  \n",
       "43 3946629.42 3899157.24  \n",
       "44 3940489.50 4151776.99  \n",
       "45 4052117.17 4246860.31  \n",
       "46 4130274.75 4322279.35  \n",
       "47 4204882.33 4377698.31  "
      ]
     },
     "execution_count": 13,
     "metadata": {},
     "output_type": "execute_result"
    }
   ],
   "source": [
    "pd.options.display.float_format = '{:.2f}'.format\n",
    "\n",
    "wsb_df[36:]"
   ]
  },
  {
   "cell_type": "code",
   "execution_count": 14,
   "id": "cca621c3-3acd-4c85-ba65-97a9df36faa3",
   "metadata": {},
   "outputs": [
    {
     "data": {
      "text/plain": [
       "11.15"
      ]
     },
     "execution_count": 14,
     "metadata": {},
     "output_type": "execute_result"
    }
   ],
   "source": [
    "get_mape(wsb_df['Sale Quantity'][36:].values,\n",
    "        wsb_df['ewm'][36:].values)\n",
    "\n",
    "# So, forecasting using exponential smoothing has about 11.15% error (MAPE) from the actual values. It  is an improvement compared to the simple moving average model."
   ]
  },
  {
   "cell_type": "code",
   "execution_count": 15,
   "id": "f26d86b1-30b8-45f2-94f8-bb29d6816c4b",
   "metadata": {},
   "outputs": [
    {
     "data": {
      "image/png": "[encoded data removed]",
      "text/plain": [
       "<Figure size 792x360 with 1 Axes>"
      ]
     },
     "metadata": {
      "needs_background": "light"
     },
     "output_type": "display_data"
    }
   ],
   "source": [
    "plt.figure(figsize=(11,5))\n",
    "plt.xlabel(\"Months\")\n",
    "plt.ylabel(\"Quantity\")\n",
    "\n",
    "p1 = plt.plot(wsb_df['Sale Quantity'][12:], label='Sale Quantity')\n",
    "p2 = plt.plot(wsb_df['ewm'][12:], '.', label='Exponential Smoothing')\n",
    "\n",
    "plt.legend(bbox_to_anchor = (1.0, 0.57));\n",
    "\n",
    "# As observed, increasing trend in sales quantity over the months.\n",
    "# "
   ]
  },
  {
   "cell_type": "markdown",
   "id": "cf2ec108-4214-4bd2-93cf-e24b72c68d6c",
   "metadata": {},
   "source": [
    "**Moving average and simple exponential smoothing (SES) assume a  fairly steady time-series data with no significant trend, seasonal or cyclical components, that is, the data  is stationary. However, many dataset will have trend and seasonality.**"
   ]
  },
  {
   "cell_type": "markdown",
   "id": "727bebdf-12dc-4b82-9c9d-948138590894",
   "metadata": {},
   "source": [
    "## **Decomposing Time Series**\n",
    "- **The time-series data can be modelled as addition or product of trend, seasonality, cyclical, and irregular  components.**<br> \n",
    "The additive time-series model is given by $$Y_t = T_t + S_t + C_t + I_t$$  The additive models assume that the seasonal and cyclical components are independent of the trend  component. Additive models are not very common, since in many cases the seasonal component may  not be independent of the trend.  \n",
    "- The multiplicative time-series model is given by  $$Y_t = T_t \\times S_t \\times Ct \\times I_t$$ Multiplicative models are more common and are a better fit for many datasets.\n",
    "\n",
    "- In many cases, while building a forecasting model, only trend and seasonality components are  used. To estimate the cyclical component, we will need a large dataset. For example, typical period of  business cycles is about 58 months as per Investopedia (Anon, 2018). So, to understand the effect of  cyclic component we will need observations spanning more than 10 years. Most of the times, data for  such a long duration is not available.\n",
    "\n",
    "For decomposing a time-series data, we can use following libraries:\n",
    "   1. *statsmodel.tsa*\n",
    "   2. *seasonal_decompose()* in *statsmodel.tsa.seasonal* decomposes a time-series into trend, seasonal, and residuals.<br>It takes frequency parameters; for e.g.: the frequency is 12 for monthly data."
   ]
  },
  {
   "cell_type": "code",
   "execution_count": 33,
   "id": "edbc7966-e14f-4c2d-9d83-59ae28b61734",
   "metadata": {},
   "outputs": [
    {
     "data": {
      "image/png": "[encoded data removed]",
      "text/plain": [
       "<Figure size 432x288 with 4 Axes>"
      ]
     },
     "metadata": {
      "needs_background": "light"
     },
     "output_type": "display_data"
    }
   ],
   "source": [
    "from statsmodels.tsa.seasonal import seasonal_decompose\n",
    "\n",
    "ts_decompose = seasonal_decompose(np.array(wsb_df['Sale Quantity']),\n",
    "                                  model = 'multiplicative',\n",
    "                                  period = 12) # freq = 12, 'freq' changed to 'period'.\n",
    "\n",
    "ts_plot = ts_decompose.plot();\n",
    "# Sales quantity in wsb-df has trend, which is increasing over a period. Also it has seasonality and  seasonality index varies from 0.9 to 1.1 over the trend"
   ]
  },
  {
   "cell_type": "code",
   "execution_count": 22,
   "id": "ce6a4f27-c50e-4367-83ab-d4f62e53648a",
   "metadata": {},
   "outputs": [],
   "source": [
    "# To capture the seasonal and trend components after time-series decomposition\n",
    "\n",
    "wsb_df['seasonal'] = ts_decompose.seasonal\n",
    "wsb_df['trend'] = ts_decompose.trend"
   ]
  },
  {
   "cell_type": "markdown",
   "id": "abe31b88-9fee-46fd-ac94-01a0d92e7ede",
   "metadata": {},
   "source": [
    "### 3. **<u>AUTO-REGRESSIVE INTEGRATED MOVING AVERAGE(ARIMA) MODELS</u>**\n",
    "\n",
    "- Auto-regressive (AR) and moving average (MA) models are popular models that are frequently used for  forecasting.<br> \n",
    "\n",
    "- ***AR and MA models are combined to create models such as auto-regressive moving average (ARMA) and auto-regressive integrated moving average (ARIMA) models.***<br>\n",
    "\n",
    "- *ARMA models are  basically regression models;* ***auto-regression simply means regression of a variable on itself measured at  different time periods.***\n",
    "\n",
    "### ***$\\rightarrow$ Auto-Regressive(AR) Models***\n",
    "- **Auto-Regression is a regression of a variable on itself measured at diff. time points.**<br>*Auto-regressive model with lag = 1,* **AR(1)**, *is given by* \n",
    "$$Y_{t+1} = \\mu + \\beta Y_t + \\epsilon_{t+1}$$\n",
    "\n",
    "- ***Above eq. can be generalized to include p lags on the right-hand side and is called a*** **AR(p) model.**\n",
    "$$Y_{t+1} - \\mu = \\beta (Y_t - \\mu) + \\epsilon_{t+1}$$\n",
    "\n",
    "   - $\\epsilon_{t+1}$ - **is a sequence of uncorrelated residuals assumed to follow Normal Distribution with mean$(\\mu)$ = 0 & contant Standard Deviation.**\n",
    "   - $(Y_t - \\mu)$ - ***can be interpreted as a deviation from mean value $\\mu$; known as*** **<u>mean centered series</u>.**\n",
    "   <br><br>\n",
    "- One of the important tasks in using the AR model in forecasting is model identification,  which is, identifying the value of ***p (the number of lags).*** One of the standard approaches used for model  identification is using ***<u>auto-correlation function (ACF) and partial auto-correlation function (PACF)</u>.***\n",
    "\n",
    "\n",
    "### ***$\\rightarrow$ ACF (Auto-Correlation Function)***\n",
    "- ***Auto-correlation of lag $k$ is the correlation b/w $Y_t$ and $Y_{t-k}$ measured at different $k$ values*** (e.g., $Y_t$ & $Y_{t-1}$ or $Y_t$ & $Y_{t-2}$).\n",
    "- A plot of auto-correlation for different values of $k$ is called **auto-correlation function (ACF)** or **correlogram**<br>\n",
    "\n",
    "    *statsmodels.graphics.tsaplots.plot_acf*   plots the auto-corr. plot.\n",
    "    \n",
    "### ***$\\rightarrow$ PACF (Partial Auto-Correlation Function)***\n",
    "- ***Partial auto-correlation of lag $k$ is the correlation between $Y_t$ and $Y_{t-k}$ when the influence of all intermediate values $(Y_{t-1}, Y_{t-2},\\cdots, Y_{t-k+1})$ is removed*** (**partial out**) ***from both $Y_t$ and $Y_{t-k}$.*** \n",
    "- A plot of partial  auto-correlation for different values of $k$ is called **partial auto-correlation function (PACF).**  \n",
    "\n",
    "    *statsmodels.graphics.tsaplots.plot_pacf* plots the partial auto-correlation plot."
   ]
  },
  {
   "cell_type": "markdown",
   "id": "4c3ca652-d8e3-4419-adb9-1197f29526ca",
   "metadata": {},
   "source": [
    "- **ACF plot: it is merely a bar chart of the coefficients of correlation between a time series and lags of itself.**\n",
    "\n",
    "- **The PACF plot is a plot of the partial correlation coefficients between the series and lags of itself.**\n",
    "\n",
    "- **A “lag” is a fixed amount of passing time, denoted by $k$.**"
   ]
  },
  {
   "cell_type": "markdown",
   "id": "9c88f2b3-a9a2-4c84-89e5-089b789a4e55",
   "metadata": {},
   "source": [
    "**Example to apply the AR model**"
   ]
  },
  {
   "cell_type": "code",
   "execution_count": 35,
   "id": "a3b1fe06-92fa-4c5c-afb3-584c8014fbe9",
   "metadata": {},
   "outputs": [
    {
     "data": {
      "text/html": [
       "<div>\n",
       "<style scoped>\n",
       "    .dataframe tbody tr th:only-of-type {\n",
       "        vertical-align: middle;\n",
       "    }\n",
       "\n",
       "    .dataframe tbody tr th {\n",
       "        vertical-align: top;\n",
       "    }\n",
       "\n",
       "    .dataframe thead th {\n",
       "        text-align: right;\n",
       "    }\n",
       "</style>\n",
       "<table border=\"1\" class=\"dataframe\">\n",
       "  <thead>\n",
       "    <tr style=\"text-align: right;\">\n",
       "      <th></th>\n",
       "      <th>Month</th>\n",
       "      <th>demand</th>\n",
       "    </tr>\n",
       "  </thead>\n",
       "  <tbody>\n",
       "    <tr>\n",
       "      <th>0</th>\n",
       "      <td>1</td>\n",
       "      <td>457</td>\n",
       "    </tr>\n",
       "    <tr>\n",
       "      <th>1</th>\n",
       "      <td>2</td>\n",
       "      <td>439</td>\n",
       "    </tr>\n",
       "    <tr>\n",
       "      <th>2</th>\n",
       "      <td>3</td>\n",
       "      <td>404</td>\n",
       "    </tr>\n",
       "    <tr>\n",
       "      <th>3</th>\n",
       "      <td>4</td>\n",
       "      <td>392</td>\n",
       "    </tr>\n",
       "    <tr>\n",
       "      <th>4</th>\n",
       "      <td>5</td>\n",
       "      <td>403</td>\n",
       "    </tr>\n",
       "  </tbody>\n",
       "</table>\n",
       "</div>"
      ],
      "text/plain": [
       "   Month  demand\n",
       "0      1     457\n",
       "1      2     439\n",
       "2      3     404\n",
       "3      4     392\n",
       "4      5     403"
      ]
     },
     "execution_count": 35,
     "metadata": {},
     "output_type": "execute_result"
    }
   ],
   "source": [
    "vimana_df = pd.read_csv(os.getcwd()+'/Data/vimana.csv')\n",
    "vimana_df.head()"
   ]
  },
  {
   "cell_type": "code",
   "execution_count": 36,
   "id": "e7401c56-b5d5-4d85-a395-09d1e9c4fa22",
   "metadata": {},
   "outputs": [
    {
     "name": "stdout",
     "output_type": "stream",
     "text": [
      "<class 'pandas.core.frame.DataFrame'>\n",
      "RangeIndex: 37 entries, 0 to 36\n",
      "Data columns (total 2 columns):\n",
      " #   Column  Non-Null Count  Dtype\n",
      "---  ------  --------------  -----\n",
      " 0   Month   37 non-null     int64\n",
      " 1   demand  37 non-null     int64\n",
      "dtypes: int64(2)\n",
      "memory usage: 720.0 bytes\n"
     ]
    }
   ],
   "source": [
    "vimana_df.info()"
   ]
  },
  {
   "cell_type": "code",
   "execution_count": 43,
   "id": "05aa6020-425f-49f1-a5ef-bb00f95e558d",
   "metadata": {},
   "outputs": [
    {
     "data": {
      "image/png": "[encoded data removed]",
      "text/plain": [
       "<Figure size 432x288 with 1 Axes>"
      ]
     },
     "metadata": {
      "needs_background": "light"
     },
     "output_type": "display_data"
    }
   ],
   "source": [
    "from statsmodels.graphics.tsaplots import plot_acf, plot_pacf\n",
    "\n",
    "# Show auto-correlation upto lag 20\n",
    "acf_plot = plot_acf(vimana_df.demand, lags=20)"
   ]
  },
  {
   "cell_type": "markdown",
   "id": "5182c1e5-eeaa-4940-818b-8e6bd89b9943",
   "metadata": {},
   "source": [
    "- **In above plot, the shaded area represents the upper and lower bounds for critical values, where the null  hypothesis cannot be rejected (auto-correlation value is 0).**\n",
    "\n",
    "- **So, as can be seen above, null  hypothesis is rejected only for lag = 1 (i e., auto-correlation is statistically significant for lag 1).**"
   ]
  },
  {
   "cell_type": "code",
   "execution_count": 48,
   "id": "16b9ae36-c99e-44d1-be6b-e0e07b568371",
   "metadata": {},
   "outputs": [
    {
     "data": {
      "image/png": "[encoded data removed]",
      "text/plain": [
       "<Figure size 432x288 with 1 Axes>"
      ]
     },
     "metadata": {
      "needs_background": "light"
     },
     "output_type": "display_data"
    }
   ],
   "source": [
    "pacf_plot = plot_pacf(vimana_df.demand, lags=17)"
   ]
  },
  {
   "cell_type": "markdown",
   "id": "552d88ec-51b1-4ea7-89e5-441ca00d609c",
   "metadata": {},
   "source": [
    "- **In above plot, the shaded area represents the upper and lower bounds for critical values, where the null  hypothesis cannot be rejected.**\n",
    "\n",
    "- **So, for lag = 1 the partial auto-correlation is significant.** \n",
    "\n",
    "- **To select the appropriate p in the AR model, the following thumb rule can be used:**  \n",
    "     1. ***The partial auto-correlation is significant for first p-values (first p lags) and cuts off to zero.***  \n",
    "     2. ***The ACF decreases exponentially. (Signs of stationarity)***  \n",
    "    \n",
    "    \n",
    "**In the above case, based on ACF and PACF plots, AR with lag 1, AR(1), can be used.**"
   ]
  },
  {
   "cell_type": "markdown",
   "id": "ea9d2350-7d4f-4a77-9603-94d98b85851c",
   "metadata": {},
   "source": [
    "### ***$\\rightarrow$ Buliding AR Model***\n",
    "The *statsmodels.tsa.arima_model.ARIMA* can be used to build AR model.\n",
    "\n",
    "It takes the following two  parameters:  \n",
    "   1. *endog*: list of values – ***It is the endogenous variable of the time series.***  \n",
    "   2. *order*: The ***(p, d, q)*** – **ARIMA** model parameters.<br> ***Order of AR is given by the value p,<br> the order  of integration is d,<br> and the order of MA is given by q.***\n",
    "\n",
    "*We will set d and q to 0 and use p = 1 for AR(1) model, and we will use only 30 months of data for building  the model and forecast the next six months for measuring accuracy.*"
   ]
  },
  {
   "cell_type": "code",
   "execution_count": 56,
   "id": "fc934de1-d1df-472a-943f-527d4810fe45",
   "metadata": {},
   "outputs": [],
   "source": [
    "# from statsmodels.tsa.arima_model import ARIMA - this has been replaced with the below\n",
    "from statsmodels.tsa.arima.model import ARIMA"
   ]
  },
  {
   "cell_type": "code",
   "execution_count": 57,
   "id": "1be268ec-697f-443c-952e-5e65cdbce00f",
   "metadata": {},
   "outputs": [],
   "source": [
    "# vimana_df.demand[:30].astype(np.float64).as_matrix() --> .as_matrix() is removed, instead us .to_numpy()\n",
    "\n",
    "arima = ARIMA(vimana_df.demand[:30].astype(np.float64).to_numpy(),\n",
    "              order = (1,0,0))\n",
    "\n",
    "ar_model = arima.fit()"
   ]
  },
  {
   "cell_type": "code",
   "execution_count": 59,
   "id": "4f3cd521-7190-4b03-abfb-8e66898564ec",
   "metadata": {},
   "outputs": [
    {
     "data": {
      "text/html": [
       "<table class=\"simpletable\">\n",
       "<caption>SARIMAX Results</caption>\n",
       "<tr>\n",
       "  <th>Dep. Variable:</th>           <td>y</td>        <th>  No. Observations:  </th>    <td>30</td>   \n",
       "</tr>\n",
       "<tr>\n",
       "  <th>Model:</th>            <td>ARIMA(1, 0, 0)</td>  <th>  Log Likelihood     </th> <td>-182.765</td>\n",
       "</tr>\n",
       "<tr>\n",
       "  <th>Date:</th>            <td>Sun, 28 Aug 2022</td> <th>  AIC                </th>  <td>371.530</td>\n",
       "</tr>\n",
       "<tr>\n",
       "  <th>Time:</th>                <td>12:57:34</td>     <th>  BIC                </th>  <td>375.734</td>\n",
       "</tr>\n",
       "<tr>\n",
       "  <th>Sample:</th>                  <td>0</td>        <th>  HQIC               </th>  <td>372.875</td>\n",
       "</tr>\n",
       "<tr>\n",
       "  <th></th>                       <td> - 30</td>      <th>                     </th>     <td> </td>   \n",
       "</tr>\n",
       "<tr>\n",
       "  <th>Covariance Type:</th>        <td>opg</td>       <th>                     </th>     <td> </td>   \n",
       "</tr>\n",
       "</table>\n",
       "<table class=\"simpletable\">\n",
       "<tr>\n",
       "     <td></td>       <th>coef</th>     <th>std err</th>      <th>z</th>      <th>P>|z|</th>  <th>[0.025</th>    <th>0.975]</th>  \n",
       "</tr>\n",
       "<tr>\n",
       "  <th>const</th>  <td>  513.4426</td> <td>   43.815</td> <td>   11.718</td> <td> 0.000</td> <td>  427.567</td> <td>  599.318</td>\n",
       "</tr>\n",
       "<tr>\n",
       "  <th>ar.L1</th>  <td>    0.4726</td> <td>    0.181</td> <td>    2.617</td> <td> 0.009</td> <td>    0.119</td> <td>    0.827</td>\n",
       "</tr>\n",
       "<tr>\n",
       "  <th>sigma2</th> <td> 1.136e+04</td> <td> 3299.003</td> <td>    3.444</td> <td> 0.001</td> <td> 4896.110</td> <td> 1.78e+04</td>\n",
       "</tr>\n",
       "</table>\n",
       "<table class=\"simpletable\">\n",
       "<tr>\n",
       "  <th>Ljung-Box (L1) (Q):</th>     <td>0.55</td> <th>  Jarque-Bera (JB):  </th> <td>1.72</td>\n",
       "</tr>\n",
       "<tr>\n",
       "  <th>Prob(Q):</th>                <td>0.46</td> <th>  Prob(JB):          </th> <td>0.42</td>\n",
       "</tr>\n",
       "<tr>\n",
       "  <th>Heteroskedasticity (H):</th> <td>2.72</td> <th>  Skew:              </th> <td>0.59</td>\n",
       "</tr>\n",
       "<tr>\n",
       "  <th>Prob(H) (two-sided):</th>    <td>0.13</td> <th>  Kurtosis:          </th> <td>2.96</td>\n",
       "</tr>\n",
       "</table><br/><br/>Warnings:<br/>[1] Covariance matrix calculated using the outer product of gradients (complex-step)."
      ],
      "text/plain": [
       "<class 'statsmodels.iolib.summary.Summary'>\n",
       "\"\"\"\n",
       "                               SARIMAX Results                                \n",
       "==============================================================================\n",
       "Dep. Variable:                      y   No. Observations:                   30\n",
       "Model:                 ARIMA(1, 0, 0)   Log Likelihood                -182.765\n",
       "Date:                Sun, 28 Aug 2022   AIC                            371.530\n",
       "Time:                        12:57:34   BIC                            375.734\n",
       "Sample:                             0   HQIC                           372.875\n",
       "                                 - 30                                         \n",
       "Covariance Type:                  opg                                         \n",
       "==============================================================================\n",
       "                 coef    std err          z      P>|z|      [0.025      0.975]\n",
       "------------------------------------------------------------------------------\n",
       "const        513.4426     43.815     11.718      0.000     427.567     599.318\n",
       "ar.L1          0.4726      0.181      2.617      0.009       0.119       0.827\n",
       "sigma2      1.136e+04   3299.003      3.444      0.001    4896.110    1.78e+04\n",
       "===================================================================================\n",
       "Ljung-Box (L1) (Q):                   0.55   Jarque-Bera (JB):                 1.72\n",
       "Prob(Q):                              0.46   Prob(JB):                         0.42\n",
       "Heteroskedasticity (H):               2.72   Skew:                             0.59\n",
       "Prob(H) (two-sided):                  0.13   Kurtosis:                         2.96\n",
       "===================================================================================\n",
       "\n",
       "Warnings:\n",
       "[1] Covariance matrix calculated using the outer product of gradients (complex-step).\n",
       "\"\"\""
      ]
     },
     "execution_count": 59,
     "metadata": {},
     "output_type": "execute_result"
    }
   ],
   "source": [
    "ar_model.summary()"
   ]
  },
  {
   "cell_type": "markdown",
   "id": "4934714b-ddd3-463b-bf69-f840496e7ce5",
   "metadata": {},
   "source": [
    "**The model summary indicates the AR with lag 1 is significant variables in the model. The corresponding  p-value is less than 0.05 (0.009).**"
   ]
  },
  {
   "cell_type": "markdown",
   "id": "ee819210-690c-4e0f-895b-c031e7774933",
   "metadata": {},
   "source": [
    "### ***Forecast & Measure Accuracy***"
   ]
  },
  {
   "cell_type": "code",
   "execution_count": 60,
   "id": "47ce2486-f8b9-4aac-9df8-2ddaf278a99e",
   "metadata": {},
   "outputs": [
    {
     "data": {
      "text/plain": [
       "array([480.15274658, 497.71045018, 506.00789745, 509.92911817,\n",
       "       511.78221484, 512.65795419, 513.07181248])"
      ]
     },
     "execution_count": 60,
     "metadata": {},
     "output_type": "execute_result"
    }
   ],
   "source": [
    "# forecast the demand for the months 31 to 37. The index will be (month_index - 1)\n",
    "forecast_31_37 = ar_model.predict(30, 36)\n",
    "forecast_31_37"
   ]
  },
  {
   "cell_type": "code",
   "execution_count": 61,
   "id": "d20ce612-b06d-453d-9b41-7246610506f3",
   "metadata": {},
   "outputs": [
    {
     "data": {
      "text/plain": [
       "19.12"
      ]
     },
     "execution_count": 61,
     "metadata": {},
     "output_type": "execute_result"
    }
   ],
   "source": [
    "get_mape(vimana_df.demand[30:],\n",
    "        forecast_31_37)\n",
    "\n",
    "# the MAPE of the AR model with lag 1 is 19.12"
   ]
  },
  {
   "cell_type": "markdown",
   "id": "7c5f98c6-4e32-466a-a40a-e1af2ca02ff4",
   "metadata": {},
   "source": [
    "### ***$\\rightarrow$ Moving Average(MA) Processes***\n",
    "\n",
    "- ***MA processes are regression models in which the past residuals are used for forecasting future values of the time-series data.***\n",
    "     - *A moving average process of lag 1 can be written as -*\n",
    "         $$Y_{t+1} = \\alpha_1 \\epsilon_t + \\epsilon_{t+1}$$         \n",
    "- *The above model can be generalized to q lags.*\n",
    "- *The value of q(# of lags) can be identified as follow -*\n",
    "    1. ***Auto-correlation value is significant for first q lags and cuts off to zero***\n",
    "    2. ***The PACF decreases exponentially.***"
   ]
  },
  {
   "cell_type": "code",
   "execution_count": 79,
   "id": "1cff6c1d-c5ab-42d8-8eaa-c9385e36e565",
   "metadata": {},
   "outputs": [
    {
     "data": {
      "text/html": [
       "<table class=\"simpletable\">\n",
       "<caption>SARIMAX Results</caption>\n",
       "<tr>\n",
       "  <th>Dep. Variable:</th>           <td>y</td>        <th>  No. Observations:  </th>    <td>30</td>   \n",
       "</tr>\n",
       "<tr>\n",
       "  <th>Model:</th>            <td>ARIMA(0, 0, 1)</td>  <th>  Log Likelihood     </th> <td>-184.297</td>\n",
       "</tr>\n",
       "<tr>\n",
       "  <th>Date:</th>            <td>Sun, 28 Aug 2022</td> <th>  AIC                </th>  <td>374.595</td>\n",
       "</tr>\n",
       "<tr>\n",
       "  <th>Time:</th>                <td>13:42:39</td>     <th>  BIC                </th>  <td>378.799</td>\n",
       "</tr>\n",
       "<tr>\n",
       "  <th>Sample:</th>                  <td>0</td>        <th>  HQIC               </th>  <td>375.940</td>\n",
       "</tr>\n",
       "<tr>\n",
       "  <th></th>                       <td> - 30</td>      <th>                     </th>     <td> </td>   \n",
       "</tr>\n",
       "<tr>\n",
       "  <th>Covariance Type:</th>        <td>opg</td>       <th>                     </th>     <td> </td>   \n",
       "</tr>\n",
       "</table>\n",
       "<table class=\"simpletable\">\n",
       "<tr>\n",
       "     <td></td>       <th>coef</th>     <th>std err</th>      <th>z</th>      <th>P>|z|</th>  <th>[0.025</th>    <th>0.975]</th>  \n",
       "</tr>\n",
       "<tr>\n",
       "  <th>const</th>  <td>  517.0213</td> <td>   31.024</td> <td>   16.665</td> <td> 0.000</td> <td>  456.215</td> <td>  577.827</td>\n",
       "</tr>\n",
       "<tr>\n",
       "  <th>ma.L1</th>  <td>    0.3173</td> <td>    0.224</td> <td>    1.414</td> <td> 0.157</td> <td>   -0.122</td> <td>    0.757</td>\n",
       "</tr>\n",
       "<tr>\n",
       "  <th>sigma2</th> <td> 1.265e+04</td> <td> 4209.483</td> <td>    3.004</td> <td> 0.003</td> <td> 4395.561</td> <td> 2.09e+04</td>\n",
       "</tr>\n",
       "</table>\n",
       "<table class=\"simpletable\">\n",
       "<tr>\n",
       "  <th>Ljung-Box (L1) (Q):</th>     <td>0.41</td> <th>  Jarque-Bera (JB):  </th> <td>2.21</td>\n",
       "</tr>\n",
       "<tr>\n",
       "  <th>Prob(Q):</th>                <td>0.52</td> <th>  Prob(JB):          </th> <td>0.33</td>\n",
       "</tr>\n",
       "<tr>\n",
       "  <th>Heteroskedasticity (H):</th> <td>2.25</td> <th>  Skew:              </th> <td>0.66</td>\n",
       "</tr>\n",
       "<tr>\n",
       "  <th>Prob(H) (two-sided):</th>    <td>0.22</td> <th>  Kurtosis:          </th> <td>2.90</td>\n",
       "</tr>\n",
       "</table><br/><br/>Warnings:<br/>[1] Covariance matrix calculated using the outer product of gradients (complex-step)."
      ],
      "text/plain": [
       "<class 'statsmodels.iolib.summary.Summary'>\n",
       "\"\"\"\n",
       "                               SARIMAX Results                                \n",
       "==============================================================================\n",
       "Dep. Variable:                      y   No. Observations:                   30\n",
       "Model:                 ARIMA(0, 0, 1)   Log Likelihood                -184.297\n",
       "Date:                Sun, 28 Aug 2022   AIC                            374.595\n",
       "Time:                        13:42:39   BIC                            378.799\n",
       "Sample:                             0   HQIC                           375.940\n",
       "                                 - 30                                         \n",
       "Covariance Type:                  opg                                         \n",
       "==============================================================================\n",
       "                 coef    std err          z      P>|z|      [0.025      0.975]\n",
       "------------------------------------------------------------------------------\n",
       "const        517.0213     31.024     16.665      0.000     456.215     577.827\n",
       "ma.L1          0.3173      0.224      1.414      0.157      -0.122       0.757\n",
       "sigma2      1.265e+04   4209.483      3.004      0.003    4395.561    2.09e+04\n",
       "===================================================================================\n",
       "Ljung-Box (L1) (Q):                   0.41   Jarque-Bera (JB):                 2.21\n",
       "Prob(Q):                              0.52   Prob(JB):                         0.33\n",
       "Heteroskedasticity (H):               2.25   Skew:                             0.66\n",
       "Prob(H) (two-sided):                  0.22   Kurtosis:                         2.90\n",
       "===================================================================================\n",
       "\n",
       "Warnings:\n",
       "[1] Covariance matrix calculated using the outer product of gradients (complex-step).\n",
       "\"\"\""
      ]
     },
     "execution_count": 79,
     "metadata": {},
     "output_type": "execute_result"
    }
   ],
   "source": [
    "arima = ARIMA(vimana_df.demand[:30].astype(np.float64).to_numpy(),\n",
    "              order = (0,0,1))\n",
    "\n",
    "ma_model = arima.fit()\n",
    "\n",
    "ma_model.summary()"
   ]
  },
  {
   "cell_type": "code",
   "execution_count": 72,
   "id": "6f08437c-27a7-46d2-9051-0d4f40f720b6",
   "metadata": {},
   "outputs": [
    {
     "data": {
      "text/plain": [
       "array([2.34623856e-62, 1.57283079e-01, 2.66307891e-03])"
      ]
     },
     "execution_count": 72,
     "metadata": {},
     "output_type": "execute_result"
    }
   ],
   "source": [
    "ma_model.pvalues\n",
    "\n",
    "# p-value is greater than 0.05, the moving average model with lag 1 might not be statistically significant"
   ]
  },
  {
   "cell_type": "code",
   "execution_count": 66,
   "id": "de0bc70b-41ae-4234-9b95-29dbd1833761",
   "metadata": {},
   "outputs": [
    {
     "data": {
      "text/plain": [
       "17.78"
      ]
     },
     "execution_count": 66,
     "metadata": {},
     "output_type": "execute_result"
    }
   ],
   "source": [
    "# Measuring Accuracy\n",
    "forecast_31_37 = ma_model.predict(30, 36)\n",
    "\n",
    "get_mape(vimana_df.demand[30:],\n",
    "        forecast_31_37)\n",
    "\n",
    "# the MAPE of the AR model with lag 1 is 17.78"
   ]
  },
  {
   "cell_type": "markdown",
   "id": "8019fa3d-0a6d-437d-bcbd-51c06af1db69",
   "metadata": {},
   "source": [
    "### ***$\\rightarrow$ ARMA Model***\n",
    "\n",
    "- **Auto-regressive moving average (ARMA)** ***is a combination auto-regressive and moving average process.*** \n",
    "\n",
    "- **ARMA(p, q) process combines AR(p) and MA(q) processes.**\n",
    "\n",
    "- *The values of p and q in an ARMA process can be identified using the following thumb rules:*  \n",
    "    1. ***Auto-correlation values are significant for first q values (first q lags) and cuts off to zero.***\n",
    "    \n",
    "    2. ***Partial auto-correlation values are significant for first p values and cuts off to zero.***  \n",
    "    \n",
    "Based on the ACF and PACF plots in the previous section, we will develop ARMA(1, 1) model"
   ]
  },
  {
   "cell_type": "code",
   "execution_count": 80,
   "id": "99a75834-701e-49ef-b9fe-6db2b5e41637",
   "metadata": {},
   "outputs": [
    {
     "data": {
      "text/html": [
       "<table class=\"simpletable\">\n",
       "<caption>SARIMAX Results</caption>\n",
       "<tr>\n",
       "  <th>Dep. Variable:</th>           <td>y</td>        <th>  No. Observations:  </th>    <td>30</td>   \n",
       "</tr>\n",
       "<tr>\n",
       "  <th>Model:</th>            <td>ARIMA(1, 0, 1)</td>  <th>  Log Likelihood     </th> <td>-181.846</td>\n",
       "</tr>\n",
       "<tr>\n",
       "  <th>Date:</th>            <td>Sun, 28 Aug 2022</td> <th>  AIC                </th>  <td>371.692</td>\n",
       "</tr>\n",
       "<tr>\n",
       "  <th>Time:</th>                <td>13:46:14</td>     <th>  BIC                </th>  <td>377.296</td>\n",
       "</tr>\n",
       "<tr>\n",
       "  <th>Sample:</th>                  <td>0</td>        <th>  HQIC               </th>  <td>373.485</td>\n",
       "</tr>\n",
       "<tr>\n",
       "  <th></th>                       <td> - 30</td>      <th>                     </th>     <td> </td>   \n",
       "</tr>\n",
       "<tr>\n",
       "  <th>Covariance Type:</th>        <td>opg</td>       <th>                     </th>     <td> </td>   \n",
       "</tr>\n",
       "</table>\n",
       "<table class=\"simpletable\">\n",
       "<tr>\n",
       "     <td></td>       <th>coef</th>     <th>std err</th>      <th>z</th>      <th>P>|z|</th>  <th>[0.025</th>    <th>0.975]</th>  \n",
       "</tr>\n",
       "<tr>\n",
       "  <th>const</th>  <td>  508.3844</td> <td>   59.146</td> <td>    8.595</td> <td> 0.000</td> <td>  392.461</td> <td>  624.308</td>\n",
       "</tr>\n",
       "<tr>\n",
       "  <th>ar.L1</th>  <td>    0.7421</td> <td>    0.316</td> <td>    2.348</td> <td> 0.019</td> <td>    0.123</td> <td>    1.362</td>\n",
       "</tr>\n",
       "<tr>\n",
       "  <th>ma.L1</th>  <td>   -0.3395</td> <td>    0.539</td> <td>   -0.629</td> <td> 0.529</td> <td>   -1.397</td> <td>    0.718</td>\n",
       "</tr>\n",
       "<tr>\n",
       "  <th>sigma2</th> <td> 1.065e+04</td> <td> 3040.079</td> <td>    3.505</td> <td> 0.000</td> <td> 4696.418</td> <td> 1.66e+04</td>\n",
       "</tr>\n",
       "</table>\n",
       "<table class=\"simpletable\">\n",
       "<tr>\n",
       "  <th>Ljung-Box (L1) (Q):</th>     <td>0.13</td> <th>  Jarque-Bera (JB):  </th> <td>2.46</td>\n",
       "</tr>\n",
       "<tr>\n",
       "  <th>Prob(Q):</th>                <td>0.72</td> <th>  Prob(JB):          </th> <td>0.29</td>\n",
       "</tr>\n",
       "<tr>\n",
       "  <th>Heteroskedasticity (H):</th> <td>3.07</td> <th>  Skew:              </th> <td>0.67</td>\n",
       "</tr>\n",
       "<tr>\n",
       "  <th>Prob(H) (two-sided):</th>    <td>0.09</td> <th>  Kurtosis:          </th> <td>3.38</td>\n",
       "</tr>\n",
       "</table><br/><br/>Warnings:<br/>[1] Covariance matrix calculated using the outer product of gradients (complex-step)."
      ],
      "text/plain": [
       "<class 'statsmodels.iolib.summary.Summary'>\n",
       "\"\"\"\n",
       "                               SARIMAX Results                                \n",
       "==============================================================================\n",
       "Dep. Variable:                      y   No. Observations:                   30\n",
       "Model:                 ARIMA(1, 0, 1)   Log Likelihood                -181.846\n",
       "Date:                Sun, 28 Aug 2022   AIC                            371.692\n",
       "Time:                        13:46:14   BIC                            377.296\n",
       "Sample:                             0   HQIC                           373.485\n",
       "                                 - 30                                         \n",
       "Covariance Type:                  opg                                         \n",
       "==============================================================================\n",
       "                 coef    std err          z      P>|z|      [0.025      0.975]\n",
       "------------------------------------------------------------------------------\n",
       "const        508.3844     59.146      8.595      0.000     392.461     624.308\n",
       "ar.L1          0.7421      0.316      2.348      0.019       0.123       1.362\n",
       "ma.L1         -0.3395      0.539     -0.629      0.529      -1.397       0.718\n",
       "sigma2      1.065e+04   3040.079      3.505      0.000    4696.418    1.66e+04\n",
       "===================================================================================\n",
       "Ljung-Box (L1) (Q):                   0.13   Jarque-Bera (JB):                 2.46\n",
       "Prob(Q):                              0.72   Prob(JB):                         0.29\n",
       "Heteroskedasticity (H):               3.07   Skew:                             0.67\n",
       "Prob(H) (two-sided):                  0.09   Kurtosis:                         3.38\n",
       "===================================================================================\n",
       "\n",
       "Warnings:\n",
       "[1] Covariance matrix calculated using the outer product of gradients (complex-step).\n",
       "\"\"\""
      ]
     },
     "execution_count": 80,
     "metadata": {},
     "output_type": "execute_result"
    }
   ],
   "source": [
    "arima = ARIMA(vimana_df.demand[:30].astype(np.float64).to_numpy(),\n",
    "              order=(1,0,1))\n",
    "\n",
    "arma_model = arima.fit()\n",
    "\n",
    "arma_model.summary()"
   ]
  },
  {
   "cell_type": "code",
   "execution_count": 81,
   "id": "0d609e06-7d20-41c9-b28b-9c0c8fe66d3a",
   "metadata": {},
   "outputs": [
    {
     "data": {
      "text/plain": [
       "20.27"
      ]
     },
     "execution_count": 81,
     "metadata": {},
     "output_type": "execute_result"
    }
   ],
   "source": [
    "# The model summary indicates that moving average with lag 1 is not significant (p-value is more than  0.05), when both auto regressive with lag1 is also used in the model.\n",
    "\n",
    "\n",
    "# Measuring Accuracy\n",
    "forecast_31_37 = arma_model.predict(30, 36)\n",
    "\n",
    "get_mape(vimana_df.demand[30:],\n",
    "        forecast_31_37)\n",
    "\n",
    "# the MAPE of the ARMA model with lag 1 is 20.27.\n",
    "\n",
    "# Since MA lag is not significant, we will use AR(1) model."
   ]
  },
  {
   "cell_type": "markdown",
   "id": "eef6a51b-8ae8-4455-9468-8e60fc81efad",
   "metadata": {},
   "source": [
    "## ***$\\rightarrow$ ARIMA Model***\n",
    "\n",
    "- **<u>ARMA models can be used only when the time-series data is stationary</u>.** \n",
    "\n",
    "- **<u>ARIMA models are used when  the time-series data is non-stationary</u>.** \n",
    "\n",
    "- **<u>Time-series data is called stationary if the mean, variance, and covariance are constant over time</u>.**\n",
    "\n",
    "- *ARIMA model was proposed by Box and Jenkins (1970) and thus  is also known as Box−Jenkins methodology.* \n",
    "\n",
    "- **ARIMA has the following three components and is represented as ARIMA $(p, d, q)$:**\n",
    "    1. ***AR component with p lags AR$(p)$.***  \n",
    "    \n",
    "    2. ***Integration component $(d)$.*** \n",
    "    \n",
    "    3. ***MA with q lags, MA$(q)$.***\n",
    "\n",
    "- **The main objective of the Integration Component is to convert a non-stationary time-series process to a stationary process so that the AR and MA processes can be used for forecasting. <br>When the data is non-stationary, the ACF will not cut-off to zero quickly; rather ACF may show a very slow decline.**  \n",
    "\n",
    "#### ***$\\rightarrow$ What is Stationary Data?***  \n",
    "- *Time-series data should satisfy the following conditions to be stationary:*  \n",
    "    1. ***The mean values of $Y_t$ at different values of $t$ are constant.***\n",
    "    \n",
    "    2. ***The variances of $Y_t$ at different time periods are constant (Homoscedasticity).***\n",
    "    \n",
    "    3. ***The covariance of $Y_t$ and $Y_{t-k}$ for different lags depend only on $k$ and not on time $t$.***"
   ]
  },
  {
   "cell_type": "code",
   "execution_count": 82,
   "id": "6b5eb2fa-9cf4-4a27-b3a6-9904a4f2ef1d",
   "metadata": {},
   "outputs": [
    {
     "data": {
      "text/html": [
       "<div>\n",
       "<style scoped>\n",
       "    .dataframe tbody tr th:only-of-type {\n",
       "        vertical-align: middle;\n",
       "    }\n",
       "\n",
       "    .dataframe tbody tr th {\n",
       "        vertical-align: top;\n",
       "    }\n",
       "\n",
       "    .dataframe thead th {\n",
       "        text-align: right;\n",
       "    }\n",
       "</style>\n",
       "<table border=\"1\" class=\"dataframe\">\n",
       "  <thead>\n",
       "    <tr style=\"text-align: right;\">\n",
       "      <th></th>\n",
       "      <th>Date</th>\n",
       "      <th>demand</th>\n",
       "    </tr>\n",
       "  </thead>\n",
       "  <tbody>\n",
       "    <tr>\n",
       "      <th>0</th>\n",
       "      <td>2014-10-01</td>\n",
       "      <td>15</td>\n",
       "    </tr>\n",
       "    <tr>\n",
       "      <th>1</th>\n",
       "      <td>2014-10-02</td>\n",
       "      <td>7</td>\n",
       "    </tr>\n",
       "    <tr>\n",
       "      <th>2</th>\n",
       "      <td>2014-10-03</td>\n",
       "      <td>8</td>\n",
       "    </tr>\n",
       "    <tr>\n",
       "      <th>3</th>\n",
       "      <td>2014-10-04</td>\n",
       "      <td>10</td>\n",
       "    </tr>\n",
       "    <tr>\n",
       "      <th>4</th>\n",
       "      <td>2014-10-05</td>\n",
       "      <td>13</td>\n",
       "    </tr>\n",
       "  </tbody>\n",
       "</table>\n",
       "</div>"
      ],
      "text/plain": [
       "        Date  demand\n",
       "0 2014-10-01      15\n",
       "1 2014-10-02       7\n",
       "2 2014-10-03       8\n",
       "3 2014-10-04      10\n",
       "4 2014-10-05      13"
      ]
     },
     "execution_count": 82,
     "metadata": {},
     "output_type": "execute_result"
    }
   ],
   "source": [
    "# Daily demand for a product in a store for the past 115 days is provided in store.xls. Develop  an appropriate ARIMA model that can be used for forecasting demand for Omelette.\n",
    "\n",
    "store_df = pd.read_excel(os.getcwd()+'/Data/store.xls')\n",
    "store_df.head()"
   ]
  },
  {
   "cell_type": "code",
   "execution_count": 83,
   "id": "175910c8-4550-47e7-8ec1-aee50f66bd25",
   "metadata": {},
   "outputs": [
    {
     "name": "stdout",
     "output_type": "stream",
     "text": [
      "<class 'pandas.core.frame.DataFrame'>\n",
      "RangeIndex: 115 entries, 0 to 114\n",
      "Data columns (total 2 columns):\n",
      " #   Column  Non-Null Count  Dtype         \n",
      "---  ------  --------------  -----         \n",
      " 0   Date    115 non-null    datetime64[ns]\n",
      " 1   demand  115 non-null    int64         \n",
      "dtypes: datetime64[ns](1), int64(1)\n",
      "memory usage: 1.9 KB\n"
     ]
    }
   ],
   "source": [
    "store_df.info()"
   ]
  },
  {
   "cell_type": "code",
   "execution_count": 85,
   "id": "27cf3548-f5a2-4007-842e-fae2b167b5fd",
   "metadata": {},
   "outputs": [
    {
     "data": {
      "text/html": [
       "<div>\n",
       "<style scoped>\n",
       "    .dataframe tbody tr th:only-of-type {\n",
       "        vertical-align: middle;\n",
       "    }\n",
       "\n",
       "    .dataframe tbody tr th {\n",
       "        vertical-align: top;\n",
       "    }\n",
       "\n",
       "    .dataframe thead th {\n",
       "        text-align: right;\n",
       "    }\n",
       "</style>\n",
       "<table border=\"1\" class=\"dataframe\">\n",
       "  <thead>\n",
       "    <tr style=\"text-align: right;\">\n",
       "      <th></th>\n",
       "      <th>demand</th>\n",
       "    </tr>\n",
       "    <tr>\n",
       "      <th>Date</th>\n",
       "      <th></th>\n",
       "    </tr>\n",
       "  </thead>\n",
       "  <tbody>\n",
       "    <tr>\n",
       "      <th>2015-01-19</th>\n",
       "      <td>18</td>\n",
       "    </tr>\n",
       "    <tr>\n",
       "      <th>2015-01-20</th>\n",
       "      <td>22</td>\n",
       "    </tr>\n",
       "    <tr>\n",
       "      <th>2015-01-21</th>\n",
       "      <td>22</td>\n",
       "    </tr>\n",
       "    <tr>\n",
       "      <th>2015-01-22</th>\n",
       "      <td>21</td>\n",
       "    </tr>\n",
       "    <tr>\n",
       "      <th>2015-01-23</th>\n",
       "      <td>17</td>\n",
       "    </tr>\n",
       "  </tbody>\n",
       "</table>\n",
       "</div>"
      ],
      "text/plain": [
       "            demand\n",
       "Date              \n",
       "2015-01-19      18\n",
       "2015-01-20      22\n",
       "2015-01-21      22\n",
       "2015-01-22      21\n",
       "2015-01-23      17"
      ]
     },
     "execution_count": 85,
     "metadata": {},
     "output_type": "execute_result"
    }
   ],
   "source": [
    "# Creating a DateTime index will make sure that the data is ordered by date and time.\n",
    "store_df.set_index(pd.to_datetime(store_df.Date), inplace=True)\n",
    "\n",
    "store_df.drop('Date', axis=1, inplace=True)\n",
    "\n",
    "store_df[-5:]"
   ]
  },
  {
   "cell_type": "code",
   "execution_count": 87,
   "id": "dc47d077-a63f-4423-9cc7-ffaf34036839",
   "metadata": {},
   "outputs": [
    {
     "data": {
      "image/png": "[encoded data removed]",
      "text/plain": [
       "<Figure size 864x360 with 1 Axes>"
      ]
     },
     "metadata": {
      "needs_background": "light"
     },
     "output_type": "display_data"
    }
   ],
   "source": [
    "plt.figure(figsize=(12,5))\n",
    "plt.xlabel('Date')\n",
    "plt.ylabel('Demand')\n",
    "plt.plot(store_df.demand);\n",
    "\n",
    "# Graph shows the trendd of demand for omelette over dates. It is not very apperant from the trend if the series is stationary or not. "
   ]
  },
  {
   "cell_type": "code",
   "execution_count": 88,
   "id": "fbc4a60f-6968-406e-b184-c166ff2e1860",
   "metadata": {},
   "outputs": [
    {
     "data": {
      "image/png": "[encoded data removed]",
      "text/plain": [
       "<Figure size 432x288 with 1 Axes>"
      ]
     },
     "metadata": {
      "needs_background": "light"
     },
     "output_type": "display_data"
    }
   ],
   "source": [
    "acf_plot = plot_acf(store_df.demand, lags=20)\n",
    "\n",
    "# Figure shows the decline of auto-correlations for different lags indicates that the series is not stationary."
   ]
  },
  {
   "cell_type": "markdown",
   "id": "a986f61c-efd4-4123-a0df-8a51481d40d6",
   "metadata": {},
   "source": [
    "### ***$\\rightarrow$ Dicky-Fuller Test***\n",
    "- **To find out if a time-series data is stationary or not, Dicky-Fuller test can be conducted.**\n",
    "\n",
    "- ***Dicky-Fuller test checks weather the $\\beta$ in the Eq.: $$Y_{t+1} = \\mu + \\beta Y_t + \\epsilon_{t+1}$$ is equal to 1 or less than equal to 1.<br> It is Hypothesis Test in which null & alternate hypothesis is given as \n",
    "$$H_o : \\beta = 1 (\\text{the time-series is not-stationary})$$ \n",
    "$$H_A : \\beta < 1 (\\text{the time-series is stationary})$$*** \n",
    "<br>*statsmodels.tsa.stattools.adfuller* is a Dicky-Fuller test<br> and returns test statistics & $p-value$ for the test of null hypothesis.<br>***If $p-value$ $< 0.05$, the time-series is stationary.*** "
   ]
  },
  {
   "cell_type": "code",
   "execution_count": 89,
   "id": "20dd6359-b06b-4ace-b8a8-6301b6f2d64b",
   "metadata": {},
   "outputs": [],
   "source": [
    "from statsmodels.tsa.stattools import adfuller"
   ]
  },
  {
   "cell_type": "code",
   "execution_count": 92,
   "id": "f3f4b6e8-162f-4eb2-b673-51b8d1b93248",
   "metadata": {},
   "outputs": [],
   "source": [
    "def adfuller_test(ts):\n",
    "    adfuller_result = adfuller(ts, autolag=None)\n",
    "    adfuller_out = pd.Series(adfuller_result[0:4],\n",
    "                            index=['Test Statistic',\n",
    "                                   'p-value',\n",
    "                                   'Lag Used',\n",
    "                                   'Number of Observations Used'])\n",
    "    print(adfuller_out)"
   ]
  },
  {
   "cell_type": "code",
   "execution_count": 93,
   "id": "c4623f68-92fa-4c37-b017-024dccbe5d4a",
   "metadata": {},
   "outputs": [
    {
     "name": "stdout",
     "output_type": "stream",
     "text": [
      "Test Statistic                 -1.65\n",
      "p-value                         0.46\n",
      "Lag Used                       13.00\n",
      "Number of Observations Used   101.00\n",
      "dtype: float64\n"
     ]
    }
   ],
   "source": [
    "adfuller_test(store_df.demand)\n",
    "\n",
    "# The p-value (>0.05) indicates that we cannot reject the null hypothesis and hence, the series is not stationary."
   ]
  },
  {
   "cell_type": "markdown",
   "id": "c209e44d-dd35-4f98-90b3-bc53c4cc864f",
   "metadata": {},
   "source": [
    "### ***$\\rightarrow$ Differencing***  \n",
    "\n",
    "- ***Differencing the original time series is an usual approach for converting the non-stationary process into a stationary process (called difference stationarity).*** \n",
    "\n",
    "- For example, the first difference (d = 1) is the  difference between consecutive values of the time series $(Y_t)$. That is, the first difference is given by $$Δ Y_t = Y_t - Y_{t-1}$$\n",
    "\n",
    "\n",
    "First difference between consecutive $Y_t$ values can be computed by subtracting the previous day’s demand from that day’s demand. We can use *shift()* function in Pandas to shift the values before subtracting."
   ]
  },
  {
   "cell_type": "code",
   "execution_count": 94,
   "id": "40c9af4f-fe30-494a-b4bc-168a2cce76e6",
   "metadata": {},
   "outputs": [
    {
     "data": {
      "text/html": [
       "<div>\n",
       "<style scoped>\n",
       "    .dataframe tbody tr th:only-of-type {\n",
       "        vertical-align: middle;\n",
       "    }\n",
       "\n",
       "    .dataframe tbody tr th {\n",
       "        vertical-align: top;\n",
       "    }\n",
       "\n",
       "    .dataframe thead th {\n",
       "        text-align: right;\n",
       "    }\n",
       "</style>\n",
       "<table border=\"1\" class=\"dataframe\">\n",
       "  <thead>\n",
       "    <tr style=\"text-align: right;\">\n",
       "      <th></th>\n",
       "      <th>demand</th>\n",
       "      <th>demand_diff</th>\n",
       "    </tr>\n",
       "    <tr>\n",
       "      <th>Date</th>\n",
       "      <th></th>\n",
       "      <th></th>\n",
       "    </tr>\n",
       "  </thead>\n",
       "  <tbody>\n",
       "    <tr>\n",
       "      <th>2014-10-01</th>\n",
       "      <td>15</td>\n",
       "      <td>NaN</td>\n",
       "    </tr>\n",
       "    <tr>\n",
       "      <th>2014-10-02</th>\n",
       "      <td>7</td>\n",
       "      <td>-8.00</td>\n",
       "    </tr>\n",
       "    <tr>\n",
       "      <th>2014-10-03</th>\n",
       "      <td>8</td>\n",
       "      <td>1.00</td>\n",
       "    </tr>\n",
       "    <tr>\n",
       "      <th>2014-10-04</th>\n",
       "      <td>10</td>\n",
       "      <td>2.00</td>\n",
       "    </tr>\n",
       "    <tr>\n",
       "      <th>2014-10-05</th>\n",
       "      <td>13</td>\n",
       "      <td>3.00</td>\n",
       "    </tr>\n",
       "  </tbody>\n",
       "</table>\n",
       "</div>"
      ],
      "text/plain": [
       "            demand  demand_diff\n",
       "Date                           \n",
       "2014-10-01      15          NaN\n",
       "2014-10-02       7        -8.00\n",
       "2014-10-03       8         1.00\n",
       "2014-10-04      10         2.00\n",
       "2014-10-05      13         3.00"
      ]
     },
     "execution_count": 94,
     "metadata": {},
     "output_type": "execute_result"
    }
   ],
   "source": [
    "store_df['demand_diff'] = store_df.demand - store_df.demand.shift(1)\n",
    "store_df.head()"
   ]
  },
  {
   "cell_type": "code",
   "execution_count": 96,
   "id": "2cdfed47-372b-464f-baf9-3d201d30b3b0",
   "metadata": {},
   "outputs": [
    {
     "data": {
      "text/html": [
       "<div>\n",
       "<style scoped>\n",
       "    .dataframe tbody tr th:only-of-type {\n",
       "        vertical-align: middle;\n",
       "    }\n",
       "\n",
       "    .dataframe tbody tr th {\n",
       "        vertical-align: top;\n",
       "    }\n",
       "\n",
       "    .dataframe thead th {\n",
       "        text-align: right;\n",
       "    }\n",
       "</style>\n",
       "<table border=\"1\" class=\"dataframe\">\n",
       "  <thead>\n",
       "    <tr style=\"text-align: right;\">\n",
       "      <th></th>\n",
       "      <th>demand</th>\n",
       "      <th>demand_diff</th>\n",
       "    </tr>\n",
       "    <tr>\n",
       "      <th>Date</th>\n",
       "      <th></th>\n",
       "      <th></th>\n",
       "    </tr>\n",
       "  </thead>\n",
       "  <tbody>\n",
       "    <tr>\n",
       "      <th>2014-10-02</th>\n",
       "      <td>7</td>\n",
       "      <td>-8.00</td>\n",
       "    </tr>\n",
       "    <tr>\n",
       "      <th>2014-10-03</th>\n",
       "      <td>8</td>\n",
       "      <td>1.00</td>\n",
       "    </tr>\n",
       "    <tr>\n",
       "      <th>2014-10-04</th>\n",
       "      <td>10</td>\n",
       "      <td>2.00</td>\n",
       "    </tr>\n",
       "    <tr>\n",
       "      <th>2014-10-05</th>\n",
       "      <td>13</td>\n",
       "      <td>3.00</td>\n",
       "    </tr>\n",
       "    <tr>\n",
       "      <th>2014-10-06</th>\n",
       "      <td>5</td>\n",
       "      <td>-8.00</td>\n",
       "    </tr>\n",
       "  </tbody>\n",
       "</table>\n",
       "</div>"
      ],
      "text/plain": [
       "            demand  demand_diff\n",
       "Date                           \n",
       "2014-10-02       7        -8.00\n",
       "2014-10-03       8         1.00\n",
       "2014-10-04      10         2.00\n",
       "2014-10-05      13         3.00\n",
       "2014-10-06       5        -8.00"
      ]
     },
     "execution_count": 96,
     "metadata": {},
     "output_type": "execute_result"
    }
   ],
   "source": [
    "# Droppinf the nan value\n",
    "store_diff_df = store_df.dropna()\n",
    "store_diff_df.head()"
   ]
  },
  {
   "cell_type": "code",
   "execution_count": 97,
   "id": "049a335d-096e-49c0-8a26-380701eb7adf",
   "metadata": {},
   "outputs": [
    {
     "data": {
      "image/png": "[encoded data removed]",
      "text/plain": [
       "<Figure size 864x360 with 1 Axes>"
      ]
     },
     "metadata": {
      "needs_background": "light"
     },
     "output_type": "display_data"
    }
   ],
   "source": [
    "plt.figure(figsize=(12,5))\n",
    "plt.xlabel('Date')\n",
    "plt.ylabel('First Order Differences')\n",
    "plt.plot(store_diff_df.demand_diff);\n",
    "\n",
    "# Graph indicates the trend of first-order of differences for demand over dates. Again, it is not very apparent from the trend if the series is stationary or not. We will need to plot the ACF plot to verify"
   ]
  },
  {
   "cell_type": "code",
   "execution_count": 99,
   "id": "9b64389e-c7f2-400f-8fa3-a80af4907b8a",
   "metadata": {},
   "outputs": [
    {
     "data": {
      "image/png": "[encoded data removed]",
      "text/plain": [
       "<Figure size 432x288 with 1 Axes>"
      ]
     },
     "metadata": {
      "needs_background": "light"
     },
     "output_type": "display_data"
    }
   ],
   "source": [
    "acf_plot = plot_acf(store_diff_df.demand_diff, lags=10)\n",
    "\n",
    "# The ACF plot shows no sign of slow reduction in autocorrelation over lags. It immediately  cuts off to zero."
   ]
  },
  {
   "cell_type": "code",
   "execution_count": 100,
   "id": "7fe26d95-e417-44e9-8ab5-bb102374e0dd",
   "metadata": {},
   "outputs": [],
   "source": [
    "# We can build the model with first 100 observations as training set and subsequent observations as test set.\n",
    "\n",
    "store_train = store_df[0:100]\n",
    "store_test = store_df[100:]"
   ]
  },
  {
   "cell_type": "code",
   "execution_count": 102,
   "id": "b7ca5c8d-cc6f-467c-a882-32261c6b495e",
   "metadata": {},
   "outputs": [
    {
     "data": {
      "text/html": [
       "<table class=\"simpletable\">\n",
       "<caption>SARIMAX Results</caption>\n",
       "<tr>\n",
       "  <th>Dep. Variable:</th>           <td>y</td>        <th>  No. Observations:  </th>    <td>100</td>  \n",
       "</tr>\n",
       "<tr>\n",
       "  <th>Model:</th>            <td>ARIMA(1, 1, 1)</td>  <th>  Log Likelihood     </th> <td>-256.910</td>\n",
       "</tr>\n",
       "<tr>\n",
       "  <th>Date:</th>            <td>Sun, 28 Aug 2022</td> <th>  AIC                </th>  <td>519.821</td>\n",
       "</tr>\n",
       "<tr>\n",
       "  <th>Time:</th>                <td>15:04:08</td>     <th>  BIC                </th>  <td>527.606</td>\n",
       "</tr>\n",
       "<tr>\n",
       "  <th>Sample:</th>                  <td>0</td>        <th>  HQIC               </th>  <td>522.971</td>\n",
       "</tr>\n",
       "<tr>\n",
       "  <th></th>                      <td> - 100</td>      <th>                     </th>     <td> </td>   \n",
       "</tr>\n",
       "<tr>\n",
       "  <th>Covariance Type:</th>        <td>opg</td>       <th>                     </th>     <td> </td>   \n",
       "</tr>\n",
       "</table>\n",
       "<table class=\"simpletable\">\n",
       "<tr>\n",
       "     <td></td>       <th>coef</th>     <th>std err</th>      <th>z</th>      <th>P>|z|</th>  <th>[0.025</th>    <th>0.975]</th>  \n",
       "</tr>\n",
       "<tr>\n",
       "  <th>ar.L1</th>  <td>    0.4091</td> <td>    0.311</td> <td>    1.315</td> <td> 0.189</td> <td>   -0.201</td> <td>    1.019</td>\n",
       "</tr>\n",
       "<tr>\n",
       "  <th>ma.L1</th>  <td>   -0.7179</td> <td>    0.236</td> <td>   -3.039</td> <td> 0.002</td> <td>   -1.181</td> <td>   -0.255</td>\n",
       "</tr>\n",
       "<tr>\n",
       "  <th>sigma2</th> <td>   10.4865</td> <td>    1.026</td> <td>   10.223</td> <td> 0.000</td> <td>    8.476</td> <td>   12.497</td>\n",
       "</tr>\n",
       "</table>\n",
       "<table class=\"simpletable\">\n",
       "<tr>\n",
       "  <th>Ljung-Box (L1) (Q):</th>     <td>0.06</td> <th>  Jarque-Bera (JB):  </th> <td>75.18</td>\n",
       "</tr>\n",
       "<tr>\n",
       "  <th>Prob(Q):</th>                <td>0.81</td> <th>  Prob(JB):          </th> <td>0.00</td> \n",
       "</tr>\n",
       "<tr>\n",
       "  <th>Heteroskedasticity (H):</th> <td>0.76</td> <th>  Skew:              </th> <td>-0.79</td>\n",
       "</tr>\n",
       "<tr>\n",
       "  <th>Prob(H) (two-sided):</th>    <td>0.44</td> <th>  Kurtosis:          </th> <td>6.97</td> \n",
       "</tr>\n",
       "</table><br/><br/>Warnings:<br/>[1] Covariance matrix calculated using the outer product of gradients (complex-step)."
      ],
      "text/plain": [
       "<class 'statsmodels.iolib.summary.Summary'>\n",
       "\"\"\"\n",
       "                               SARIMAX Results                                \n",
       "==============================================================================\n",
       "Dep. Variable:                      y   No. Observations:                  100\n",
       "Model:                 ARIMA(1, 1, 1)   Log Likelihood                -256.910\n",
       "Date:                Sun, 28 Aug 2022   AIC                            519.821\n",
       "Time:                        15:04:08   BIC                            527.606\n",
       "Sample:                             0   HQIC                           522.971\n",
       "                                - 100                                         \n",
       "Covariance Type:                  opg                                         \n",
       "==============================================================================\n",
       "                 coef    std err          z      P>|z|      [0.025      0.975]\n",
       "------------------------------------------------------------------------------\n",
       "ar.L1          0.4091      0.311      1.315      0.189      -0.201       1.019\n",
       "ma.L1         -0.7179      0.236     -3.039      0.002      -1.181      -0.255\n",
       "sigma2        10.4865      1.026     10.223      0.000       8.476      12.497\n",
       "===================================================================================\n",
       "Ljung-Box (L1) (Q):                   0.06   Jarque-Bera (JB):                75.18\n",
       "Prob(Q):                              0.81   Prob(JB):                         0.00\n",
       "Heteroskedasticity (H):               0.76   Skew:                            -0.79\n",
       "Prob(H) (two-sided):                  0.44   Kurtosis:                         6.97\n",
       "===================================================================================\n",
       "\n",
       "Warnings:\n",
       "[1] Covariance matrix calculated using the outer product of gradients (complex-step).\n",
       "\"\"\""
      ]
     },
     "execution_count": 102,
     "metadata": {},
     "output_type": "execute_result"
    }
   ],
   "source": [
    "arima = ARIMA(store_train.demand.astype(np.float64).to_numpy(), order = (1,1,1))\n",
    "\n",
    "arima_model = arima.fit()\n",
    "\n",
    "arima_model.summary()"
   ]
  },
  {
   "cell_type": "markdown",
   "id": "2748d806-89bb-4daf-b646-170b6ea21cac",
   "metadata": {},
   "source": [
    "**ARIMA model is a regression model and thus has to satisfy all the assumptions of regression. The residuals  should be white noise and not correlated. This can be observed by using ACF and PACF plots of the  residuals. The model residuals are given by *arima_model.resid* variable.**\n",
    "\n",
    "\n",
    "***Both plots do not show any auto-correlation of residuals. So, the model can be  assumed to be valid.***"
   ]
  },
  {
   "cell_type": "code",
   "execution_count": 103,
   "id": "8e951591-4d51-41f8-9009-dc15d724cb85",
   "metadata": {},
   "outputs": [
    {
     "data": {
      "image/png": "[encoded data removed]",
      "text/plain": [
       "<Figure size 432x288 with 1 Axes>"
      ]
     },
     "metadata": {
      "needs_background": "light"
     },
     "output_type": "display_data"
    }
   ],
   "source": [
    "acf_plot = plot_acf(arima_model.resid, lags=20)\n",
    "\n",
    "# Residuals follow white noise, whixh means our model is statistcally significant."
   ]
  },
  {
   "cell_type": "code",
   "execution_count": 104,
   "id": "ac6c4740-7fa9-4058-b593-9f3718435e9e",
   "metadata": {},
   "outputs": [
    {
     "data": {
      "image/png": "[encoded data removed]",
      "text/plain": [
       "<Figure size 432x288 with 1 Axes>"
      ]
     },
     "metadata": {
      "needs_background": "light"
     },
     "output_type": "display_data"
    }
   ],
   "source": [
    "pacf_plot = plot_pacf(arima_model.resid, lags=20)"
   ]
  },
  {
   "cell_type": "markdown",
   "id": "2d3a7466-c336-47e9-ad73-a7a5305dd682",
   "metadata": {},
   "source": [
    "- ***An autocorrelation plot shows the correlation between a time series with itself, lagged by a specific number of periods.***\n",
    "\n",
    "- ***Autocorrelation plots also include a shaded area that represents confidence intervals. Anything inside the shaded area means that the correlation at that point isn’t statistically significant.*** \n",
    "\n",
    "- ***Autocorrelation at lag 0 will have a value of 1, since the correlation is calculated between two identical time series***"
   ]
  },
  {
   "cell_type": "markdown",
   "id": "1658e067-b8cc-4287-8dd9-838cd00d9edd",
   "metadata": {},
   "source": [
    "### ***What is White Noise in time-series?***\n",
    "**Link: https://machinelearningmastery.com/white-noise-time-series-python/#:~:text=What%20is%20a%20White%20Noise,other%20values%20in%20the%20series**\n",
    "\n",
    "**Link: https://towardsdatascience.com/time-series-from-scratch-white-noise-and-random-walk-5c96270514d3**\n",
    "\n",
    "\n",
    "- A time series is white noise if the variables are independent and identically distributed with a mean of zero.<br>This means that all variables have the same variance and each value has a zero correlation with all other values in the series.\n",
    "\n",
    "- If the variables in the series are drawn from a Gaussian distribution, the series is called Gaussian white noise.\n",
    "\n",
    "- Why Does it Matter?\n",
    "   - White noise is an important concept in time series analysis and forecasting.<br>It is important for two main reasons:\n",
    "        - Predictability: If your time series is white noise, then, by definition, it is random. You cannot reasonably model it and make predictions.\n",
    "\n",
    "        - Model Diagnostics: The series of errors from a time series forecast model should ideally be white noise. <br>Model Diagnostics is an important area of time series forecasting.\n",
    "\n",
    "- Time series data are expected to contain some white noise component on top of the signal generated by the underlying process.<br>For example: $y(t) = signal(t) + noise(t)$\n",
    "     - Once predictions have been made by a time series forecast model, they can be collected and analyzed. The series of forecast errors should ideally be white noise.\n",
    "     - When forecast errors are white noise, it means that all of the signal information in the time series has been harnessed by the model in order to make predictions. All that is left is the random fluctuations that cannot be modeled.\n",
    "     - A sign that model predictions are not white noise is an indication that further improvements to the forecast model may be possible.<br><br>\n",
    "\n",
    "\n",
    "- Is your Time Series White Noise?\n",
    "     - Your time series is probably NOT white noise if one or more of the following conditions are true:\n",
    "         - Is the mean/level non-zero?\n",
    "         - Does the mean/level change over time?\n",
    "         - Does the variance change over time?\n",
    "         - Do values correlate with lag values?"
   ]
  },
  {
   "cell_type": "markdown",
   "id": "fe310778-651b-4a8f-a5a3-f50e743d2a8a",
   "metadata": {},
   "source": [
    "### ***Forecast & Measure Accuracy***\n",
    "\n",
    "***The *forecast()* method takes the number of future periods (steps) for predicting values and returns the  predicted values along with standard error and confidence interval of the predictions.***"
   ]
  },
  {
   "cell_type": "code",
   "execution_count": 119,
   "id": "231abf70-9b5f-4fc3-8906-610a2b34e339",
   "metadata": {},
   "outputs": [
    {
     "data": {
      "text/plain": [
       "array([17.2507625 , 16.12611837, 15.66605465, 15.47785411, 15.40086599,\n",
       "       15.36937208, 15.35648871, 15.35121845, 15.34906252, 15.34818058,\n",
       "       15.3478198 , 15.34767221, 15.34761184, 15.34758714, 15.34757704])"
      ]
     },
     "execution_count": 119,
     "metadata": {},
     "output_type": "execute_result"
    }
   ],
   "source": [
    "# store_predict, stderr, ci = arima_model.forecast(steps = 15)\n",
    "arima_model.forecast(steps = 15)"
   ]
  },
  {
   "cell_type": "code",
   "execution_count": 115,
   "id": "f916069e-3ef7-4efd-9d39-76d60b28aed5",
   "metadata": {},
   "outputs": [
    {
     "data": {
      "text/plain": [
       "array([17.2507625 , 16.12611837, 15.66605465, 15.47785411, 15.40086599,\n",
       "       15.36937208, 15.35648871, 15.35121845, 15.34906252, 15.34818058,\n",
       "       15.3478198 , 15.34767221, 15.34761184, 15.34758714, 15.34757704])"
      ]
     },
     "execution_count": 115,
     "metadata": {},
     "output_type": "execute_result"
    }
   ],
   "source": [
    "store_predict = arima_model.forecast(steps = 15)\n",
    "store_predict"
   ]
  },
  {
   "cell_type": "code",
   "execution_count": 120,
   "id": "d0d8dae2-0c0b-45cb-a57e-a6277cba2279",
   "metadata": {},
   "outputs": [
    {
     "data": {
      "text/plain": [
       "24.12"
      ]
     },
     "execution_count": 120,
     "metadata": {},
     "output_type": "execute_result"
    }
   ],
   "source": [
    "get_mape(store_df.demand[100:],\n",
    "         store_predict)\n",
    "\n",
    "# The ARIMA model with first-order differencing gives forecast accuracy of 24.12%."
   ]
  },
  {
   "cell_type": "markdown",
   "id": "ec9c234f-98d8-4957-84b0-8cef69a15461",
   "metadata": {},
   "source": [
    "### ***Conclusion***\n",
    "\n",
    "1. ***Forecasting is carried out on a time-series data in which the dependent variable $Y_t$ is observed at  different time periods t.***  \n",
    "\n",
    "2. ***Several techniques such as moving average, exponential smoothing, and auto-regressive models are  used for forecasting future value of $Y_t$.***  \n",
    "\n",
    "3. ***The forecasting models are validated using accuracy measures such as RMSE and MAPE.***  \n",
    "\n",
    "4. ***Auto-regressive (AR) models are regression-based models in which dependent variable is Yt and the  independent variables are $Y_{t-1}$, $Y_{t-2}$, etc.***  \n",
    "\n",
    "5. ***AR models can be used only when the data is stationary.***  \n",
    "\n",
    "6. ***Moving average (MA) models are regression models in which the independent variables are past error values.***  \n",
    "\n",
    "7. ***Auto-regressive integrated moving average (ARIMA) has three components:***  \n",
    "    a. ***Auto-regressive component with p lags − AR(p)***  \n",
    "    b. ***Moving average component with q lags − MA(q)***  \n",
    "    c. ***Integration which is differencing the original data to make it stationary (denoted by d).***  \n",
    "    \n",
    "8. ***One of the necessary conditions of acceptance of ARIMA model is that the residuals should follow White Noise.***  \n",
    "\n",
    "9. ***In ARIMA, the model identification, that is, identifying the value of p in AR and q in MA, is achieved through auto-correlation function (ACF) and partial auto-correlation function (PACF).***  \n",
    "\n",
    "10. ***The stationarity of time-series data can be checked using the Dickey−Fuller test.***"
   ]
  },
  {
   "cell_type": "markdown",
   "id": "baa839ba-6665-495b-a859-9f8741fa5230",
   "metadata": {},
   "source": [
    "#### ***Reference: Pradhan, Manaranjan; U Dinesh Kumar. Machine Learning using Python. Kindle Edition.*** "
   ]
  }
 ],
 "metadata": {
  "kernelspec": {
   "display_name": "Python 3 (ipykernel)",
   "language": "python",
   "name": "python3"
  },
  "language_info": {
   "codemirror_mode": {
    "name": "ipython",
    "version": 3
   },
   "file_extension": ".py",
   "mimetype": "text/x-python",
   "name": "python",
   "nbconvert_exporter": "python",
   "pygments_lexer": "ipython3",
   "version": "3.9.7"
  },
  "widgets": {
   "application/vnd.jupyter.widget-state+json": {
    "state": {},
    "version_major": 2,
    "version_minor": 0
   }
  }
 },
 "nbformat": 4,
 "nbformat_minor": 5
}
